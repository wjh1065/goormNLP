{
 "cells": [
  {
   "cell_type": "markdown",
   "metadata": {
    "id": "lh1cyX2mj_4V"
   },
   "source": [
    "# 과제 1. 나만의 python & 알고리즘 함수 만들기\n",
    "## 1. 파이썬 내장함수 만들기\n",
    "Python에는 사용자의 편의를 위해서 여러가지 함수를 내장하고 있다. 다음 사진이 python 내장함수의 목록을 보여준다.\n",
    "\n",
    "<p align=\"center\"><img src=\"https://wikidocs.net/images/page/14598/2-1.png\" width=\"600px\"></p>\n",
    "\n",
    "자세한 내용은 [링크](https://docs.python.org/ko/3/library/functions.html)에서 확인해 볼 수 있으며, 문서 안에서 몇 가지 예시를 제시하고 있다. 다음은 python 공식 문서에서 제시하는 `all` 함수의 예시를 `my_all` 함수로 재작성한 예시이다."
   ]
  },
  {
   "cell_type": "code",
   "execution_count": 1,
   "metadata": {
    "id": "KtICkC5sj_4X",
    "outputId": "668a4b4a-8e56-42e4-e959-f87fb68ad63b"
   },
   "outputs": [
    {
     "name": "stdout",
     "output_type": "stream",
     "text": [
      "통과\n"
     ]
    }
   ],
   "source": [
    "def my_all(iterable):\n",
    "    for element in iterable:\n",
    "        if not element:\n",
    "            return False\n",
    "    return True\n",
    "\n",
    "test1 = [True, 7 == 4, 3 > 7, False]\n",
    "test2 = [3 < 5, 10 == 10, True, 'something']\n",
    "\n",
    "# Assert 문은 이하의 식의 참인지 검사합니다.\n",
    "assert all(test1) == my_all(test1) == False\n",
    "assert all(test2) == my_all(test2) == True\n",
    "\n",
    "print(\"통과\")"
   ]
  },
  {
   "cell_type": "markdown",
   "metadata": {
    "id": "Z6GUKRRQj_4Z"
   },
   "source": [
    "아래의 함수들은 자주 사용되는 내장 함수들의 목록이다. 위의 코드 예시와 같이 몇 가지 함수들을 내장 함수를 쓰지 않고 따라 만들어보자. \\\n",
    "(단, 편의를 위해 엄격하게 만들지 않고 test를 통과할 정도만 작성하여도 무방하다.)"
   ]
  },
  {
   "cell_type": "markdown",
   "metadata": {
    "id": "UrC-IOlfj_4Z"
   },
   "source": [
    "### 1-1. abs"
   ]
  },
  {
   "cell_type": "code",
   "execution_count": 2,
   "metadata": {
    "id": "RCpeIZx8j_4a"
   },
   "outputs": [
    {
     "name": "stdout",
     "output_type": "stream",
     "text": [
      "통과\n"
     ]
    }
   ],
   "source": [
    "def my_abs(number):\n",
    "    number = number ** 2\n",
    "    number = number ** 0.5\n",
    "    return number\n",
    "\n",
    "test1 = 1.7\n",
    "test2 = -8\n",
    "assert abs(test1) == my_abs(test1)\n",
    "assert abs(test2) == my_abs(test2)\n",
    "print(\"통과\")"
   ]
  },
  {
   "cell_type": "markdown",
   "metadata": {
    "id": "sBqLryIxj_4a"
   },
   "source": [
    "### 1-2. round"
   ]
  },
  {
   "cell_type": "code",
   "execution_count": 3,
   "metadata": {
    "id": "xaEfCMwmj_4a"
   },
   "outputs": [
    {
     "name": "stdout",
     "output_type": "stream",
     "text": [
      "통과\n"
     ]
    }
   ],
   "source": [
    "import math\n",
    "\n",
    "def my_round(number, ndgits=None):\n",
    "    number = str(number)\n",
    "    number = number.split('.')\n",
    "    decimal_num = int(number[0])\n",
    "    float_num = int(number[1])\n",
    "    \n",
    "    if not ndgits:\n",
    "        if int(str(float_num)[0]) > 5:\n",
    "            return decimal_num + 1\n",
    "    elif ndgits:\n",
    "        if int(str(float_num)[ndgits]) > 5:\n",
    "            ans = str(decimal_num),'.',str(int(str(float_num)[:ndgits])+1)\n",
    "            return float(''.join(ans))\n",
    "            \n",
    "test = 1.74789\n",
    "assert round(test) == my_round(test)\n",
    "assert round(test, 3) == my_round(test, 3)\n",
    "assert round(-test, 2) == my_round(-test, 2)\n",
    "print(\"통과\")"
   ]
  },
  {
   "cell_type": "markdown",
   "metadata": {
    "id": "PTJk84oPj_4b"
   },
   "source": [
    "### 1-3. any"
   ]
  },
  {
   "cell_type": "code",
   "execution_count": 4,
   "metadata": {
    "id": "bnBMZp3qj_4b"
   },
   "outputs": [
    {
     "name": "stdout",
     "output_type": "stream",
     "text": [
      "통과\n"
     ]
    }
   ],
   "source": [
    "def my_any(iterable):\n",
    "    if True in iterable:\n",
    "        return True\n",
    "    else:\n",
    "        return False\n",
    "\n",
    "test1 = [True, 7 == 4, 'Something', False]\n",
    "test2 = [3 > 5, 10 != 10, False, '', None]\n",
    "\n",
    "assert any(test1) == my_any(test1)\n",
    "assert any(test2) == my_any(test2)\n",
    "print(\"통과\")"
   ]
  },
  {
   "cell_type": "markdown",
   "metadata": {
    "id": "r1a2t34Sj_4b"
   },
   "source": [
    "### 1-4. enumerate"
   ]
  },
  {
   "cell_type": "code",
   "execution_count": 5,
   "metadata": {
    "id": "Eb3wJhDJj_4c"
   },
   "outputs": [
    {
     "name": "stdout",
     "output_type": "stream",
     "text": [
      "통과\n"
     ]
    }
   ],
   "source": [
    "def my_enumerate(sequence, start=0):\n",
    "    ans = []\n",
    "    for i in sequence:\n",
    "        ans.append((start, i))\n",
    "        start += 1\n",
    "    return ans\n",
    "\n",
    "test1 = [60, 50, 20, 10]\n",
    "test2 = [True, None, 'test']\n",
    "\n",
    "assert list(enumerate(test1)) == list(my_enumerate(test1))\n",
    "assert list(enumerate(test2, 12)) == list(my_enumerate(test2, 12))\n",
    "print(\"통과\")"
   ]
  },
  {
   "cell_type": "markdown",
   "metadata": {
    "id": "6GhbhgNsj_4c"
   },
   "source": [
    "### 1-5. max & min"
   ]
  },
  {
   "cell_type": "code",
   "execution_count": 6,
   "metadata": {
    "id": "CPb7b92Fj_4c"
   },
   "outputs": [
    {
     "name": "stdout",
     "output_type": "stream",
     "text": [
      "통과\n"
     ]
    }
   ],
   "source": [
    "def my_max(*args):\n",
    "    max_ = 0 # 본래 max or min 값을 0 or 10으로 설정하면 안되지만.. 간단한 구현을 위해 0 or 10으로 설정함.    \n",
    "    for i in args:\n",
    "        if i > max_:\n",
    "            max_ = i\n",
    "    return max_\n",
    "\n",
    "def my_min(*args):\n",
    "    min_ = 10\n",
    "    for j in args:\n",
    "        if j < min_:\n",
    "            min_ = j\n",
    "    return min_\n",
    "\n",
    "test = [7, 4, 2, 6, 8]\n",
    "\n",
    "assert max(*test) == my_max(*test) and min(*test) == my_min(*test)\n",
    "assert max(7, 4, 2, 5) == my_max(7, 4, 2, 5) and min(7, 4, 2, 5) == my_min(7, 4, 2, 5)\n",
    "print(\"통과\")"
   ]
  },
  {
   "cell_type": "markdown",
   "metadata": {
    "id": "LYJx5t63j_4c"
   },
   "source": [
    "### 1-6. range\n",
    "실제론 함수가 아니지만 함수 같이 만들어보자."
   ]
  },
  {
   "cell_type": "code",
   "execution_count": 7,
   "metadata": {
    "id": "z5liW1V-j_4d"
   },
   "outputs": [
    {
     "name": "stdout",
     "output_type": "stream",
     "text": [
      "통과\n"
     ]
    }
   ],
   "source": [
    "def my_range(*args):\n",
    "    if len(args) == 1:\n",
    "        start = 0\n",
    "        end = args[0]\n",
    "        step = 1\n",
    "    elif len(args) == 2:\n",
    "        start = args[0]\n",
    "        end = args[1]\n",
    "        step = 1\n",
    "    elif len(args) == 3:\n",
    "        start = args[0]\n",
    "        end = args[1]\n",
    "        step = args[2]\n",
    "        \n",
    "    ans = []\n",
    "    \n",
    "    if step > 0:\n",
    "        while start < end:\n",
    "            ans.append(start)\n",
    "            start += step\n",
    "        return ans\n",
    "    else:\n",
    "        while start > end:\n",
    "            ans.append(start)\n",
    "            start += step\n",
    "        return ans\n",
    "        \n",
    "    \n",
    "assert list(range(10)) == list(my_range(10))\n",
    "assert list(range(3, 10)) == list(my_range(3, 10))\n",
    "assert list(range(3, 10, 2)) == list(my_range(3, 10, 2))\n",
    "assert list(range(10, 3, -2)) == list(my_range(10, 3, -2))\n",
    "print(\"통과\")"
   ]
  },
  {
   "cell_type": "markdown",
   "metadata": {},
   "source": [
    "### 1-7. reversed"
   ]
  },
  {
   "cell_type": "code",
   "execution_count": 8,
   "metadata": {},
   "outputs": [
    {
     "name": "stdout",
     "output_type": "stream",
     "text": [
      "통과\n"
     ]
    }
   ],
   "source": [
    "def my_reversed(seq):\n",
    "    return seq[::-1]\n",
    "\n",
    "test = [7, 4, 2, 6, 8]\n",
    "\n",
    "assert list(reversed(test)) == list(my_reversed(test))\n",
    "print(\"통과\")"
   ]
  },
  {
   "cell_type": "markdown",
   "metadata": {
    "id": "EO1bxjI2j_4d"
   },
   "source": [
    "### 1-8. filter"
   ]
  },
  {
   "cell_type": "code",
   "execution_count": 9,
   "metadata": {
    "id": "TN6rpi9bj_4d"
   },
   "outputs": [
    {
     "name": "stdout",
     "output_type": "stream",
     "text": [
      "통과\n"
     ]
    }
   ],
   "source": [
    "def my_filter(function, iterable):\n",
    "    ans = []\n",
    "    for num in iterable:\n",
    "        if function(num):\n",
    "            ans.append(num)\n",
    "    return ans\n",
    "\n",
    "def test_function(number):\n",
    "    return number > 5\n",
    "test = [1, 7, 5, 2, 9, 11]\n",
    "\n",
    "# 역슬래시 \"\\\"를 이용하면 평가식을 다음 줄로 나눌 수 있다.\n",
    "assert list(filter(test_function, test)) == list(my_filter(test_function, test)) \\\n",
    "    == list(filter(lambda x: x > 5, test))\n",
    "print(\"통과\")"
   ]
  },
  {
   "cell_type": "markdown",
   "metadata": {
    "id": "heIN6IBLxP9d"
   },
   "source": [
    "### 1-9. map"
   ]
  },
  {
   "cell_type": "code",
   "execution_count": 10,
   "metadata": {
    "id": "748JDhTWxPqz"
   },
   "outputs": [
    {
     "name": "stdout",
     "output_type": "stream",
     "text": [
      "통과\n"
     ]
    }
   ],
   "source": [
    "def my_map(function, iterable):\n",
    "    ans = []\n",
    "    for num in iterable:\n",
    "        fixed_num = function(num)\n",
    "        ans.append(fixed_num)\n",
    "    return ans\n",
    "\n",
    "def test_function(number):\n",
    "    return number * 2\n",
    "test = [1, 7, 5, 2, 9, 11]\n",
    "\n",
    "assert list(map(test_function, test)) == list(my_map(test_function, test)) \\\n",
    "    == list(map(lambda x: x * 2, test))\n",
    "print(\"통과\")"
   ]
  },
  {
   "cell_type": "markdown",
   "metadata": {
    "id": "TFRcIgaej_4e"
   },
   "source": [
    "### 1-10. sum"
   ]
  },
  {
   "cell_type": "code",
   "execution_count": 11,
   "metadata": {
    "id": "OBMnyE-Jj_4e"
   },
   "outputs": [
    {
     "name": "stdout",
     "output_type": "stream",
     "text": [
      "통과\n"
     ]
    }
   ],
   "source": [
    "def my_sum(iterable, start=0):\n",
    "    tot = 0\n",
    "    for num in iterable:\n",
    "        tot += num\n",
    "    return tot\n",
    "\n",
    "test = [7, 4, 2, 6, 8]\n",
    "\n",
    "assert sum(test) == my_sum(test)\n",
    "assert sum(range(10)) == my_sum(my_range(10))\n",
    "assert sum(filter(lambda x: x % 2, range(1, 20, 3))) \\\n",
    "    == my_sum(my_filter(lambda x: x % 2, my_range(1, 20, 3)))\n",
    "print(\"통과\")"
   ]
  },
  {
   "cell_type": "markdown",
   "metadata": {
    "id": "ECrWOlnjj_4e"
   },
   "source": [
    "### 1-11. zip"
   ]
  },
  {
   "cell_type": "code",
   "execution_count": 12,
   "metadata": {
    "id": "TFQnbWW1j_4e"
   },
   "outputs": [
    {
     "name": "stdout",
     "output_type": "stream",
     "text": [
      "통과\n"
     ]
    }
   ],
   "source": [
    "def my_zip(*iterables):\n",
    "    if len(iterables) == 2:\n",
    "        ans = []\n",
    "        for idx in range(len(iterables[0])):\n",
    "            ans.append((iterables[0][idx],iterables[1][idx])) # iterables[0]~[1] 설정하는게 헷갈려서 임시로 했습니다..\n",
    "        return ans\n",
    "    else:\n",
    "        ans = []\n",
    "        for idx in range(len(iterables[0])):\n",
    "            ans.append((iterables[0][idx],iterables[1][idx],iterables[2][idx])) # iterables[0]~[2] 설정하는게 헷갈려서 임시로 했습니다..\n",
    "        return ans\n",
    "        \n",
    "        \n",
    "test1 = (1, 2, 3)\n",
    "test2 = (10, 2, 30)\n",
    "assert list(zip(test1, test2)) == list(my_zip(test1, test2))\n",
    "\n",
    "test3 = [(10, 20, 30, 40), (55, 22, 66, 70), (False, True, True, False)]\n",
    "assert list(zip(*test3)) == list(my_zip(*test3))\n",
    "print(\"통과\")"
   ]
  },
  {
   "cell_type": "markdown",
   "metadata": {
    "id": "Gm9742vej_4e"
   },
   "source": [
    "### 1-12. sorted\n",
    "정렬 알고리즘은 어떠한 것을 써도 무방하다.\n",
    "쉬운 정렬 알고리즘으로 일반적으로 [삽입정렬](https://ko.wikipedia.org/wiki/%EC%82%BD%EC%9E%85_%EC%A0%95%EB%A0%AC), [선택정렬](https://ko.wikipedia.org/wiki/%EC%84%A0%ED%83%9D_%EC%A0%95%EB%A0%AC), 그리고 [버블정렬](https://ko.wikipedia.org/wiki/%EA%B1%B0%ED%92%88_%EC%A0%95%EB%A0%AC)을 꼽는다.\n",
    "\n",
    "> 더 심도 있게 공부 할 것."
   ]
  },
  {
   "cell_type": "code",
   "execution_count": 13,
   "metadata": {
    "id": "h3fKPQodj_4f"
   },
   "outputs": [
    {
     "name": "stdout",
     "output_type": "stream",
     "text": [
      "통과\n"
     ]
    }
   ],
   "source": [
    "def my_sorted(iterable, key=None, reverse=False):\n",
    "    \n",
    "    if key == None:\n",
    "        for a in range(1, len(iterable)):\n",
    "            for b in range(a, 0, -1):\n",
    "                if iterable[b] < iterable[b-1]:\n",
    "                    iterable[b], iterable[b-1] = iterable[b-1], iterable[b]\n",
    "                else:\n",
    "                    break\n",
    "        if not reverse:\n",
    "            return iterable\n",
    "        else:\n",
    "            return iterable[::-1]\n",
    "    else:\n",
    "        for a in range(1, len(iterable)):\n",
    "            for b in range(a, 0, -1):\n",
    "                if iterable[b][1] < iterable[b-1][1]:\n",
    "                    iterable[b], iterable[b-1] = iterable[b-1], iterable[b]\n",
    "                else:\n",
    "                    break\n",
    "        if not reverse:\n",
    "            return iterable\n",
    "        else:\n",
    "            return iterable[::-1]\n",
    "        \n",
    "    \n",
    "    if not reverse:\n",
    "        return iterable\n",
    "    else:\n",
    "        return iterable[::-1]\n",
    "\n",
    "test1 = [7, 4, 2, 6, 8]\n",
    "assert sorted(test1) == my_sorted(test1)\n",
    "test2 = [(1, 2), (6, 2), (5, 3), (10, 5)]\n",
    "assert sorted(test2) == my_sorted(test2) \\\n",
    "   and sorted(test2, reverse=True) == my_sorted(test2, reverse=True) \\\n",
    "   and sorted(test2, key=lambda x: x[1]) == my_sorted(test2, key=lambda x: x[1])\n",
    "print(\"통과\")"
   ]
  },
  {
   "cell_type": "markdown",
   "metadata": {
    "id": "FgiQdO2Gj_4f"
   },
   "source": [
    "## 2. 알고리즘 함수 만들기\n",
    "몇 가지 간단한 알고리즘 함수를 만들어보자.\n",
    "\n",
    "### 2-1. 피보나치 수열 만들기\n",
    "숫자 $N$가 주어졌을때,다피보나치 길이 $N$의 피보나치 수열을 생성하는 함수를 작성해보자. 시작은 1부터다."
   ]
  },
  {
   "cell_type": "code",
   "execution_count": 14,
   "metadata": {
    "id": "SathO3raj_4f"
   },
   "outputs": [
    {
     "name": "stdout",
     "output_type": "stream",
     "text": [
      "통과\n"
     ]
    }
   ],
   "source": [
    "def fibonacci(number):\n",
    "    ans = []\n",
    "    curr_ , next_ = 0, 1\n",
    "    for _ in range(number):\n",
    "        curr_, next_ = next_, curr_ + next_\n",
    "        ans.append(curr_)\n",
    "    return ans\n",
    "\n",
    "assert list(fibonacci(10)) == [1, 1, 2, 3, 5, 8, 13, 21, 34, 55]\n",
    "assert sum(fibonacci(5)) == 12\n",
    "print(\"통과\") "
   ]
  },
  {
   "cell_type": "markdown",
   "metadata": {
    "id": "qbdm9l5pj_4f"
   },
   "source": [
    "### 2-2. 순열 만들기\n",
    "수열 $S$가 주어졌을때 그 안에서 $N$를 뽑아 순열을 만드는 함수를 작성해보자. 순서는 상관없다. \\\n",
    "(힌트: 재귀 함수를 써보자)\n",
    "> 더 심도 있게 공부 할 것."
   ]
  },
  {
   "cell_type": "code",
   "execution_count": 15,
   "metadata": {
    "id": "r9qXLBcXj_4f"
   },
   "outputs": [
    {
     "name": "stdout",
     "output_type": "stream",
     "text": [
      "통과\n"
     ]
    }
   ],
   "source": [
    "def my_permutations(seq, number):\n",
    "    results = []\n",
    "    prev_elements = []\n",
    "    \n",
    "    def dfs(elements) :\n",
    "        if len(elements) == (len(seq) - number) :\n",
    "            results.append(tuple(map(int,prev_elements[:]))) # for set..(hash)\n",
    "        \n",
    "        for e in elements :\n",
    "            next_elements = elements[:]\n",
    "            next_elements.remove(e)\n",
    "            \n",
    "            prev_elements.append(e)\n",
    "            dfs(next_elements)\n",
    "            prev_elements.pop()\n",
    "            \n",
    "    dfs(seq)\n",
    "    return results\n",
    "\n",
    "from itertools import permutations\n",
    "test = [1, 2, 3, 4]\n",
    "\n",
    "assert set(permutations(test, 2)) == set(my_permutations(test, 2)) \\\n",
    "   and set(permutations(test, 3)) == set(my_permutations(test, 3))\n",
    "print(\"통과\") "
   ]
  },
  {
   "cell_type": "markdown",
   "metadata": {
    "id": "laEqDZNsj_4g"
   },
   "source": [
    "### 2-3. 조합 만들기\n",
    "수열 $S$가 주어졌을때 그 안에서 $N$를 뽑아 조합을 만드는 함수를 작성해보자. 순서는 상관없다. \\\n",
    "(힌트: 재귀 함수를 써보자)\n",
    "\n",
    "> 더 심도 있게 공부 할 것."
   ]
  },
  {
   "cell_type": "code",
   "execution_count": 16,
   "metadata": {
    "id": "CJer6T7Nj_4g"
   },
   "outputs": [
    {
     "name": "stdout",
     "output_type": "stream",
     "text": [
      "통과\n"
     ]
    }
   ],
   "source": [
    "def my_combinations(iterable, r):\n",
    "    pool = tuple(iterable)\n",
    "    n = len(pool)\n",
    "    if r > n:\n",
    "        return\n",
    "    indices = list(range(r))\n",
    "    yield tuple(pool[i] for i in indices)\n",
    "    while True:\n",
    "        for i in reversed(range(r)):\n",
    "            if indices[i] != i + n - r:\n",
    "                break\n",
    "        else:\n",
    "            return\n",
    "        indices[i] += 1\n",
    "        for j in range(i+1, r):\n",
    "            indices[j] = indices[j-1] + 1\n",
    "        yield tuple(pool[i] for i in indices) # **yield**\n",
    "\n",
    "from itertools import combinations\n",
    "test = [1, 2, 3, 4]\n",
    "\n",
    "assert set(combinations(test, 2)) == set(my_combinations(test, 2)) \\\n",
    "   and set(combinations(test, 3)) == set(my_combinations(test, 3))\n",
    "print(\"통과\") "
   ]
  }
 ],
 "metadata": {
  "colab": {
   "collapsed_sections": [],
   "name": "HW1. Python 내장함수와 알고리즘 구현.ipynb",
   "provenance": []
  },
  "interpreter": {
   "hash": "ade55d4c86be7d50874b83e4277b883dd708f548765dc318ed8eee76ae3e5626"
  },
  "kernelspec": {
   "display_name": "Python 3 (ipykernel)",
   "language": "python",
   "name": "python3"
  },
  "language_info": {
   "codemirror_mode": {
    "name": "ipython",
    "version": 3
   },
   "file_extension": ".py",
   "mimetype": "text/x-python",
   "name": "python",
   "nbconvert_exporter": "python",
   "pygments_lexer": "ipython3",
   "version": "3.9.7"
  }
 },
 "nbformat": 4,
 "nbformat_minor": 1
}

{
  "nbformat": 4,
  "nbformat_minor": 0,
  "metadata": {
    "colab": {
      "name": "[HW13] Polynomial Regression & Regularization",
      "provenance": [],
      "collapsed_sections": []
    },
    "kernelspec": {
      "name": "python3",
      "display_name": "Python 3"
    },
    "language_info": {
      "name": "python"
    },
    "widgets": {
      "application/vnd.jupyter.widget-state+json": {
        "1f12e7c993b3498ebe38711055c6240c": {
          "model_module": "@jupyter-widgets/controls",
          "model_name": "VBoxModel",
          "model_module_version": "1.5.0",
          "state": {
            "_view_name": "VBoxView",
            "_dom_classes": [
              "widget-interact"
            ],
            "_model_name": "VBoxModel",
            "_view_module": "@jupyter-widgets/controls",
            "_model_module_version": "1.5.0",
            "_view_count": null,
            "_view_module_version": "1.5.0",
            "box_style": "",
            "layout": "IPY_MODEL_3cbdf319cad4492380d5d7ec6520c312",
            "_model_module": "@jupyter-widgets/controls",
            "children": [
              "IPY_MODEL_46be4a294c974a798202f289eb62d39b",
              "IPY_MODEL_89af136727ca4952af4ebbecf2ac993b"
            ]
          }
        },
        "3cbdf319cad4492380d5d7ec6520c312": {
          "model_module": "@jupyter-widgets/base",
          "model_name": "LayoutModel",
          "model_module_version": "1.2.0",
          "state": {
            "_view_name": "LayoutView",
            "grid_template_rows": null,
            "right": null,
            "justify_content": null,
            "_view_module": "@jupyter-widgets/base",
            "overflow": null,
            "_model_module_version": "1.2.0",
            "_view_count": null,
            "flex_flow": null,
            "width": null,
            "min_width": null,
            "border": null,
            "align_items": null,
            "bottom": null,
            "_model_module": "@jupyter-widgets/base",
            "top": null,
            "grid_column": null,
            "overflow_y": null,
            "overflow_x": null,
            "grid_auto_flow": null,
            "grid_area": null,
            "grid_template_columns": null,
            "flex": null,
            "_model_name": "LayoutModel",
            "justify_items": null,
            "grid_row": null,
            "max_height": null,
            "align_content": null,
            "visibility": null,
            "align_self": null,
            "height": null,
            "min_height": null,
            "padding": null,
            "grid_auto_rows": null,
            "grid_gap": null,
            "max_width": null,
            "order": null,
            "_view_module_version": "1.2.0",
            "grid_template_areas": null,
            "object_position": null,
            "object_fit": null,
            "grid_auto_columns": null,
            "margin": null,
            "display": null,
            "left": null
          }
        },
        "46be4a294c974a798202f289eb62d39b": {
          "model_module": "@jupyter-widgets/controls",
          "model_name": "IntSliderModel",
          "model_module_version": "1.5.0",
          "state": {
            "_view_name": "IntSliderView",
            "style": "IPY_MODEL_6e84f16c78874560af48e39fc441a4e3",
            "_dom_classes": [],
            "description": "degree",
            "step": 1,
            "_model_name": "IntSliderModel",
            "orientation": "horizontal",
            "max": 15,
            "_view_module": "@jupyter-widgets/controls",
            "_model_module_version": "1.5.0",
            "value": 8,
            "_view_count": null,
            "disabled": false,
            "_view_module_version": "1.5.0",
            "min": 1,
            "continuous_update": true,
            "readout_format": "d",
            "description_tooltip": null,
            "readout": true,
            "_model_module": "@jupyter-widgets/controls",
            "layout": "IPY_MODEL_4872d8d4701f4a72a057bf104c589b7d"
          }
        },
        "89af136727ca4952af4ebbecf2ac993b": {
          "model_module": "@jupyter-widgets/output",
          "model_name": "OutputModel",
          "model_module_version": "1.0.0",
          "state": {
            "_view_name": "OutputView",
            "msg_id": "",
            "_dom_classes": [],
            "_model_name": "OutputModel",
            "outputs": [
              {
                "output_type": "display_data",
                "data": {
                  "image/png": "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\n",
                  "text/plain": "<Figure size 720x432 with 1 Axes>"
                },
                "metadata": {
                  "needs_background": "light"
                }
              }
            ],
            "_view_module": "@jupyter-widgets/output",
            "_model_module_version": "1.0.0",
            "_view_count": null,
            "_view_module_version": "1.0.0",
            "layout": "IPY_MODEL_ea5ac67258d94f2c9df1e059cc959703",
            "_model_module": "@jupyter-widgets/output"
          }
        },
        "6e84f16c78874560af48e39fc441a4e3": {
          "model_module": "@jupyter-widgets/controls",
          "model_name": "SliderStyleModel",
          "model_module_version": "1.5.0",
          "state": {
            "_view_name": "StyleView",
            "handle_color": null,
            "_model_name": "SliderStyleModel",
            "description_width": "",
            "_view_module": "@jupyter-widgets/base",
            "_model_module_version": "1.5.0",
            "_view_count": null,
            "_view_module_version": "1.2.0",
            "_model_module": "@jupyter-widgets/controls"
          }
        },
        "4872d8d4701f4a72a057bf104c589b7d": {
          "model_module": "@jupyter-widgets/base",
          "model_name": "LayoutModel",
          "model_module_version": "1.2.0",
          "state": {
            "_view_name": "LayoutView",
            "grid_template_rows": null,
            "right": null,
            "justify_content": null,
            "_view_module": "@jupyter-widgets/base",
            "overflow": null,
            "_model_module_version": "1.2.0",
            "_view_count": null,
            "flex_flow": null,
            "width": null,
            "min_width": null,
            "border": null,
            "align_items": null,
            "bottom": null,
            "_model_module": "@jupyter-widgets/base",
            "top": null,
            "grid_column": null,
            "overflow_y": null,
            "overflow_x": null,
            "grid_auto_flow": null,
            "grid_area": null,
            "grid_template_columns": null,
            "flex": null,
            "_model_name": "LayoutModel",
            "justify_items": null,
            "grid_row": null,
            "max_height": null,
            "align_content": null,
            "visibility": null,
            "align_self": null,
            "height": null,
            "min_height": null,
            "padding": null,
            "grid_auto_rows": null,
            "grid_gap": null,
            "max_width": null,
            "order": null,
            "_view_module_version": "1.2.0",
            "grid_template_areas": null,
            "object_position": null,
            "object_fit": null,
            "grid_auto_columns": null,
            "margin": null,
            "display": null,
            "left": null
          }
        },
        "ea5ac67258d94f2c9df1e059cc959703": {
          "model_module": "@jupyter-widgets/base",
          "model_name": "LayoutModel",
          "model_module_version": "1.2.0",
          "state": {
            "_view_name": "LayoutView",
            "grid_template_rows": null,
            "right": null,
            "justify_content": null,
            "_view_module": "@jupyter-widgets/base",
            "overflow": null,
            "_model_module_version": "1.2.0",
            "_view_count": null,
            "flex_flow": null,
            "width": null,
            "min_width": null,
            "border": null,
            "align_items": null,
            "bottom": null,
            "_model_module": "@jupyter-widgets/base",
            "top": null,
            "grid_column": null,
            "overflow_y": null,
            "overflow_x": null,
            "grid_auto_flow": null,
            "grid_area": null,
            "grid_template_columns": null,
            "flex": null,
            "_model_name": "LayoutModel",
            "justify_items": null,
            "grid_row": null,
            "max_height": null,
            "align_content": null,
            "visibility": null,
            "align_self": null,
            "height": null,
            "min_height": null,
            "padding": null,
            "grid_auto_rows": null,
            "grid_gap": null,
            "max_width": null,
            "order": null,
            "_view_module_version": "1.2.0",
            "grid_template_areas": null,
            "object_position": null,
            "object_fit": null,
            "grid_auto_columns": null,
            "margin": null,
            "display": null,
            "left": null
          }
        },
        "f8f1c31bd1d040a4ad455d7bb5708afb": {
          "model_module": "@jupyter-widgets/controls",
          "model_name": "VBoxModel",
          "model_module_version": "1.5.0",
          "state": {
            "_view_name": "VBoxView",
            "_dom_classes": [
              "widget-interact"
            ],
            "_model_name": "VBoxModel",
            "_view_module": "@jupyter-widgets/controls",
            "_model_module_version": "1.5.0",
            "_view_count": null,
            "_view_module_version": "1.5.0",
            "box_style": "",
            "layout": "IPY_MODEL_d6581170f7c141f0a0c5b48e26de3acf",
            "_model_module": "@jupyter-widgets/controls",
            "children": [
              "IPY_MODEL_c2f2ebcb2a11465581c42a3fd67e1405",
              "IPY_MODEL_74ffc9e528054d19828fe71980b06ad3"
            ]
          }
        },
        "d6581170f7c141f0a0c5b48e26de3acf": {
          "model_module": "@jupyter-widgets/base",
          "model_name": "LayoutModel",
          "model_module_version": "1.2.0",
          "state": {
            "_view_name": "LayoutView",
            "grid_template_rows": null,
            "right": null,
            "justify_content": null,
            "_view_module": "@jupyter-widgets/base",
            "overflow": null,
            "_model_module_version": "1.2.0",
            "_view_count": null,
            "flex_flow": null,
            "width": null,
            "min_width": null,
            "border": null,
            "align_items": null,
            "bottom": null,
            "_model_module": "@jupyter-widgets/base",
            "top": null,
            "grid_column": null,
            "overflow_y": null,
            "overflow_x": null,
            "grid_auto_flow": null,
            "grid_area": null,
            "grid_template_columns": null,
            "flex": null,
            "_model_name": "LayoutModel",
            "justify_items": null,
            "grid_row": null,
            "max_height": null,
            "align_content": null,
            "visibility": null,
            "align_self": null,
            "height": null,
            "min_height": null,
            "padding": null,
            "grid_auto_rows": null,
            "grid_gap": null,
            "max_width": null,
            "order": null,
            "_view_module_version": "1.2.0",
            "grid_template_areas": null,
            "object_position": null,
            "object_fit": null,
            "grid_auto_columns": null,
            "margin": null,
            "display": null,
            "left": null
          }
        },
        "c2f2ebcb2a11465581c42a3fd67e1405": {
          "model_module": "@jupyter-widgets/controls",
          "model_name": "IntSliderModel",
          "model_module_version": "1.5.0",
          "state": {
            "_view_name": "IntSliderView",
            "style": "IPY_MODEL_ab864e2873b24f78be3442a7a483fd93",
            "_dom_classes": [],
            "description": "degree",
            "step": 1,
            "_model_name": "IntSliderModel",
            "orientation": "horizontal",
            "max": 15,
            "_view_module": "@jupyter-widgets/controls",
            "_model_module_version": "1.5.0",
            "value": 15,
            "_view_count": null,
            "disabled": false,
            "_view_module_version": "1.5.0",
            "min": 1,
            "continuous_update": true,
            "readout_format": "d",
            "description_tooltip": null,
            "readout": true,
            "_model_module": "@jupyter-widgets/controls",
            "layout": "IPY_MODEL_31ff9114cc844c0ab29cf0c7984a00cf"
          }
        },
        "74ffc9e528054d19828fe71980b06ad3": {
          "model_module": "@jupyter-widgets/output",
          "model_name": "OutputModel",
          "model_module_version": "1.0.0",
          "state": {
            "_view_name": "OutputView",
            "msg_id": "",
            "_dom_classes": [],
            "_model_name": "OutputModel",
            "outputs": [
              {
                "output_type": "stream",
                "name": "stdout",
                "text": [
                  "weights without regularization\n",
                  "[ 1.50076090e+02  8.84021520e+01 -4.50951870e+03 -1.60581712e+03\n",
                  "  5.16465813e+04  5.90400138e+03 -2.74997279e+05 -8.19477286e+02\n",
                  "  7.61578992e+05 -2.43864049e+04 -1.12906553e+06  3.63995447e+04\n",
                  "  8.47720280e+05 -1.55340024e+04 -2.52490543e+05]\n",
                  "weights with regularization\n",
                  "[9.55834494 8.03342922 6.58775518 8.13921092 5.10549679 7.019265\n",
                  " 3.9613321  6.14513381 3.05803457 5.57112052 2.34690292 5.19014283\n",
                  " 1.78777684 4.92342831 1.3476652 ]\n"
                ]
              },
              {
                "output_type": "display_data",
                "data": {
                  "image/png": "iVBORw0KGgoAAAANSUhEUgAAAlgAAAF3CAYAAAB5dDWiAAAABHNCSVQICAgIfAhkiAAAAAlwSFlzAAALEgAACxIB0t1+/AAAADh0RVh0U29mdHdhcmUAbWF0cGxvdGxpYiB2ZXJzaW9uMy4yLjIsIGh0dHA6Ly9tYXRwbG90bGliLm9yZy+WH4yJAAAgAElEQVR4nOzdeXgURf748Xcl5CQJCeQgXCFy8xVQjIAchvtWEGUXRQ0eIKwLyq676BIgeLC6CvxYDxRxRQFBZTEgKockiC6goosLct93EpNw5CAJSf3+6J5hZjK5Jxd8Xs8zTzLV1d3Vx/R8pqq6WmmtEUIIIYQQruNW3QUQQgghhLjeSIAlhBBCCOFiEmAJIYQQQriYBFhCCCGEEC4mAZYQQgghhItJgCWEEEII4WISYLmQUmqcUkrbvC4rpX5RSv1RKVWnjMvaopTaUklFtazjuFJqSWWu43qglPJXSr1mHpNL5rHtXUTe4w7ngOU1spzrXmLOf1opVejzqpSaZbOOQueYUspHKXXRnN6piHVsKaLMWin1/8pTblE2Sqk5SqmNSqlUc7+PK8O87kqpGUqpY0qpHKXUIaXU0yXME6iUOmeuq7+T6f9nlifDLNP7Sqn65dg0lFLNbc6nCU6m1zWvlVop9WIRy5huTv+siOm9izmHtVIqsDxlv14opW5SSmWZ+6JlKecZrpT6TimVbr7+o5Qa4SRfkFJqsVLqN6VUplLqa6VUhxKW/axZlu/Ku021gQRYlWM0cAdwL/AD8Dows1pLJCqiAfAocBXYVIr8GzCOv+3rmwqsPwsIB/o4mfYwcLmYee8BAmzyFuV/FC7zHcD8shZWlMtkwAdYV4553wJigfeA4cCnwGtKqdhi5nmlqAlKqUbAFrM89wFPAv2Bdc6C/DK4DDzkJP1eoKQBGS3n7lClVINi8k3B+Xlc3GfkRvAWcLG0mZVSg4G1wHngAfOVBHymlBpmk08BnwODMc7hewEPIFEp1aSIZd+Ecb4ml2tLahOttbxc9ALGYVwoWjqkJwIXy7isLcCWSi7vcWBJFe8jr+o+TuUos7L5v795jHsXs0+XuXDdS4DTwNeOxwroCRSYeTRQx8n8G4BUYAfGxdJZni3Ad9W9n120v2rd+WWW283829I8luNKOV8zIB+Ic0h/A8gG6juZpweQifGjQQP9HabPBy4AgTZpd5p5R5Vj25qb8y4xz9dIh+lfA++beV50Mv8d5rQvzL9/dJKnt7NtcdGx8bC9BtS2F9eCo6edfT8VMc9HwCnA3SbN3bwWrbBJG2Eus49NWj0gDfhnEcveALxzPV13inpJDVbV+BEIUEqFgvHrQCm1XSmVbTbfxCul2hQ1s1KqoVIqVyn1lJNpcWbVb1BxBVBKPWU2X11RSu1USvUqIl+kUmq5UirFbG7YpZS6x0m++5VS+83l7VZK3a0cmjVtqu1HKaXeVUqlYHzQLdMnKKMJ9YpZvfyeYzOEUqqOUuo5c105SqmzSqm5Sinv4rbXlbR5VahmHwL3KqV8bdIeBr7FCOoKUUo1xggIVwKLgTBgUGUVUBnNmaeVUrcqpb41z8tDSqmJTvJ2MZsSMsxmhc1KqS5lXF+ceX7drJTaoJTKAD4xp/kqpV5RRrNZrvl3umMNjFKqs1nWbKXUKaXU35RSs5VSVXrMtdYF5Zy1C0ZLxFcO6esBb2CIbaJSygPjy+1l4GgRy7wb+EJrfcGmfFuBkxhfqOX1HXAMeNCmPE0wamY/LGa+GIwgcjzGl35MBcpQLHWtOfMPSql/KKXOAjlAoDl9lFJqh3luX1BKfaqUauawDF+l1EJlNK1mKKU+U0p1V2Vs+nXR9gQB84BnMILm0vIEMrXW+ZYE8/8M7Fu+7gbOaq0TbfJdxKjVctac+ADQGXiuDGWptSTAqhqRGBeIDLPq9QuME/X3wCTgZuA78wuxEK31eSAesOu/oJRyBx4DPtFapxe1cqXUY8D/w6hJG4nxS3IFEOSQrynwPdAJmIrx4fkZ+LdS6m6bfAOA5cB+YBTwmrn81kUU4XVAYTQPjDOX8TLwJsav17uBv2BUM39lbpfFMozq5I+AYcDfzW1eXtT22pTT3QzQSnqpkpZVRneZF+Ac82Jcrv5XDv6NsQ9HApgB5miK/2J6EOMz/iFGs9EVimkmdNG+CcA4VsswLrA/AguVUtbmTaVUR4wm0yCM8+Fhc75vVBH9xEqwxlze3cB8ZfRF2wA8DizACDIWAzOAV23KEQxsBupjfGlPxghAx5VmpUopt2o6v2xZvgBzHdJzzL83O6T/FePL8x/OFqaU8sG4Xu1xMvlXoH35imm1FJsAy/z/NEZthrPyeGFcJzdprc9inFdRSql2RSzf2TFxLyJvcaZjXM8mYDSzXzF/KPwb2IvRdPoExv79RinlbzPvIozawdfMeQ9QiusVGE1upTynSrtN/wD2a62XljK/7Ta0NH+UhJivmRi1kW/Y5Ps/ij5Xmiml/Gy2LQijdvSvWuu0MpandqruKrTr6cW1JsI2QB2ML5AnMC6C8WaencAhbJpqMC5oecA8m7Qt2DQRcq0KvJdN2t1mWrdiyuSG8atvvUP67815l9ikvQekAA0c8m4Cdtm834bxobJtOrvNXJ6zMn/msLzm5j6Z6ZDew8w/0nzfy3z/sEO+sWb6LSUcjy1mvpJevctwjEtqInwdI2DohXERtpThwXKeU0uA0+b/H1qOI/A7jL5ZAUAcTpoIMb4I9tu8X4HRbBTokK+4/XRfGcvq2FzghdFEucgmbRWFm6ACMJoVVpdhfZbtfsoh/SEz/U6H9OkYgUio+X4ORiDSxCaPD0Ytqy7D9pb0GleGbSprE2F7M/8kh/SZZvo7DsvOxmxGw0mzGtDITJvoZF3LgCPlOIebm8t8HLgJm2sWxhfxS+b/hZoIzfNcA/eb79uY7192yGfZFmevPeUo68/YX9/8MPow/cshf6R5Tj1tU74CjCDCNt8/S3NcS9gO29eWUmxLL/P8bm++H0cpmwjN/EOBdJt1XgKGOuQ5CKx0Mu/j5jxNbdIWY9S4K/P9Fq7zJsIy3dkmSm2/zf8FGL9enlZK1cWoHp2jtb5qyaC1PqaU+g8QXdQCtdZblFJ7MQK2b83kJ4D/aa13FFOWJuZrlkP6vzE6bdsaDHwJXFT2d6RtAF5VSgVg9N2IAv6uzU+JWb6flFLHiiiD450/AzACv+UO6/keozPqnRg1doMxLl6rHPJtNP/eCewqYp1g7B//YqZbHChFnlLRWk+2fa+Mu552YNS8Lavg4j8E1iulGmIEcWu01pecVZAopW4H2mHU/ll8AIzBCK7fcZjlF4yLoqMjZSxjlrZvLshRSh3E6CtkcSewTts3QV1SSq0F7irj+qDw+TUYOAFsc3LevAh0w+jA2w3YobU+bVOObKXUF8AjpVhvHPa/5otS1OeiwrTWe5VSXwOzlVJHMT5DfTD624Bx/bFYiHHOfF1Z5SmJ1vqoea17SCl1FSNAHFXMLDEYX+zx5vwHlFLfAw8qpf6mCzetPolxY5Gt7HIUNd72+obRDyyAwtesUxjX+zsxavG7YtQ0f+qwvFUYNaQl+Qm4vRT5iu20r5TyxPiMz9da7y3F8hzn74ZxvfqSa7Xk44BPlVLDbT/jpVxeL4xrVmeH/XpdkwCrctyDUe19GTihtb4C1v4GCjjnZJ7zQEQJy12IcXfQUxi/qAYDfyxhnnDzb5Jtotb6qlIq1SFvKMaHoKhmpAYYv/A9cH4HSJKTNCi8vaHm38PFrMeSzxMjqCsuX1EOY+zvkuSXnKV8tNb5SqlPgVeUUuFaa2fHvrQSMPblVIymrLuLyRtj/v1cXbtF/UeMGsqHKRxgZWitd1agbBbOmqpzMPoDWdSn6M9AsX0Ji+Ds/IrAqBV2xnLehOO8eaOo89jRSYzPeUkq7fwyjcP4EbfefH8Joynwbcx9o5T6HdAduN3mfLA039RVStXTRt+ZCxg1D86OQ32MWsaK+hCj9tAd+EFr7fQHjvlDYhBGvzovs7kQjB+H/wD6Ufiu3oMuOo+LumYVFZxaznvL9dbx+ljacyqD4n80WpQUpDyNcQz/aXO8Lf03/ZVS/lrr4oK01zFq/sbapG1QxrAK84BbzbR0ij5XLNPBuN68B5y2KU8dwN18n621zuE6IwFW5dijtXYWPFiqWxs6mdaQki9eH2LUhIzDOKmzKLlt33KhCLNNNH+FOQYoqRi1Y0Xdwn0Wo9Yrj2sXHFthGF86jhwvBpbAbiDOv5BTbf5ewajqLqo8xdlMMbWCNvpQRB8QF6vQLzetdYFSajlGf7VkrtXk2TF/vd5vvv3FSZYQpVQrrfWhipSnAtIo+jNQZF/CYjg7v45hNC85c9z8e46iz+PS+Bel63D9CEZzYqXQWp8BeitjeIX6GLWOHc3JlnGG2mN8wf7qZBHxGM1fgVrrLKXUcYy+NY7aU7HhRiw+wegbNx5jWIWijMUIwu7n2vlsK4bSDZtSHkVds8bhfB9aghXL9TYU+5rL0p5T0Rh9ZUvyDUZzYlHaY3yezjiZ9jPGdeGWYubvgDG0g6MfMfoNW/yKcR13tv6TWusM830781XohheMz/xUjBrA64oEWFVIa52plPoJGK2UitPmHRpKqQiMX5evlzD/JfML9gmMX58rtNaXSljtaYxq7N9hfCFY3Evh478eoyr8V611kdXqSqmdGHe0xVmqe5VSt2H0R3AWYDnahNF00UxrXdwFcj0wDaintd5ciuU6qvImQkdmIPt7jIvNeRcs8l9AW4xOv0XVjAzH+KKdTeHAMQzjrsKHMTp9V4dvMMYzsv6KNjsJ34VrAt31GOd3htZ6fzH5dgDPKKWaWJoJzU7ew4qZx1Yc1dxEaEsbncDPmp3qn8ZoutpiTl5C4X17C0an42cwmhYt1gIxNrVaKKV6YtQKrnVBOS8opf6OUQuyspisMRhNveOcTJsG3FOKmhhX2YYRRLXUWn9QTL4fMIKz0djfSDC6lOtxSRMhxl2iSxzSBmPstwcp+Zp3vohydME+aFsLPKKUitZafwNgdiW5C+NmFwtnY/j9P4wAejJFt2bUahJgVb0ZGHcRrlNKvYURKM3G+AU5txTzv4UROIDRBFAss9ZjNrBYKfU+xgWtJfAsRlOCrZkYF4itSqk3MH7pB2HcKXOT1vpRM98sjNqTz5RSi4BgjC+b89j3+SiqTEeUUq8AbyhjeIpvMGqqmmL0z1qstU40+52twOiDNc8sWwFGR9ShwDSt9cFi1uOywEkpNQSoi/HLDiDavAstU2v9lZnnfow7577ECGrDMPqEdMbhF7gyRtCP0VqX6Q4zc3tLuisxBqOp4TWbX5C2656K0Ydlpk1/CH+z34WjdFfuR9MLGEHgZvM80BgXfl/geRcsfzlGrdFmpdRcjF/rnkALjGbVkVrrLIymjkkYTR+zMZoy/2T+LbG2UWt9nCKGyCgrpVQ0EMK1mr0oZQw7gdZ6lU2+zUCE1rqlTdokjM/PMXP+GIwx0vpZ+ig5K6tN371ftNa2I2q/ivElvNYMhOphBAvfY9PfTSnV3FznbK11XFm2V2td7HFWSt2K8VmL01pvcTLdGyNguA9jDC2Ldpb95mC31rqorgalKe8lpdRfgDeVUiEYw2JcBBpj1Dpt0Vp/pLXer5T6CHhBGUOC/AT05VrfwmKvj2awWOEmTvOHhd2PC/N4AXxv28Ji3h04E2ihtT5hJr+O0R3FckcwGD/KugO2wwWtBbYDy8z9k44xBIPCJsAs4hhewLgxp9C060ZV9qi/3l+U8i4NjAvDdozOlxcxbjNv45BnC0XcKYLx6+PHMpbtKYxfg1cwPsA9cTLQKEaH+MUYv1JyMaq8N+FwFxzG4HUHML6MfsXod/ZfbO4YpITB/zDu9tqB0ccqA9iHUSNge1eXm1n2X8yyXzT//wdGzVZVHdvjOL+b57hNnm4Y/aSSMJpRL2D02RjkZHmfAudLsd4lmHcRFpMnzixLHYwv6VzgvWLyj8fmTkiKv4twXRn2kdOyOjuXMToDf20e90yM5twuZTwm1u12Ms3bnL7fPEfTMJo34rC/g7czRjPaFfOcn4HRfJVeVedWScfASb7jDml/ND+LV8ztXA38XynWWeTnEyO42WQem3Tz2DreXfx/FHHHoUO+5ma+x0vIpzHvIsSo3cjHCCad5XXDqC3f4rAtRb2iSnkcii0rxg+7RIwfp1kYd4T/C/NOPTOPL0Z/2TTz/F6LUSuqgRFVeV45lH0cTr6fbD5HzR3Sx2IE1enm63vMuzkd8tU390GauU82A51Kec5f13cRWm6XFLWEWeOzDxivtX6vustjYXbgP4xxy/UL1V2emk4ZAxj+P6210/GIRPUwxxf6GfhNa92vustTkynjuYIvYQRBWdVdnppMKfUMxo/C5lrr0nSjENcBaSKsJcwApiVGc+I57Nu3q7osPhjNK18Dv2GMbfNXjF8vi6urXLWFUqoVxvhQzjqRiiqklHoB44fBCYybPh7H6CA+tDrLVUtEYwwDIMGVDaXUcIxuFbswmgR7YfRz+0SCqxuLBFi1x+MY7eQHgQd0MZ3Qq0A+Rl+PNzC+lDIx7j4crSs2DMENQRt375U0xESNYXaaLnbkaG0zrlstW5/G+FxZBtj8H0YfLcdHzwgH2v4W/hrPrJ0srs9jgS7/I4tsXcboJ/ksRr/NMxgDjTqORSiuc9JEKIQoljKen/Z+cXl0GTvrl7C+3pR8q3qkNjpuC1Eq5vATxY01WObO+kIURwIsIUSxlFINMIbgKJJ2zeCOlvX5YzxypDj/01o7Pn9PiCIppTpgNM0X5aw2hroQwiUkwBJCCCGEcLEa1QcrODhYN2/evLqLIYQQQghRop9++uk3rXWIs2k1KsBq3rw5O3e6rKVBCCGEEKLSKKVOFDXNrSoLIoQQQghxI5AASwghhBDCxSTAEkIIIYRwMQmwhBBCCCFcTAIsIYQQQggXkwBLCCGEEMLFatQwDaVx6dIlkpOTycvLq+6iCCFucB4eHoSGhhIQEFDdRRFC1DC1KsC6dOkSSUlJNG7cGB8fH4xnwgohRNXTWpOdnc2ZM2cAJMgSQtipVU2EycnJNG7cGF9fXwmuhBDVSimFr68vjRs3Jjk5ubqLI4SoYWpVgJWXl4ePj091F0MIIax8fHyky4IQopBaFWABUnMlhKhR5JokhHCm1gVYQgghhLg+5eUXcCQlo7qL4RISYAkhhBCiRli76yyD5m8l+dKV6i5KhUmAdQPbsmULSim2bNliTevduze9e/cu03Li4+OZN2+eawsHjBs3jubNm7t8uSVZuXIl/v7+XLlS+z/gjspzfEtSmccpLi6OhISEKl2nEKL6nErP4mqBZt/5y9VdlAqTAEvYeeutt3jrrbfKNE9lBVjVJT4+nkGDBuHt7V3dRakVZsyYwWeffVYpy549e7bTAKsy1ymEqD7pmbkAHLwOAqxaNQ6WuCYnJwcvLy+XL7d9+/YuX2Ztkpuby1dffcWbb75ZKcuvrONWHSzb0qJFiypfd3WsUwhR+VItAVZS7Q+wpAarGsXFxaGUYvfu3fTp0wdfX1/Cw8OZOXMmBQUF1nyWprzVq1czfvx4QkJCCAsLs05ftGgRnTp1wtvbm+DgYB577DHS0tLs1pWSksIDDzxAQEAAgYGBPPzww1y4cKFQmZw1IaWkpPCHP/yBpk2b4uXlRdOmTXnooYfIyclh3LhxfPDBB5w5cwalFEopu6ablJQUJk6cSOPGjfHy8qJt27YsWrSo0Ho3b95M586d8fb2pkWLFrzzzjvl3KswefJkWrZsaZd22223oZTi8OHD1rTp06cTFhaG1tqalpCQQFZWFsOHD7em/fDDD/Tv3x8/Pz/q1q1Lv379+OGHH0osh+X47tmzh0GDBuHn58fvfvc7ALKyspg2bRqRkZF4enoSGRnJSy+9ZHfcAX7++Wd69eqFj48PTZs2Zc6cOcyaNcvuzrXjx4+jlGLJkiV28zprAnZ05coVpk6dys0334yfnx8NGzbkrrvuYv/+/Xb5lixZglKKrVu3Mnr0aAIDA+natStQuLmuefPm1nPB8WWxceNGhg4dSnh4OL6+vtx8883MnTuX/Px8ax5L/pdeesk6f1xcnNN1Apw7d46HH36Y4OBgvLy86NixI8uWLXO6HTt27GDs2LEEBATQqFEjpkyZcl02CQtR26RdRwHWdVGDNfvzX9l79lK1lqF9owBm3fV/5Zp35MiRPProozz33HNs2LCBF154ATc3N+uXicXkyZMZMmQIS5cutX4ZPPvss8ydO5cpU6bw6quvcubMGWJjY9mzZw/btm3D3d0dgFGjRvHLL78wZ84cWrVqxccff8zkyZNLLFt6ejrdu3cnLS2N2NhYOnbsSHJyMmvWrCE3N5cZM2aQkpLCjz/+yNq1awGsNTSXLl2iZ8+eZGdnExcXR2RkJBs2bGDSpEnk5ORY179v3z6GDh1KVFQUK1euJCcnh7i4ODIyMqzlL4s+ffrwxhtvcPLkSZo1a0Z6ejq7du3Cx8eHhIQEa/CVkJBA79697b744+PjiY6OJjAwEID//e9/REdH0759e+uX88svv0x0dDQ7duygU6dOJZZnxIgRPPbYY0ybNg03NzeuXr3KoEGD2Lt3LzNmzKBDhw7s2LGDF154gbS0NObOnQvAb7/9Rr9+/WjUqBEffPABnp6ezJ8/n+PHj5d5nxQlJyeHy5cvExsbS3h4OGlpabz11lvccccd7Nu3j4YNG9rlHzt2LPfffz+rVq3i6tWrTpf52WefkZOTY32fkZHBAw88QIMGDaxpR48epV+/fkyePBlvb2927txJXFwcKSkpvPzyywBs376dO+64g3HjxvHEE08A0KRJE6frzMzMJDo6mvT0dObMmUPTpk1ZtmwZDz30EFlZWUyYMMEu/0MPPcT999/P6tWr2b59O3FxcQQFBTF79uyy70QhhMtYAqxDyRkUFGjc3GrvMCjXRYBV240fP55nn30WgIEDB3Lp0iXmzp3L008/bf2iB+jSpQuLFy+2vj9+/Divvvoqs2bNYubMmdb01q1b07NnTz7//HNGjhzJpk2b+O6771ixYgVjxowBYNCgQQwZMoTTp08XW7b58+dz9OhRdu7cya233mpNv//++wHw9/cnJCQET09PunXrZjfvggULOHHiBLt376ZVq1YA9O/fnwsXLjB79mwmTZpEnTp1ePHFF/H392fjxo3UrVsXgO7du9OiRQsaNWpU5v1pCZoSExOJiYnhm2++ISAggFGjRpGYmMiECRPIyMhg586dxMTEWOfTWrN27Vr+9re/WdOef/55vLy82Lx5s/VYDBgwgObNmzN79mxWr15dYnmmTJnCU089ZX2/dOlSvvvuO7755hvuvPNOAPr16wcYfY6mTZtGaGgo8+bNIysriw0bNlgDi0GDBrm0c3e9evXszqn8/HwGDRpEWFgYK1asYOrUqXb577vvPv7xj38Uu0zb86SgoICRI0eiteaLL76wpk+cONH6v9aaXr16kZuby2uvvcacOXNwc3Oznk+NGzcudG45ev/99zl06BCJiYnWGtghQ4aQlJREbGwsjz32mF2w/sADD1iDqf79+/P999+zYsUKCbCEqGZpmbl41nEjKzefMxeyaVrft7qLVG7XRYBV3pqjmsLSbGQxZswYFi9ezJ49e+jZs6c1/Z577rHLt2nTJgoKChg7dqxdbULXrl3x9/dn69atjBw5ku3bt+Pu7s69995baD3r168vtmwbN27k9ttvt/vSLK3169fTtWtXIiMj7co3aNAgFi9ezN69e+nYsSPbt29n6NCh1uAKoGnTpvTo0YNjx46Veb3169enU6dOJCQkEBMTQ0JCAtHR0fTv398aMGzdupWrV6/Sp08f63zff/89586dY+TIkda0rVu3Mnz4cLtANyAggLvvvpvPP/+8VOVxPG7r168nIiKC7t272+2XgQMHEhsby44dO7j77rvZsWMH3bp1s6u18fHxYdiwYbz//vtl2ynF+OSTT5g7dy4HDhzg4sWL1vQDBw6UuC0lmTZtGhs3bmTz5s3cdNNN1vRz584RFxfH+vXrOXv2rN1+SE5OLlRzVpKtW7fSuHHjQs3bDz74II888gh79+6lQ4cO1vRhw4bZ5evQoQNff/11mdYphHAtrTXpWbl0bhbE98fSOJh0WQIsUTG2/als31seImsRHh5u997y/DPH/kYWqampgPFlFhQUhIeHR7HrLWoZpWkGcyY5OZnDhw8XWq+z8jkrS1hYWLkCLDCaCVetWgVAYmIijz/+OH369CEpKYm9e/eSmJhIo0aNaNOmjXWe+Ph4brvtNruAJi0trdB+B2jYsCHp6emlKouz43bixIlS7Zebb7650PTSHLfS+vzzz/n9739PTEwMs2bNIjg4GDc3N4YOHeq0T5KzfVGU9957j7lz57Js2TJ69OhhTS8oKODuu+/m7NmzxMXF0bZtW3x8fIiPj+ell14qV1+o4o6TZbqt+vXr27338vKya9YUQlS9S1eukpev6XpTA74/lsaBpMv0a+e6611VkwCrBkhKSrL7dZ+UlAQYTSO2HB/JYenTsnHjRoKCggot1zI9PDyc9PR08vLy7L7ULespTnBwcKFAr7QaNGhAaGgoCxYscDrdEtyEh4c7LUtpyleUPn36MH/+fLZt28avv/5K3759adiwIe3atSMhIYGEhAS72iswAqwHH3zQLq1+/fqcP3++0PLPnz/vdJ874+y4RUZG8sknnzjNb2kCDA8Pd/oQYcf9YhlOIjc31y7dEqgVZ+XKlbRs2dKug3xeXl6hgMSitI+F+eabb5g0aRIzZ87kgQcesJt25MgRdu7cydKlS+32d2lrBJ2pX7++0xo3y7FzDKiEEDWPZYiGiPq+NKrnzaGk2j2iu9xFWAM4ftGuXLkSPz8/uyYNZwYMGICbmxsnT54kKiqq0CsyMhKAO+64g/z8fP79738XWk9JBg4cyA8//MAvv/xSZB4vLy+ys7MLpQ8ePJj9+/fTrFkzp+Xz9/e3lu/LL78kMzPTOu+pU6f4z3/+U2L5ihIdHY27uzszZ84kODjYWhoC4SwAACAASURBVBPUt29fVq9eza5du+wCrP3793PgwAG75kHLcr788ksuX752R8vly5f5/PPPyz1g5+DBgzl16hR+fn5O90twcDAA3bp1Y/v27Xb95LKzs+36MoFRo+Xl5cWePXvs0h3zOZOVlUWdOva/s5YuXWp3N19ZHT58mFGjRjF69OhCN2pY1gnYBft5eXksX768UF5PT0+n55aj6OhoTp8+Xeic+eijjwgNDb3hhx8RojawDNFQ38+T1g39OVDLx8KSGqwa4N1336WgoIDbb7+dDRs2sHjxYuLi4qhXr16x87Vo0YJp06bxxz/+kQMHDhAdHY23tzenTp1i06ZN1maxAQMG0LNnT5544gl+++03612Ejl/IzkydOpWPPvqI/v37ExsbS4cOHfjtt99Ys2YNb7/9Nv7+/rRv3560tDQWLlxIVFQU3t7edOjQgalTp/Lxxx/Tq1cvpk6dSps2bcjMzGT//v18++23rFmzBoDY2Fg+/fRTBg4cyF/+8hdyc3OJi4tz2hTWu3dvjh8/XuKddAEBAXTu3JnNmzczevRoa81Lnz59rGNc9e3b15o/Pj6eli1bFmqSmzFjBuvWraNfv35MmzYNpRSvvPIKWVlZdjcWlMXYsWN5//336devH3/+85/p1KkTubm5HDlyhLVr1xIfH4+vry9/+tOfWLhwIYMGDWLWrFl4eXkxb948vLy87GqSlFL8/ve/57333qN169a0adOGL774otjhGSwGDx5MfHw8U6dOZfjw4ezcuZPXX3/drs9ZWQ0fPhxfX18mTJjAjh077KZ169aNdu3aERERwfTp03F3d8fDw4P58+c7XVb79u354osvGDx4MEFBQTRq1MjpjQ/jxo1jwYIFjBo1ipdeeokmTZqwfPlyNm3axDvvvFOuu1GFEFXLcgdhg7qetA7zZ9uRVPILNO619U5CrXWNed122226OHv37i12em0za9YsDejdu3fr3r17a29vbx0WFqZjY2N1fn6+NV9iYqIG9KZNm5wu58MPP9Rdu3bVvr6+um7durpt27b6ySef1KdOnbLmSU5O1mPGjNF+fn66Xr16+qGHHtLx8fEa0ImJidZ80dHROjo62m75SUlJevz48bphw4baw8NDN2nSRD/88MP6ypUrWmutMzIy9JgxY3RgYKAGdEREhHXetLQ0/fTTT+vmzZtrDw8PHRISonv27Knnz59vt45NmzbpW265RXt6eurIyEj99ttv65iYGLtlaa11VFSU7tq1a6n271//+lcN6IULF1rTUlNTtVKq0HK7du2q//znPztdzo4dO3S/fv103bp1ta+vr+7bt6/+/vvvS1y/5fjm5eUVmpadna1nzZql27Rpoz09PXVQUJCOiorSs2bNssv/008/6R49emgvLy/dqFEj/fzzz+spU6bowMBAu+Wlp6frBx98UDdo0EAHBQXpJ554Qq9bt67E45ufn6+nT5+uw8PDtY+Pj77zzjv1zz//rCMiInRMTIw13/vvv68BfejQoULb4nicgCJfFv/97391jx49tI+Pj27cuLGeMWOGfvfddzWgjx07Zs333Xff6c6dO2svLy8N6FmzZjldp9Zanz171roPPD09dYcOHfTSpUvt8hS1HZZjVV7X27VJiOqw8ocTOmLaOn0qLVN/uvOUjpi2Th9JvlzdxSoWsFMXEdMobTPIYnWLiorSO3fuLHL6vn37aNeuXRWWqHLFxcUxe/Zs8vLyCjXTiMIyMzMJDAxk+fLlhe68rIhz587RuHFjtm7danfXZk2Un59P586dCQ4OZvPmzdVdHGG63q5NQlSHhVuO8Mr6/ex9fhCHkzO4+43/8PaDnRl8c+lvrqlqSqmftNZRzqbJt7qoNbZt20bLli257777XLrc8PDwQiOo1xQzZsygZcuWREREkJqayuLFi/nf//7Hl19+Wd1FE0IIl0rLzMHbww1fzzq0DPVDKTiYlMHgwjdT1wqlDrCUUv8ChgPJWuubzbT6wMdAc+A48DutdboyOogsAIYCWcA4rfXPri26uNEMGDCAffv2VXcxqpRSiueff56zZ8+ilKJjx47Ex8czZMiQ6i6aEEK4VGpmLg3qGk8C8fWsQ9MgXw7U4kfmlOUuwiXAYIe0Z4HNWutWwGbzPcAQoJX5mgAsrFgxr09xcXForaV5UBTp+eef58iRI2RnZ5OVlcWOHTsYMWJEdRdLCCFcLj0zl/p1Pa3vW4f5c+hGCLC01lsBx8FxRgAfmP9/AIy0Sf/Q7AO2AwhUStXcRlQhhBBCVKu0zFyC7AIsP46mZJJ7tWZ24ShJRcfBCtNanzP/Pw9Y7qtvDJyyyXfaTBNCCCGEKMRoIrwWYLVp6M/VAs3x1Mxi5qq5XDbQqHm7YplvSVRKTVBK7VRK7UxJSXFVcYQQQghRi6Q5NBG2CjUGo66tA45WNMBKsjT9mX8tz/U4AzS1ydfETCtEa71Iax2ltY4KCQmpYHGEEEIIUdtcycsnKzffLsC6KaQu7m6q1vbDqmiAtRaIMf+PAdbYpD+sDN2AizZNiUIIIYQQVpZR3G0DLG8PdyIa1N47CcsyTMMKoDcQrJQ6DcwCXgY+UUo9BpwALKM/fokxRMNhjGEaHnFhmYUQQghxHXEWYAG0Cau9zyQsdYCltb6/iEn9nOTVwJPlLZQQQgghbhypNs8htNUqzJ8Nv57nSl4+3h6165miLuvkLmqfLVu2oJSyeyhw79696d27d5mWEx8fz7x581xbOIwH+DZv3tzlyy2K47bv2rWLuLg40tIcRycxBgCNjY2tsrJVtubNmzNu3DiXLrM851JpXLhwgbi4OH7+ufDYxZW1TiFE5Uo3A6wgJzVYBRqOpGRUR7EqREa4FHbeeuutMs8THx/P119/zZ/+9KdKKFHVcdz2Xbt2MXv2bB588EHq169fTaWqvcpzLpXGhQsXmD17Nk2aNKFz585Vsk4hROUqqgardZgfAAeTLvN/jepVebkqQgKsWionJwcvLy+XL7d9+/YuX2ZtUZ3bXlnHszpYtqU69ueNfP4KUZulZebg7qYI8PawS28eXBcPd8XBpNpXgyVNhNUoLi4OpRS7d++mT58++Pr6Eh4ezsyZM+0ePmxpylu9ejXjx48nJCSEsLAw6/RFixbRqVMnvL29CQ4O5rHHHivUrJWSksIDDzxAQEAAgYGBPPzww1y4cKFQmZw1saSkpPCHP/yBpk2b4uXlRdOmTXnooYfIyclh3LhxfPDBB5w5cwalFEopu2a9lJQUJk6cSOPGjfHy8qJt27YsWrSo0Ho3b95M586d8fb2pkWLFrzzzjvl3KswefJkWrZsaZd22223oZTi8OHD1rTp06cTFhaG0WXQftuXLFnCI48Y92a0atXKum3Hjx+3W+4///lPIiMj8ff3Jzo6ml9//bXE8o0bN44mTZqwfft2unfvjo+PD3/961+B0u+vr7/+mltvvRVvb29atmzJ4sWLCzWpOmsCtmybs22xlZKSwhNPPEHr1q3x9fWladOmPPDAA5w5Yz/aiuUc3rNnD4MGDcLPz4/f/e53hfYnYN2Hji/bMq9cuZK+ffsSEhKCn58ft956Kx988IF1+vHjx4mMjARg/Pjx1mUsWbLE6ToBDhw4wD333ENgYCA+Pj5069aN9evXO92OQ4cOMWzYMPz8/IiIiOD555+vsQ8CF+J6kpaZR5CvJ25uyi7dw92Nm4L9OFgLO7pfHzVYXz0L53dXbxkadoAhL5dr1pEjR/Loo4/y3HPPsWHDBl544QXc3NyIi4uzyzd58mSGDBnC0qVLuXLlCgDPPvssc+fOZcqUKbz66qucOXOG2NhY9uzZw7Zt23B3NzoFjho1il9++YU5c+bQqlUrPv74YyZPnlxi2dLT0+nevTtpaWnExsbSsWNHkpOTWbNmDbm5ucyYMYOUlBR+/PFH1q5dC2Ctibl06RI9e/YkOzubuLg4IiMj2bBhA5MmTSInJ8e6/n379jF06FCioqJYuXIlOTk5xMXFkZGRYS1/WfTp04c33niDkydP0qxZM9LT09m1axc+Pj4kJCRYg6+EhAR69+6N8Wxye8OGDSM2NpYXX3yRTz/9lCZNmgAQHn7tiU/Lli2jTZs2LFiwgNzcXP7yl78wYsQI9u/fX+LzJS9evMiYMWN45plnmDNnDj4+PqXeX3v37mXYsGF06dKFlStXkpubywsvvMDFixdxc3PNb6a0tDS8vb35+9//TkhICGfPnmXu3Ln06NGD/fv34+3tbZd/xIgRPPbYY0ybNq3IMmzfvt3u/blz5xg7dizt2rWzph09epT77ruPZ599Fjc3N7Zu3crjjz9OdnY2EydOJDw8nNWrVzNq1Ciee+457r77bgBatGjhdJ1nz56lZ8+e+Pv788Ybb1CvXj3efPNNhg0bxrp16wo9NPuee+7hkUceYerUqXz++efMmjWLpk2bWoNtIUTlSMvMoX5dD6fTWjf0578n06u4RBV3fQRYtdz48eN59lnjOdkDBw7k0qVLzJ07l6effprAwEBrvi5durB48WLr++PHj/Pqq68ya9YsZs6caU1v3bo1PXv25PPPP2fkyJFs2rSJ7777jhUrVjBmzBgABg0axJAhQzh9+nSxZZs/fz5Hjx5l586d3Hrrrdb0++83bir19/cnJCQET09PunXrZjfvggULOHHiBLt376ZVq1YA9O/f39qHZtKkSdSpU4cXX3wRf39/Nm7cSN26dQHo3r07LVq0oFGjRmXen5agKTExkZiYGL755hsCAgIYNWoUiYmJTJgwgYyMDHbu3ElMTIzTZYSEhFi/tG+55ZZCNWIAHh4erFu3Dg+PaxeF0aNH88MPP9C9e/diy5iRkcGyZcvsHtz8wgsvlHp/BQQEsGHDBnx9fQHo1asXkZGRNGzYsGw7qwiWwNEiPz+fHj160KxZM7766ivuueceu/xTpkzhqaeeKnaZtudHdnY2U6ZMoXHjxixbtsya/re//c36f0FBAb179+bcuXMsXLiQiRMn4uXlZT0Pb7rppkLnnKN58+aRnp7O9u3brcdw6NChtG/fnunTpxcKsP785z9bg6n+/fuTkJDAihUrJMASopI5juJuq3WoH5//cpbMnKvU9ao9YUvtKWlxyllzVFNYmlQsxowZw+LFi9mzZw89e/a0pjt+qW3atImCggLGjh3L1atXreldu3bF39+frVu3MnLkSLZv3467uzv33ntvofU4NpU42rhxI7fffrtdcFVa69evp2vXrkRGRtqVb9CgQSxevJi9e/fSsWNHtm/fztChQ63BFUDTpk3p0aMHx44dK/N669evT6dOnUhISCAmJoaEhASio6Pp378/U6dOBWDr1q1cvXqVPn36lHn5FgMGDLALrjp06ADAyZMnSwywPDw8GD58uF1aaffXjh07GDp0qDW4AqNmrXv37hw9erTc2+No4cKFvP322xw5coTMzGvPAjtw4EChvI7nZnG01sTExHDkyBG2b99OgwYNrNMOHTrEzJkz2bp1K+fPn7c2z5W3f9rWrVvp1q2bXYDs7u7O/fffz/PPP8+lS5cICAiwThs2bJjd/DfffDP//e9/y7VuIUTppWbm0q5hgNNprRsaj8w5lJzBLU0Dneapia6PAKuWs+1PZfvesb+LbfMUQHKy8WQiZ7UrAKmpqYDRFBMUFGQXDDhbb1HL6NSpU4n5nElOTubw4cOF1uusfM7KEhYWVq4AC4xmwlWrVgGQmJjI448/Tp8+fUhKSmLv3r0kJibSqFEj2rRpU67lA4XuLLQEAZbm2+KEhIQUav4sy/4KDQ0tND0sLMxlAdbrr7/OlClT+NOf/sSrr75KUFAQBQUFdOvWzen2OZ6bxZk5cybx8fFs3LiR1q1bW9MzMjIYMGAAvr6+vPzyy7Ro0QJPT08WLlzIv/71r3JtR1pamtMfBw0bNkRrTXp6ul2A5eyYluZ4CiEqJj0zl6CimgjDjADrYNJlCbBE2SQlJXHTTTfZvQdo3LixXT7HvkKWX/4bN24kKCio0HIt08PDw0lPTycvL8/uy9uynuIEBwcXCvRKq0GDBoSGhto1NdmyBDfh4eFOy1Ka8hWlT58+zJ8/n23btvHrr7/St29fGjZsSLt27UhISCAhIaFCtVcV5azfV1n2lyW4tuW4vyz9pHJzc+3SLYFacVauXEm/fv2YO3euNa24YNfZ9jjz0Ucf8dJLL/Gvf/2rUGf07du3c+LECb799lu7mlvb2ryyql+/PufPny+Ufv78eZRSTj83QoiqlV+guZCdR/26zmuqm9X3xauOW63r6C53EdYAn3zyid37lStX4ufnZ21yKsqAAQNwc3Pj5MmTREVFFXpZ7ra64447yM/P59///neh9ZRk4MCB/PDDD/zyyy9F5vHy8iI7O7tQ+uDBg9m/fz/NmjVzWj5/f39r+b788ku7ZqhTp07xn//8p8TyFSU6Ohp3d3dmzpxJcHAwN998MwB9+/Zl9erV7Nq1q8QAy1Ij5WzbKkNp91e3bt348ssvycrKss577ty5QvsrIiICgD179tilf/HFFyWWJSsrq1BN2vvvv1+u7bLYvn07jz76KM8++6zTQU0t22O73vT0dNasWWOXryzHJTo6mh07dtjdMZmfn8/HH3/Mrbfeald7JYSoHulZuWhdeAwsC3c3RaswPw4m166hGqQGqwZ49913KSgo4Pbbb2fDhg0sXryYuLg46tUrflC1Fi1aMG3aNP74xz9y4MABoqOj8fb25tSpU2zatMnaLDZgwAB69uzJE088wW+//Wa9i9Dxi9eZqVOn8tFHH9G/f39iY2Pp0KEDv/32G2vWrOHtt9/G39+f9u3bk5aWxsKFC4mKisLb25sOHTowdepUPv74Y3r16sXUqVNp06YNmZmZ7N+/n2+//db6xRkbG8unn37KwIED+ctf/kJubi5xcXFOmw179+7N8ePHix1iACAgIIDOnTuzefNmRo8eba1h6dOnD2+++SZgBFvFsYyp9OabbxITE4OHhwcdO3bE09P5RaCiyrK/Vq1axaBBg3jmmWfIycnhhRdeICwszO4OvvDwcKKjo/n73/9OcHAwoaGhLFu2rFTNiIMHD+aVV15hzpw5dOnShYSEBGuTa3lcunSJkSNH0rZtW+666y527NhhnWbpuN69e3cCAgJ48sknmT17NpmZmbz44osEBwdz8eJFa/6wsDAaNGjAypUr6dixI3Xr1iUyMtKuL5ftPl2yZAkDBgxg9uzZBAQE8NZbb3Hw4MFSBZpCiMpX1HMIbbUO9WfbkZJr32sUrXWNed122226OHv37i12em0za9YsDejdu3fr3r17a29vbx0WFqZjY2N1fn6+NV9iYqIG9KZNm5wu58MPP9Rdu3bVvr6+um7durpt27b6ySef1KdOnbLmSU5O1mPGjNF+fn66Xr16+qGHHtLx8fEa0ImJidZ80dHROjo62m75SUlJevz48bphw4baw8NDN2nSRD/88MP6ypUrWmutMzIy9JgxY3RgYKAGdEREhHXetLQ0/fTTT+vmzZtrDw8PHRISonv27Knnz59vt45NmzbpW265RXt6eurIyEj99ttv65iYGLtlaa11VFSU7tq1a6n271//+lcN6IULF1rTUlNTtVKq0HKL2va4uDjdqFEj7ebmpgF97NgxrbXWgJ4+fbpd3mPHjmlAv//++8WWKyYmRjdu3NjptNLur40bN+pOnTrZ7a+RI0fqW265xS7fqVOn9PDhw3W9evV0WFiYfu655/S7775rty1aax0REaFjYmKs77OysvTEiRN1cHCw9vPz08OGDdNHjx7VgJ41a5Y1n+UczsvLK7QttvvTsm+cvWyPxebNm/Utt9yivb299U033aQXLFhgXYetzz77TLdr107XqVPHbp87O4b79+/XI0aM0AEBAdrLy0t37dpVf/XVV3Z5itoOZ+egM9fbtUmIqrT9yG86Yto6/d2hlCLzLNxyWEdMW6cvZOVWYclKBuzURcQ0SpuDLNYEUVFReufOnUVO37dvn92YObVdXFwcs2fPJi8vr8RxkwRkZmYSGBjI8uXLC915eaPLyMigZcuWDBs2jPfee6+6i3PDud6uTUJUpS93n+MPy3/mq6d60S7cebN9wv4kHl2yk1UT7yCqec15dJlS6ietdZSzafKtLmqNbdu20bJlS+67777qLkq1mzx5Mt27d6dRo0acPXuWBQsWkJ6eXuJYVEIIUdMU9RxCW9fuJMyoUQFWcSTAErXGgAED2LdvX3UXo0a4cuUK06ZNIykpCU9PT7p06cLXX39Nx44dq7toQghRJmkZRoAVVEyA1TjQh7qe7hxMqj13EkqAVY3i4uIKPQ5HiNJ49913q7sIQgjhEulZufh718HDveiBDZRStArzr1UBlgzTIIQQQohqk5qZW2zzoEXrMD8JsIQQQgghSsN40HNpAix/fsvIJTUjpwpKVXESYAkhhBCi2qRl5pU6wAKjo3ttIAGWEEIIIapNaWuw2jS89kzC2kACLCGEEEJUC601aZm5RT6H0FaovxcB3nUkwBJCCCGEKM7lnKvk5etSdXJXStGmYe25k1ACLCGEEEJUi/TMksfAsmUM1ZBBTXoKTVEkwKpm8fHxzJs3r7qLIYQQQlS50ozibqtNmD8Xs/NIvlzz7ySUAKuaSYAlhBDiRmUZxb00ndwBWoX5AbWjo7sEWLVETk7Nj9aFEEKIskjLLFuA1cYcquHAeQmwRDHGjRvHBx98wJkzZ1BKoZSiefPmbNmyBaUUq1evZvz48YSEhBAWFmadp3nz5oWW1bt3b3r37m2XlpKSwsSJE2ncuDFeXl60bduWRYsWVcGWCSGEECVLyypbgNXAz4sGdT05VAvGwpJnES5fDtOnw8mT0KwZvPQSjB1bJaueMWMGKSkp/Pjjj6xduxYALy8vLl68CMDkyZMZMmQIS5cu5cqVK2Va9qVLl+jZsyfZ2dnExcURGRnJhg0bmDRpEjk5OUyePNnl2yOEEEKURVpmLl513PD1dC/1PK3D/DlQC5oIb+wAa/lymDABsrKM9ydOGO+hSoKsFi1aEBISgqenJ926dbOmb9myBYAuXbqwePHici17wYIFnDhxgt27d9OqVSsA+vfvz4ULF5g9ezaTJk2iTp0b+/ALIYSoXqkZxnMIlVKlnqd1mB+rfjqN1rpM81W1G7uJcPr0a8GVRVaWkV4D3HPPPeWed/369XTt2pXIyEiuXr1qfQ0aNIjU1FT27t3rwpIKIYQQZZeelUt9v9I1D1q0buhPZm4+Zy5kV1KpXOPGrsI4ebJs6VUsPDy83PMmJydz+PBhPDw8nE5PTU0t97KFEEIIV0jNzCXIt4wBltnR/VBSBk2CfCujWC5xYwdYzZoZzYLO0msAZ1Wf3t7e5ObmFkpPTU2lQYMG1vcNGjQgNDSUBQsWOF12mzZtXFdQIYQQohzSMnOIbFC2IKl1qHknYdJl+rQNrYxiucSNHWC99JJ9HywAX18jvYp4eXmRnV36as6IiAiSkpJISUkhJCQEgCNHjnDgwAG6d+9uzTd48GBef/11mjVrRmhozT0BhRBC3LjSMkr3HEJb9Xw9CAvwqvFjYd3YfbDGjoVFiyAiApQy/i5aVGV3EQK0b9+etLQ0Fi5cyI8//sju3buLzT969GiUUjz44INs2LCB5cuXM2LECIKDg+3yTZ06ldDQUHr16sXbb79NYmIi69at47XXXmPEiBGVuUlCCCFEia7k5ZOZm0/9us67shSndVjNfybhjV2DBUYwVYUBlaPHH3+cHTt28Le//Y0LFy4QERHBkiVLiszfsmVLVq1aRWxsLCNHjqR169bMmzePOXPm2OWrV68e27Zt4/nnn+eVV17hzJkzBAYG0qZNG+69995K3iohhBCieOnWMbDKVoMFxoCjy74/QX6Bxt2tZt5JKAFWNatbty4rVqwolF7cgyxHjhzJyJEj7dIGDhxYKF9QUBDz589n/vz5FS+oEEII4UKpZXxMjq3WYf5cySvgVFoWzYPrurpoLnFjNxEKIYQQolpYHpPToIzDNIAxVANQowcclQBLCCGEEFXO0kRY1mEaAFqFGg99PiQBlhBCCCHENZYmwgblaCKs61WHJkE+HKjBzySUAEsIIYQQVS4tMxd3N0U9n7LfRQhGP6zrvgZLKTVVKfWrUmqPUmqFUspbKRWplPpeKXVYKfWxUqrsIaoTxXX+FkKIqibXJCHKJy0rlyBfD9zKeRdg6zB/jqRkkJdf4OKSuUaFAyylVGNgChCltb4ZcAfGAK8A87XWLYF04LGKrsvDw6NMg3IKIURly87OLvKRVEKIoqVllP0xObZah/mRl685kZrpwlK5jquaCOsAPkqpOoAvcA7oC6wyp38AjCxi3lILDQ3lzJkzZGVlya9GIUS10lqTlZXFmTNn5GkJQpRDWmZuuYZosLA8k/DA+ZrZD6vC42Bprc8opV4DTgLZwEbgJ+CC1vqqme000NjZ/EqpCcAEgGYlPAMwICAAgLNnz5KXl1fRogshRIV4eHgQFhZmvTYJIUovNTOHNuZwC+XRMtQPNwUHky4zjHAXlsw1KhxgKaWCgBFAJHAB+BQYXNr5tdaLgEUAUVFRJVZLBQQEyMVMCCGEqOXSs/Iq1ETo7eFORIO6NfaROa5oIuwPHNNap2it84DVQA8g0GwyBGgCnHHBuoQQQghRy+UXaNKzcss1RIOtVqF+13WAdRLoppTyVUopoB+wF0gE7jPzxABrXLAuIYQQQtRyF7Jy0bp8j8mx1aahP8dTs8i5mu+ikrlOhQMsrfX3GJ3ZfwZ2m8tcBEwD/qSUOgw0AN6r6LqEEEIIUftZHpNT36/sD3q21SrMn/wCzdGUmncnoUse9qy1ngXMckg+CnRxxfKFEEIIcf2wBlgV6IMF0Ma8k/Bg0mXahdes/tkykrsQQgghvwWOZwAAIABJREFUqpQ1wKpgE2FkcF3quKka2Q9LAiwhhBBCVKlUM8Bq4FexAMuzjhuRwXVr5FhYEmAJIYQQokqlmwFWRYZpsGgd5s+hZKnBEkIIIcQNLjUzF3+vOnjWqXgY0jrMn5NpWWTlXi05cxWSAEsIIYQQVSotM5f6FWwetGgd5ofWcDi5ZjUTSoAlhBBCiCpV0ecQ2mrd0HInoQRYQgghhLiBpWXmVniIBouI+r54urvVuDsJJcASQgghRJVyZQ1WHXc3WtTAR+ZIgCWEEEKIKqO1dmkfLIA2YX4cPC8BlhBCCCFuUBk5V8nNL6jwg55ttQrz5+zFK1y+kueyZVaUBFhCCCGEqDLpmUYQ5IoxsCyuPTKn5nR0lwBLCCGEEFUmNTMHqPgo7rZamwHWoRrUD0sCLCGEEEJUmWvPIfRy2TKbBPng4+HOAQmwhBBCCHEjsgRYruyD5eamaBXmxyFpIhRCCCHEjcgSYAW5MMACo5lQarCEEEIIcUNKy8zFs44bdT3dXbrc1mF+pFzOsT5IurpJgCWEEEKIKpOamUuDup4opVy63NbWOwlrRi2WBFhCCCGEqDLpLhzF3ZY1wKohD32WAEsIIYQQVSa1kgKs8Hre+HvVqTEjukuAJYQQQogq48rnENpSyriTUJoIhRBCCHHDqawAC6BNQ38OJl1Ga10pyy8LCbCEEEIIUSVyruaTkXOV+i58TI6tVqH+pGflkZKRUynLLwsJsIQQQghRJSzPIazvwsfk2GrT0PLInOrv6C4BlhBCCCGqhPU5hJXURNgqzA+AAzWgo7sEWEIIIYSoEpXxHEJbIX5eBPl6cChZAiwhhBBC3CCuBVgelbJ8405Cf6nBEkIIIcSNo7JrsADahPlzKCmj2u8klABLCCGEEFUiLTMXNwWBPpVTgwXQ+uQ+Ludc5VxgGDRvDsuXV9q6iiMBlhBCCCGqRFpmLkG+nri5ufY5hFbLl9P69VcAONigKZw4ARMmVEuQJQGWEEIIIapEWmYuQZV0ByEA06fT+vRBAA6GRBhpWVkwfXrlrbMIdap8jUIIIYS4IVXWcwitTp4kSGtCMtI4GNzMLr2qSYAlhBBCiCqRlplLq1C/yltBs2Zw4gSrlz5DWEaafXoVkyZCIYQQQlSJ9MpuInzpJfD1pemlZDwLrhppvr5GehWTGiwhhBBCVLqCAk16Vm6ljeIOwNixxt8PnoF9KeDexAiuLOlVSGqwhBBCCFHpLmTnUaCp3D5YAPfdDb3yYdGf4fjxagmuQAIsIYQQQlSBNPM5hJUeYB3aCPk50H5E5a6nBBJgCSGEEKLSpWXmAVUQYO1dA35h0LRr5a6nBBJgCSGEEKLSVUkNVm4mHNoE7e4CN/fKW08pSIAlhBBCiEqXaj6HsEElPoeQw19DXla1Nw+CiwIspVSgUmqVUmq/UmqfUuoOpVR9pdQmpdQh82+QK9YlhBBCiNon3QywgupW3nMI2bsGfIOhWffKW0cpuaoGawGwXmvdFugE7AOeBTZrrVsBm833QgghhLgBpWbm4udVB686ldR0l5cNBzdA22HgXv2jUFU4wFJK1QPuBN4D0Frnaq0vACOAD8xsHwAjK7ouIYQQQtROaZX9mJwjCZCbUSOaB8E1NViRQArwvlLqv0qpxUqpukCY1vqcmec8EOaCdQkhhBCiFqr0AGvvWvAOhMg7K28dZeCKAKsO0BlYqLW+FcjEoTlQa60B7WxmpdQEpdROpdTOlJQUFxRHCCGEEDVNpQZYV3PgwFfQdji4V2IfrzJwRYB1Gjittf7efL8KI+BKUkqFA5h/k53NrLVepLWO0lpHhYSEuKA4QgghhKhpKjXAOvoN5FysMc2D4IIAS2t9HjillGpjJvUD9gJrgRgzLQZYU9F1CSGEEKL20VqTmlmJzyHcuwa86sFN0ZWz/HJwVTf7ycBypZQncBR4BCN4+0Qp9RhwAvidi9YlhBBCiFokMzef3KsFlVODlZ8H+9dBm8FQpxLH2CojlwRYWutdQJSTSf1csXwhhBBC1F7XxsCqhADr2Fa4cqFGNQ+CjOQuhBBCiEp2bRT3Sgiw9q4BTz9o0df1y64ACbCEEEIIUakq7TmE+Vdh/xfQehB4+Lh22RUkAZYQQgghKlVaZh5QCc8hPLkNsn6rcc2DIAHW/2/vvsOjKtM+jn+fSe8hjSRACBBCQgcRVARpAmLvBV1dRV67rrprYV1xlXVd195W7CUWEBWsIKiAIkhvSQg1BEhIb5Myyczz/nEmJMEAKTOZDLk/1zXXzJw5c87NAMlvnvMUIYQQQjhZXQuWw9chTF0IXv6QcLZjj+sAErCEEEII4VQFZgveHiYCfRy4RqDNCmlfQcIk8PZ33HEdRAKWEEIIIZyqsNyYZFQp5biDZq2B8sMd8vIgSMASQgghhJMVVVgcP0VD6kLw8DE6uHdAErCEEEII4VQOn8XdZqu/POgT5LjjOpAELCGEEEI4lcPXITy4HkoPdtjLgyABSwghhBBOVtcHy2FSvwSTl7E8TgclAUsIIYQQTmOptVFWXeu4gKU1pC4yZm73DXHMMZ1AApYQQgghnKaowlgmx2EB69BGKNkP/S9wzPGcRAKWEEIIIZymoNzB6xCmLgSTJ/Sb5pjjOYkELCGEEEI4jUNbsLQ2AlavseAf1vbjOZEELCGEEEI4TYHZgQHr8DYo2tuhRw/WkYAlhBBCCKcpLDfWIXRIwEpdCMoESee1/VhOJgFLCCGEEE5TaLagFIT6tzFgaQ3bv4T4MyEgwjHFOZEELCGEEEI4TWGFhS7+3niY2rgOYV46FOyE5I49erCOBCwhhBBCOE2h2UIXf6+2Hyh1IaAg+fy2H6sdSMASQgghhNMUlFsID/Bp+4FSF0Lc6RAU3fZjtQMJWEIIIYRwGoesQ5i/E3JT3WL0YB0JWEIIIYRwmqIKC13aGrBSFxr3bnJ5ECRgCSGEEMJJbDZNUUVN22dxT10I3UdCSDfHFNYOJGAJIYQQwilKKmuw2nTbLhEW7oGcLR1+7cGjScASQgghhFMU2pfJCQ9sQ8BKXWTcu8n0DHUkYAkhhBDCKQrty+R0acsko6kLIXYYdOnpoKrahwQsIYQQQjhFQXkb1yEs3g+HNrjV6ME6ErCEEEII4RR1LVitvkToppcHQQKWEEIIIZykyN4Hq8uizyE+Hkwm4z4lpXkHSFsE0YMgvI/TanQWCVhCCCGEcIqCcgsBJo3vLTMhM9NYsDkzE2bOPHHIKj0EWWsg2f0uD4IELCGEEEI4SaG5mrDSAqioaPxCRQXMmnX8N6d9Zdy7Yf8rkIAlhBBCCCcpMFuMgNWU/fuP/+bUhRCZDJGJji+sHUjAEkIIIYRTFFVYCKOm6Rfj4o79xrLDkLnKbVuvQAKWEEIIIZyksNxCWP9E8Pdv/IK/P8yZc+w3pn8FaAlYQgghhBANaa0pMFsIH5wEc+dCz56glHE/dy5Mn37sN6cuhPC+EJXcfgU7mKerCxBCCCHEyafCYqW61mZMMjpt+vEDVUPmfNj3K5x5jxHI3JS0YAkhhBDC4eomGQ1r6TI56d+Atrr15UGQgCWEEEIIJzgSsFq6TE7qQugSD9GDHV9UO5KAJYQQQgiHOxKwWrJMTkUh7F1utF658eVBkIAlhBBCCCc4sg5hS1qwti0AW63bzt7ekMMCllLKQym1USn1tf15L6XUGqXULqXUp0qpVq70KIQQQgh3UxewujQ3YFWXw/L/QPeR0G24EytrH45swbobSGvw/CngOa11AlAE3OTAcwkhhBCiAyswW/DyUAT5NHPCgl9fAHMuTPmX218eBAcFLKVUd+Bc4E37cwVMAD6z7/IecJEjziWEEEKIjq/QXE1YgDeqOWGp5CCsegkGXAI9TnV+ce3AUS1YzwN/A2z25+FAsda61v78ANCtqTcqpWYqpdYppdbl5eU5qBwhhBBCuFKhuYYuzZ2i4ccnjKkZJj3q3KLaUZsDllLqPCBXa72+Ne/XWs/VWo/QWo+IjIxsazlCCCGE6AAKzdWEN2cEYfZm2PwxjLrFmJ7hJOGImdxHAxcopaYBvkAw8AIQqpTytLdidQcOOuBcQgghhHADhWYLg7qEHn8nrWHxLPDrAmPua5/C2kmbW7C01g9prbtrreOBq4AftdbTgZ+Ay+y7XQ8sbOu5hBBCCOEeCsyWE0/RkPE97FsJ4x4CvxOEMTfjzHmwHgDuVUrtwuiT9ZYTzyWEEEKIDqLGaqOsqvb4fbCsNbDkEQhPgBF/br/i2olDF3vWWv8M/Gx/vAcY6cjjCyGEEKLjK2rOLO7r34WCnXDVR+Dh1T6FtSOZyV0IIYQQDlVwolncq0rg5yeh55nQb1o7VtZ+JGAJIYQQwqGKTrTQ88pnoaIApjxxUkwq2hQJWEIIIYRwqILjBayiTFj9Ggy+CmKHtXNl7UcClhBCCCEcqvB4AWvZP41Wq4mPtHNV7UsClhBCCCEcqsBsQSn+OIrwwHrY9hmcfgeEdHdNce1EApYQQgghHKrIbCHUzwsPU4P+VVrD4ochIArOvMd1xbUTCVhCCCGEcKhCs4UuR18eTFsEWath/MPgE+SawtqRBCwhhBBCOFSBubrxFA21FvjhUYhMhmHXua6wdiQBSwghhBAOVWi2NO7gvvYNKNoLkx8HD4fOcd5hScASQgghhEMVmmvqA1ZFISz/D/QeDwmTXFtYO5KAJYQQQgiHsdk0RRUNWrBW/NeYuX3yyTupaFM6V8BKSYH4eDCZjPuUFFdXJIQQQpxUSqtqsNo0YQE+ULAbfp8Lw66F6IGuLq1ddZ6AlZJC5W13sNoWRLFPAGRmwsyZErKEEEIIBypsuA7h0tng4Q0T/u7aolyg8wSsWbPY6R/BVdf8m9Vxg4xtFRUwa5Zr6xJCCCFOInUBq6d5izE1w+i7ISjaxVW1v84TsPbvp29+FiablbTIXo22CyGEEMIxCswWFDb6bf43BMXAGXe4uiSX6DwBKy4Ov9pq4osOkR4Z32i7EEIIIRyj0GzhfNNq/PM2wYRHwDvA1SW5ROcJWHPmgL8/yXn7SI+KN7b5+xvbhRBCCOEQJWVl/M3rE2xdB8GQq11djst0noA1fTrMnUuSpZjMLrGY+yTC3LnGdiGEEEI4RN89H9Jd5WOaMscYtd9Jda4/+XnjuPSyciIpYsePqyVcCSGEEI5kzueM7Pf41XQK9D7L1dW4VOcKWLVVxBxYzINen5CeXebqaoQQQoiTy8//xttWyUfBM1xdict1roAV3gdOv4NLPVZi3r3K1dUIIYQQJ4+8DFj3Not9pmIOSXB1NS7XuQIWoMbeR4EpnAl7/ws2m6vLEUIIIdyfzQaLHwIvf17h8sYLPXdSnS5g4RPI0u530KdmJ3rjB66uRgghhHBvWsPih2HXUpj4CLsr/IxZ3Du5zhewAEvyJfxu64dt6WNQWezqcoQQQgj39ctzsOY1OO02KofeRFWNzViHsJPrlAErOSaY2TXXY6oqguVPubocIYQQwj1t/BCWPQaDLofJcyioMJbJCQvwcnFhrtcpA1ZidBCpOp7t0RfDmtchN93VJQkhhBDuZcd3sOgu6DMRLnwVTKYj6xBKC1YnDVjBvl507+LHh/7XgU8QfPc34xqyEEIIIU4s8zeYfwPEDIEr3gdPo89VwZGAJX2wOmXAAkiKDmZ9ngkm/B32Loe0r1xdkhBCCNHxHU6Fj6+EkO4wfT74BB55qcgesKSTeycOWMkxQezJN1M15E8QNQAWz4KaSleXJYQQQjRLeXUtF7z8CzPfX0dpVU37nLR4P3x4CXj5w3VfQEBEo5frLhF2kYDVeQNWv+ggrDbNrvwqOOcpKNkPv77o6rKEEEKIE9Ja88CCLWw7WMKP6blc9PKv7Motd+5JzQXwwSVQUwHXLoDQuD/sUmC24OWhCPb1dG4tbqDTBqyk6GAA0nPKoNcYGHAx/PKskc6FEEKIDuy9Vfv4Zks2f52SRMqMUZRU1nDxK7+yLO2wc05YXQ4fXQ4lWXD1p9B1QJO7FZZb6OLvjVLKOXW4kU4bsOLD/fHxNJGeXWpsOPtxQMGSR1xalxBCCHE8G/YXMefbNCYlR/F/Y3szqnc4X915JvERAcx4fx0vLduJduTArVoLzPsTHNoIl70DPU8/5q6FFRbp4G7XaQOWp4eJxK5BRgsWQGgPGHMvpH4Je1e4tjghhBCiCYVmC3ekbCA6xJdnLh+KyWS0FMWG+jH/ltO5aGg3nvkhg9tSNmCurm37CW02WHg77F4G578ASdNOWJ8ELEOnDVgASdENAhbAGXca15S/ewCsDviHKYQQQjiI1aa559NN5JstvDb9FEL8G0/m6evlwbNXDOHv5yazeHsOl7y6iswCc+tPqDUs+TtsnQcT/wHD/3TCt0jAqte5A1ZMMPnl1eSVVRsbvPxgyr8gNxXWve3a4oQQQogGXv5xFysy8ph9/gAGdgtpch+lFDPG9Ob9G0eRU1rFBS//ysqdea074a8vwOpXYNQtcOa9zXpLodkiUzTYdeqAlRwdBMCOhq1YSedB7/Hw0xPGiAkhhBDCxVbuzOP5ZRlcMrwbV4/sccL9z+wbwVd3nEl0sC/Xv/07b6zY07J+WRtTYOmjMPAymPIkNKPTeo3VRklljUzRYNepA1Y/e8BKzymt36iUMW2DxQw/Pu6iyoQQQnRaKSkQHw8mE8THc+idj7j7k00kRgXxxEUDmz1CLy7cn89vO4MpA6KZ820a987bTFWN9cRv3PE9LLrTaGy46DWjjmYoqpBJRhvq1AErPNCHqCAf0rLLGr8Q2Q9G/h+sfxeyN7ukNiGEEJ1QSgrMnAmZmaA1lqyD3PFzDpbKal69djj+3i2bXyrAx5NXpw/n/smJfLnpIJf9bxUHi48zqfb+NfYlcAbDlR8cWQKnOWQdwsY6dcACox9WoxasOuMeMGao/VbWKRRCCNFOZs2CioojT/897gY2xPTjqZVv0Scy8DhvPDalFHdM6Msb140gM7+CC176hTV7Cv7QUsbbT8NHV0BwLEz/zFirtwUKZR3CRtocsJRSPZRSPymlUpVS25VSd9u3hymlflBK7bTfd2l7uY6XHB3EzsPl1FptjV/wDYGJj0LWatj6mWuKE0II0bnsr5/s+pt+o3n71Iv487qFnPvrwjYfelL/rnxx+2hC/L2YPvc3PnjpM7S9pYyi/bD9cajRTS6B0xwSsBpzRAtWLXCf1ro/cBpwu1KqP/AgsExr3RdYZn/e4fSLDsJitbE3v4mhrEOnQ+ww+OERYxZbIYQQwpnijOVndod142/n3M3wg2k89NM7R7a3VUJUIF/ePpqxB7fxyLgZPDT1TqqDPeFaf/ACPrdBl56tOrYErMbaHLC01tla6w32x2VAGtANuBB4z77be8BFbT2XM9QtmZOWU/bHF00mOOdpKMuGlc+0c2VCCCE6nTlzqAwO5baLHsLHWsPLC5/C29cb5sxx2CmCfb1446O/c8eqT8gZ1pXKOyPRoR7wcQVsPtTq4xaU2xd6Pmp+rs7KoasxKqXigWHAGqCr1jrb/lIO0NWR53KUPlEBeJoU6dmlXDAk9o879DgVhlwDv70Mw66F8D7tX6QQQohOQV9zDbOy/Mko8uS9+bOJDQuAOc/D9OkOPY9HfDfuD5gP3j5kWLtxk/leug4rYHByHkN2FzCoewiBPi2LCEUVFkL9vfD06PTduwEHBiylVCCwALhHa13acBip1lorpZrsKa6UmgnMBIhzUBNoS/h4etAnMrDxjO5Hm/QopH0Fix+Gaz5tv+KEEEJ0Kp+szeLzYm/uObsvY59a75yTHE6Fm/zB4gNrqtEbzcSOzGVTtyS+DTkT3liNUpAQGciQHqEM6R7CkB6hJEUH4+157PBUYLYQ5i+XB+s4JGAppbwwwlWK1vpz++bDSqkYrXW2UioGyG3qvVrrucBcgBEjRrhkuF5STBDr9hUde4egaDjrb0ZfrIwlkDi5/YoTQgjRKWw7WMKji7YzNjGSuyb0dfwJtIbf58KSR8A3GCJuh7SP6Je7n5e2zIMr51Bw4SS2HCxhc1YxWw6U8FN6Lp+tPwCAt4eJ5NhghnYPYXD3UIb0CKV3RMCR9RALy2WZnIbaHLCU0VT1FpCmtX62wUuLgOuBf9vv2z4EwkmSooNZuOkQJZU1hPgd49rxqFtgw3vw/YPQe1yL5gYRQgghjqekooZbU9YTHuDN81fWL+LsMOW58OVtsOsH6DsZLnwVAiNh5r8a7RYOjO8Xxfh+UQBorTlQVMmWAyVsPlDM5qxi5q8/wHu/ZQIQ5OPJIHvg2ldgZtAxlvDpjBzRgjUauA7YqpTaZN/2MEawmqeUugnIBK5wwLmcIimmfsmckb3Cmt7J0xumPgUpl8Ka12D03e1YoRBCiJOVzaa5b/5mckqq+PT/Tnd8K1DGYiNcWcph2n/h1BnNWvoGjDm0eoT50yPMn3MHxwDGotO788rZlFXMlgPFbM4q4c2Ve6i1aaYMiHZs7W6szQFLa/0LcKy/qYltPX57SLaPJEzPKT12wALoOwkSz4Hl/4HBVxqXDoUQQog2mLtyD0vTDjP7/P4Mj3PglJE1lfDDP4zLglED4LKvISq5zYf1MCkSuwaR2DWIK0YY6yJW1VjZebic+Aj/Nh//ZCFd/YGuwT6E+nv9ccmcpkz9F1gt8O1fwdaMNZ2EEEKIY1i9p4CnF+/g3MExXH9GvOMOnLMN5o43wtVpt8HNPzokXB2Lr5cHg7qHEOQrUzTUkYCF0QSaFB3U9JI5RwvrDRMegbRF8PnNYK1xfoFCCCFOOrmlVdz58UZ6hvvz1KWDm72I83HZbLD6NXhjAlQUwPQFMPVJ8PJt+7FFizh0Hix3lhQdzLx1Wdhs+sSdC0ffBWij6bWmEi57R/7xCiGEaLZaq407P95IeVUtKTNGtXjOqSaVHYYvb4XdyyBxKlz4SquWvBGOIS1YdknRQVRYrGQVVZx4ZzA6uZ/7DOz41lgcU5bSEUII0Uwv/riLNXsLmXPxQBK7tmxR5Sbt+B5eOwMyfzV+N139iYQrF5OAZZcUY18ypzn9sOqcOgMu+h/sWwkfXgKVxU6qTgghxMli3b5CXv5xJ5cO784lw7u37WA1lfDN/fDxlRAUAzOXt2iUoHAeCVh2iV0DUYrm9cNqaOjVcPm7cHADvHc+mPOdUp8QQgj3V1ZVwz2fbqJbFz9mX9C/9Qey1sDGFHj1dFj7Bpx+B9y8DKKSHFesaBMJWHb+3p7EhweQ3pIWrDr9LzSaY/Mz4J1pUJp94vcIIYTodGYvSuVQcSXPXzm0dSPuaqth3dvw0nBYeBv4BMF1X8KUOeDp4/iCRatJwGqg2SMJm9J3Ely7AEoPwjtToSjTscUJIYRwa99syWbBhgPcMaEvp/Q8zpyLTamphDWvw4vD4Ou/QEAUXDMP/m8F9BnvnIJFm0jAaiApOpjMwgoqLLWtO0D8mfCnRUZfrLenQl6GYwsUQgjhlrJLKnn4i60M7RHKXRMSmv9GixlWvQQvDIHv/gahPeG6L2DGUkicIn2tOjAJWA0kxQShNWQcbsOIwO6nwA3fgK0G3jkHcrY6rkAhhBBux2bT3DdvMzVWG89fORRPj2b86q0qhZXPwPODYMnfITLJ+N1y43fQZ4IEKzcgAauBI0vmZLfyMmGd6IHw5+/B0xfePRey1jqgOiGEEO7ozV/2sGp3AbPPH0B8RMDxd64sgp+ehOcHwrJ/QrdT4KYf4PpFxlUS4TZkotEGunfxI8Dbg/ScVnR0P1pEgvFN470L4P0L4ZpPodeYth9XCCGE29h+qISnF+9g6oBoLh9xnCkZzPnw2yvw+xtgKYOk82Ds/RA7rP2KFQ4lAasBk0nRLzqItLa2YNUJjYMbv4f3L4KUy+CKDyBxsmOOLYQQokOrqrFy9yeb6OLvzZOXDGp6KZyyHKOP1bq3jY7sAy6CMfcbV0KEW5OAdZSkmGC+2ZKN1tox60IFRRvXzT+8GD65Bi59AwZc3PbjCiGE6NCe/DaNXbnlfHDTSLoEeDd+MTcd1r0F698DWy0MuhzG3AeRia4pVjic9ME6SlJ0ECWVNeSUVjnuoAHhcP1XxrX0z240Joc7yWQVVjDri608+V0aNpt2dTlCuIeUFIiPB5PJuE85+X42dFY/7cjlvd8yuXF0L8b0jTQ2FmXCymfhtdHw6iij1WrwFXDnOrjkdQlXJxlpwTpK0pGO7mXEhPg57sC+IXDd5/DJdGNyuJoKGHmz447vIlmFFbzy0y4+W38AgFqbJq+smqcvG4LHiRbNFqIzS0mBmTOhwr7+aWam8Rxg+nTX1SXaLL+8mr/O30JSdBB/GxNm9KvaOh+y1hg7dB8J5zxtXA4MjHJtscJpJGAdpV+0sehmWk4p45Mc/A/fO8CY8f2zG+Hb+6G6DMbc69hzOFNKCsyaBfv3k5U8lFf/9Hfml/hiUorpo+K4dVwC89Zl8ewPGdRaNc9eMaR5w5GF6IxmzaoPV3UqKoztErDcltaa2fN/Y2L1Uh6JScX3hV9AWyFqAEz8Bwy8FLrEu7pM0Q4kYB0lxM+LbqF+rVsypzm8fOGK9+DLW2HZY7B3BZz9GMQMcc75HMX+bfuAZwCvTL6N+YPOxpSvuSayilv/75wjrX13TeyLl4eJp75Pp9Zm44WrhuElIUuIP9q/v2XbRcdWUwU7l5C1/D2eyVmOj0cNlMXBmffAwMugaxvWHRRuSQJWE9q0ZE5zeHjBxa8bfbKWPwWvj4XBV8L4WdClp/PO2wYH5jzDK2P+zGeDJqE0XLPpe25dM5+YsED42yWN9r11XB+8PBRPfJNGjXUDL18zDB9PDxdVLkQHFRdnXBZsartwD9Za2Lscti2AtK+guhR/HcLyoGlMuvx2THEjZULQTkwCVhOSYoJYnpFHda3VecHA5AGn3QpDroZfn4fVr8FVfBW1AAAgAElEQVT2L2DkTGMkiX8L16lykoPFlbzy0y7mn/sPlIarNi/m1tWfEVuWb+xQXtjk+2aM6Y23p4l/LNzOLR+s57VrT8HXS0KWEEfMmdO4DxaAv7+xXXRctRY4sBZSvzR+ZpvzwCcYa7/zmL23P9+VJ/DNzPGYgn1dXalwMQlYTUiKDqbWptmda6Z/bLBzT+YXCpNmw6k3w8//gtWvwsYP4Mx7YdT/gZcDO9q3wMHiSl79aRfz1mUBcOWe37jth7frg1Wd43zb/tPp8XiaTDz8xVZufn8dc68bgZ+3hCwhgPp+VvZ+jcTFGeFK+l91LDYb5GwxWqr2roDM36DGDB4+0G+qcfmv72SeWbaPD/J2879rh9FVwpVAAlaTkmOMju7pOaVOC1jm6lpe+nEXlw7vRt+uQRDSDS58BU67HZbOhqWPwu9zjcuGQ64yWrzawaHiSl79eRefrjWC1RUjenDb+AS6fVME3x/VIbcZ37avGRWHp4figQVbuPHdtbx1wwj8veWfnRCAEaYkUHUsWkPBbtj7M+xZDvtWGsvXAEQkwtBroPdZ0Oss8DV+P6zZU8Bry3dz5YgeTB0Y7braRYciv+maEB8egLenyTFL5hzDJ2uz+N/y3by3ah//umQgFw+zL6HQtT9Mnwf7foEljxhTOvz2itERPmGS067nHyqu5LWfd/Pp2iw0uj5Yhdpb0NrwbfuKET3w9jBx77xN3PD2Wt7+86kE+sg/PXHyyC2t4pWfdvHFxoMA+Hh54O1hwsfLhI+nB96eJnwa3eq3eTexbXD3UE7rHeaYyY7FiZUeMsJUXStVqfH3SHB36DfNCFO9xkJwzB/fWlXDvfM2Exfmzz/Ol47sop7SuuNMCjlixAi9bt06V5cBwHkvraSLvzcf3DTK4ce22TTjn/mZYF8v/Lw9+H1vIVePjOPR8/s37qektXGdf+ljULQX4sfA2f+EbsMdVkut1cbrK/bwwrKdaK25fEQPbhvXh+5d/B12jjpfbznE3Z9sYkj3EN69cSTBvl4OP4cQ7anQbDnyRclq05w3OIZQf2+qa21U11qx1Nrsj21Yaq3G4xobFqvx+pHHNcbzhnP0DuwWzMyxfZg2MFqmO3G0ikLjS+ze5UawKthpbPcLM4JUr7HQexyE9T7hl9p7PtnIV1uy+eyW0xkW18XppYuORSm1Xms9oqnXpBnhGJKig1mekde6NzeYL6qplp6fM3LJLKjgpauHcc7AaJ75IYPXft7N5qxiXrt2OD3D7autK2Usq9PvXFj/rjHi8I3xMOASmPiI8Z+/DTIOl3H//M1sOVDCtEHRPDwt2SnBqs55g2PxNJm48+MNXPfmGt6/cRQh/k2ErBN8fkK4WkllDW+t3MNbv+ylosbKxUO7cfekvvX/d1up1mrDbLHy3dZs5q7cw10fb+SpUD9uOrMXV57agwBp+W05ay3kpUP2Jji00eignr0F0OAVAD3PgFOuN1qpug40ZtVvpoWbDvLlpkP8ZVKihCvxB9KCdQxvrtzDE9+kse7vk4gI9Gn+G4+enRmMvkpz5x4JCde9tYaMw2X88sCEI3NELUs7zL3zNmOzaZ6+fDBTB/6xKZqqUlj1onHJ0FoDp94EY/8KAREt+rMdabVaupNAX08ev3Ag5w5u4nxOsiztMLd+uIG+XQP54KZRhDVco6sZn58QrmKuruXdVft4ffluSqtqOXdQDPdM6mv0o3Qwm02zLD2XN1bs4fd9hQT7enLtaT254Yx4oqQTddOstZC/Aw5tqg9UOdugttJ43TsIYocaVwN6n2VMlePRupb0A0UVnPPCShK7BvHpzNOklbGTOl4LlgSsY/hlZz7XvrWGlBmjGJ3QggATH9/03DY9e8K+fezOK2fiM8u57+xE7pzYt9EuWYUV3PHRBjYfKOHG0b148JwkvD2b+E9blgM/PwkbPgAvfxg5A/pfZExWeoLm7IatVucOiuGfFw4gvCUB0kGWZ+Qx8/119IoI4MMZo+pD7Ak+PyFcoarGyoerM3nt590UmC1MTIri3smJDIgNaZfzb9xfxNwVe/h+ew5eJhMXDYtl5tjeJEQ5Pti5DZsV8jOMEHWoLkxtbRCmAo2fiTFDIXaYEazC+rSohepYrDbN1W+sJvVQKd/eNYa4cOe1/IuOTQJWK+SXVzPiiaX8/dxkZoxpwaU4k8noO3U0pcBm49GF2/j49yxWPTShyZYxS62Nf32bxrur9jEsLpSXrxle39H8aHkZxmzwO74FbYPQnpB8PiRfAN1PbfSDxNWtVk35dVc+N723lu5d/PloxijjW/kJPj8h2pOl1san67J4+cedHC6t5syECO6dnMhwF10Oyiww8+bKvcxfn0VVjY2JSVHcPLY3o3qd5B3ia6qgcLdxaS97kxGocrYYa7qCcakvZogRomKHGaEqPMEhYepoWmueX7qTF5bt5L+XD+GyU7o7/BzCfUjAaqURTyxlXL9I/nt5C5axOU4LTFn6Tk771zKmDIzm2SuGHvcw32zJ5oEFW/D0UDx35VDG9zvOuojmAtjxjTGT8O6fwFYDQTGQdB4kn88O38Hcv2A7Ww+WcO7gGP55gWtarZqyek8BN767luhgXz66+TSihyRJC5ZwuVqrjS82HuSFZTs5UFTJKT27cP/kfpzeJ9zVpQFG5/oPfsvk/d/2UWC2MKR7CDeP7c3UAW7eIb6yyPjimJ9hXOrL3wl5O6A40/gSCUarffTg+lap2GH2MOXkqWxSUkj/zys8OuAC1sQN4vwQCy8+eNHJHWzFCUnAaqXr3lpDUYWFr+8c0/w3HacP0TvxZ/DYV6ksumM0g7uHnvBQe/LKuS1lA+k5Zdw+vg9/mZR44h+eVSWQsRjSFqF3LkXVVlKkg1huOpVup1/JqRMuBs+OEa7qrNtXyA3vrCU80JuPIrLpdsfN0gdLuITNpvlmazbPLc1gT56ZQd1CuG9yImclRnbIX6RVNVYWbDjAmyv3sjffTI8wP24a3YsrTu3Rceeb09qYBiFvhz1IZdSHKnNu/X4ePkZwikw05p+KSISuA4z7dpoXsE7J+x/x3Mer+GDQZIKqzfx1+ftctWslHq+/Lj+XOjkJWK0055tU3v8tk+2PTWnZt8ImRsHZrr6Gic8uJ9Tfiy9uG93sQ1XVWJm9aDufrM3itN5hvHj1MKKCTtzBdUdOGbPmrSE8ZyUzwrdySvXvmCxl4BMMiVOMy4gJE8G7baOeHGVTVjHXvbWGED8vPo46TI/HHpJRhKLdaK35IfUwz/6QQXpOGYldA7n37H5MGdC1Qwaro1ltRv1zV+xmw/5iQvy8uO60nvzpjJ71Py/ac3Su1sYSMkWZRutT0d4GLVM7jZnQ6/iGQmQ/iOgLEf2MABWZaHR5aOcgdTSbTTN/fRb/SVlFkbc/12z6nvtWfkiXKvscidKy3ulJwGqlBesPcN/8zSy99ywSogLbdKyfduTy53fW8sJVQ7lwaLcWv/+z9Qf4+5dbCfTx4qWrhx3zUkXDvlZBvp48ftFApg2KgdpqY76XtIWQ/i1UFoKnH/SdZIStxCng2z4ddo9l28ESrn1rDf5eHiy47QxiQlyzTJDoXDILzPx1/hZ+31dIfLg/fzk7kfMGx+Jh6vjBqinrMwuZu2IPS1IP42UyceHQWG4qTSXprhmOaxnW2ricV5xpD1H7j3q8v76zeZ3g7vbWKHuYirSHqYDIDrkg8qasYh5duI3NB0oYcSCV2T/8j4G5exrvJH1DOz0JWK20/VAJ5774Cy9fM4zzBse26Vg3vPM72w+V8usDE5oeGdgMO3LKuC1lPXvzzdw3uR+3ntUH08cfHflWumPQKO6/5EG2Vnoev6+VtRYyf4W0RZD2NZTngMkTovrXdxSNGWY0x3u173Dw1EOlXP6/VQzuHkrKjFGY3PSXnOj4tNZ8sjaLx79OxcOkeHhaMpef0t29+zA1sDffzNu/1HeIH7N3AzPWfsnYvRs48r/qWC0wNhtUFEBZNpRkGYGprjWq7rHlqJUufEMhNA669DRan0J72h/HGbcO0lp+Ivnl1fzn+3TmrTtAZJAPD09L4qKLz0RJ31DRBAlYrVRda6X/PxZz61l9uH9Kv1YfZ2++mfH//Zm/TErk7kl9T/yG4zBX1/LQ51tZtPkQ4wJreO65/yOoKJ//nXYZL4y+muDqCh5P8mTabVc074A2mzHxXsb3xjDn7E31624pD4hKtg9zHmrcdx0A3s4dkjxvXRZ/+2wLD09LYubYPk49V7uSCVTbxoGfX25ZFQ8t2Mqy9FxGJ4Tz9GVDiD3WaF03V2S28NHZ1/Hu8PPICwxjSH4Gt6R+zsTc3/EO0PDKU8bUL6WHjPuybOPeVtP4QF4B9eHpSHDqWR+qXNwC3la1VhsfrM7k2R8yqLRYufHMXtw5IYEgXy+Zn08ckwSsNpj83HLiwvx58/pTW32M2Yu2k7Imk18fnNCs/lMnorXmwzX7eXzBRiLMRYRVlLItOoHz0lbw2A//IzyqS+u/VWltfEPN3lw/HDp7k/FtFozQFdmvQegaAtGDHPrtVGvNrR9uYFn6Yb68fXS7zTXkVPIDum0c+Pl9vy2bhz7fSoXFyoPnJHH96fHu31JqsxrLv5jzoCLfuC/Ps4elbPh+ATZvC9YQT7y8mrik5RNsjDwOiobgWOM+yH4f0g1C48E/rONdynNQ6P5tdwGzF21nx+EyxvSN4NHzB/yxW4h8QRJNkIDVBnd9vJH1mUX8+uCEVr2/vLqW0/61jEnJUTx/1TCH1rY1pi+3XfggFV6+PLHkVc7JWGW84Oh+AXWjfurCVvZm43HdiB9lMvpSxAwxWrxCG1wWaGX/iiKzhakvrCDI14uv7zyz8RqN7kgmUG0bB3x+pVU1zF60nc83HGRQtxCeu3JIx52oU2uoKgazPSwdfV+R33hbRQHQxM9yD28jJFV5wqZdUFyDLtNk+PTgi/jxLO46imKPcM45JYGbzuxFn8i29TVtVw4I3YeKK5nzbRrfbMmmW6gfj5zX320GNoiOQQJWG7zy0y6eXryDLbMnt2px4vdW7ePRRdv58vbRDO1x4qkZWiQ+nuoDB7EpD/xqq+u3t8cvba2Nb8Z1Yauutas8p/F+nn4Q2sMIWyE96oNXXQgLjDpmAFu5M4/r3vqdG86IZ/YFA5z753E2mUC1bdr4+f22u4D7528mp7SK28cncOeEhCPLVDmVzQbVJcZl98oiqCxu+nFVw+1FRmCy1TZ9TN9Q44tLQIT9Fmnc/I96HhDZuNWpiRaYnZMu4K1f9vL5xoNYao2JS2eM6c1pvd1g4tI2hO7qWitvrtzLyz/uwqY1t5zVh1vH9XH/L3Ki3UnAaoMf0w9z47vrmH/L6ZwaH9ai99psmknPLSfI14uFtzd/aoZm64iXnarLoDirfiRRcYNRRcX7jdGLDXn41AewultID/svh3CeW1XI/9YW8fqfRzPueJOtdnTSgtU2rfz8qmqs/HfxDt78ZS+9IgJ49oohzV+UV2tj9G11qbEOaHXdrcz+vMz+WkmDx6VHhaVimmxZquMdaAQmvy7g1+C+UViKqA9Q/uHg6X3s47VSXlk1H67O5IPVmRSaLQzsFsyMM3tz7uCY9gmirdGK0G21aX7ekcvjX6eyr6CCKQO68vdz+9MjTJa6Ea0jAasNDhVXcsa/f+TxCwdw3enxLXrviow8/vT27zx35RAuHuak5RTcrV9AXQCrG5l0dACr6+t1lAp88QmOxCMg3PglE2D/ZeMfZr8/6uYXBh4daKLFjhiG3UlzPj9rrTG/kqUCLGZ2Hczh1SVbKCwqYmpiEBcPDMXHWgWWcmOJFYvZeGxp8LiqxAhKpfnG8+Y0aHj5g0+Q0Y/JJ8j4N3kkNDW8HbXNN9QpYaktqmqsfLHxIG+u3MPuPDPRwb5MHRhNn6hAEiID6ds1kPAA747RunWM0G3rGU/2plT25ZvZm29mX76ZfQXG46zCSixWG30iA5h9wQDG9I1s/7rFSUUCVhtorRny2BLOGxLLvy4e1KL33vjuWrYcKOHXB8fj4ylNz81SXW7096rrV1JRQF7uIb7+bRtJITWcFg3Kvp2Kwj8OFW/IO8jofF938znquXeg/RbQ4D4AfBps9/IHT1+jL4unt9Hi5uHdujXO3C0Mt4bNBlZL41ttNVhrwFptf97wtSpjnbnaygb39lttVeP7zN2we4dxHH9v6BoOfl72/SuM/ZpLmYy/Yy9/+9+7f31Ayi6AFWvAXANVGqo1aG+4+XaYcoGxj29w/f4eLe860NHZbJrlGXm8/eteNmQWYbZYj7wW6u9FQmQgCVHGrS58dQv1a7fBAlprct/7mL1znmWffzh7u8SyN6wb+8K7kRnRg2pdX4ePp4leEQHEhwcQHxFAUnQQ0wbFtHq6HCEacmnAUkpNBV7A+C74ptb638fatyMGLIArXv+NWquNz1swA3tmgZlx//2ZOyf05d6zE51YXefw5so9PPFNGk9eMoirR8bVv1BbbQStI6Grwa2q1N5CUW5vobC3UlQ3fF5Wv8ZZS5g8jaDl4W0sPdTosZcRxBo+NnkYN2UyRmIqk3EzeRiXNOq2mRq8puyvNdymNaCPcU+j59W1VkoqqimpqKGk0kKp/ebjoYgL9aZ7qA/BPqBsVqO/z5H72gbPm9pmf9xUgDpWv6EWf75e4OVnhFsvv8aPm7q3h+TCGi/mbSkgrcBG//gYpo/pT2BgyFHBOsB4z7FaYeRybiNaa7JLqtiVW27c8sqPPC40W47s5+flQe/IAPpG1YevhKhAeoYH/OEyY63VRkWNlSqLlQr7rbLGSqX9vsJS2+Cxsb3CYiWntJK9+RVkFpipaBD6vGtriDPnE989gl5DE4mPCKCXPVBFB/u6/yhR0WEdL2A59RqKUsoDeAU4GzgArFVKLdJapzrzvI6WHB3EZ+sPYLPpZv9Hff+3TDyUYvqouBPvLE7oxtG9+HlHHv/8KpVRvcLoXTfaydMHgmOMW2vU9bM5OohVl9U/ttoDRG31UaGiiYDRqLWmxgh51mojmGhb/b2uu9dNbLMZLUF/2Ga1hwJ15F4rhUYZhwFsGqxaYdPGYx8gEkUECpNJYTKZsFoUVTmKshwPyk0e+Pr44O/rg6+PN8rkaYRH5WHcmzyMz7huu6nBdg97gGwYMI+09Hk3/XrD0Fn3vKnQ1MIlUrTWfPT7fub8mIanSfH4FQNbtWICYLQwtmT7SU4pRWyoH7GhfoxNbHxJrdBsqQ9e9vC1dl8RX246dGQfT5MiJtSXmlpNhaWWqhobFmvLvtQoZQS4qCAfekUEcFrvsCOtUr0iAogN9XPbmffFycvZnVRGAru01nsAlFKfABcCbhWwkmKCMVusHCyubFZnSHN1LfPWZjFtUAxdg9t3JvSTlcmk+O/lQ5j6wgr+8ukmPrv1DMd0vlXKmK3ey9fo19WB7ckrZ0dOGbvz6n+Z7clr/E0+xM/LaDmIDKRPVIBxCScykO5d/Bv9AsotrWJFWi6Lt+ewanc+NcWaiEBvJiV3ZfKArpzRJ8JtRlTlllbxwIIt/LQjjzF9I/jPZYPbtsxSXFzTLVhx8mXpaGEB3ozsFcbIXo0HAJmra9mTZ2ZXXhk7D5dzqLgSb08T/t6e+Hl74Oflgb+3B772ez8vD/y8PYzX7Y/9vD3wtz/28TR1jH5fQrSAswNWNyCrwfMDwKiGOyilZgIzAeI66A+wpGhjrpy07NJmBazPNx6krLqW68+Id3JlnUt0iC9PXjyIW1M28OKyndw3ufWz67uTsqoaHrXP31SnW6gffaICOTU+7EiISohqfgfkqGBfrhkVxzWj4iirquHnHXksST3M11uy+WRtFgHeHozrF8XkAV0Z1y+KEL+O1c9Ia82mrGK+3ZrN/PUHqLRYmX1+f/7kiElD58xpukP9nDltO24nEvDZpwyaNYtBDfsbXnWS9TcU4gRcPsxKaz0XmAtGHywXl9OkxK5BKAXpOWVMHhB93H211ry3ah+DuoUwPM7B814JzhkUw+WndOeVn3YxNjGyxVNnuJt1+wr5y7xNHCyq5PbxfThnYAy9IgII8HHcf90gXy/OHxLL+UNiqa618tvuApakHuaH1MN8szUbT5Pi9D7hTB4QzdnJXYkOcU2rrM2m2ZhVzHdbs/luWw4Hiyvx8lCM7RvJQ9OS27wg+xF1Aw9O9gEJznL0iM/MTOM5yGcoOhWndnJXSp0OzNZaT7E/fwhAa/1kU/t31E7uAOOe/on+scG8Ov2U4+73y858rn1rDc9cPoRLT3HS1AydXHl1LdNeWIlNa769e0yrJoDt6GqsNl5atpOXf9pFty5+PH/lUE7p2b5h0mbTbDpQzJLth1myPYc9+WYAhvQI5ezkKIbHdWHAqiWE/ONhpwURI1QV8c2WHL7blk12SRXeHibG9I3gnEExnJ3clRD/k+/v363JIAHRibhsFKFSyhPIACYCB4G1wDVa6+1N7d+RA9YtH6wn43AZP94/7rj7zXhvHRv3F7HqoQkyNYMTrc8s4orXf+PCobE8e8VQV5fjUPvyzdz96SY2ZxVz6fDuzL6gv7HgrIvtyi1j8fbDLEk9zOas4iPbexTnMPDwbgbm7GJA8QEGPngHEddf0+rz2Gya9fuL+GZLNt9vyyGn1AhVYxMjmDYohkn9u56UofqkIasWiE7EZaMItda1Sqk7gMUY0zS8faxw1dH1iw5icWoOlRYrft5NB6f9BRUsSz/M7eMSJFw52Sk9u3DH+AReWLaTCUlRnDc41tUltZnWmk/XZvHPr1Px8jDxyjXDOXdwK0dHOkFCVBAJUUHcPj6BQrOF7RMuYKsKYnt0H7Z17cN3/ezTmKRB9L+WMbBbMANiQxjYLYRB3ULoGuxzzP5hNptmXWYR327N5rtt2Rwurcbb08RZiZE8MKgfE5MlVLkNGSQgBNAOfbC01t8C3zr7PM6WHBOE1pBxuIwhx1hT8IPV+zApxbWn9Wzn6jqnOycksDwjj4c/38rwuC7EhrZh5JiLFZotPLhgC0tSD3NGn3CeuWJI20bCOVlYgDdj1i5hTIOWihKfAFKjehuB695/sO1QKcvSc480ZkQEetsDVzADY0MYEBvCoZJKvt1qtFTllhmhalxiJOcOjmFCUlSHaLkTLSSDBIQAOkAnd3eRFB0MQHpOaZMBq8JSy6drs5g6MNplnYA7G08PE89fOZRpL67kvnmbSZkxyi0nFFyRkcf98zdTXFHDrGnJ3HRmL/f4cxzVUhFSbeb0rK2cbiqFq4YBxnD99JxSth0sZdvBErYeLOGXXflYbfXBzMfTxPh+UZwzKJqJyV0JdGAHfuECMkhACEACVrPFhfnj5+VBWnbTS7N8sfEgpVW13CBTM7Sr+IgAHj2/Pw8s2Mqbv+xh5tg+ri6p2apqrPz7u3TeXbWPvlGBvPvnkfSPDW77gdtrSZ5mtFQE+HhySs+wRh30q2qs7MgpY/uhUoL9PBnfL8qhoyJFBzB9ugQq0enJT7VmMpkU/aKDSM8p/cNrdVMzDIgNZkTPLi6ornO7YkQPfkzP5enFOxidEMGA2BBXl3RCadml3P3JRjIOl3PDGfE8eE6SYyb2bM8h8q1sqfD18mBIj9BjXmoXQoiTgax22QLJMUGk55Rx9MjL3/YUkHG4nOvPiJfZhl1AKcWTlwymi78393yyiaoa64nf5CI2m+bNlXu48OVfKaqo4b0bRzL7ggGOmzV91qzGLUpgPJ81yzHHP9r06cbQe5vNuJdWCyGEACRgtUhSdDDFFTXkllU32v7ur/vo4u/FBUPcfySbuwoL8Oa/lw9hZ245//4u3dXlNCmnpIo/vf07T3yTxln9Ivn+7jGcddTabm0m6+gJIUSHIAGrBRoumVMnq7CCpWmHuXpknNus3XayGpsYyZ9Hx/Puqn38vCPX1eU08t3WbKa+sIL1mUU8eckg5l53CuGBPo4/0bGGwssQeSGEaFcSsFqgfiRhfUf3D1dnomRqhg7jgalJJHYN5K+fbaGgvPrEb3CyrMIK7vp4I7embKBnmD/f3j2Gq0fGOe9S8pw5RkfzhmSIvBBCtDsJWC0Q4u9FbIgv6fYWrEqLlU/WZjG5f1e3noPpZOLr5cELVw2jpKKG69/5nV925v+hz1x7KDJbeOLrVCY+s5zF23O4a2JfPrv1DHpFBDj3xNOnw9y5xrIkShn3c+dK3yghhGhnMoqwhZJigo+0YC3cdJCSyhqZmqGDSY4J5vmrhvLPr1K59q01DIsL5a6JfRmXGOn0QQhVNVbe/nUvr/28G3N1LZed0p17JiW2bwCXIfJCCOFyErBaqF90ECsy8qiutfLuqn0kRQcxslf7LsIrTmzaoBgmJkcxf90BXvt5N39+Zy2Du4dw54S+TEqOcnjQqrXaWLDhAM/9sJOc0iomJUfx1ylJ9LP32xNCCNG5SMBqoaToIGptmo/X7Cc9p4x/XzJIpmbooHw8Pbj2tJ5cMaIHX2w8wCs/7ebm99fRPyaYuyYmMLl/dJtnTNdaszQtl/98n87O3HKGxYXywlVDGdU73EF/CiGEEO5IAlYLJccYHd2fWZJBqL8XFw7t5uKKxIl4e5q48tQ4Lh3enYWbDvHyT7u45cMN9OsaxB0TEpg2KAaPVgSt9ZlF/Pu7NNbuK6J3RAD/u3Y4UwZES+AWQgghAaulekUE4O1hoqy6lv87qzd+3jI1g7vw9DBx6SnduWhYN77ecoiXftzFnR9v5PmlGdwxIYHzB8fi6XHicR+788r5z/fpLN5+mIhAH564aCBXntoDr2a8VwghROcgAauFvDxMJEQFkp5TynUyNYNb8jApLhzajfMHx/Ldthxe+nEnf/l0My8s3cnt4xO4aFi3JsNSbmkVzy3dybx1Wfh6mrj37ERuOrOXrKMnhBDiD5QrhrAfy4gRI/S6detcXcYJffz7fnJKqsZAV98AAAarSURBVPjL2YmuLkU4gM2m+SHtMC8u28n2Q6V07+LH7eMTuHR4d7w9TZRV1TB3xR7eXLmXGquNa0/ryR0TEohwxkShQggh3IZSar3WekSTr0nAEsKgtebH9Fxe/HEXm7OKiQ3xZdqgGD7feJBCs4XzBsfw1yn96Bnu5LmshBBCuIXjBSy5tiGEnVKKicldmZAUxYqd+by4bCdv/rKXM/qE8+A5SQzuHurqEoUQQrgJCVhCHEUpxVmJkYztG0Gh2UJYgLeMDBRCCNEiErCEOAallHMWZBZCCHHSk3HlQgghhBAOJgFLCCGEEMLBJGAJIYQQQjiYBCwhhBBCCAeTgCWEEEII4WASsIQQQgghHEwClhBCCCGEg0nAEkIIIYRwMAlYonNLSYH4eDCZjPuUFFdXJIQQ4iQgM7mLzislBWbOhIoK43lmpvEcYPp019UlhBDC7UkLlui8Zs2qD1d1KiqM7UIIIUQbSMASndf+/S3bLoQQQjSTBCzRecXFtWy7EEII0UwSsETnNWcO+Ps33ubvb2wXQggh2kAClui8pk+HuXOhZ09QyrifO1c6uAshhGgzGUUoOrfp0yVQCSGEcDhpwRJCCCGEcDAJWEIIIYQQDiYBSwghhBDCwSRgCSGEEEI4WJsCllLqaaVUulJqi1LqC6VUaIPXHlJK7VJK7VBKTWl7qUIIIYQQ7qGtLVg/AAO11oOBDOAhAKVUf+AqYAAwFXhVKeXRxnMJIYQQQriFNgUsrfUSrXWt/elqoLv98YXAJ1rraq31XmAXMLIt5xJCCCGEcBeO7IN1I/Cd/XE3IKvBawfs24QQQgghTnonnGhUKbUUiG7ipVla64X2fWYBtUBKSwtQSs0EZgLEyRpwQgghhDgJnDBgaa0nHe91pdQNwHnARK21tm8+CPRosFt3+7amjj8XmAswYsQI3dQ+QgghhBDuRNVnola8WampwLPAWVrrvAbbBwAfYfS7igWWAX211tYTHC8PyGx1Qc0XAeS3w3k6C/k8HU8+U8eSz9Px5DN1LPk8Ha89PtOeWuvIpl5oa8DaBfgABfZNq7XWt9hfm4XRL6sWuEdr/V3TR2l/Sql1WusRrq7jZCGfp+PJZ+pY8nk6nnymjiWfp+O5+jNt02LPWuuE47w2B5jTluMLIYQQQrgjmcldCCGEEMLBOmvAmuvqAk4y8nk6nnymjiWfp+PJZ+pY8nk6nks/0zb1wRJCCCGEEH/UWVuwhBBCCCGcplMGLKXU4/YFqjcppZYopWJdXZO7O97C36LllFKXK6W2K6VsSikZWdQGSqmp9kXndymlHnR1Pe5OKfW2UipXKbXN1bWcDJRSPZRSPymlUu3/5+92dU3uTCnlq5T6XSm12f55PuayWjrjJUKlVLDWutT++C6gf930EqJ1lFKTgR+11rVKqacAtNYPuLgst6WUSgZswOvA/VrrdS4uyS3ZF5nPAM7GWLJrLXC11jrVpYW5MaXUWKAceF9rPdDV9bg7pVQMEKO13qCUCgLWAxfJv9HWUUopIEBrXa6U8gJ+Ae7WWq9u71o6ZQtWXbiyCwA6X8p0sOMs/C1aQWudprXe4eo6TgIjgV1a6z1aawvwCcZi9KKVtNYrgEJX13Gy0Fpna6032B+XAWnI2r2tpg3l9qde9ptLfsd3yoAFoJSao5TKAqYD/3B1PSeZhgt/C+FKsvC8cBtKqXhgGLDGtZW4N6WUh1JqE5AL/KC1dsnnedIGLKXUUqXUtiZuFwJorWdprXtgLFB9h2urdQ8n+kzt+7R64e/OpjmfpxCic1BKBQILMFY+KT3R/uLYtNZWrfVQjCspI5VSLrmU3aaZ3DuyEy1S3UAK8C3wqBPLOSm0cuFvcQwt+DcqWq/ZC88L4Sr2vkILgBSt9eeurudkobUuVkr9BEwF2n1QxknbgnU8Sqm+DZ5eCKS7qpaThX3h778BF2itK1xdjxB2a4G+SqleSilv4CpgkYtrEuIIe6fst4A0rfWzrq7H3SmlIutGsSul/DAGuLjkd3xnHUW4AOiHMUorE7hFay3fatvgeAt/i5ZTSl0MvAREAsXAJq31FNdW5Z6UUtOA5wEP4G37OqmilZRSHwPjgAjgMPCo1votlxblxpRSZwIrga0Yv5MAHtZaf+u6qtyXUmow8B7G/3cTME9r/U+X1NIZA5YQQgghhDN1ykuEQgghhBDOJAFLCCGEEMLBJGAJIYQQQjiYBCwhhBBCCAeTgCWEEEII4WASsIQQQgghHEwClhBCCCGEg0nAEkIIIYRwsP8HF1hYGhB/dQMAAAAASUVORK5CYII=\n",
                  "text/plain": "<Figure size 720x432 with 1 Axes>"
                },
                "metadata": {
                  "needs_background": "light"
                }
              }
            ],
            "_view_module": "@jupyter-widgets/output",
            "_model_module_version": "1.0.0",
            "_view_count": null,
            "_view_module_version": "1.0.0",
            "layout": "IPY_MODEL_0b0f6f8f666e4e0293befa7cbbdbd0fd",
            "_model_module": "@jupyter-widgets/output"
          }
        },
        "ab864e2873b24f78be3442a7a483fd93": {
          "model_module": "@jupyter-widgets/controls",
          "model_name": "SliderStyleModel",
          "model_module_version": "1.5.0",
          "state": {
            "_view_name": "StyleView",
            "handle_color": null,
            "_model_name": "SliderStyleModel",
            "description_width": "",
            "_view_module": "@jupyter-widgets/base",
            "_model_module_version": "1.5.0",
            "_view_count": null,
            "_view_module_version": "1.2.0",
            "_model_module": "@jupyter-widgets/controls"
          }
        },
        "31ff9114cc844c0ab29cf0c7984a00cf": {
          "model_module": "@jupyter-widgets/base",
          "model_name": "LayoutModel",
          "model_module_version": "1.2.0",
          "state": {
            "_view_name": "LayoutView",
            "grid_template_rows": null,
            "right": null,
            "justify_content": null,
            "_view_module": "@jupyter-widgets/base",
            "overflow": null,
            "_model_module_version": "1.2.0",
            "_view_count": null,
            "flex_flow": null,
            "width": null,
            "min_width": null,
            "border": null,
            "align_items": null,
            "bottom": null,
            "_model_module": "@jupyter-widgets/base",
            "top": null,
            "grid_column": null,
            "overflow_y": null,
            "overflow_x": null,
            "grid_auto_flow": null,
            "grid_area": null,
            "grid_template_columns": null,
            "flex": null,
            "_model_name": "LayoutModel",
            "justify_items": null,
            "grid_row": null,
            "max_height": null,
            "align_content": null,
            "visibility": null,
            "align_self": null,
            "height": null,
            "min_height": null,
            "padding": null,
            "grid_auto_rows": null,
            "grid_gap": null,
            "max_width": null,
            "order": null,
            "_view_module_version": "1.2.0",
            "grid_template_areas": null,
            "object_position": null,
            "object_fit": null,
            "grid_auto_columns": null,
            "margin": null,
            "display": null,
            "left": null
          }
        },
        "0b0f6f8f666e4e0293befa7cbbdbd0fd": {
          "model_module": "@jupyter-widgets/base",
          "model_name": "LayoutModel",
          "model_module_version": "1.2.0",
          "state": {
            "_view_name": "LayoutView",
            "grid_template_rows": null,
            "right": null,
            "justify_content": null,
            "_view_module": "@jupyter-widgets/base",
            "overflow": null,
            "_model_module_version": "1.2.0",
            "_view_count": null,
            "flex_flow": null,
            "width": null,
            "min_width": null,
            "border": null,
            "align_items": null,
            "bottom": null,
            "_model_module": "@jupyter-widgets/base",
            "top": null,
            "grid_column": null,
            "overflow_y": null,
            "overflow_x": null,
            "grid_auto_flow": null,
            "grid_area": null,
            "grid_template_columns": null,
            "flex": null,
            "_model_name": "LayoutModel",
            "justify_items": null,
            "grid_row": null,
            "max_height": null,
            "align_content": null,
            "visibility": null,
            "align_self": null,
            "height": null,
            "min_height": null,
            "padding": null,
            "grid_auto_rows": null,
            "grid_gap": null,
            "max_width": null,
            "order": null,
            "_view_module_version": "1.2.0",
            "grid_template_areas": null,
            "object_position": null,
            "object_fit": null,
            "grid_auto_columns": null,
            "margin": null,
            "display": null,
            "left": null
          }
        }
      }
    }
  },
  "cells": [
    {
      "cell_type": "markdown",
      "metadata": {
        "id": "eo3NmmcT2jDL"
      },
      "source": [
        "# [HW13] Polynomial Regression & Regularization\n"
      ]
    },
    {
      "cell_type": "markdown",
      "metadata": {
        "id": "N2E2ENhc2uCF"
      },
      "source": [
        "지난번 시간까지는 linear 한 관계에 대해서 알아보았습니다. linear 한 관계란, 데이터를 가장 잘 설명해주는 **직선**을 찾는 것이었습니다. 하지만 우리의 데이터가 x,y 좌표에서 직선의 형태가 아닌 구부러진 형태로 되어있다면 linear 말고 다른 방법을 찾아야 할 것입니다. \n",
        "\n",
        "그래서 이번 시간에는 polynomial regression을 실습을 통해서 알아보도록 하겠습니다. 그리고 regularization을 통해서 어떻게 학습이 변화되는지 알아보겠습니다. \n",
        "\n",
        "이제부터 코드를 통해서 알아보도록 하겠습니다. \n"
      ]
    },
    {
      "cell_type": "markdown",
      "metadata": {
        "id": "1OjDjDZ36B60"
      },
      "source": [
        "## 1.1 A special case of multiple linear regression\n",
        "\n",
        "먼저 우리는 4차 polynomial function\n",
        "$$y = x^4 + x^3 - 4x^2$$\n",
        "을 이용해서 데이터를 생성해보도록 하겠습니다. 이전에 했던 것처럼 noise를 추가해서 생성하도록 하겠습니다. "
      ]
    },
    {
      "cell_type": "code",
      "metadata": {
        "id": "3LG7n_eJ2bYq"
      },
      "source": [
        "from matplotlib import pyplot\n",
        "from autograd import grad\n",
        "from autograd import numpy"
      ],
      "execution_count": null,
      "outputs": []
    },
    {
      "cell_type": "code",
      "metadata": {
        "id": "cylgvplM6bb9",
        "colab": {
          "base_uri": "https://localhost:8080/",
          "height": 264
        },
        "outputId": "a35eba18-c931-4851-8966-af7254e86731"
      },
      "source": [
        "numpy.random.seed(0)    # fix seed for reproducibility\n",
        "x = numpy.linspace(-3, 3, 20)\n",
        "y = x**4 + x**3 - 4*x**2 + 8*numpy.random.normal(size=len(x))\n",
        "pyplot.scatter(x, y);"
      ],
      "execution_count": null,
      "outputs": [
        {
          "output_type": "display_data",
          "data": {
            "image/png": "[encoded data removed]",
            "text/plain": [
              "<Figure size 432x288 with 1 Axes>"
            ]
          },
          "metadata": {
            "needs_background": "light"
          }
        }
      ]
    },
    {
      "cell_type": "markdown",
      "metadata": {
        "id": "geSErpX9cfT7"
      },
      "source": [
        "우리가 생성한 데이터는 곡선의 형태이기 때문에 직선으로 표현하는데에는 무리가 있습니다. \n",
        "\n",
        "그래서 우리는 polynomial function을 사용해서 표현하도록 하겠습니다. 이제 먼저 $d$ 차 곡선을 정의해보겠습니다. \n",
        "\n",
        "$$\\hat{y} = w_0 + w_1x + w_2x^2 + ... + w_dx^d$$\n",
        "\n",
        "$w$는 우리가 찾아야 할 계수들입니다. 우리는 주어진 $x, y$를 가장 잘 설명해줄 수 있는 $w$를 찾는 것이 목적입니다. \n",
        "\n",
        "이제 우리는 위의 식을 조금 변형하여 linear regression 문제처럼 바꾸어 보겠습니다. $x_i = x^i$라고 정의를 하면 다음과 같이 나타낼 수 있습니다. \n",
        "\n",
        "$$\\hat{y} = w_0 + w_1x_1 + w_2x_2 + ... + w_dx_d$$\n",
        "\n",
        "이제 polynomial regression 문제가 multiple linear regression 문제와 동일해졌습니다. 이것도 또한 이전에 한 것처럼 행렬의 형태로 나타낼 수 있습니다. \n",
        "\n",
        "$$\\hat{\\mathbf{y}} = \\begin{bmatrix}\n",
        "\\hat{y}^{(1)}  \\\\\n",
        "\\hat{y}^{(2)}\\\\\n",
        "\\vdots  \\\\\n",
        "\\hat{y}^{(N)}\n",
        "\\end{bmatrix} =\n",
        "\\begin{bmatrix}\n",
        "x_0^{(1)} &  x_1^{(1)} & \\cdots & x_d^{(1)} \\\\\n",
        "x_0^{(2)} &  x_1^{(2)} & \\cdots & x_d^{(2)} \\\\\n",
        "\\vdots & \\vdots & \\ddots & \\vdots \\\\\n",
        "x_0^{(N)} &  x_1^{(N)} & \\cdots & x_d^{(N)}\n",
        "\\end{bmatrix} \\begin{bmatrix}\n",
        "w_0  \\\\\n",
        "w_1\\\\\n",
        "\\vdots  \\\\\n",
        "w_d \n",
        "\\end{bmatrix} \n",
        "= \\mathbf{X}\\mathbf{w}$$\n",
        "\n",
        "이번 실습에서 3차항까지 고려해서 실습을 진행하도록 하겠습니다. \n",
        "\n",
        "코드로 살펴보겠습니다. "
      ]
    },
    {
      "cell_type": "code",
      "metadata": {
        "colab": {
          "base_uri": "https://localhost:8080/"
        },
        "id": "3H7qXunjegNC",
        "outputId": "07ae850d-dcdf-460b-b21d-fa0ac12c55fb"
      },
      "source": [
        "degree = 3\n",
        "\n",
        "def polynomial_features(x, degree):\n",
        "    \"\"\" Generate polynomial features for x.\"\"\"\n",
        "    \n",
        "    X = numpy.empty((len(x), degree+1))\n",
        "    for i in range(degree+1):\n",
        "        X[:,i] = x**i\n",
        "    return X\n",
        "\n",
        "X = polynomial_features(x, degree)\n",
        "print(X.shape)"
      ],
      "execution_count": null,
      "outputs": [
        {
          "output_type": "stream",
          "name": "stdout",
          "text": [
            "(20, 4)\n"
          ]
        }
      ]
    },
    {
      "cell_type": "markdown",
      "metadata": {
        "id": "EUm-FjbQestC"
      },
      "source": [
        "## 1.2 Scale the data, train the model\n",
        "\n",
        "이제 기존에 했던 것처럼 입력 변수들을 정규화 시켜주고, 학습을 진행해보도록 하겠습니다. 이번에는 scikit-learn 패키지 안에 있는 min max sclaer 를 사용하겠습니다. "
      ]
    },
    {
      "cell_type": "code",
      "metadata": {
        "id": "1Nf9W19z6cmQ"
      },
      "source": [
        "from sklearn.preprocessing import MinMaxScaler\n",
        "\n",
        "min_max_scaler = MinMaxScaler()\n",
        "X_scaled = min_max_scaler.fit_transform(X)\n",
        "X_scaled[:,0] = 1   # the column for intercept"
      ],
      "execution_count": null,
      "outputs": []
    },
    {
      "cell_type": "markdown",
      "metadata": {
        "id": "qcYIUoYufYvw"
      },
      "source": [
        "이제 [HW12]에서 했던대로 학습을 진행해보겠습니다. "
      ]
    },
    {
      "cell_type": "code",
      "metadata": {
        "id": "W0_-onCse969"
      },
      "source": [
        "def linear_regression(params, X):\n",
        "    '''\n",
        "    The linear regression model in matrix form.\n",
        "    Arguments:\n",
        "      params: 1D array of weights for the linear model\n",
        "      X     : 2D array of input values\n",
        "    Returns:\n",
        "      1D array of predicted values\n",
        "    '''\n",
        "    return numpy.dot(X, params)\n",
        "\n",
        "def mse_loss(params, model, X, y):\n",
        "    '''\n",
        "    The mean squared error loss function.\n",
        "    Arguments:\n",
        "      params: 1D array of weights for the linear model\n",
        "      model : function for the linear regression model\n",
        "      X     : 2D array of input values\n",
        "      y     : 1D array of predicted values\n",
        "    Returns:\n",
        "      float, mean squared error\n",
        "    '''\n",
        "    y_pred = model(params, X)\n",
        "    return numpy.mean( numpy.sum((y-y_pred)**2) )\n",
        "\n",
        "gradient = grad(mse_loss)"
      ],
      "execution_count": null,
      "outputs": []
    },
    {
      "cell_type": "code",
      "metadata": {
        "colab": {
          "base_uri": "https://localhost:8080/"
        },
        "id": "6yEoOXrlfgKp",
        "outputId": "faa6266f-57c0-47df-b2f7-af4075dd2e5a"
      },
      "source": [
        "max_iter = 3000\n",
        "alpha = 0.01\n",
        "params = numpy.zeros(X_scaled.shape[1])\n",
        "descent = numpy.ones(X_scaled.shape[1])\n",
        "i = 0\n",
        "\n",
        "from sklearn.metrics import mean_absolute_error\n",
        "\n",
        "while numpy.linalg.norm(descent) > 0.01 and i < max_iter:\n",
        "    descent = gradient(params, linear_regression, X_scaled, y)\n",
        "    params = params - descent * alpha\n",
        "    loss = mse_loss(params, linear_regression, X_scaled, y)\n",
        "    mae = mean_absolute_error(y, X_scaled@params)\n",
        "    if i%100 == 0:\n",
        "        print(\"iteration {}, loss = {}, mae = {}\".format(i, loss, mae))\n",
        "    i += 1"
      ],
      "execution_count": null,
      "outputs": [
        {
          "output_type": "stream",
          "name": "stdout",
          "text": [
            "iteration 0, loss = 5434.767518111348, mae = 11.05718775676392\n",
            "iteration 100, loss = 1300.4768479787672, mae = 6.885099348931476\n",
            "iteration 200, loss = 1281.308959359777, mae = 6.8639053389713665\n",
            "iteration 300, loss = 1272.9896965024661, mae = 6.807943451695349\n",
            "iteration 400, loss = 1267.4477500708404, mae = 6.760476747247461\n",
            "iteration 500, loss = 1263.7497451381248, mae = 6.721622404779564\n",
            "iteration 600, loss = 1261.282144135704, mae = 6.689879731162117\n",
            "iteration 700, loss = 1259.6355657998567, mae = 6.663949878547802\n",
            "iteration 800, loss = 1258.5368386500606, mae = 6.642768513961068\n",
            "iteration 900, loss = 1257.8036810933152, mae = 6.625466061127554\n",
            "iteration 1000, loss = 1257.314460450035, mae = 6.611332180986304\n",
            "iteration 1100, loss = 1256.9880137870919, mae = 6.5997866175015245\n",
            "iteration 1200, loss = 1256.7701827834117, mae = 6.5903553760560865\n",
            "iteration 1300, loss = 1256.6248287285202, mae = 6.582651263968432\n",
            "iteration 1400, loss = 1256.5278370197357, mae = 6.576357994582585\n",
            "iteration 1500, loss = 1256.4631164890282, mae = 6.571217202352118\n",
            "iteration 1600, loss = 1256.4199298378444, mae = 6.567017835832665\n",
            "iteration 1700, loss = 1256.391112292313, mae = 6.563587493120082\n",
            "iteration 1800, loss = 1256.3718829492707, mae = 6.5607853440170505\n",
            "iteration 1900, loss = 1256.3590516124232, mae = 6.558496348352909\n",
            "iteration 2000, loss = 1256.3504895307688, mae = 6.5566265330940485\n",
            "iteration 2100, loss = 1256.3447762334608, mae = 6.555099134350118\n",
            "iteration 2200, loss = 1256.3409638701312, mae = 6.553851445888969\n",
            "iteration 2300, loss = 1256.338419960131, mae = 6.552832244778408\n",
            "iteration 2400, loss = 1256.336722462403, mae = 6.551999688466384\n",
            "iteration 2500, loss = 1256.3355897578117, mae = 6.551319596965787\n",
            "iteration 2600, loss = 1256.334833927822, mae = 6.550764049620217\n",
            "iteration 2700, loss = 1256.33432957834, mae = 6.550310238841959\n",
            "iteration 2800, loss = 1256.333993036521, mae = 6.549939533763262\n",
            "iteration 2900, loss = 1256.3337684692315, mae = 6.549636715359735\n"
          ]
        }
      ]
    },
    {
      "cell_type": "markdown",
      "metadata": {
        "id": "U1G2P359f1Z5"
      },
      "source": [
        "이제 학습된 parameter들을 보겠습니다. "
      ]
    },
    {
      "cell_type": "code",
      "metadata": {
        "colab": {
          "base_uri": "https://localhost:8080/"
        },
        "id": "Agol8H8zf6G1",
        "outputId": "217f2797-ea25-4b87-de82-4ae63fde6346"
      },
      "source": [
        "params"
      ],
      "execution_count": null,
      "outputs": [
        {
          "output_type": "execute_result",
          "data": {
            "text/plain": [
              "array([-22.51572398,   6.75930601,  41.30788709,  30.0105898 ])"
            ]
          },
          "metadata": {},
          "execution_count": 7
        }
      ]
    },
    {
      "cell_type": "markdown",
      "metadata": {
        "id": "rqNzZggih23T"
      },
      "source": [
        "원래 데이터와 함께 그래프로 표현해서 보겠습니다. "
      ]
    },
    {
      "cell_type": "code",
      "metadata": {
        "colab": {
          "base_uri": "https://localhost:8080/",
          "height": 264
        },
        "id": "TSmBiJa5h000",
        "outputId": "d26ece4d-8361-455d-eda7-29a8dfb61be8"
      },
      "source": [
        "xgrid = numpy.linspace(x.min(), x.max(), 30)\n",
        "Xgrid_poly_feat = polynomial_features(xgrid, degree)\n",
        "Xgrid_scaled = min_max_scaler.transform(Xgrid_poly_feat)\n",
        "Xgrid_scaled[:,0] = 1 \n",
        "pyplot.scatter(x, y, c='r', label='true')\n",
        "pyplot.plot(xgrid, Xgrid_scaled@params, label='predicted')\n",
        "pyplot.legend();"
      ],
      "execution_count": null,
      "outputs": [
        {
          "output_type": "display_data",
          "data": {
            "image/png": "[encoded data removed]",
            "text/plain": [
              "<Figure size 432x288 with 1 Axes>"
            ]
          },
          "metadata": {
            "needs_background": "light"
          }
        }
      ]
    },
    {
      "cell_type": "markdown",
      "metadata": {
        "id": "mqUDBTThh8mD"
      },
      "source": [
        "## 1.3 Observe underfitting & overfitting\n",
        "\n",
        "우리는 위에서 모델을 만들 때 3차항으로 설정을 한 뒤 학습을 진행하였습니다. 과연 3차항으로 설정한 것이 좋은 선택이었을까요? \n",
        "\n",
        "지금부터 우리는 1부터 15까지 다양한 차수를 가지고 학습을 하면서 변화를 지켜보겠습니다. 우리는 ipywidget 패키지를 통해서 어떻게 변화하는지 보겠습니다. "
      ]
    },
    {
      "cell_type": "code",
      "metadata": {
        "colab": {
          "base_uri": "https://localhost:8080/"
        },
        "id": "g08ELwo_heCp",
        "outputId": "ae6a9613-9770-41dc-bfd3-11362b1f65ad"
      },
      "source": [
        "from urllib.request import urlretrieve\n",
        "URL = 'https://raw.githubusercontent.com/engineersCode/EngComp6_deeplearning/master/scripts/plot_helpers.py'\n",
        "urlretrieve(URL, 'plot_helpers.py')"
      ],
      "execution_count": null,
      "outputs": [
        {
          "output_type": "execute_result",
          "data": {
            "text/plain": [
              "('plot_helpers.py', <http.client.HTTPMessage at 0x7f94378747d0>)"
            ]
          },
          "metadata": {},
          "execution_count": 9
        }
      ]
    },
    {
      "cell_type": "code",
      "metadata": {
        "colab": {
          "base_uri": "https://localhost:8080/",
          "height": 424,
          "referenced_widgets": [
            "1f12e7c993b3498ebe38711055c6240c",
            "3cbdf319cad4492380d5d7ec6520c312",
            "46be4a294c974a798202f289eb62d39b",
            "89af136727ca4952af4ebbecf2ac993b",
            "6e84f16c78874560af48e39fc441a4e3",
            "4872d8d4701f4a72a057bf104c589b7d",
            "ea5ac67258d94f2c9df1e059cc959703"
          ]
        },
        "id": "OsXlV5D_h5k1",
        "outputId": "95b37509-9197-4858-99c5-bb7df6191df7"
      },
      "source": [
        "from plot_helpers import interact_polyreg\n",
        "\n",
        "max_degree = 15\n",
        "interact_polyreg(max_degree, x, y)"
      ],
      "execution_count": null,
      "outputs": [
        {
          "output_type": "display_data",
          "data": {
            "application/vnd.jupyter.widget-view+json": {
              "model_id": "1f12e7c993b3498ebe38711055c6240c",
              "version_minor": 0,
              "version_major": 2
            },
            "text/plain": [
              "interactive(children=(IntSlider(value=8, description='degree', max=15, min=1), Output()), _dom_classes=('widge…"
            ]
          },
          "metadata": {}
        }
      ]
    },
    {
      "cell_type": "markdown",
      "metadata": {
        "id": "WuO32RbwsoKT"
      },
      "source": [
        "### 1.3.1 Underfitting\n",
        "\n",
        "위 셀에서 degree를 1로 설정을 하면 우리의 데이터와 가장 잘 맞는 직선을 찾아줍니다. \n",
        "\n",
        "직선은 너무 간단해서 데이터가 흩뿌려져 있을 때는 그 데이터를 잘 설명하지 못합니다. \n",
        "\n",
        "이것을 **underfitting** 되었다고 합니다. Underfitting 에서는 우리의 예측 값이 **high bias, low variance**의 성질을 가지게 됩니다. \n",
        "\n",
        "Bias, variance 의 개념을 이해하기 쉽게 예시를 들어서 설명해보겠습니다. \n",
        "\n"
      ]
    },
    {
      "cell_type": "markdown",
      "metadata": {
        "id": "03ZdMJbjYORD"
      },
      "source": [
        "<img src=\"https://lh3.googleusercontent.com/rq_iMVSuIK1K4ykF9RQnF05hH6xxWm3lmNPWuQ3hfK9r4-3GBIuCxCW3L7QH53M3EIwbVWOcaRiRLDc0AIJ-0uq8-qzavpSWPceQ1lchq-ZPF16l3KLst24-x6MbGYFqQbEJmEI3gEc\n",
        "\" width=\"500\" height=\"400\" />"
      ]
    },
    {
      "cell_type": "markdown",
      "metadata": {
        "id": "dHWxwR9LYPNW"
      },
      "source": [
        "Underfitting 되었다면 low variance, high bias이기 때문에 저 위의 4개의 과녁에서 왼쪽 아래의 과녁에 해당됩니다. \n",
        "\n",
        "예측값들이 한군데에 몰려있어서 low variance이지만, 정답에서 멀기 때문에 high bias 인 것입니다. \n",
        "\n",
        "우리가 모델을 낮은 차수로 설정했다면, 그것은 직선에 가까워지고, 그렇다면 예측 값들은 직선의 근처에서만 나오기 때문에 low variance입니다. 그리고 직선은 흩뿌려진 데이터를 정확히 예측할 수 없기 때문에 정답에서 멀게 되고, high bias가 되는 것입니다. \n"
      ]
    },
    {
      "cell_type": "markdown",
      "metadata": {
        "id": "o3IQr0UuZoy9"
      },
      "source": [
        "### 1.3.2 Overfitting\n",
        "\n",
        "이제 degree를 높게 설정해 보겠습니다. Training error인 MAE 값이 점점 감소합니다. 그러면 degree가 제일 큰 15가 MAE값이 가장 작으니까 제일 잘 맞는 모델일까요? 아닙니다!!\n",
        "\n",
        "오른쪽으로 degree를 움직일수록 우리의 모델이 곡선을 이루면서 모든 training point를 지나게 됩니다. 하지만 이제 새로운 데이터가 들어오게 된다면 어떻게 될까요? Training data를 모두 커버하려고 매우 복잡하기 때문에 새로운 데이터를 잘 못 맞추게 됩니다. 예를 들어 위에서 degree 15 일 때 맨 오른 쪽 두 점 가운데로 새로운 데이터가 들어온다면, 기존의 데이터들과 매우 비슷한 데이터이지만 우리의 모델은 매우 큰 값을 예측하게 되어 큰 오류 값을 가지게 됩니다. \n",
        "\n",
        "이것을 우리는 **overfitting**이라고 부르고, **high variance, low bias**이기 때문에 위 과녁 그림 예시에서 오른쪽 위에 해당하게 됩니다. \n",
        "\n",
        "Overfitting 은 training 과정에서는 작은 에러를 가지기에 찾아내기가 힘듭니다. 이제부터는 regularization을 통해서 overfitting을 막는 방법을 알아보겠습니다. \n",
        "\n"
      ]
    },
    {
      "cell_type": "markdown",
      "metadata": {
        "id": "LJLefLyslszc"
      },
      "source": [
        "## 1.4 Regularization\n",
        "\n",
        "Regularization은 overfitting 을 막는 방법입니다. Cost function에서 새로운 식을 추가해서 복잡한 모델이 되는 것을 막아주게 됩니다. 먼저 우리의 기존 모델은 다음과 같습니다. \n",
        "\n",
        "$$\\hat{y} = w_0 + w_1x + w_2x^2 + ... + w_dx^d$$\n",
        "\n",
        "차수를 가진 항들이 모델을 복잡하게 만듭니다. 그래서 그들의 계수값에 제한 조건을 추가합니다. \n",
        "\n",
        "보편적인 방법은 regularization term 인 $\\lambda\\sum_{j=1}^dw_j^2$를 추가하는 것 입니다. Mean-squared error를 사용한 cost function에 추가하면 다음과 같습니다. \n",
        "\n",
        "$$L(\\mathbf{w}) = \\frac{1}{N} \\lVert \\mathbf{y} - \\mathbf{Xw} \\rVert^2 + \\lambda \\sum_{j=1}^d w_j^2$$\n",
        "\n",
        "새롭게 만든 cost function은 계수들이 작은 값이 되는 것을 선호하게 됩니다. 왜냐하면 계수들이 커지게 되면 두번째 항이 커지게 돼서 cost 값이 늘어나게 되기 때문입니다. \n",
        "\n",
        "위 식에서 $\\lambda$는 regularization parameter 입니다. 우리가 얼마나 큰 제약을 줄 것인가를 결정하게 됩니다. $\\lambda$가 큰 값을 가질수록 계수들을 더 작게 할 수 있습니다. \n",
        "\n",
        "이번 실습에서는 $\\lambda$값을 1로 설정하겠습니다. \n"
      ]
    },
    {
      "cell_type": "code",
      "metadata": {
        "id": "CMkyX5hxqUZn"
      },
      "source": [
        "def regularized_loss(params, model, X, y, _lambda=1.0):\n",
        "    '''\n",
        "    The mean squared error loss function with an L2 penalty.\n",
        "    Arguments:\n",
        "      params: 1D array of weights for the linear model\n",
        "      model : function for the linear regression model\n",
        "      X     : 2D array of input values\n",
        "      y     : 1D array of predicted values\n",
        "      _lambda: regularization parameter, default 1.0\n",
        "    Returns:\n",
        "      float, regularized mean squared error\n",
        "    '''\n",
        "    y_pred = model(params, X)\n",
        "    return numpy.mean( numpy.sum((y-y_pred)**2) ) + _lambda * numpy.sum( params[1:]**2 )\n",
        "\n",
        "gradient = grad(regularized_loss)     "
      ],
      "execution_count": null,
      "outputs": []
    },
    {
      "cell_type": "code",
      "metadata": {
        "id": "-Gv01HFPovXP"
      },
      "source": [
        "no_regularization_params = params.copy()"
      ],
      "execution_count": null,
      "outputs": []
    },
    {
      "cell_type": "code",
      "metadata": {
        "colab": {
          "base_uri": "https://localhost:8080/"
        },
        "id": "ZFCFimSvowt-",
        "outputId": "40918e65-ab02-42c4-b2f7-a4bbdd39edc2"
      },
      "source": [
        "max_iter = 3000\n",
        "alpha = 0.01\n",
        "params = numpy.zeros(X_scaled.shape[1])\n",
        "descent = numpy.ones(X_scaled.shape[1])\n",
        "i = 0\n",
        "\n",
        "from sklearn.metrics import mean_absolute_error\n",
        "\n",
        "while numpy.linalg.norm(descent) > 0.01 and i < max_iter:\n",
        "    descent = gradient(params, linear_regression, X_scaled, y)\n",
        "    params = params - descent * alpha\n",
        "    loss = mse_loss(params, linear_regression, X_scaled, y)\n",
        "    mae = mean_absolute_error(y, X_scaled@params)\n",
        "    if i%100 == 0:\n",
        "        print(\"iteration {}, loss = {}, mae = {}\".format(i, loss, mae))\n",
        "    i += 1"
      ],
      "execution_count": null,
      "outputs": [
        {
          "output_type": "stream",
          "name": "stdout",
          "text": [
            "iteration 0, loss = 5434.767518111348, mae = 11.05718775676392\n",
            "iteration 100, loss = 1785.9852202374184, mae = 6.983886996350374\n",
            "iteration 200, loss = 1764.2597057711018, mae = 6.966518785947395\n",
            "iteration 300, loss = 1763.5702631188328, mae = 6.965728405272657\n"
          ]
        }
      ]
    },
    {
      "cell_type": "markdown",
      "metadata": {
        "id": "y6NzRXSSo7Ge"
      },
      "source": [
        "이제 regularization을 추가한 것과 추가하지 않은 것을 비교해보겠습니다. "
      ]
    },
    {
      "cell_type": "code",
      "metadata": {
        "colab": {
          "base_uri": "https://localhost:8080/",
          "height": 334
        },
        "id": "ztnU2EBlozzv",
        "outputId": "509d64bd-b510-48f7-f64c-aa75a007bc57"
      },
      "source": [
        "print(\"weights without regularization\")\n",
        "print(no_regularization_params)\n",
        "print(\"weights with regularization\")\n",
        "print(params)\n",
        "\n",
        "pyplot.scatter(x, y, c='r', label='true')\n",
        "pyplot.plot(xgrid, Xgrid_scaled@no_regularization_params, label='w/o regularization')\n",
        "pyplot.plot(xgrid, Xgrid_scaled@params, label='with regularization')\n",
        "pyplot.legend();"
      ],
      "execution_count": null,
      "outputs": [
        {
          "output_type": "stream",
          "name": "stdout",
          "text": [
            "weights without regularization\n",
            "[-22.51572398   6.75930601  41.30788709  30.0105898 ]\n",
            "weights with regularization\n",
            "[-11.13750882  12.48522096  28.26626633  11.09211867]\n"
          ]
        },
        {
          "output_type": "display_data",
          "data": {
            "image/png": "[encoded data removed]",
            "text/plain": [
              "<Figure size 432x288 with 1 Axes>"
            ]
          },
          "metadata": {
            "needs_background": "light"
          }
        }
      ]
    },
    {
      "cell_type": "markdown",
      "metadata": {
        "id": "XzCNZCl3pLOT"
      },
      "source": [
        "더 다양한 차수에서 regularization을 비교해 보겠습니다. "
      ]
    },
    {
      "cell_type": "code",
      "metadata": {
        "colab": {
          "base_uri": "https://localhost:8080/",
          "height": 580,
          "referenced_widgets": [
            "f8f1c31bd1d040a4ad455d7bb5708afb",
            "d6581170f7c141f0a0c5b48e26de3acf",
            "c2f2ebcb2a11465581c42a3fd67e1405",
            "74ffc9e528054d19828fe71980b06ad3",
            "ab864e2873b24f78be3442a7a483fd93",
            "31ff9114cc844c0ab29cf0c7984a00cf",
            "0b0f6f8f666e4e0293befa7cbbdbd0fd"
          ]
        },
        "id": "s9k59geepBQY",
        "outputId": "5dfeb7aa-aa40-44df-b465-ce279eb5f03f"
      },
      "source": [
        "interact_polyreg(max_degree, x, y, regularized=True)"
      ],
      "execution_count": null,
      "outputs": [
        {
          "output_type": "display_data",
          "data": {
            "application/vnd.jupyter.widget-view+json": {
              "model_id": "f8f1c31bd1d040a4ad455d7bb5708afb",
              "version_minor": 0,
              "version_major": 2
            },
            "text/plain": [
              "interactive(children=(IntSlider(value=8, description='degree', max=15, min=1), Output()), _dom_classes=('widge…"
            ]
          },
          "metadata": {}
        }
      ]
    },
    {
      "cell_type": "markdown",
      "metadata": {
        "id": "_IsqGuOVpTTJ"
      },
      "source": [
        "Degree가 커질수록 regularization의 중요성이 들어나게 됩니다. 이제 높은 차수에서 예측 모델이 이리저리 움직이는 모습이 아닌 부드럽게 학습 데이터들을 지나가는 모습을 볼 수 잇습니다. 이렇게 된다면 새롭게 들어오는 데이터도 잘 예측할 수 있게 될 것입니다. "
      ]
    },
    {
      "cell_type": "markdown",
      "metadata": {
        "id": "qGEjDrhaqHnF"
      },
      "source": [
        "이번 시간에는 polynomial regression과 regularization에 대해서 알아보았습니다. 다음시간에는 실제 데이터에서의 multiple logistic regression을 알아보고, regularization을 추가해보는 실습을 진행해보도록 하겠습니다. "
      ]
    },
    {
      "cell_type": "code",
      "metadata": {
        "id": "2v_XfAJaqGPM"
      },
      "source": [
        ""
      ],
      "execution_count": null,
      "outputs": []
    }
  ]
}
{
  "nbformat": 4,
  "nbformat_minor": 0,
  "metadata": {
    "colab": {
      "name": "[HW5]Language_Model_solution.ipynb",
      "provenance": [],
      "collapsed_sections": []
    },
    "kernelspec": {
      "name": "python3",
      "display_name": "Python 3"
    },
    "language_info": {
      "name": "python"
    },
    "accelerator": "GPU"
  },
  "cells": [
    {
      "cell_type": "markdown",
      "metadata": {
        "id": "jR26RFkwXtvi"
      },
      "source": [
        "# **[HW5] Language Model**\n",
        "1. DataLoader\n",
        "2. Model\n",
        "3. Trainer\n",
        "4. Generation\n",
        "\n",
        "이번 실습에서는 RNN기반의 Language Model를 구현해서 텍스트를 직접 생성해보는 실습을 진행해보겠습니다.\n",
        "\n",
        "- dataset: WikiText2 (https://github.com/pytorch/examples/tree/master/word_language_model/data/wikitext-2)\n",
        "- model: LSTM\n"
      ]
    },
    {
      "cell_type": "markdown",
      "metadata": {
        "id": "crVJ36mMlaXP"
      },
      "source": [
        "\n",
        "\n",
        "## Import packages"
      ]
    },
    {
      "cell_type": "markdown",
      "metadata": {
        "id": "zpvlE_XOWS33"
      },
      "source": [
        "런타임의 유형을 변경해줍니다.\n",
        "\n",
        "상단 메뉴에서 [런타임]->[런타임유형변경]->[하드웨어가속기]->[GPU]\n",
        "\n",
        "변경 이후 아래의 cell을 실행 시켰을 때, torch.cuda.is_avialable()이 True가 나와야 합니다.\n",
        "\n"
      ]
    },
    {
      "cell_type": "code",
      "metadata": {
        "id": "cqVdEuPQzMAH",
        "colab": {
          "base_uri": "https://localhost:8080/"
        },
        "outputId": "81146039-bf1a-453b-e90e-18f40bb8ec37"
      },
      "source": [
        "import torch\n",
        "import torch.nn as nn\n",
        "import torch.nn.functional as F\n",
        "import torchvision\n",
        "import torch.optim as optim\n",
        "print(torch.__version__)\n",
        "print(torch.cuda.is_available())"
      ],
      "execution_count": 1,
      "outputs": [
        {
          "output_type": "stream",
          "name": "stdout",
          "text": [
            "1.10.0+cu111\n",
            "True\n"
          ]
        }
      ]
    },
    {
      "cell_type": "code",
      "metadata": {
        "id": "2o3-HPdHLZma"
      },
      "source": [
        "import matplotlib.pyplot as plt\n",
        "import numpy as np\n",
        "import scipy as sp\n",
        "import tqdm\n",
        "import os\n",
        "import random\n",
        "import time\n",
        "import datetime\n",
        "\n",
        "# for reproducibility\n",
        "random.seed(1234)\n",
        "np.random.seed(1234)\n",
        "torch.backends.cudnn.deterministic = True\n",
        "torch.backends.cudnn.benchmark = False"
      ],
      "execution_count": 2,
      "outputs": []
    },
    {
      "cell_type": "markdown",
      "metadata": {
        "id": "T1GnKJCB4T_Q"
      },
      "source": [
        "# 1. DataLoader\n",
        "\n",
        "이전의 실습들에서 사용한것과 마찬가지로, PyTorch style의 dataloader를 먼저 만들어 두겠습니다."
      ]
    },
    {
      "cell_type": "markdown",
      "metadata": {
        "id": "wcNl0aWbS0OA"
      },
      "source": [
        "### Dataset\n",
        "\n",
        "저희가 이번 실습에서 사용할 데이터셋은 Wikipedia에 있는 영문 글들을 가져온 WikiTree dataset입니다.\n",
        "저희가 불러올 데이터는 가장 작은 WikiTree dataset에서 자주 사용되지 않는 단어나 영어가 아닌 단어들은 unknown token ([unk]) 으로 이미 전처리가 되어있습니다."
      ]
    },
    {
      "cell_type": "code",
      "metadata": {
        "id": "CKf8zNuISiC2"
      },
      "source": [
        "import urllib\n",
        "with urllib.request.urlopen('https://raw.githubusercontent.com/yunjey/pytorch-tutorial/master/tutorials/02-intermediate/language_model/data/train.txt') as f:\n",
        "    data = f.readlines()"
      ],
      "execution_count": 3,
      "outputs": []
    },
    {
      "cell_type": "code",
      "metadata": {
        "id": "jBLNOlRKSpOI",
        "colab": {
          "base_uri": "https://localhost:8080/"
        },
        "outputId": "d996d7c0-c4a2-4edf-9821-4d578c141a7d"
      },
      "source": [
        "print('num_sentence:',len(data))\n",
        "data[100]"
      ],
      "execution_count": 4,
      "outputs": [
        {
          "output_type": "stream",
          "name": "stdout",
          "text": [
            "num_sentence: 42068\n"
          ]
        },
        {
          "output_type": "execute_result",
          "data": {
            "text/plain": [
              "b\" plans that give advertisers discounts for maintaining or increasing ad spending have become permanent <unk> at the news <unk> and underscore the fierce competition between newsweek time warner inc. 's time magazine and <unk> b. <unk> 's u.s. news & world report \\n\""
            ]
          },
          "metadata": {},
          "execution_count": 4
        }
      ]
    },
    {
      "cell_type": "code",
      "source": [
        "data[100].split()"
      ],
      "metadata": {
        "colab": {
          "base_uri": "https://localhost:8080/"
        },
        "id": "SYouCxF8dP19",
        "outputId": "39b19fed-5022-4090-b153-6454e7a49a47"
      },
      "execution_count": 5,
      "outputs": [
        {
          "output_type": "execute_result",
          "data": {
            "text/plain": [
              "[b'plans',\n",
              " b'that',\n",
              " b'give',\n",
              " b'advertisers',\n",
              " b'discounts',\n",
              " b'for',\n",
              " b'maintaining',\n",
              " b'or',\n",
              " b'increasing',\n",
              " b'ad',\n",
              " b'spending',\n",
              " b'have',\n",
              " b'become',\n",
              " b'permanent',\n",
              " b'<unk>',\n",
              " b'at',\n",
              " b'the',\n",
              " b'news',\n",
              " b'<unk>',\n",
              " b'and',\n",
              " b'underscore',\n",
              " b'the',\n",
              " b'fierce',\n",
              " b'competition',\n",
              " b'between',\n",
              " b'newsweek',\n",
              " b'time',\n",
              " b'warner',\n",
              " b'inc.',\n",
              " b\"'s\",\n",
              " b'time',\n",
              " b'magazine',\n",
              " b'and',\n",
              " b'<unk>',\n",
              " b'b.',\n",
              " b'<unk>',\n",
              " b\"'s\",\n",
              " b'u.s.',\n",
              " b'news',\n",
              " b'&',\n",
              " b'world',\n",
              " b'report']"
            ]
          },
          "metadata": {},
          "execution_count": 5
        }
      ]
    },
    {
      "cell_type": "code",
      "source": [
        "# \"나는 밥을 먹는다.\"\n",
        "kor_data = \"나는 밥을 먹는다.\"\n",
        "kor_data.split()"
      ],
      "metadata": {
        "colab": {
          "base_uri": "https://localhost:8080/"
        },
        "id": "rRQUPLbpdbwU",
        "outputId": "09407193-c492-49b3-deb9-9f6a82123a33"
      },
      "execution_count": 6,
      "outputs": [
        {
          "output_type": "execute_result",
          "data": {
            "text/plain": [
              "['나는', '밥을', '먹는다.']"
            ]
          },
          "metadata": {},
          "execution_count": 6
        }
      ]
    },
    {
      "cell_type": "code",
      "source": [
        ""
      ],
      "metadata": {
        "id": "RWBv1J5XdbNx"
      },
      "execution_count": 6,
      "outputs": []
    },
    {
      "cell_type": "code",
      "metadata": {
        "id": "OfLTv1EPbSwj",
        "colab": {
          "base_uri": "https://localhost:8080/",
          "height": 265
        },
        "outputId": "74adb73f-9d19-4249-b52a-f50e15c60560"
      },
      "source": [
        "seq_length_list = []\n",
        "for line in data:\n",
        "    seq_length_list.append(len(line.split()))\n",
        "\n",
        "counts, bins = np.histogram(seq_length_list, bins=20)\n",
        "plt.hist(bins[:-1], bins, weights=counts)\n",
        "plt.show()"
      ],
      "execution_count": 7,
      "outputs": [
        {
          "output_type": "display_data",
          "data": {
            "image/png": "[encoded data removed]",
            "text/plain": [
              "<Figure size 432x288 with 1 Axes>"
            ]
          },
          "metadata": {
            "needs_background": "light"
          }
        }
      ]
    },
    {
      "cell_type": "markdown",
      "metadata": {
        "id": "4SdattmOcRwC"
      },
      "source": [
        "데이터에 있는 문장 길이들의 histogram을 볼 때 대부분의 data의 문장 길이가 50에 미치지 못하기 때문에 \\\\\n",
        "model에 집어넣을 최대 문장 길이를 50으로 세팅해두도록 하겠습니다."
      ]
    },
    {
      "cell_type": "code",
      "metadata": {
        "id": "g7MuFqsKcd4U"
      },
      "source": [
        "max_seq_len = 50"
      ],
      "execution_count": 8,
      "outputs": []
    },
    {
      "cell_type": "markdown",
      "metadata": {
        "id": "IyMpsyX8TwYy"
      },
      "source": [
        "### Build Dictionary\n",
        "\n",
        "먼저 text 데이터를 모델에 넣어주기 위해서는 text에 존재하는 단어들을 index로 변환해주어야 합니다.\n",
        "\n",
        "이를 위해서는 단어를 index로 변환해주는 word2idx dictionary와 다시 index를 단어로 변환해주는 idx2word dictionary를 만들어야 합니다.\n"
      ]
    },
    {
      "cell_type": "code",
      "metadata": {
        "id": "cZmyZhcpTvZz"
      },
      "source": [
        "def build_dictionary(data, max_seq_len):\n",
        "    word2idx = {}\n",
        "    idx2word = {}\n",
        "    ## Build Dictionary\n",
        "    word2idx['<pad>'] = 0\n",
        "    word2idx['<unk>'] = 1\n",
        "    idx2word[0] = '<pad>'\n",
        "    idx2word[1] = '<unk>'\n",
        "    idx = 2\n",
        "    for line in data:\n",
        "        words = line.decode('utf-8').split()\n",
        "        words = words[:max_seq_len]        \n",
        "        ### Build Dictionary to convert word to index and index to word\n",
        "        ### YOUR CODE HERE (~ 5 lines)\n",
        "        for word in words:\n",
        "            if word not in word2idx:\n",
        "                word2idx[word] = idx\n",
        "                idx2word[idx] = word\n",
        "                idx += 1\n",
        "\n",
        "    return word2idx, idx2word\n",
        "\n",
        "word2idx, idx2word = build_dictionary(data, max_seq_len)"
      ],
      "execution_count": 9,
      "outputs": []
    },
    {
      "cell_type": "code",
      "metadata": {
        "id": "EPfV0OTc4Xdr",
        "outputId": "f7663ec8-7327-437a-c0c9-985348ae7473",
        "colab": {
          "base_uri": "https://localhost:8080/"
        }
      },
      "source": [
        "if len(word2idx) == len(idx2word) == 10000:\n",
        "    print(\"Test Passed!\")\n",
        "else:\n",
        "    raise AssertionError"
      ],
      "execution_count": 10,
      "outputs": [
        {
          "output_type": "stream",
          "name": "stdout",
          "text": [
            "Test Passed!\n"
          ]
        }
      ]
    },
    {
      "cell_type": "markdown",
      "metadata": {
        "id": "me_m8njoXHrv"
      },
      "source": [
        "### Preprocessing\n",
        "\n",
        "이제 앞서 만든 dictionary를 이용해서 text로된 데이터셋을 index들로 변환시키겠습니다."
      ]
    },
    {
      "cell_type": "code",
      "metadata": {
        "id": "I6fuARgzXEDU"
      },
      "source": [
        "def preprocess(data, word2idx, idx2word, max_seq_len):\n",
        "    tokens = []\n",
        "    for line in data:\n",
        "        words = line.decode('utf-8').split()\n",
        "        words = words[:max_seq_len]\n",
        "        ### Convert dataset with tokens\n",
        "        ### For each line, append <pad> token to match the number of max_seq_len\n",
        "        ### YOUR CODE HERE (~ 4 lines)\n",
        "        words += ['<pad>']*(max_seq_len - len(words))\n",
        "        for word in words:\n",
        "            token = word2idx[word]\n",
        "            tokens.append(token)\n",
        "\n",
        "    return tokens\n",
        "\n",
        "tokens = preprocess(data, word2idx, idx2word, max_seq_len)"
      ],
      "execution_count": 11,
      "outputs": []
    },
    {
      "cell_type": "code",
      "metadata": {
        "id": "VjyvqMgbZnfP",
        "outputId": "f5395696-9089-4635-8095-646c274dfc80",
        "colab": {
          "base_uri": "https://localhost:8080/"
        }
      },
      "source": [
        "if len(tokens) == 2103400:\n",
        "    print(\"Test Passed!\")\n",
        "else:\n",
        "    raise AssertionError"
      ],
      "execution_count": 12,
      "outputs": [
        {
          "output_type": "stream",
          "name": "stdout",
          "text": [
            "Test Passed!\n"
          ]
        }
      ]
    },
    {
      "cell_type": "markdown",
      "metadata": {
        "id": "jmQxX3BH-SAv"
      },
      "source": [
        "이제 전처리된 Token들을 문장 단위의 배열로 변환시켜 두겠습니다."
      ]
    },
    {
      "cell_type": "code",
      "metadata": {
        "id": "knMvtp23-Jye",
        "outputId": "0b39a31a-210a-4821-9c95-a3c6db352382",
        "colab": {
          "base_uri": "https://localhost:8080/"
        }
      },
      "source": [
        "tokens = np.array(tokens).reshape(-1, max_seq_len)\n",
        "print(tokens.shape)\n",
        "tokens[100]"
      ],
      "execution_count": 13,
      "outputs": [
        {
          "output_type": "stream",
          "name": "stdout",
          "text": [
            "(42068, 50)\n"
          ]
        },
        {
          "output_type": "execute_result",
          "data": {
            "text/plain": [
              "array([745,  93, 746, 739, 747, 181, 748, 467, 749, 740, 750, 154, 751,\n",
              "       752,   1, 160,  32, 753,   1,  48, 754,  32, 755, 756, 757, 728,\n",
              "       555, 758,  99, 119, 555, 733,  48,   1, 759,   1, 119, 237, 753,\n",
              "       230, 760, 347,   0,   0,   0,   0,   0,   0,   0,   0])"
            ]
          },
          "metadata": {},
          "execution_count": 13
        }
      ]
    },
    {
      "cell_type": "markdown",
      "metadata": {
        "id": "pceBqmtTZ9g9"
      },
      "source": [
        "### DataLoader\n",
        "\n",
        "이제 전처리된 dataset을 활용하여 PyTorch style의 dataset과 dataloader를 만들도록 하겠습니다.\n",
        "\n",
        "Token형태의 데이터를 PyTorch 스타일의 dataset으로 만들 때 주의할 점은, 추후 embedding matrix에서 indexing을 해주기 위해서 각 token이 LongTensor 형태로 정의되어야 한다는 점입니다."
      ]
    },
    {
      "cell_type": "code",
      "metadata": {
        "id": "1hAwhG1K9iBI"
      },
      "source": [
        "class LMDataset(torch.utils.data.Dataset):\n",
        "    def __init__(self, tokens):\n",
        "        super(LMDataset, self).__init__()\n",
        "        self.PAD = 0\n",
        "        self.UNK = 1\n",
        "        self.tokens = tokens\n",
        "        self._getitem(2)\n",
        "\n",
        "    def _getitem(self, index):\n",
        "        X = self.tokens[index]\n",
        "        y = np.concatenate((X[1:], [self.PAD]))\n",
        "\n",
        "        X = torch.from_numpy(X).unsqueeze(0).long()\n",
        "        y = torch.from_numpy(y).unsqueeze(0).long()\n",
        "\n",
        "        return X, y\n",
        "\n",
        "    def __getitem__(self, index):\n",
        "        X = self.tokens[index]\n",
        "        y = np.concatenate((X[1:], [self.PAD]))\n",
        "\n",
        "        X = torch.from_numpy(X).long()\n",
        "        y = torch.from_numpy(y).long()\n",
        "\n",
        "        return X, y\n",
        "\n",
        "    def __len__(self):\n",
        "        return len(self.tokens)"
      ],
      "execution_count": 14,
      "outputs": []
    },
    {
      "cell_type": "code",
      "metadata": {
        "id": "BiLNqM6kAda1",
        "outputId": "e97b3551-80f9-4398-a1d4-59fed80883b5",
        "colab": {
          "base_uri": "https://localhost:8080/"
        }
      },
      "source": [
        "batch_size = 64\n",
        "dataset = LMDataset(tokens)\n",
        "dataloader = torch.utils.data.DataLoader(dataset, batch_size=batch_size, shuffle=True)\n",
        "\n",
        "print(len(dataset))\n",
        "print(len(dataloader))"
      ],
      "execution_count": 15,
      "outputs": [
        {
          "output_type": "stream",
          "name": "stdout",
          "text": [
            "42068\n",
            "658\n"
          ]
        }
      ]
    },
    {
      "cell_type": "markdown",
      "metadata": {
        "id": "b1nhBnqWxw4a"
      },
      "source": [
        "# 2. Model\n",
        "\n",
        "이번 section에서는 Language Modeling을 위한 Recurrent Model을 직접 만들어보도록 하겠습니다.\n",
        "\n",
        "Standard한 Recurrent Neural Network (RNN) model은 vanishing gradient 문제에 취약하기 때문에, 이번 실습에서는 변형된 RNN구조인 LSTM model을 활용하도록 하겠습니다.\n"
      ]
    },
    {
      "cell_type": "markdown",
      "metadata": {
        "id": "aOoNVt3MDOjl"
      },
      "source": [
        "### LSTM"
      ]
    },
    {
      "cell_type": "markdown",
      "metadata": {
        "id": "9lycT_9vwaJN"
      },
      "source": [
        "LSTM model의 전체적인 구조와 각 gate의 수식은 아래와 같습니다.\n",
        "\n",
        "![](https://drive.google.com/uc?export=view&id=1n93tpNW55Xl4GxZNcJcbUVRhuNCGH38h)"
      ]
    },
    {
      "cell_type": "markdown",
      "metadata": {
        "id": "S1h6nfvYwN8n"
      },
      "source": [
        "![](https://drive.google.com/uc?export=view&id=1nH9U5iD9cO6OVVTbrx-LjypRvcWzbOCU)\n",
        "\n",
        "LSTM의 자세한 동작방식이 궁금하신 분은 아래의 블로그를 참조해주세요.\n",
        "\n",
        "https://colah.github.io/posts/2015-08-Understanding-LSTMs/"
      ]
    },
    {
      "cell_type": "code",
      "metadata": {
        "id": "YDNAysVqxxOk"
      },
      "source": [
        "class LSTMCell(nn.Module):\n",
        "    def __init__(self, input_size, hidden_size):\n",
        "        super(LSTMCell, self).__init__()\n",
        "        # input-gate\n",
        "        self.Wi = nn.Linear(input_size + hidden_size, hidden_size)\n",
        "        # forget-gate\n",
        "        self.Wf = nn.Linear(input_size + hidden_size, hidden_size)\n",
        "        # gate-gate\n",
        "        self.Wg = nn.Linear(input_size + hidden_size, hidden_size)\n",
        "        # output-gate\n",
        "        self.Wo = nn.Linear(input_size + hidden_size, hidden_size)\n",
        "\n",
        "        # non-linearity\n",
        "        self.sigmoid = nn.Sigmoid()\n",
        "        self.tanh = nn.Tanh()\n",
        "\n",
        "    def forward(self, x, h_0, c_0):\n",
        "        \"\"\"\n",
        "        Inputs\n",
        "            input (x): [batch_size, input_size]\n",
        "            hidden_state (h_0): [batch_size, hidden_size]\n",
        "            cell_state (c_0): [batch_size, hidden_size]\n",
        "        Outputs\n",
        "            next_hidden_state (h_1): [batch_size, hidden_size]\n",
        "            next_cell_state (c_1): [batch_size, hidden_size]    \n",
        "        \"\"\"\n",
        "        h_1, c_1 = None, None\n",
        "        input = torch.cat((x, h_0), 1)\n",
        "        # Implement LSTM cell as noted above\n",
        "        ### YOUR CODE HERE (~ 6 lines)\n",
        "        i = self.sigmoid(self.Wi(input))\n",
        "        f = self.sigmoid(self.Wf(input))\n",
        "        g = self.tanh(self.Wg(input))\n",
        "        o = self.sigmoid(self.Wo(input))\n",
        "        c_1 = f * c_0 + i * g\n",
        "        h_1 = o * self.tanh(c_1)\n",
        "\n",
        "        return h_1, c_1"
      ],
      "execution_count": 16,
      "outputs": []
    },
    {
      "cell_type": "code",
      "metadata": {
        "id": "N0Tff2VCJ56D",
        "outputId": "e57289aa-f49a-44f0-a400-3b88ae82517e",
        "colab": {
          "base_uri": "https://localhost:8080/"
        }
      },
      "source": [
        "def test_lstm():\n",
        "    batch_size = 2\n",
        "    input_size = 5\n",
        "    hidden_size = 3\n",
        "\n",
        "    #torch.manual_seed(1234)\n",
        "    lstm = LSTMCell(input_size ,hidden_size)\n",
        "    def init_weights(m):\n",
        "        if isinstance(m, nn.Linear):\n",
        "            torch.nn.init.constant_(m.weight, 0.1)\n",
        "            m.bias.data.fill_(0.01)\n",
        "    lstm.apply(init_weights)\n",
        "\n",
        "    x = torch.ones(batch_size, input_size)\n",
        "    hx = torch.zeros(batch_size, hidden_size)\n",
        "    cx = torch.zeros(batch_size, hidden_size)\n",
        "\n",
        "    hx, cx = lstm(x, hx, cx)\n",
        "    assert hx.detach().allclose(torch.tensor([[0.1784, 0.1784, 0.1784], \n",
        "                                              [0.1784, 0.1784, 0.1784]]), atol=2e-1), \\\n",
        "            f\"Output of the hidden state does not match.\"\n",
        "    assert cx.detach().allclose(torch.tensor([[0.2936, 0.2936, 0.2936], \n",
        "                                              [0.2936, 0.2936, 0.2936]]), atol=2e-1), \\\n",
        "            f\"Output of the cell state does not match.\"\n",
        "\n",
        "    print(\"==LSTM cell test passed!==\")\n",
        "\n",
        "test_lstm()"
      ],
      "execution_count": 17,
      "outputs": [
        {
          "output_type": "stream",
          "name": "stdout",
          "text": [
            "==LSTM cell test passed!==\n"
          ]
        }
      ]
    },
    {
      "cell_type": "markdown",
      "metadata": {
        "id": "0DxU-78B33dG"
      },
      "source": [
        "## Language Model\n",
        "\n",
        "이제, 위에서 정의한 LSTM Cell을 활용해서 아래와 같은 Langauge Model을 만들어보도록 하겠습니다.\n",
        "\n",
        "\n",
        "![](https://drive.google.com/uc?export=view&id=1nMAbL-g31nERM44dgohA3k9Vj_92hIh-)"
      ]
    },
    {
      "cell_type": "code",
      "metadata": {
        "id": "l0U2s0hux_n6"
      },
      "source": [
        "class LanguageModel(nn.Module):\n",
        "    def __init__(self, input_size=64, hidden_size=64, vocab_size=10000):\n",
        "        super(LanguageModel, self).__init__()\n",
        "        \n",
        "        self.input_layer = nn.Embedding(vocab_size, input_size)\n",
        "        self.hidden_layer = LSTMCell(input_size, hidden_size)\n",
        "        self.output_layer = nn.Linear(hidden_size, vocab_size)\n",
        "\n",
        "\n",
        "    def forward(self, x, hx, cx, predict=False):\n",
        "        \"\"\"\n",
        "        Inputs\n",
        "            input (x): [batch_size]\n",
        "            hidden_state (h_0): [batch_size, hidden_size]\n",
        "            cell_state (c_0): [batch_size, hidden_size]\n",
        "            predict: whether to predict and sample the next word\n",
        "        Outputs\n",
        "            output (ox): [batch_size, hidden_size]\n",
        "            next_hidden_state (h_1): [batch_size, hidden_size]\n",
        "            next_cell_state (c_1): [batch_size, hidden_size]    \n",
        "        \"\"\"\n",
        "        x = self.input_layer(x)\n",
        "        hx, cx = self.hidden_layer(x, hx, cx)\n",
        "        ox = self.output_layer(hx)\n",
        "\n",
        "        if predict == True:\n",
        "            probs = F.softmax(ox, dim=1)\n",
        "            # torch distribution allows sampling operation\n",
        "            # see https://pytorch.org/docs/stable/distributions.html\n",
        "            dist = torch.distributions.Categorical(probs)\n",
        "            ox = dist.sample()\n",
        "\n",
        "        return ox, hx, cx  "
      ],
      "execution_count": 18,
      "outputs": []
    },
    {
      "cell_type": "markdown",
      "metadata": {
        "id": "G-ZpuMhsbBS8"
      },
      "source": [
        "# 3. Trainer\n",
        "\n",
        "자 이제 위에서 구현한 dataloader와 langauge model을 활용해서 모델의 학습을 진행해보도록 하겠습니다.\n"
      ]
    },
    {
      "cell_type": "code",
      "metadata": {
        "id": "y7TY7HmvbRlB"
      },
      "source": [
        "class Trainer():\n",
        "    def __init__(self, \n",
        "                 word2idx, \n",
        "                 idx2word,\n",
        "                 dataloader, \n",
        "                 model, \n",
        "                 criterion,\n",
        "                 optimizer, \n",
        "                 device):\n",
        "        \"\"\"\n",
        "        dataloader: dataloader\n",
        "        model: langauge model\n",
        "        criterion: loss function to evaluate the model (e.g., BCE Loss)\n",
        "        optimizer: optimizer for model\n",
        "        \"\"\"\n",
        "        self.word2idx = word2idx\n",
        "        self.idx2word = idx2word\n",
        "        self.dataloader = dataloader\n",
        "        self.model = model\n",
        "        self.criterion = criterion\n",
        "        self.optimizer = optimizer\n",
        "        self.device = device\n",
        "        \n",
        "    def train(self, epochs = 1):\n",
        "        self.model.to(self.device)\n",
        "        start_time = time.time()\n",
        "        for epoch in range(epochs):\n",
        "            losses = []\n",
        "            for iter, (x_batch, y_batch) in tqdm.tqdm(enumerate(self.dataloader)):\n",
        "                self.model.train()\n",
        "                \n",
        "                batch_size, max_seq_len = x_batch.shape\n",
        "                x_batch = x_batch.to(self.device)\n",
        "                y_batch = y_batch.to(self.device)\n",
        "\n",
        "                # initial hidden-states\n",
        "                hx = torch.zeros(batch_size, hidden_size).to(self.device)\n",
        "                cx = torch.zeros(batch_size, hidden_size).to(self.device)\n",
        "\n",
        "                # Implement LSTM operation\n",
        "                ox_batch = []\n",
        "                # Get output logits for each time sequence and append to the list, ox_batch\n",
        "                # YOUR CODE HERE (~ 4 lines)\n",
        "                for s_idx in range(max_seq_len):\n",
        "                    x = x_batch[:, s_idx]\n",
        "                    ox, hx, cx = self.model(x, hx, cx)\n",
        "                    ox_batch.append(ox)\n",
        "                # outputs are ordered by the time sequence\n",
        "                ox_batch = torch.cat(ox_batch).reshape(max_seq_len, batch_size, -1)\n",
        "                ox_batch = ox_batch.permute(1,0,2).reshape(batch_size*max_seq_len, -1)\n",
        "                y_batch = y_batch.reshape(-1)\n",
        "\n",
        "                self.model.zero_grad()\n",
        "                loss = self.criterion(ox_batch, y_batch)\n",
        "                loss.backward()\n",
        "                self.optimizer.step()\n",
        "                losses.append(loss.item())\n",
        "\n",
        "            end_time = time.time() - start_time\n",
        "            end_time = str(datetime.timedelta(seconds=end_time))[:-7]\n",
        "            print('Time [%s], Epoch [%d/%d], loss: %.4f'\n",
        "                  % (end_time, epoch+1, epochs, np.mean(losses)))\n",
        "            if epoch % 5 == 0:\n",
        "                generated_sentences = self.test()\n",
        "                print('[Generated Sentences]')\n",
        "                for sentence in generated_sentences:\n",
        "                    print(sentence)\n",
        "            \n",
        "    def test(self):\n",
        "        # Test model to genereate the sentences\n",
        "        self.model.eval()\n",
        "        num_sentence = 5\n",
        "        max_seq_len = 50\n",
        "\n",
        "        # initial hidden-states\n",
        "        outs = []\n",
        "        x = torch.randint(0, 10000, (num_sentence,)).to(self.device)\n",
        "        hx = torch.zeros(num_sentence, hidden_size).to(self.device)\n",
        "        cx = torch.zeros(num_sentence, hidden_size).to(self.device)\n",
        "\n",
        "        outs.append(x)\n",
        "        with torch.no_grad():\n",
        "            for s_idx in range(max_seq_len-1):\n",
        "                x, hx, cx = self.model(x, hx, cx, predict=True)\n",
        "                outs.append(x)\n",
        "        outs = torch.cat(outs).reshape(max_seq_len, num_sentence)\n",
        "        outs = outs.permute(1, 0)\n",
        "        outs = outs.detach().cpu().numpy()\n",
        "\n",
        "        sentences = []\n",
        "        for out in outs:\n",
        "            sentence = []\n",
        "            for token_idx in out:\n",
        "                word = self.idx2word[token_idx]\n",
        "                sentence.append(word)\n",
        "            sentences.append(sentence)\n",
        "       \n",
        "        return sentences"
      ],
      "execution_count": 19,
      "outputs": []
    },
    {
      "cell_type": "code",
      "metadata": {
        "id": "fgEJv1vWqNkS",
        "outputId": "893b70d8-24cd-41cc-a885-6224d301f17b",
        "colab": {
          "base_uri": "https://localhost:8080/"
        }
      },
      "source": [
        "lr = 1e-2\n",
        "input_size = 128\n",
        "hidden_size = 128\n",
        "batch_size = 256\n",
        "\n",
        "dataset = LMDataset(tokens)\n",
        "dataloader = torch.utils.data.DataLoader(dataset, batch_size=batch_size, shuffle=True)\n",
        "model = LanguageModel(input_size=input_size, hidden_size=hidden_size)\n",
        "# NOTE: you should use ignore_index to ignore the loss from predicting the <PAD> token\n",
        "criterion = nn.CrossEntropyLoss(ignore_index=0)\n",
        "optimizer = optim.Adam(model.parameters(), lr=lr)\n",
        "device = torch.device('cuda')\n",
        "\n",
        "trainer = Trainer(word2idx = word2idx,\n",
        "                  idx2word = idx2word,\n",
        "                  dataloader=dataloader, \n",
        "                  model = model,\n",
        "                  criterion=criterion,\n",
        "                  optimizer = optimizer,\n",
        "                  device=device)\n",
        "\n",
        "trainer.train(epochs=50)"
      ],
      "execution_count": 20,
      "outputs": [
        {
          "output_type": "stream",
          "name": "stderr",
          "text": [
            "165it [00:37,  4.36it/s]\n"
          ]
        },
        {
          "output_type": "stream",
          "name": "stdout",
          "text": [
            "Time [0:00:37], Epoch [1/50], loss: 6.0854\n",
            "[Generated Sentences]\n",
            "['incur', 'principle', 'purchase', 'will', 'go', 'about', 'N', 'cents', 'a', 'year', 'ago', 'thus', 'critics', 'were', 'often', 'remember', 'monday', 'circulating', 'at', 'N', 'to', '$', 'N', 'N', 'to', 'N', 'million', 'of', 'about', '$', 'N', 'billion', 'account', 'for', 'composite', 'trading', 'claims', 'because', 'the', 'clutter', 'of', 'trading', 'for', 'growth', 'manville', 'previously', 'said', 'the', 'growth', 'crash']\n",
            "['arrange', 'catalog', 'securities', 'loan', 'union', 'of', 'the', 'same', 'tests', 'service', 'in', 'north', 'goal', 'of', 'the', 'relationships', 'between', 'innopac', 'war', 'and', 'drugs', 'it', 'requires', 'asking', 'operators', 'on', 'five', 'pence', 'initiated', 'of', 'industrial', 'budget', 'because', 'they', 'disclosed', 'it', 'semel', 'announced', 'setting', 'the', 'redemption', 'limit', 'in', 'ual', 'according', 'to', 'measure', 'led', 'and', 'concede']\n",
            "['parliament', 'b.a.t', \"'s\", 'customers', 'to', 'comment', 'on', 'the', 'prospects', 'into', 'the', 'executive', 'company', 'received', 'more', 'than', 'N', 'p.m.', 'earlier', 'but', 'six', 'months', 'in', 'legal', 'trading', '&', 'stock', 'scenario', 'said', 'thrifts', 'are', 'considering', 'the', 'material', 'securities', 'and', 'distributed', 'billion', 'in', 'a', '$', 'N', 'a', 'share', 'for', 'a', 'degree', 'of', '<unk>', 'known']\n",
            "['chunk', 'duty-free', 'settling', 'in', 'the', 'bush', 'and', 'home-equity', 'through', 'his', 'portfolio', 'is', 'at', 'other', 'factors', 'from', 'producing', 'wood', 'hugo', 'will', 'be', 'to', 'buy', '$', 'N', 'for', 'the', 'drop', 'rate', 'of', '$', 'N', 'million', 'into', 'the', '30-day', 'in', 'south', 'black', 'corp.', 'said', 'it', 'would', 'continue', 'enough', 'their', 'businesses', 'techniques', 'business', \"'s\"]\n",
            "['lives', 'N', 'but', 'had', 'much', 'dollars', 'us$', 'N', 'million', 'and', 'him', 'of', 'his', 'prolonged', '<unk>', 'research', 'of', 'the', 'companies', 'tapped', 'building', 'arby', '&', 'co.', 'would', 'have', 'no', 'offer', 'usair', 'failed', 'under', 'new', 'savings', 'principal', 'and', 'the', 'pound', 'seats', 'about', 'time', 'reflect', 'upper', '<unk>', 'downward', 'engineering', 'last', 'year', 'for', 'the', 'london']\n"
          ]
        },
        {
          "output_type": "stream",
          "name": "stderr",
          "text": [
            "165it [00:38,  4.33it/s]\n"
          ]
        },
        {
          "output_type": "stream",
          "name": "stdout",
          "text": [
            "Time [0:01:16], Epoch [2/50], loss: 5.2175\n"
          ]
        },
        {
          "output_type": "stream",
          "name": "stderr",
          "text": [
            "165it [00:37,  4.37it/s]\n"
          ]
        },
        {
          "output_type": "stream",
          "name": "stdout",
          "text": [
            "Time [0:01:53], Epoch [3/50], loss: 4.9052\n"
          ]
        },
        {
          "output_type": "stream",
          "name": "stderr",
          "text": [
            "165it [00:37,  4.37it/s]\n"
          ]
        },
        {
          "output_type": "stream",
          "name": "stdout",
          "text": [
            "Time [0:02:31], Epoch [4/50], loss: 4.6972\n"
          ]
        },
        {
          "output_type": "stream",
          "name": "stderr",
          "text": [
            "165it [00:37,  4.36it/s]\n"
          ]
        },
        {
          "output_type": "stream",
          "name": "stdout",
          "text": [
            "Time [0:03:09], Epoch [5/50], loss: 4.5410\n"
          ]
        },
        {
          "output_type": "stream",
          "name": "stderr",
          "text": [
            "165it [00:37,  4.37it/s]\n"
          ]
        },
        {
          "output_type": "stream",
          "name": "stdout",
          "text": [
            "Time [0:03:47], Epoch [6/50], loss: 4.4145\n",
            "[Generated Sentences]\n",
            "['computer-guided', 'merged', '&', 'co.', \"'s\", '<unk>', 'institution', 'while', 'nl', 'that', 'the', 'agency', 'that', 'said', 'it', 'is', 'some', 'of', 'employee', 'efforts', 'in', '<unk>', 'defense', 'most', 'costly', 'and', 'home', 'products', 'have', 'no', 'ideological', 'pool', 'policy', 'electoral', 'districts', 'for', 'its', 'paper', 'mill', 'that', 'would', 'allow', 'foreign', 'aid', 'to', '$', 'N', 'million', 'in', 'garbage']\n",
            "['opportunities', 'caution', 'that', 'the', 'equivalent', 'of', 'four', 'others', 'are', 'certainly', 'as', 'the', 'engine', 'vote', 'for', 'individual', 'balls', 'plc', 'london', 'owner', '<unk>', 'in', 'august', 'he', 'expected', 'from', 'the', 'sale', 'of', 'its', 'interests', 'of', 'coin', 'wrap', '<unk>', 'credit', 'collection', 'great', 'britain', 'as', 'a', 'other', 'major', 'customer', 'natural', 'gas', 'tax', 'and', '<unk>', 'in']\n",
            "['it', 'was', 'up', 'following', 'london', '<unk>', '<unk>', 'and', 'said', 'loyalty', 'provides', 'a', 'serious', 'policy', 'changes', 'without', 'two', 'transactions', 'totaling', '$', 'N', 'million', 'of', 'about', 'N', 'feet', 'of', 'N', 'from', 'september', 'to', 'N', 'N', 'to', 'yield', 'N', 'N', 'tuesday', 'and', 'N', 'yen', 'late', 'tuesday', 'this', 'month', 'was', '$', 'N', 'unchanged', 'from']\n",
            "['howard', 'krenz', 'began', 'well', 'on', 'wall', 'street', 'is', 'an', 'oil', 'spill', 'that', 'china', 'said', '<unk>', '<unk>', 'go', 'nights', 'when', '<unk>', 'and', 'swiftly', 'drives', 'though', 'he', 'often', 'played', 'the', 'picture', 'of', 'the', 'president', 'of', 'mca', 'he', 'near', 'her', '<unk>', 'is', '<unk>', 'by', 'tourists', 'who', 'wanted', 'to', 'cope', 'with', 'washington', \"'s\", 'national']\n",
            "['quotron', 'pay', 'now', 'provide', 'quick', 'interest', 'in', 'buying', 'price', 'discrepancies', 'between', 'arizona', 'production', 'capacity', 'and', '$', 'N', 'an', 'hour', 'at', 'N', 'N', 'of', 'all', 'of', 'each', 'to', 'eight', 'million', 'new', 'acquisitions', 'that', 'wall', 'street', 'firms', 'pulled', 'off', 'roughly', 'N', 'N', 'from', 'the', 'hour', 'and', 'because', 'we', 'have', 'voted', 'to', 'hope']\n"
          ]
        },
        {
          "output_type": "stream",
          "name": "stderr",
          "text": [
            "165it [00:37,  4.37it/s]\n"
          ]
        },
        {
          "output_type": "stream",
          "name": "stdout",
          "text": [
            "Time [0:04:25], Epoch [7/50], loss: 4.3090\n"
          ]
        },
        {
          "output_type": "stream",
          "name": "stderr",
          "text": [
            "165it [00:37,  4.35it/s]\n"
          ]
        },
        {
          "output_type": "stream",
          "name": "stdout",
          "text": [
            "Time [0:05:03], Epoch [8/50], loss: 4.2152\n"
          ]
        },
        {
          "output_type": "stream",
          "name": "stderr",
          "text": [
            "165it [00:37,  4.36it/s]\n"
          ]
        },
        {
          "output_type": "stream",
          "name": "stdout",
          "text": [
            "Time [0:05:40], Epoch [9/50], loss: 4.1369\n"
          ]
        },
        {
          "output_type": "stream",
          "name": "stderr",
          "text": [
            "165it [00:37,  4.36it/s]\n"
          ]
        },
        {
          "output_type": "stream",
          "name": "stdout",
          "text": [
            "Time [0:06:18], Epoch [10/50], loss: 4.0667\n"
          ]
        },
        {
          "output_type": "stream",
          "name": "stderr",
          "text": [
            "165it [00:37,  4.35it/s]\n"
          ]
        },
        {
          "output_type": "stream",
          "name": "stdout",
          "text": [
            "Time [0:06:56], Epoch [11/50], loss: 4.0021\n",
            "[Generated Sentences]\n",
            "['beginning', 'these', 'show', 'featured', 'in', 'the', 'musical', 'soviet', 'border', 'firms', '<unk>', 'at', 'kate', 'research', 'in', 'the', 'world', 'that', 'gene', '<unk>', \"'s\", 'own', 'argument', 'is', 'complicated', 'to', 'the', 'president', 'of', '<unk>', 'though', 'no', '<unk>', 'of', 'N', 'N', 'and', 'N', 'N', 'blacks', 'actors', 'reached', 'an', 'ad', 'illustrates', 'the', 'defense', 'had', 'suggested', 'would']\n",
            "['personal-injury', 'countries', 'would', 'represent', 'the', 'plane', 'crash', 'for', 'its', 'plants', 'human', 'services', 'in', 'central', 'planning', 'the', 'creation', 'of', 'the', 'proposed', 'agreement', 'is', 'making', 'any', 'of', 'its', 'loan', 'operating', 'within', 'N', 'shares', 'which', 'is', 'not', 'at', 'all', 'of', '<unk>', 'stock', 'investment', 'because', 'of', 'the', 'market', 'turned', 'out', 'of', 'the', 'british', 'banks']\n",
            "['riding', 'picks', 'test', 'intraday', 'guilty', 'after', 'occasionally', 'not', 'to', 'costa', 'rica', \"'s\", 'procedures', 'to', 'buy', 'back', '<unk>', 'or', '<unk>', 'of', 'housing', 'opportunities', 'and', 'its', 'cheaper', 'electrical', 'current-carrying', 'capacity', 'into', 'law', 'industries', 'of', 'the', 'united', 'states', 'in', 'the', 'size', 'of', 'its', 'headquarters', 'in', '<unk>', 'and', 'which', 'hell', 'will', 'constitute', 'N', '<unk>']\n",
            "['hard-disk', 'dangerous', 'legislation', 'includes', 'continuing', '<unk>', 'deals', 'because', 'of', 'improper', 'insurance', 'competitors', 'annually', 'from', 'india', 'including', 'an', '<unk>', 'down', 'the', 'missing', 'interest', 'expense', 'to', 'return', 'the', 'last', 'u.s.', 'trade', 'deficit', 'and', 'sales', 'are', 'aimed', 'at', 'chevron', 'said', 'and', '<unk>', 'on', 'primary', 'bills', 'which', 'makes', '<unk>', 'bottles', 'an', 'opportunity', 'for', 'his']\n",
            "['perlman', 'losers', 'securities', 'are', 'takeover', 'declined', 'to', 'take', 'from', 'the', 'year', 'ending', 'next', 'month', 'he', 'said', 'ai', \"n't\", 'administrative', 'sold', 'they', 'live', 'in', 'acquiring', 'supply', 'will', 'be', 'available', 'in', 'the', 'midst', 'of', 'an', 'assassination', 'vote', 'in', 'the', 'dow', 'jones', 'industrials', 'eased', 'N', 'to', 'N', 'N', 'from', 'N', 'N', 'at', 'N']\n"
          ]
        },
        {
          "output_type": "stream",
          "name": "stderr",
          "text": [
            "165it [00:37,  4.36it/s]\n"
          ]
        },
        {
          "output_type": "stream",
          "name": "stdout",
          "text": [
            "Time [0:07:34], Epoch [12/50], loss: 3.9481\n"
          ]
        },
        {
          "output_type": "stream",
          "name": "stderr",
          "text": [
            "165it [00:37,  4.36it/s]\n"
          ]
        },
        {
          "output_type": "stream",
          "name": "stdout",
          "text": [
            "Time [0:08:12], Epoch [13/50], loss: 3.8971\n"
          ]
        },
        {
          "output_type": "stream",
          "name": "stderr",
          "text": [
            "165it [00:37,  4.35it/s]\n"
          ]
        },
        {
          "output_type": "stream",
          "name": "stdout",
          "text": [
            "Time [0:08:50], Epoch [14/50], loss: 3.8497\n"
          ]
        },
        {
          "output_type": "stream",
          "name": "stderr",
          "text": [
            "165it [00:37,  4.36it/s]\n"
          ]
        },
        {
          "output_type": "stream",
          "name": "stdout",
          "text": [
            "Time [0:09:28], Epoch [15/50], loss: 3.8079\n"
          ]
        },
        {
          "output_type": "stream",
          "name": "stderr",
          "text": [
            "165it [00:37,  4.36it/s]\n"
          ]
        },
        {
          "output_type": "stream",
          "name": "stdout",
          "text": [
            "Time [0:10:06], Epoch [16/50], loss: 3.7714\n",
            "[Generated Sentences]\n",
            "['12-month', 'conspiracy', 'reasonable', 'owed', 'undervalued', 'experts', 'said', 'in', 'august', 'twice', 'and', 'ibm', \"'s\", '<unk>', 'of', '<unk>', 'ohio', 'had', 'to', 'be', 'because', 'from', 'previous', 'exports', 'to', '<unk>', 'a', 'customer', 'by', 'N', 'N', 'when', 'prices', 'seemed', 'to', 'focus', 'its', 'own', 'mildly', 'in', 'picking', 'up', 'and', 'minute', 'segments', 'in', '<unk>', 'on', 'fetal-tissue', 'transplants']\n",
            "['work', 'on', 'the', 'major', 'professional', 'sense', 'for', 'mr.', '<unk>', 'who', 'participated', 'in', 'tampa', 'than', 'N', 'lawyers', 'assistant', 'to', 'materials', 'charges', 'that', 'the', 'agreement', 'is', 'in', 'marginal', 'negotiations', 'with', '<unk>', '<unk>', 'in', '<unk>', 'said', 'used', 'life', 'taken', 'in', 'price', 'when', 'the', 'supreme', 'court', 'ruling', 'webster', 'sought', 'a', 'wider', 'room', 'for', 'nicaragua']\n",
            "['avery', 'skidded', 'N', 'N', 'to', '$', 'N', 'an', 'ounce', 'over', 'a', '$', 'N', 'billion', 'canadian', 'dollars', 'us$', 'N', 'million', 'to', 'N', 'N', 'and', 'N', 'N', 'while', 'year-earlier', 'trade', 'is', 'listed', 'range', 'if', 'a', 'shareholder', 'approval', 'bank', 'in', 'the', 'company', 'had', 'announced', 'its', 'care', 'rights', 'agreement', 'that', 'only', 'may', 'N', 'or']\n",
            "['defined', 'candidates', 'at', 'one', 'point', 'she', 'suggests', 'that', 'this', '<unk>', '<unk>', 'of', 'anybody', \"'s\", 'discussions', 'with', '<unk>', 'language', 'and', 'not', 'ringers', 'that', 'did', 'not', 'have', 'lifted', '<unk>', 'such', 'deals', 'any', 'stronger', '<unk>', 'for', 'them', 'that', 'was', 'a', '<unk>', 'concrete', '<unk>', 'of', 'shakespeare', \"'s\", 'friend', 'one', 'of', 'the', 'government', \"'s\", 'chivas']\n",
            "['ourselves', 'shell', 'the', 'union', 'is', 'primarily', 'around', 'the', 'company', 'management', 'said', 'his', 'departure', 'alone', 'levels', 'is', 'reached', 'for', 'comment', 'on', 'river', 'where', 'anthony', 'i.', 'shapiro', 'chairman', 'and', 'chief', 'operating', 'officer', 'of', 'manville', 'corp', 'crews', 'retirement', 'account', 'and', 'manufacturers', 'hanover', 'to', 'meet', 'its', 'guilty', 'plea', 'in', 'the', 'midst', 'of', 'a', 'five-year']\n"
          ]
        },
        {
          "output_type": "stream",
          "name": "stderr",
          "text": [
            "165it [00:37,  4.35it/s]\n"
          ]
        },
        {
          "output_type": "stream",
          "name": "stdout",
          "text": [
            "Time [0:10:44], Epoch [17/50], loss: 3.7345\n"
          ]
        },
        {
          "output_type": "stream",
          "name": "stderr",
          "text": [
            "165it [00:37,  4.36it/s]\n"
          ]
        },
        {
          "output_type": "stream",
          "name": "stdout",
          "text": [
            "Time [0:11:21], Epoch [18/50], loss: 3.7020\n"
          ]
        },
        {
          "output_type": "stream",
          "name": "stderr",
          "text": [
            "165it [00:37,  4.36it/s]\n"
          ]
        },
        {
          "output_type": "stream",
          "name": "stdout",
          "text": [
            "Time [0:11:59], Epoch [19/50], loss: 3.6720\n"
          ]
        },
        {
          "output_type": "stream",
          "name": "stderr",
          "text": [
            "165it [00:37,  4.36it/s]\n"
          ]
        },
        {
          "output_type": "stream",
          "name": "stdout",
          "text": [
            "Time [0:12:37], Epoch [20/50], loss: 3.6441\n"
          ]
        },
        {
          "output_type": "stream",
          "name": "stderr",
          "text": [
            "165it [00:37,  4.36it/s]\n"
          ]
        },
        {
          "output_type": "stream",
          "name": "stdout",
          "text": [
            "Time [0:13:15], Epoch [21/50], loss: 3.6199\n",
            "[Generated Sentences]\n",
            "['hours', 'have', 'turned', 'instead', 'that', 'would', 'force', 'risks', 'their', 'going', 'very', 'much', 'said', 'i', 'feel', 'at', 'a', '<unk>', 'book', 'or', 'it', 'not', 'with', '<unk>', 'newhouse', 'and', 'skin', 'ideas', 'of', 'these', 'like', 'ibm', 'benefits', 'says', 'yesterday', 'declined', 'to', 'veto', 'any', 'other', 'half', 'legal', 'issues', 'during', 'the', 'next', 'month', 'when', 'a', 'number']\n",
            "['headquarters', 'N', 'sold', 'this', 'page', 'also', 'assembled', 'up', 'the', '<unk>', 'san', 'francisco', 'and', 'japan', 'control', 'said', 'john', '<unk>', '<unk>', 'and', 'national', 'cameras', 'in', 'the', '<unk>', 'supermarket', 'chain', 'scott', '<unk>', 'said', 'and', 'will', 'make', 'a', 'significant', 'improvement', 'against', 'interest', 'payments', 'on', 'the', 'weakness', 'to', 'build', 'a', 'criminal', 'penalty', 'machine', 'to', 'accept']\n",
            "['baldwin', 'orders', 'do', \"n't\", 'plan', 'to', '<unk>', 'the', 'amount', 'of', 'bonds', 'to', 'be', 'sold', 'at', 'some', 'of', 'the', 'earnings', 'sources', 'of', 'the', 'underlying', 'buyers', 'and', 'bid', 'the', 'disclosure', 'package', 'to', 'beat', 'these', 'things', 'to', '<unk>', '<unk>', 'into', '<unk>', 'inflation', 'and', 'focusing', 'on', 'the', 'competitive', 'stocks', 'according', 'to', 'its', '<unk>', 'district']\n",
            "['lawyer', 'michael', 'the', 'chairman', 'of', 'the', '<unk>', '<unk>', 'toward', 'thin', 'homes', 'also', 'launched', 'her', 'customers', 'and', 'deng', 'and', 'economic', 'policies', 'in', 'bureaucratic', 'and', '<unk>', 'it', 'is', 'one', 'of', 'the', 'fate', 'in', '<unk>', 'dealings', 'but', 'we', 'had', 'actually', 'tell', 'a', 'changes', 'in', 'the', 'trough', 'was', 'reached', 'probably', 'idle', 'as', 'ford', \"'s\"]\n",
            "['escape', 'damage', 'ended', 'in', 'the', 'latest', 'week', 'of', 'u.s.', 'is', 'expected', 'to', 'reveal', 'as', 'many', 'as', 'N', 'airbus', 'N', 'aircraft', 'that', 'pwa', 'was', 'sold', 'in', 'large', 'quantities', 'of', 'its', 'pacific', 'realty', 'and', 'other', 'apple', 'computer', 'services', 'division', 'and', 'brokers', 'cos.', 'personnel', 'and', 'product', 'a', 'buyer', 'can', 'slow', 'the', 'judge', 'hastings']\n"
          ]
        },
        {
          "output_type": "stream",
          "name": "stderr",
          "text": [
            "165it [00:37,  4.36it/s]\n"
          ]
        },
        {
          "output_type": "stream",
          "name": "stdout",
          "text": [
            "Time [0:13:53], Epoch [22/50], loss: 3.5961\n"
          ]
        },
        {
          "output_type": "stream",
          "name": "stderr",
          "text": [
            "165it [00:37,  4.35it/s]\n"
          ]
        },
        {
          "output_type": "stream",
          "name": "stdout",
          "text": [
            "Time [0:14:31], Epoch [23/50], loss: 3.5737\n"
          ]
        },
        {
          "output_type": "stream",
          "name": "stderr",
          "text": [
            "165it [00:37,  4.36it/s]\n"
          ]
        },
        {
          "output_type": "stream",
          "name": "stdout",
          "text": [
            "Time [0:15:09], Epoch [24/50], loss: 3.5545\n"
          ]
        },
        {
          "output_type": "stream",
          "name": "stderr",
          "text": [
            "165it [00:37,  4.36it/s]\n"
          ]
        },
        {
          "output_type": "stream",
          "name": "stdout",
          "text": [
            "Time [0:15:47], Epoch [25/50], loss: 3.5351\n"
          ]
        },
        {
          "output_type": "stream",
          "name": "stderr",
          "text": [
            "165it [00:37,  4.35it/s]\n"
          ]
        },
        {
          "output_type": "stream",
          "name": "stdout",
          "text": [
            "Time [0:16:25], Epoch [26/50], loss: 3.5165\n",
            "[Generated Sentences]\n",
            "['sometime', 'with', 'more', 'formal', 'merger', 'and', 'at', 'acquisition', 'junk', 'bonds', 'led', 'by', 'salomon', 'brothers', \"'\", 'operations', 'unless', 'we', 'have', 'to', 'create', 'great', 'children', 'of', 'more', 'weight', 'than', 'a', 'process', 'to', 'reward', 'and', 'violence', 'to', 'the', 'u.s.', 'with', 'more', 'than', 'N', 'civil', 'radar', 'hot', 'spots', 'try', 'to', '<unk>', 'up', 'its', 'growth']\n",
            "['richmond', 'resignations', 'at', 'u.s.', 'facilities', 'abroad', 'as', 'much', 'as', 'N', 'other', 'world', 'minutes', 'of', 'annual', 'lists', 'totaling', '$', 'N', 'million', 'may', 'have', 'divided', 'on', 'either', 'of', 'homes', 'that', 'will', 'be', 'used', 'in', 'very', 'important', 'to', 'contrast', 'effective', 'treasury', 'bonds', 'for', 'burmah', 'securities', 'said', 'where', 'there', \"'s\", 'no', 'injuries', 'previously', 'held']\n",
            "['theaters', 'money-market', 'securities', 'reflected', 'off', 'N', 'N', 'a', 'year', 'on', 'which', 'managed', 'by', 'cie', 'paid', 'fourth-quarter', 'net', 'income', 'fresh', 'net', 'to', '$', 'N', 'million', 'from', 'the', 'department', 'of', 'cnw', 'holdings', 'inc.', 'and', 'plans', 'to', 'acquire', 'new', 'approval', 'and', 'an', 'investment', 'restructuring', 'of', 'one', 'product', 'an', 'company', 'N', 'N', 'to', 'N']\n",
            "['reagan', 'era', 'said', 'there', 'was', 'some', 'profit-taking', 'over', 'the', 'damaging', 'rate', 'of', 'the', 'high', 'long-term', 'value', 'to', 'control', 'over', 'the', 'body', \"'s\", 'immune', 'response', 'to', 'the', '<unk>', 'islands', 'and', 'other', 'goods', 'packages', 'and', 'business', 'and', 'parents', 'to', 'purchasing', 'corporate', 'raiders', 'and', 'brokers', 'encouraged', 'joint', '<unk>', '<unk>', '<unk>', 'is', 'that', 'has']\n",
            "['rumored', 'buying', 'personal', 'income', 'of', 'the', 'newly', 'announced', 'plans', 'to', 'raise', '$', 'N', 'million', 'in', 'shares', 'and', 'will', 'lead', 'to', 'close', 'some', 'alternatives', 'for', 'each', 'year', \"'s\", '$', 'N', 'million', 'and', 'the', 'facility', 'would', 'be', 'tougher', 'on', 'the', 'industry', 'this', 'week', 'to', 'several', 'other', 'products', 'and', '<unk>', 'shares', 'of', 'its']\n"
          ]
        },
        {
          "output_type": "stream",
          "name": "stderr",
          "text": [
            "165it [00:37,  4.36it/s]\n"
          ]
        },
        {
          "output_type": "stream",
          "name": "stdout",
          "text": [
            "Time [0:17:02], Epoch [27/50], loss: 3.5018\n"
          ]
        },
        {
          "output_type": "stream",
          "name": "stderr",
          "text": [
            "165it [00:37,  4.36it/s]\n"
          ]
        },
        {
          "output_type": "stream",
          "name": "stdout",
          "text": [
            "Time [0:17:40], Epoch [28/50], loss: 3.4852\n"
          ]
        },
        {
          "output_type": "stream",
          "name": "stderr",
          "text": [
            "165it [00:37,  4.36it/s]\n"
          ]
        },
        {
          "output_type": "stream",
          "name": "stdout",
          "text": [
            "Time [0:18:18], Epoch [29/50], loss: 3.4709\n"
          ]
        },
        {
          "output_type": "stream",
          "name": "stderr",
          "text": [
            "165it [00:37,  4.36it/s]\n"
          ]
        },
        {
          "output_type": "stream",
          "name": "stdout",
          "text": [
            "Time [0:18:56], Epoch [30/50], loss: 3.4603\n"
          ]
        },
        {
          "output_type": "stream",
          "name": "stderr",
          "text": [
            "165it [00:38,  4.31it/s]\n"
          ]
        },
        {
          "output_type": "stream",
          "name": "stdout",
          "text": [
            "Time [0:19:34], Epoch [31/50], loss: 3.4454\n",
            "[Generated Sentences]\n",
            "['wendy', \"'s\", 'much', 'of', 'access', 'was', 'turning', 'on', 'procedural', 'grounds', 'for', 'investigations', 'that', 'can', 'return', 'partly', 'because', 'of', 'oct.', 'N', 'when', 'the', 'contract', 'is', \"n't\", 'a', 'wide', 'test', 'could', 'force', 'japan', \"'s\", '<unk>', 'characteristic', '<unk>', 'known', 'as', 'more', 'than', '$', 'N', 'million', 'in', 'bond', 'corp.', 'has', 'more', 'than', 'half', 'a']\n",
            "['contentious', 'spooked', 'foreign', 'investors', 'grabbed', 'them', 'that', 'it', 'is', 'value', 'relatively', '<unk>', 'for', 'today', \"'s\", 'growth', 'retail', 'sales', 'soon', 'by', 'mexico', 'markets', 'such', 'as', '<unk>', 'computers', 'and', 'honda', 'practices', 'will', 'be', '<unk>', 'by', 'a', '<unk>', 'group', 'of', '<unk>', '<unk>', 'by', '<unk>', 'by', 'walt', 'disney', 'co', 'japan', 'television', 'publisher', 'and', 'others']\n",
            "['offenders', 'vary', 'widely', 'beneficial', 'corp.', 'and', 'market', 'gains', 'for', 'the', 'mortgage', 'service', 'and', 'licensed', 'its', 'waterworks', 'patents', 'made', 'nec', 'about', 'this', '$', 'N', 'million', 'acquisition', 'since', 'april', 'N', 'a', 'dropped', 'N', 'to', 'N', 'on', 'five-year', 'N', 'N', 'debentures', 'priced', 'by', 'sears', 'had', \"n't\", 'received', 'square', 'petroleum', 'co.', 'minicomputers', 'at', 'N']\n",
            "['supervisor', 'bronfman', 'associates', 'corp.', 'said', 'that', 'although', 'things', 'may', 'be', 'reached', 'for', 'a', 'further', 'market', 'rebound', 'resulting', 'in', 'after-tax', 'fuel', 'costs', 'more', 'during', 'their', 'interest', 'analysts', 'and', 'others', 'primarily', 'are', 'getting', 'reasonable', 'bills', 'and', 'no', 'conflicts', 'of', 'the', 'black', '<unk>', 'section', 'was', 'an', 'unwelcome', 'steady', 'trial', 'on', 'a', 'compromise', 'between']\n",
            "['syndicates', 'affordable', 'soap', 'counterpart', 'art', '<unk>', 'and', 'city', 'officials', 'agreed', 'to', 'ask', 'alternative', 'to', '<unk>', 'out', 'policies', 'that', 'their', 'alternative', 'leaders', 'should', 'slash', 'depreciation', 'write-offs', 'ahead', 'of', 'independence', 'but', 'they', 'seldom', 'think', 'of', 'greater', 'bidding', 'or', 'such', 'a', 'legitimate', 'treaty', 'meeting', 'with', 'the', 'budget', 'deficit', 'since', 'they', 'pegged', 'a', 'look']\n"
          ]
        },
        {
          "output_type": "stream",
          "name": "stderr",
          "text": [
            "165it [00:37,  4.35it/s]\n"
          ]
        },
        {
          "output_type": "stream",
          "name": "stdout",
          "text": [
            "Time [0:20:12], Epoch [32/50], loss: 3.4351\n"
          ]
        },
        {
          "output_type": "stream",
          "name": "stderr",
          "text": [
            "165it [00:37,  4.36it/s]\n"
          ]
        },
        {
          "output_type": "stream",
          "name": "stdout",
          "text": [
            "Time [0:20:50], Epoch [33/50], loss: 3.4228\n"
          ]
        },
        {
          "output_type": "stream",
          "name": "stderr",
          "text": [
            "165it [00:37,  4.36it/s]\n"
          ]
        },
        {
          "output_type": "stream",
          "name": "stdout",
          "text": [
            "Time [0:21:28], Epoch [34/50], loss: 3.4121\n"
          ]
        },
        {
          "output_type": "stream",
          "name": "stderr",
          "text": [
            "165it [00:37,  4.37it/s]\n"
          ]
        },
        {
          "output_type": "stream",
          "name": "stdout",
          "text": [
            "Time [0:22:06], Epoch [35/50], loss: 3.4031\n"
          ]
        },
        {
          "output_type": "stream",
          "name": "stderr",
          "text": [
            "165it [00:37,  4.37it/s]\n"
          ]
        },
        {
          "output_type": "stream",
          "name": "stdout",
          "text": [
            "Time [0:22:44], Epoch [36/50], loss: 3.3932\n",
            "[Generated Sentences]\n",
            "['meanwhile', 'some', 'attorneys', 'with', 'all', 'other', 'other', 'transactions', 'are', 'callable', 'at', 'around', '$', 'N', 'a', 'one-hour', 'u.s.', 'transatlantic', 'reports', 'have', '<unk>', 'a', 'response', 'to', 'a', 'poll', 'of', 'team', 'and', 'racketeering', 'of', 'james', 'capel', 'partners', 'as', 'refugees', 'and', '<unk>', 'in', 'the', 'bank', 'quality', 'that', '<unk>', 'did', '<unk>', 'a', 'major', 'research', 'couple']\n",
            "['affluent', 'prof.', 'tom', '<unk>', 'succeeding', 'mr.', 'giuliani', 'has', 'discussed', 'an', 'order', 'for', 'them', 'for', 'a', 'literary', 'award', 'on', '<unk>', 'parkway', 'ted', 'weiss', 'and', 'joined', 'the', 'market', 'in', 'which', 'a', 'unit', 'of', 'ncnb', 'corp.', 'charlotte', 'n.c.', 'are', 'more', 'to', 'design', 'chairman', 'and', 'chief', 'executive', 'also', 'declined', 'to', 'specify', \"'s\", 'customers', 'an']\n",
            "['ronald', 'b.', 'lee', 'established', 'in', 'july', 'N', 'next', 'year', 'all', 'are', 'educators', 'new', 'zealand', 'and', 'raising', 'a', 'full', 'support', 'by', '<unk>', 'it', 'has', 'a', 'medical', 'clinic', 'in', 'inner', 'cards', 'to', 'a', 'test', 'case', 'de', '<unk>', 'says', 'he', 'or', 'makes', 'it', '<unk>', 'in', '<unk>', 'cohen', 'for', 'other', '<unk>', 'parties', 'during', 'the']\n",
            "['shut', 'upon', 'earlier', 'this', 'year', 'the', 'company', 'is', 'continually', '<unk>', 'to', 'retain', 'its', '<unk>', 'commodities', 'including', '<unk>', 'mills', 'launched', 'the', 'plans', 'developed', 'by', '<unk>', 'for', 'a', '<unk>', 'exhibition', 'race', 'administration', 'and', 'so', 'apples', 'introduced', 'buying', 'but', 'also', 'held', 'on', 'the', 'environment', 'says', 'thomas', '<unk>', 'senior', 'vice', 'president', 'at', 'chemical', 'hearst']\n",
            "['runway', 'at', 'abc', \"'s\", '<unk>', 'of', 'the', 'french', 'journalism', 'waiting', 'to', 'rid', 'of', 'the', 'town', \"'s\", '<unk>', 'says', '<unk>', '<unk>', '<unk>', 'advertising', 'and', '<unk>', '<unk>', 'electrical', 'corp.', 'merksamer', \"'s\", '<unk>', 'on', 'a', 'long', 'way', 'to', 'police', 'say', 'the', 'large', 'group', 'executive', 'director', 'said', 'now', 'includes', 'one', 'man', 'it', 'that', 'was']\n"
          ]
        },
        {
          "output_type": "stream",
          "name": "stderr",
          "text": [
            "165it [00:37,  4.37it/s]\n"
          ]
        },
        {
          "output_type": "stream",
          "name": "stdout",
          "text": [
            "Time [0:23:21], Epoch [37/50], loss: 3.3861\n"
          ]
        },
        {
          "output_type": "stream",
          "name": "stderr",
          "text": [
            "165it [00:37,  4.38it/s]\n"
          ]
        },
        {
          "output_type": "stream",
          "name": "stdout",
          "text": [
            "Time [0:23:59], Epoch [38/50], loss: 3.3755\n"
          ]
        },
        {
          "output_type": "stream",
          "name": "stderr",
          "text": [
            "165it [00:37,  4.37it/s]\n"
          ]
        },
        {
          "output_type": "stream",
          "name": "stdout",
          "text": [
            "Time [0:24:37], Epoch [39/50], loss: 3.3696\n"
          ]
        },
        {
          "output_type": "stream",
          "name": "stderr",
          "text": [
            "165it [00:37,  4.38it/s]\n"
          ]
        },
        {
          "output_type": "stream",
          "name": "stdout",
          "text": [
            "Time [0:25:15], Epoch [40/50], loss: 3.3630\n"
          ]
        },
        {
          "output_type": "stream",
          "name": "stderr",
          "text": [
            "165it [00:37,  4.37it/s]\n"
          ]
        },
        {
          "output_type": "stream",
          "name": "stdout",
          "text": [
            "Time [0:25:52], Epoch [41/50], loss: 3.3526\n",
            "[Generated Sentences]\n",
            "['communications', 'delays', 'for', 'october', 'imports', 'were', 'between', '$', 'N', 'million', 'to', 'buy-back', 'and', 'assume', 'a', 'N', 'N', 'rise', 'in', 'N', 'at', 'N', 'N', 'before', 'april', 'N', 'N', 'will', 'buy', 'additional', 'common', 'stock', 'at', 'a', 'private', 'meeting', 'between', 'dpc', 'acquisition', 'to', '<unk>', 'its', '<unk>', 'aerospace', 'company', 'said', 'goldman', 'sachs', '&', 'co']\n",
            "['emissions', 'batch', 'indicating', 'a', 'report', 'for', 'several', 'competitors', 'said', 'only', 'successful', 'cars', 'by', 'south', 'korea', 'may', 'N', 'N', 'of', 'most', 'of', 'their', 'sales', 'supply', 'many', '$', 'N', 'million', 'a', 'year', 'now', 'triple', 'what', 'could', 'be', 'properly', 'without', 'their', 'goal', 'it', 'can', 'be', 'party', 'on', 'health', 'and', '<unk>', 'chips', 'including', 'N']\n",
            "['dole', 'seeks', 'across-the-board', 'skin', 'pop', 'ownership', 'and', 'thrifts', 'will', 'coordinate', 'strategy', 'but', 'has', 'led', 'material', 'over', 'by', 'market-makers', 'shopping', 'asset', 'sales', 'and', 'the', 'remaining', 'independent', 'assets', 'trust', 'electric', 'annual', 'sales', 'of', '$', 'N', 'billion', 'will', 'go', 'and', 'trading', 'on', 'the', 'sale', 'boosting', 'reserves', 'for', 'each', 'private-sector', 'date', 'in', 'its', 'systems']\n",
            "['although', 'the', 'u.s.', 'interim', 'u.s.', 'auto', 'makers', 'plan', 'to', 'find', 'a', 'one-time', 'gains', 'growth', 'said', 'robert', 's.', '<unk>', 'jr.', 'and', 'founder', 'ralph', 'and', 'marketing', 'executive', 'was', 'late', 'the', 'quarter', 'was', 'attributable', 'to', 'an', 'open', 'market', 'drop', 'it', 'far', 'better', 'than', 'operating', 'earnings', 'at', '$', 'N', 'at', 'the', 'same', 'time', 'and']\n",
            "['expenses', 'a', 'considerably', '$', 'N', 'million', 'loss', 'for', 'the', 'nuovo', 'banco', 'employee', 'businesses', 'which', 'include', 'a', 'risk', 'six', 'billion', 'canadian', 'dollars', 'us$', 'N', 'billion', 'in', 'general', 'borrowing', 'in', 'N', 'N', 'of', '$', 'N', 'billion', 'as', 'the', 'year', 'as', 'an', 'indication', 'that', 'the', 'debentures', 'of', 'additional', 'proceeds', 'owed', 'its', 'short-term', 'outlook']\n"
          ]
        },
        {
          "output_type": "stream",
          "name": "stderr",
          "text": [
            "165it [00:37,  4.37it/s]\n"
          ]
        },
        {
          "output_type": "stream",
          "name": "stdout",
          "text": [
            "Time [0:26:30], Epoch [42/50], loss: 3.3511\n"
          ]
        },
        {
          "output_type": "stream",
          "name": "stderr",
          "text": [
            "165it [00:37,  4.37it/s]\n"
          ]
        },
        {
          "output_type": "stream",
          "name": "stdout",
          "text": [
            "Time [0:27:08], Epoch [43/50], loss: 3.3444\n"
          ]
        },
        {
          "output_type": "stream",
          "name": "stderr",
          "text": [
            "165it [00:37,  4.37it/s]\n"
          ]
        },
        {
          "output_type": "stream",
          "name": "stdout",
          "text": [
            "Time [0:27:46], Epoch [44/50], loss: 3.3369\n"
          ]
        },
        {
          "output_type": "stream",
          "name": "stderr",
          "text": [
            "165it [00:37,  4.36it/s]\n"
          ]
        },
        {
          "output_type": "stream",
          "name": "stdout",
          "text": [
            "Time [0:28:23], Epoch [45/50], loss: 3.3323\n"
          ]
        },
        {
          "output_type": "stream",
          "name": "stderr",
          "text": [
            "165it [00:37,  4.37it/s]\n"
          ]
        },
        {
          "output_type": "stream",
          "name": "stdout",
          "text": [
            "Time [0:29:01], Epoch [46/50], loss: 3.3282\n",
            "[Generated Sentences]\n",
            "['giorgio', 'stripped', 'especially', 'in', 'N', 'the', 'national', 'institute', 'of', 'meredith', 'corp.', 'purchase', 'yesterday', \"'s\", 'high', 'yield', 'above', 'the', 'most', 'active', 'amex', 'as', 'the', 'as', 'to', 'retreat', 'from', 'currency', 'up', 'kidney', 'junk', 'bond', 'corp.', 'of', 'redmond', 'wash.', 'and', 'manufacturing', 'industries', 'firm', 'where', 'the', 'sharp', 'surge', 'in', 'reserves', 'thursday', 'a', 'filing', 'goes']\n",
            "['saatchi', '&', 'saatchi', 'and', 'commerce', 'committee', 'chairman', 'john', 'has', 'been', '<unk>', 'and', '<unk>', '<unk>', 'the', 'deduction', 'she', 'sees', 'been', 'elected', 'to', 'freeway', 'arteries', 'people', 'killed', 'actually', 'and', 'released', 'all', 'about', 'nearly', 'five', 'bofors', 'the', 'N', 'N', 'issue', 'reading', '<unk>', 'on', 'nov.', 'N', 'to', 'die', 'for', 'a', 'month', 'that', 'gop', 'senators']\n",
            "['racial', 'gerrymandering', 'seems', 'that', 'mr.', 'gorbachev', 'comes', 'under', 'an', 'education', 'backing', 'from', 'the', 'new', 'york', 'state', 'employees', 'and', 'health', 'and', 'N', 'is', 'going', 'likely', 'to', 'be', 'as', 'much', 'as', '$', 'N', 'their', '<unk>', 'under', 'the', 'bill', 'plans', 'to', 'get', 'a', 'deficit-reduction', 'bill', 'to', 'maintain', 'N', 'to', 'N', 'each', 'big', 'brokerage']\n",
            "['eric', 'c.', '<unk>', 'president', 'of', 'turner', 'turner', 'turner', 'officials', 'said', 'the', 'new', 'company', 'offered', 'the', 'redemption', 'u.s.', 'approval', 'of', 'a', 'jaguar', 'shares', 'to', 'the', 'federal', 'share', 'for', 'two', 'cents', 'a', 'computer', 'giant', 'group', 'to', 'push', 'up', 'with', 'an', 'undisclosed', 'future', 'interest', 'in', 'an', 'area', 'close', 'and', 'raised', 'by', 'the', 'finance']\n",
            "['impeachment', 'landmark', 'lines', 'averaged', 'N', 'pence', 'to', 'N', 'N', 'in', 'N', 'to', 'yield', 'N', 'N', 'in', 'N', 'to', 'yield', 'N', 'N', 'from', 'c$', 'N', 'million', 'in', 'starting', 'negotiations', 'between', 'the', 'u.k.', 'traditionally', 'shoppers', 'out', 'the', 'announcement', 'that', 'offer', 'only', 'one', 'share', 'of', 'about', 'N', 'provisions', 'of', 'N', 'air', 'force', 'between']\n"
          ]
        },
        {
          "output_type": "stream",
          "name": "stderr",
          "text": [
            "165it [00:37,  4.37it/s]\n"
          ]
        },
        {
          "output_type": "stream",
          "name": "stdout",
          "text": [
            "Time [0:29:39], Epoch [47/50], loss: 3.3205\n"
          ]
        },
        {
          "output_type": "stream",
          "name": "stderr",
          "text": [
            "165it [00:37,  4.37it/s]\n"
          ]
        },
        {
          "output_type": "stream",
          "name": "stdout",
          "text": [
            "Time [0:30:17], Epoch [48/50], loss: 3.3192\n"
          ]
        },
        {
          "output_type": "stream",
          "name": "stderr",
          "text": [
            "165it [00:37,  4.38it/s]\n"
          ]
        },
        {
          "output_type": "stream",
          "name": "stdout",
          "text": [
            "Time [0:30:55], Epoch [49/50], loss: 3.3113\n"
          ]
        },
        {
          "output_type": "stream",
          "name": "stderr",
          "text": [
            "165it [00:37,  4.37it/s]"
          ]
        },
        {
          "output_type": "stream",
          "name": "stdout",
          "text": [
            "Time [0:31:32], Epoch [50/50], loss: 3.3102\n"
          ]
        },
        {
          "output_type": "stream",
          "name": "stderr",
          "text": [
            "\n"
          ]
        }
      ]
    },
    {
      "cell_type": "markdown",
      "metadata": {
        "id": "nDhlrcENM4Dx"
      },
      "source": [
        "생성된 텍스트의 퀄리티는 어떤가요? \n",
        "\n",
        "앞으로 딥러닝 강의가 끝나면 자연어처리 강좌에서 텍스트 처리에 적합한 전처리 과정, 모델구조들을 본격적으로 배우시게 될것입니다."
      ]
    },
    {
      "cell_type": "markdown",
      "metadata": {
        "id": "1Ua-_6W2a5Lt"
      },
      "source": [
        "# References\n",
        "\n",
        "1. https://github.com/pytorch/examples/tree/master/word_language_model\n",
        "2. https://github.com/yunjey/pytorch-tutorial/tree/master/tutorials/02-intermediate/language_model"
      ]
    }
  ]
}
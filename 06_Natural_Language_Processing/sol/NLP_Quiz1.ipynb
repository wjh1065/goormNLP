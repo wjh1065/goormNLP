{
  "nbformat": 4,
  "nbformat_minor": 0,
  "metadata": {
    "colab": {
      "name": "NLP Quiz1",
      "provenance": [],
      "collapsed_sections": []
    },
    "kernelspec": {
      "name": "python3",
      "display_name": "Python 3"
    },
    "language_info": {
      "name": "python"
    }
  },
  "cells": [
    {
      "cell_type": "markdown",
      "metadata": {
        "id": "ZhAEjARBRPGb"
      },
      "source": [
        "# NLP Quiz1\n",
        "\n",
        "> 본 퀴즈에서는 강의에서 직접적으로 다루지 않은 문제들도 포함되어 있습니다. 성취도 확인용으로 진행되는 시험이니 한 주 동안 배운 내용을 복습하고 새로운 문제들을 공부하는 데 의미를 두시면 좋을 것 같습니다."
      ]
    },
    {
      "cell_type": "markdown",
      "metadata": {
        "id": "sSqNrv0c52kO"
      },
      "source": [
        "### Part 1. 다음 명제에 대해, True/False를 판단하시오. 판단 근거를 간략하게 설명하시오."
      ]
    },
    {
      "cell_type": "markdown",
      "metadata": {
        "id": "2Z081ktX4Ujo"
      },
      "source": [
        "Bag-of-Words 가정을 기반으로한 워드 임베딩은 문장 내 단어의 등장 순서를 고려한다."
      ]
    },
    {
      "cell_type": "markdown",
      "metadata": {
        "id": "-RJeOeKRRfSs"
      },
      "source": [
        "A:\n",
        "\n",
        "---\n",
        "\n"
      ]
    },
    {
      "cell_type": "markdown",
      "metadata": {
        "id": "XFl5wV-5daU9"
      },
      "source": [
        "Bag-of-Words 표현형을 만들 때, 유사한 의미를 가진 단어들은 벡터 공간 상에서 다른 단어 보다 더 가까이 위치해 있다."
      ]
    },
    {
      "cell_type": "markdown",
      "metadata": {
        "id": "zR1O9-Ued58u"
      },
      "source": [
        "A:\n",
        "\n",
        "---\n",
        "\n"
      ]
    },
    {
      "cell_type": "markdown",
      "metadata": {
        "id": "L3feYy_f6AO7"
      },
      "source": [
        "Navie Bayes 기반 topic classification 모델에서는 문장 내 단어의 등장 확률은 서로 독립이다. "
      ]
    },
    {
      "cell_type": "markdown",
      "metadata": {
        "id": "7mblo4wgRnrv"
      },
      "source": [
        "A:\n",
        "\n",
        "---\n",
        "\n"
      ]
    },
    {
      "cell_type": "markdown",
      "metadata": {
        "id": "s05HjcfO78q7"
      },
      "source": [
        "Topic Modeling 에서 문서 내 단어들은 빈도 기반의 벡터로 표현된다."
      ]
    },
    {
      "cell_type": "markdown",
      "metadata": {
        "id": "hiTF_L-LRo8c"
      },
      "source": [
        "A:\n",
        "\n",
        "---\n",
        "\n"
      ]
    },
    {
      "cell_type": "markdown",
      "metadata": {
        "id": "MLhrKOQT8xN7"
      },
      "source": [
        "Word2Vec 학습시 각 단어는 입력 문장에 등장하는 단어 모두를 고려하여 word representation을 업데이트한다."
      ]
    },
    {
      "cell_type": "markdown",
      "metadata": {
        "id": "eeB78enNRx6S"
      },
      "source": [
        "A:\n",
        "\n",
        "---\n",
        "\n"
      ]
    },
    {
      "cell_type": "markdown",
      "metadata": {
        "id": "A4BORmzMBNWU"
      },
      "source": [
        "GloVe 학습시 각 단어는 문장 내 단어의 등장 여부 뿐만 아니라 학습 말뭉치 전체에서 동시에 등장하는 단어를 모두 고려하여 word representation을 업데이트 한다."
      ]
    },
    {
      "cell_type": "markdown",
      "metadata": {
        "id": "2b7KujmiRzDL"
      },
      "source": [
        "A:\n",
        "\n",
        "---\n",
        "\n"
      ]
    },
    {
      "cell_type": "markdown",
      "metadata": {
        "id": "vIZy6AYwF--D"
      },
      "source": [
        "RNN 의 one-to-many setting 에서 time step 0 이후의 input은 입력되지 않는다."
      ]
    },
    {
      "cell_type": "markdown",
      "metadata": {
        "id": "tqgxLBoJRzo7"
      },
      "source": [
        "A:\n",
        "\n",
        "---\n",
        "\n"
      ]
    },
    {
      "cell_type": "markdown",
      "metadata": {
        "id": "MwU7Z9Gq8gJN"
      },
      "source": [
        "Gradient clipping 은 vanishing gradient problem 을 방지하는 방법이다."
      ]
    },
    {
      "cell_type": "markdown",
      "metadata": {
        "id": "Ge1HG71MR1Se"
      },
      "source": [
        "A:\n",
        "\n",
        "---\n",
        "\n"
      ]
    },
    {
      "cell_type": "markdown",
      "metadata": {
        "id": "uzL4Ae2CERuI"
      },
      "source": [
        "Bi-directional RNN/LSTM 모델은 language modeling task 학습이 가능하다."
      ]
    },
    {
      "cell_type": "markdown",
      "metadata": {
        "id": "Gn0brPMDR2OV"
      },
      "source": [
        "A:\n",
        "\n",
        "---\n",
        "\n"
      ]
    },
    {
      "cell_type": "markdown",
      "metadata": {
        "id": "qXiOSUY_Gff4"
      },
      "source": [
        "Skip-gram에서 window size=5 인 경우 문장의 첫 2개 단어와 가장 뒷 단어 2개를 input으로 한 학습은 할 수 없다."
      ]
    },
    {
      "cell_type": "markdown",
      "metadata": {
        "id": "u1s-0No0R39R"
      },
      "source": [
        "A:\n",
        "\n",
        "---\n",
        "\n"
      ]
    },
    {
      "cell_type": "markdown",
      "metadata": {
        "id": "PmOd7T1LTV0I"
      },
      "source": [
        "Word2vec 워드 임베딩은 두 단어가 정 반대의 의미를 가지고 있으면 두 단어의 임베딩 벡터는 서로 반대 방향을 가리킨다."
      ]
    },
    {
      "cell_type": "markdown",
      "metadata": {
        "id": "rckCoja8UuoS"
      },
      "source": [
        "A:\n",
        "\n",
        "---\n",
        "\n"
      ]
    },
    {
      "cell_type": "markdown",
      "metadata": {
        "id": "1BbgO9vkVJtr"
      },
      "source": [
        "단어 $w$ 가 전체 문서에 많이 등장하면 TF-IDF($w$) 값이 커진다."
      ]
    },
    {
      "cell_type": "markdown",
      "metadata": {
        "id": "BGXQCk4eWbvU"
      },
      "source": [
        "A:\n",
        "\n",
        "---\n",
        "\n"
      ]
    },
    {
      "cell_type": "markdown",
      "metadata": {
        "id": "nG6i1pj4gtKP"
      },
      "source": [
        "### Part 2. 객관식/주관식 문항"
      ]
    },
    {
      "cell_type": "markdown",
      "metadata": {
        "id": "h6dnCH-yhhN0"
      },
      "source": [
        "기계 번역 태스크를 수행하기 위해서 활용하기에 적절한 RNN 모델 구조를 고르시오. (객관식)\n",
        "1. one-to-many\n",
        "2. many-to-one\n",
        "3. many-to-many"
      ]
    },
    {
      "cell_type": "markdown",
      "metadata": {
        "id": "RBwnOnlC1WF4"
      },
      "source": [
        "A:\n",
        "\n",
        "---\n",
        "\n"
      ]
    },
    {
      "cell_type": "markdown",
      "metadata": {
        "id": "6dL5bQ0_2CXv"
      },
      "source": [
        "LSTM cell 에서 사용되는 activation function 의 종류를 모두 고르시오. (객관식)\n",
        "1. sigmoid\n",
        "2. relu\n",
        "3. tanh\n",
        "4. gelu"
      ]
    },
    {
      "cell_type": "markdown",
      "metadata": {
        "id": "WegUUjiS2NCD"
      },
      "source": [
        "A:\n",
        "\n",
        "---\n",
        "\n"
      ]
    },
    {
      "cell_type": "markdown",
      "metadata": {
        "id": "Tf0Dszgy1ZsB"
      },
      "source": [
        "Word2Vec 의 두 가지 기법인 CBOW 와 Skip-gram 방법을 비교하시오. (주관식)"
      ]
    },
    {
      "cell_type": "markdown",
      "metadata": {
        "id": "MnMh1ip41qaj"
      },
      "source": [
        "A:\n",
        "\n",
        "---\n",
        "\n"
      ]
    },
    {
      "cell_type": "markdown",
      "metadata": {
        "id": "X2x6J8wW1rS7"
      },
      "source": [
        "LSTM 의 각 gate 의 역할을 간단히 설명하시오. (주관식)"
      ]
    },
    {
      "cell_type": "markdown",
      "metadata": {
        "id": "xpSBFen22Tcz"
      },
      "source": [
        "A:\n",
        "\n",
        "---\n",
        "\n"
      ]
    },
    {
      "cell_type": "markdown",
      "metadata": {
        "id": "1yXsoFMHgJrQ"
      },
      "source": [
        "LSTM 에서 cell state 의 역할 및 장점을 간단히 설명하시오. (주관식)"
      ]
    },
    {
      "cell_type": "markdown",
      "metadata": {
        "id": "V4aKbNiF8nra"
      },
      "source": [
        "A:\n",
        "\n",
        "---\n",
        "\n"
      ]
    },
    {
      "cell_type": "code",
      "metadata": {
        "id": "mvk53ZNJgq1D"
      },
      "source": [
        ""
      ],
      "execution_count": null,
      "outputs": []
    }
  ]
}
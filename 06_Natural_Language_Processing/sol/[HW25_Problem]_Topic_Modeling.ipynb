{
  "nbformat": 4,
  "nbformat_minor": 0,
  "metadata": {
    "kernelspec": {
      "display_name": "Python 3",
      "language": "python",
      "name": "python3"
    },
    "language_info": {
      "codemirror_mode": {
        "name": "ipython",
        "version": 3
      },
      "file_extension": ".py",
      "mimetype": "text/x-python",
      "name": "python",
      "nbconvert_exporter": "python",
      "pygments_lexer": "ipython3",
      "version": "3.7.3"
    },
    "colab": {
      "name": "[HW25_Problem] Topic Modeling.ipynb",
      "provenance": [],
      "collapsed_sections": []
    }
  },
  "cells": [
    {
      "cell_type": "markdown",
      "metadata": {
        "id": "pUEqzkNmnyYH"
      },
      "source": [
        "# [HW2] Topic Modeling\n",
        "1. Crawling News\n",
        "2. Preprocessing\n",
        "3. Build Term-Document Matrix\n",
        "4. Topic modeling\n",
        "5. Visualization\n",
        "\n",
        "```\n",
        "🔥 이번 시간에는 Topic Modeling를 직접 크롤링한 뉴스 데이터에 대해서 수행해보는 시간을 갖겠습니다. \n",
        "\n",
        "먼저 네이버에서 뉴스 기사를 간단하게 크롤링합니다.\n",
        "기본적인 전처리 이후 Term-document Matrix를 만들고 이를 non-negative factorization을 이용해 행렬 분해를 하여 Topic modeling을 수행합니다.\n",
        "\n",
        "t-distributed stochastic neighbor embedding(T-SNE) 기법을 이용해 Topic별 시각화를 진행합니다.\n",
        "```"
      ]
    },
    {
      "cell_type": "code",
      "metadata": {
        "id": "NIARcrg_oNMN",
        "outputId": "d406e33b-dba0-4b71-dcc0-01ec933ee7e8",
        "colab": {
          "base_uri": "https://localhost:8080/"
        }
      },
      "source": [
        "!pip install newspaper3k\n",
        "!pip install konlpy"
      ],
      "execution_count": 1,
      "outputs": [
        {
          "output_type": "stream",
          "name": "stdout",
          "text": [
            "Collecting newspaper3k\n",
            "  Downloading newspaper3k-0.2.8-py3-none-any.whl (211 kB)\n",
            "\u001b[K     |████████████████████████████████| 211 kB 4.4 MB/s \n",
            "\u001b[?25hCollecting tldextract>=2.0.1\n",
            "  Downloading tldextract-3.2.0-py3-none-any.whl (87 kB)\n",
            "\u001b[K     |████████████████████████████████| 87 kB 6.3 MB/s \n",
            "\u001b[?25hRequirement already satisfied: lxml>=3.6.0 in /usr/local/lib/python3.7/dist-packages (from newspaper3k) (4.2.6)\n",
            "Collecting jieba3k>=0.35.1\n",
            "  Downloading jieba3k-0.35.1.zip (7.4 MB)\n",
            "\u001b[K     |████████████████████████████████| 7.4 MB 47.3 MB/s \n",
            "\u001b[?25hCollecting tinysegmenter==0.3\n",
            "  Downloading tinysegmenter-0.3.tar.gz (16 kB)\n",
            "Collecting cssselect>=0.9.2\n",
            "  Downloading cssselect-1.1.0-py2.py3-none-any.whl (16 kB)\n",
            "Requirement already satisfied: python-dateutil>=2.5.3 in /usr/local/lib/python3.7/dist-packages (from newspaper3k) (2.8.2)\n",
            "Requirement already satisfied: Pillow>=3.3.0 in /usr/local/lib/python3.7/dist-packages (from newspaper3k) (7.1.2)\n",
            "Requirement already satisfied: requests>=2.10.0 in /usr/local/lib/python3.7/dist-packages (from newspaper3k) (2.23.0)\n",
            "Collecting feedfinder2>=0.0.4\n",
            "  Downloading feedfinder2-0.0.4.tar.gz (3.3 kB)\n",
            "Requirement already satisfied: PyYAML>=3.11 in /usr/local/lib/python3.7/dist-packages (from newspaper3k) (3.13)\n",
            "Collecting feedparser>=5.2.1\n",
            "  Downloading feedparser-6.0.8-py3-none-any.whl (81 kB)\n",
            "\u001b[K     |████████████████████████████████| 81 kB 9.4 MB/s \n",
            "\u001b[?25hRequirement already satisfied: beautifulsoup4>=4.4.1 in /usr/local/lib/python3.7/dist-packages (from newspaper3k) (4.6.3)\n",
            "Requirement already satisfied: nltk>=3.2.1 in /usr/local/lib/python3.7/dist-packages (from newspaper3k) (3.2.5)\n",
            "Requirement already satisfied: six in /usr/local/lib/python3.7/dist-packages (from feedfinder2>=0.0.4->newspaper3k) (1.15.0)\n",
            "Collecting sgmllib3k\n",
            "  Downloading sgmllib3k-1.0.0.tar.gz (5.8 kB)\n",
            "Requirement already satisfied: certifi>=2017.4.17 in /usr/local/lib/python3.7/dist-packages (from requests>=2.10.0->newspaper3k) (2021.10.8)\n",
            "Requirement already satisfied: urllib3!=1.25.0,!=1.25.1,<1.26,>=1.21.1 in /usr/local/lib/python3.7/dist-packages (from requests>=2.10.0->newspaper3k) (1.24.3)\n",
            "Requirement already satisfied: idna<3,>=2.5 in /usr/local/lib/python3.7/dist-packages (from requests>=2.10.0->newspaper3k) (2.10)\n",
            "Requirement already satisfied: chardet<4,>=3.0.2 in /usr/local/lib/python3.7/dist-packages (from requests>=2.10.0->newspaper3k) (3.0.4)\n",
            "Requirement already satisfied: filelock>=3.0.8 in /usr/local/lib/python3.7/dist-packages (from tldextract>=2.0.1->newspaper3k) (3.6.0)\n",
            "Collecting requests-file>=1.4\n",
            "  Downloading requests_file-1.5.1-py2.py3-none-any.whl (3.7 kB)\n",
            "Building wheels for collected packages: tinysegmenter, feedfinder2, jieba3k, sgmllib3k\n",
            "  Building wheel for tinysegmenter (setup.py) ... \u001b[?25l\u001b[?25hdone\n",
            "  Created wheel for tinysegmenter: filename=tinysegmenter-0.3-py3-none-any.whl size=13553 sha256=cfcc0ce031c3fd6d9a6f8b43801c123beb84166c2b246795ba4b5c111b49f64e\n",
            "  Stored in directory: /root/.cache/pip/wheels/df/67/41/faca10fa501ca010be41b49d40360c2959e1c4f09bcbfa37fa\n",
            "  Building wheel for feedfinder2 (setup.py) ... \u001b[?25l\u001b[?25hdone\n",
            "  Created wheel for feedfinder2: filename=feedfinder2-0.0.4-py3-none-any.whl size=3357 sha256=eba8356e8c1d1eb46aa9800b8f643c7c275e64bf89a8c6b29a47547afa742721\n",
            "  Stored in directory: /root/.cache/pip/wheels/7f/d4/8f/6e2ca54744c9d7292d88ddb8d42876bcdab5e6d84a21c10346\n",
            "  Building wheel for jieba3k (setup.py) ... \u001b[?25l\u001b[?25hdone\n",
            "  Created wheel for jieba3k: filename=jieba3k-0.35.1-py3-none-any.whl size=7398404 sha256=54c1ce103760e69f8df36a6c91d78f167f72dc6db1124947c91ea5fedededde1\n",
            "  Stored in directory: /root/.cache/pip/wheels/4c/91/46/3c208287b726df325a5979574324878b679116e4baae1af3c3\n",
            "  Building wheel for sgmllib3k (setup.py) ... \u001b[?25l\u001b[?25hdone\n",
            "  Created wheel for sgmllib3k: filename=sgmllib3k-1.0.0-py3-none-any.whl size=6066 sha256=c4df1892fdd138444a086c71390b2521c517853a9e40ff039ad31865e68c2b2c\n",
            "  Stored in directory: /root/.cache/pip/wheels/73/ad/a4/0dff4a6ef231fc0dfa12ffbac2a36cebfdddfe059f50e019aa\n",
            "Successfully built tinysegmenter feedfinder2 jieba3k sgmllib3k\n",
            "Installing collected packages: sgmllib3k, requests-file, tldextract, tinysegmenter, jieba3k, feedparser, feedfinder2, cssselect, newspaper3k\n",
            "Successfully installed cssselect-1.1.0 feedfinder2-0.0.4 feedparser-6.0.8 jieba3k-0.35.1 newspaper3k-0.2.8 requests-file-1.5.1 sgmllib3k-1.0.0 tinysegmenter-0.3 tldextract-3.2.0\n",
            "Collecting konlpy\n",
            "  Downloading konlpy-0.6.0-py2.py3-none-any.whl (19.4 MB)\n",
            "\u001b[K     |████████████████████████████████| 19.4 MB 530 kB/s \n",
            "\u001b[?25hCollecting JPype1>=0.7.0\n",
            "  Downloading JPype1-1.3.0-cp37-cp37m-manylinux_2_5_x86_64.manylinux1_x86_64.whl (448 kB)\n",
            "\u001b[K     |████████████████████████████████| 448 kB 61.6 MB/s \n",
            "\u001b[?25hRequirement already satisfied: numpy>=1.6 in /usr/local/lib/python3.7/dist-packages (from konlpy) (1.21.5)\n",
            "Requirement already satisfied: lxml>=4.1.0 in /usr/local/lib/python3.7/dist-packages (from konlpy) (4.2.6)\n",
            "Requirement already satisfied: typing-extensions in /usr/local/lib/python3.7/dist-packages (from JPype1>=0.7.0->konlpy) (3.10.0.2)\n",
            "Installing collected packages: JPype1, konlpy\n",
            "Successfully installed JPype1-1.3.0 konlpy-0.6.0\n"
          ]
        }
      ]
    },
    {
      "cell_type": "code",
      "metadata": {
        "id": "aPu9TCFEoK_m"
      },
      "source": [
        "# 크롤링에 필요한 패키지 설치\n",
        "from bs4 import BeautifulSoup\n",
        "from newspaper import Article\n",
        "from time import sleep\n",
        "from time import time\n",
        "from dateutil.relativedelta import relativedelta\n",
        "from datetime import datetime\n",
        "from multiprocessing import Pool\n",
        "import json\n",
        "import requests\n",
        "import re\n",
        "import sys"
      ],
      "execution_count": 2,
      "outputs": []
    },
    {
      "cell_type": "markdown",
      "metadata": {
        "id": "oU2ipk6ZvZXf"
      },
      "source": [
        "```\n",
        "💡 Crawling(크롤링)이란?\n",
        "\n",
        "크롤링은 웹 페이지에서 필요한 데이터를 추출해내는 작업을 말합니다.\n",
        "이번 시간에는 정적 페이지인 네이버의 뉴스 신문 기사 웹페이지를 크롤링합니다.\n",
        "\n",
        "HTML은 설명되어 있는 자료가 많기 때문에 생략하도록 하겠습니다.\n",
        "HTML 구조 파악 및 태그에 대한 설명은 아래 참고자료를 살펴봐주세요 !\n",
        "```\n",
        "\n",
        "참고: [위키피디아: 정적페이지](https://ko.wikipedia.org/wiki/%EC%A0%95%EC%A0%81_%EC%9B%B9_%ED%8E%98%EC%9D%B4%EC%A7%80)\n",
        "\n",
        "참고: [생활코딩: HTML](https://opentutorials.org/course/2039)"
      ]
    },
    {
      "cell_type": "code",
      "metadata": {
        "id": "c0UYQWmsnHTF"
      },
      "source": [
        "def crawl_news(query: str=None, crawl_num: int=1000, workers: int=4):\n",
        "    '''뉴스 기사 텍스트가 담긴 list를 반환합니다.\n",
        "\n",
        "    Keyword arguments:\n",
        "    query -- 검색어 (default None)\n",
        "    crawl_num -- 수집할 뉴스 기사의 개수 (defualt 1000)\n",
        "    workers -- multi-processing시 사용할 thread의 개수 (default 4)\n",
        "    '''\n",
        "\n",
        "    url = 'https://search.naver.com/search.naver?where=news&sm=tab_jum&query={}'\n",
        "    articleList = []\n",
        "    crawled_url = set()\n",
        "    keyboard_interrupt = False\n",
        "    t = time()\n",
        "    idx = 0\n",
        "    page = 1\n",
        "\n",
        "    \n",
        "    # 서버에 url 요청의 결과를 선언\n",
        "    res = requests.get(url.format(query))\n",
        "    sleep(0.5)\n",
        "    # res를 parsing할 parser를 선언\n",
        "    bs = BeautifulSoup(res.text, 'html.parser')\n",
        "    \n",
        "    with Pool(workers) as p:\n",
        "        while idx < crawl_num:            \n",
        "            table = bs.find('ul', {'class': 'list_news'})\n",
        "            li_list = table.find_all('li', {'id': re.compile('sp_nws.*')})\n",
        "            area_list = [li.find('div', {'class':'news_area'}) for li in li_list]\n",
        "            a_list = [area.find('a', {'class':'news_tit'}) for area in area_list]\n",
        "            \n",
        "            for n in a_list[:min(len(a_list), crawl_num-idx)]:\n",
        "                articleList.append(n.get('title'))\n",
        "                idx += 1\n",
        "            page += 1\n",
        "\n",
        "            pages = bs.find('div', {'class': 'sc_page_inner'})\n",
        "            next_page_url = [p for p in pages.find_all('a') if p.text == str(page)][0].get('href')\n",
        "\n",
        "            req = requests.get('https://search.naver.com/search.naver' + next_page_url)\n",
        "            bs = BeautifulSoup(req.text, 'html.parser')\n",
        "    return articleList"
      ],
      "execution_count": 3,
      "outputs": []
    },
    {
      "cell_type": "markdown",
      "metadata": {
        "id": "8ln1Wih0XVnt"
      },
      "source": [
        "```\n",
        "🔥 이제 '구글'이라는 이름으로 뉴스 기사 1000개의 제목을 크롤링하겠습니다.\n",
        "```"
      ]
    },
    {
      "cell_type": "code",
      "metadata": {
        "id": "G6CAFa6J56yJ"
      },
      "source": [
        "query = '구글'\n",
        "\n",
        "articleList = crawl_news(query)"
      ],
      "execution_count": 4,
      "outputs": []
    },
    {
      "cell_type": "code",
      "metadata": {
        "id": "UDIS5V1yAcRT",
        "outputId": "551cc979-b549-48f5-f5c0-8aa794c2f4fe",
        "colab": {
          "base_uri": "https://localhost:8080/"
        }
      },
      "source": [
        "articleList[:10]"
      ],
      "execution_count": 5,
      "outputs": [
        {
          "output_type": "execute_result",
          "data": {
            "text/plain": [
              "['웹젠 ‘뮤오리진3’, 구글 매출 탑5 ‘또 통했다’',\n",
              " '원스토어 앱, 이제 구글 안드로이드 오토서도 작동된다',\n",
              " '구글까지 우크라 돕는다…\"실시간 도로 상황 비공개 전환\"',\n",
              " '구글, 유럽 유튜브서 러시아 국영방송·통신사 채널 차단',\n",
              " '방탄소년단 정국, 2021년 美구글에서 가장 많이 검색된 K팝 남자 아이돌 1위',\n",
              " '웹젠 뮤오리진3, 구글 매출 톱5...출시 일주일만',\n",
              " '구글, 우크라 지도 서비스 일시 중단…\"현지 안전 고려\"',\n",
              " '[DBR/Management Solution]‘스스로 목표 설정’ OKR, 구글 키운 핵심 비결',\n",
              " \"구글, '창구 프로그램' 4기 개발사 모집\",\n",
              " '애플부터 구글, 포드까지…러시아에 등 돌리는 (주) 미국']"
            ]
          },
          "metadata": {},
          "execution_count": 5
        }
      ]
    },
    {
      "cell_type": "markdown",
      "metadata": {
        "id": "J9HG4LxOaa1r"
      },
      "source": [
        "```\n",
        "🔥 태거(tagger)를 이용해 한글 명사와 알파벳만을 추출해서 term-document matrix (tdm)을 만들겠습니다.\n",
        "\n",
        "태거(tagger)는 tokenization에서 조금 더 자세히 다루도록 하겠습니다.\n",
        "```\n",
        "\n",
        "참고: [konlpy: morph analyzer](https://konlpy-ko.readthedocs.io/ko/v0.4.3/morph/)"
      ]
    },
    {
      "cell_type": "markdown",
      "metadata": {
        "ExecuteTime": {
          "end_time": "2019-05-15T06:17:04.018304Z",
          "start_time": "2019-05-15T06:09:10.729214Z"
        },
        "id": "Mdr-aTytaCLr"
      },
      "source": [
        "## Preprocessing"
      ]
    },
    {
      "cell_type": "code",
      "metadata": {
        "ExecuteTime": {
          "end_time": "2019-05-29T08:48:53.790086Z",
          "start_time": "2019-05-29T08:46:38.984818Z"
        },
        "id": "HUN9k5DXaCLs",
        "outputId": "7c4b75b8-a48c-436a-a5f8-63b61b41ce96",
        "colab": {
          "base_uri": "https://localhost:8080/"
        }
      },
      "source": [
        "from konlpy.tag import Okt\n",
        "from collections import Counter\n",
        "import json\n",
        "\n",
        "# Okt 형태소 분석기 선언\n",
        "t = Okt()\n",
        "\n",
        "words_list_ = []\n",
        "vocab = Counter()\n",
        "tag_set = set(['Noun', 'Alpha'])\n",
        "stopwords = set(['글자'])\n",
        "\n",
        "for i, article in enumerate(articleList):\n",
        "    if i % 100 == 0:\n",
        "        print(i)\n",
        "    \n",
        "    # tagger를 이용한 품사 태깅\n",
        "    words = t.pos(article, norm=True, stem=True)\n",
        "    \n",
        "    ############################ ANSWER HERE ################################\n",
        "    # TODO: 다음의 조건을 만족하는 단어의 리스트를 완성하세요.\n",
        "    # 조건 1: 명사와 알파벳 tag를 가진 단어\n",
        "    # 조건 2: 철자 길이가 2이상인 단어 \n",
        "    # 조건 3: stopwords에 포함되지 않는 단어\n",
        "    words = [w for w,t in words if t in tag_set and len(w) > 1 and w not in stopwords]\n",
        "    #########################################################################        \n",
        "\n",
        "    vocab.update(words)\n",
        "    words_list_.append((words, article))\n",
        "    \n",
        "vocab = sorted([w for w, freq in vocab.most_common(10000)])\n",
        "word2id = {w: i for i, w in enumerate(vocab)}\n",
        "words_list = []\n",
        "for words, article in words_list_:\n",
        "    words = [w for w in words if w in word2id]\n",
        "    if len(words) > 10:\n",
        "        words_list.append((words, article))\n",
        "        \n",
        "del words_list_"
      ],
      "execution_count": 7,
      "outputs": [
        {
          "output_type": "stream",
          "name": "stdout",
          "text": [
            "0\n",
            "100\n",
            "200\n",
            "300\n",
            "400\n",
            "500\n",
            "600\n",
            "700\n",
            "800\n",
            "900\n"
          ]
        }
      ]
    },
    {
      "cell_type": "markdown",
      "metadata": {
        "id": "5L1BkQeaaCLv"
      },
      "source": [
        "## Build document-term matrix"
      ]
    },
    {
      "cell_type": "markdown",
      "metadata": {
        "id": "r5YfokxJf86R"
      },
      "source": [
        "```\n",
        "🔥 이제 document-term matrix를 만들어보겠습니다.\n",
        "document-term matrix는 (문서 개수 x 단어 개수)의 Matrix입니다.\n",
        "```\n",
        "\n",
        "참고: [Document-Term Matrix](https://wikidocs.net/24559)"
      ]
    },
    {
      "cell_type": "code",
      "metadata": {
        "ExecuteTime": {
          "end_time": "2019-05-29T08:48:56.005889Z",
          "start_time": "2019-05-29T08:48:53.792571Z"
        },
        "id": "MI5weWREaCLv",
        "outputId": "0c3177a2-a43c-4b3a-a2fc-24823553d826",
        "colab": {
          "base_uri": "https://localhost:8080/"
        }
      },
      "source": [
        "from sklearn.feature_extraction.text import TfidfTransformer\n",
        "import numpy as np\n",
        "\n",
        "dtm = np.zeros((len(words_list), len(vocab)), dtype=np.float32)\n",
        "print(dtm.shape)\n",
        "for i, (words, article) in enumerate(words_list):\n",
        "    for word in words:\n",
        "        dtm[i, word2id[word]] += 1\n",
        "print('dtm : ', dtm)       \n",
        "dtm = TfidfTransformer().fit_transform(dtm)"
      ],
      "execution_count": 11,
      "outputs": [
        {
          "output_type": "stream",
          "name": "stdout",
          "text": [
            "(63, 1398)\n",
            "dtm :  [[0. 0. 0. ... 0. 0. 0.]\n",
            " [0. 0. 0. ... 0. 0. 0.]\n",
            " [0. 0. 0. ... 0. 0. 0.]\n",
            " ...\n",
            " [0. 0. 0. ... 0. 0. 0.]\n",
            " [0. 0. 0. ... 0. 0. 0.]\n",
            " [0. 0. 0. ... 0. 0. 0.]]\n"
          ]
        }
      ]
    },
    {
      "cell_type": "markdown",
      "metadata": {
        "id": "I0xYqpVtmgoL"
      },
      "source": [
        "```\n",
        "🔥 document-term matrix를 non-negative factorization(NMF)을 이용해 행렬 분해를 해보겠습니다.\n",
        "\n",
        "💡 Non-negative Factorization이란?\n",
        "\n",
        "NMF는 주어진 행렬 non-negative matrix X를 non-negative matrix W와 H로 행렬 분해하는 알고리즘입니다.\n",
        "이어지는 코드를 통해 W와 H의 의미에 대해 파악해봅시다.\n",
        "```\n",
        "참고: [Non-negative Matrix Factorization](https://angeloyeo.github.io/2020/10/15/NMF.html)"
      ]
    },
    {
      "cell_type": "markdown",
      "metadata": {
        "id": "zRWNuIguaCLy"
      },
      "source": [
        "## Topic modeling"
      ]
    },
    {
      "cell_type": "code",
      "metadata": {
        "id": "erhwS2ntQBSD"
      },
      "source": [
        "# Non-negative Matrix Factorization\n",
        "from sklearn.decomposition import NMF\n",
        "\n",
        "K=5\n",
        "nmf = NMF(n_components=K, alpha=0.1)"
      ],
      "execution_count": 12,
      "outputs": []
    },
    {
      "cell_type": "markdown",
      "metadata": {
        "id": "5I24Y78G3VvO"
      },
      "source": [
        "```\n",
        "🔥 sklearn의 NMF를 이용해 W와 H matrix를 구해봅시다.\n",
        "W는 document length x K, H는 K x term length의 차원을 갖고 있습니다.\n",
        "W의 하나의 row는 각각의 feature에 얼만큼의 가중치를 줄 지에 대한 weight입니다.\n",
        "H의 하나의 row는 하나의 feature를 나타냅니다.\n",
        "\n",
        "우선 하나의 Topic (H의 n번째 row)에 접근해서 해당 topic에 대해 값이 가장 높은 20개의 단어를 출력해보겠습니다.\n",
        "```"
      ]
    },
    {
      "cell_type": "code",
      "metadata": {
        "id": "v2TY6gu4QH1o",
        "outputId": "b799f5f0-4be9-41b9-908f-83a0bf995b5a",
        "colab": {
          "base_uri": "https://localhost:8080/"
        }
      },
      "source": [
        "W = nmf.fit_transform(dtm)\n",
        "H = nmf.components_"
      ],
      "execution_count": 13,
      "outputs": [
        {
          "output_type": "stream",
          "name": "stderr",
          "text": [
            "/usr/local/lib/python3.7/dist-packages/sklearn/decomposition/_nmf.py:1425: FutureWarning: `alpha` was deprecated in version 1.0 and will be removed in 1.2. Use `alpha_W` and `alpha_H` instead\n",
            "  FutureWarning,\n",
            "/usr/local/lib/python3.7/dist-packages/sklearn/decomposition/_nmf.py:294: FutureWarning: The 'init' value, when 'init=None' and n_components is less than n_samples and n_features, will be changed from 'nndsvd' to 'nndsvda' in 1.1 (renaming of 0.26).\n",
            "  FutureWarning,\n"
          ]
        }
      ]
    },
    {
      "cell_type": "markdown",
      "metadata": {
        "id": "kbNWlTAv5Zn2"
      },
      "source": [
        "```\n",
        "🔥 우선 하나의 Topic (H의 n번째 row)에 접근해서 해당 topic에 대해 값이 가장 높은 20개의 단어를 출력해보겠습니다.\n",
        "```"
      ]
    },
    {
      "cell_type": "code",
      "metadata": {
        "ExecuteTime": {
          "end_time": "2019-05-29T08:48:58.523062Z",
          "start_time": "2019-05-29T08:48:58.500171Z"
        },
        "id": "uSzB5PBuaCL2",
        "outputId": "bc775213-b4f9-4903-d534-b8ed590cf5c3",
        "colab": {
          "base_uri": "https://localhost:8080/"
        }
      },
      "source": [
        "for k in range(K):\n",
        "    print(f\"{k}th topic\")\n",
        "    for index in H[k].argsort()[::-1][:20]:\n",
        "        print(vocab[index], end=' ')\n",
        "    print()"
      ],
      "execution_count": 14,
      "outputs": [
        {
          "output_type": "stream",
          "name": "stdout",
          "text": [
            "0th topic\n",
            "탐지 위협 화폐 프리뷰 퍼블릭 암호 클라우드 채굴 VMTD 발표 버전 구글 멀웨어 공개 기능 가상머신 애플 AI 보호 개인정보 \n",
            "1th topic\n",
            "기대 클로버 협업 전략 유저 관계 구축 확대 글로벌 게임 구글 AI LG 거대 우리 동맹 생태계 결성 지역 가능 \n",
            "2th topic\n",
            "개발 모집 중소 진출 창구 프로그램 국내 해외 성장 지원 구글플레이 AI 스타트업 구글 개사 트래픽 대리인 과기부 이상 지정 \n",
            "3th topic\n",
            "정식 신마 삼국 세계 대결 출시 MMORPG 모바일 플레이 XiaoMa 구글 신작 우마 재미 가지 육성 무장 국내 구글플레이 애플 \n",
            "4th topic\n",
            "체결 네이버웹툰 웹툰 협약 업무 게임 구글플레이 진원 IP 제작 진흥 콘텐츠 한국 글로벌 기반 해외진출 MOU 플레이 구글 출신 \n"
          ]
        }
      ]
    },
    {
      "cell_type": "markdown",
      "metadata": {
        "id": "PTP6lUft5C4j"
      },
      "source": [
        "```\n",
        "🔥 이번에는 W에서 하나의 Topic (W의 n번째 column)에 접근해서 해당 topic에 대해 값이 가장 높은 3개의 뉴스 기사 제목을 출력해보겠습니다.\n",
        "```"
      ]
    },
    {
      "cell_type": "code",
      "metadata": {
        "ExecuteTime": {
          "end_time": "2019-05-29T08:48:58.553639Z",
          "start_time": "2019-05-29T08:48:58.525169Z"
        },
        "scrolled": false,
        "id": "K1CniIn7aCL5",
        "outputId": "bb3ca8e3-1731-4500-bd49-72ca6c0d55e8",
        "colab": {
          "base_uri": "https://localhost:8080/"
        }
      },
      "source": [
        "for k in range(K):\n",
        "    print(f\"==={k}th topic===\")\n",
        "    for index in W[:, k].argsort()[::-1][:3]:\n",
        "        print(words_list[index][1])\n",
        "    print('\\n')"
      ],
      "execution_count": 15,
      "outputs": [
        {
          "output_type": "stream",
          "name": "stdout",
          "text": [
            "===0th topic===\n",
            "\"암호화폐 채굴 위협 탐지\"… 구글 클라우드, 'VMTD' 퍼블릭 프리뷰 버전 발표\n",
            "구글 클라우드, 암호화폐 채굴 위협 탐지하는 VMTD 퍼블릭 프리뷰 버전 발표\n",
            "구글 클라우드, 암호화폐 채굴 위협 탐지하는 'VMTD' 퍼블릭 프리뷰 버전 발표\n",
            "\n",
            "\n",
            "===1th topic===\n",
            "클로버게임즈, 구글과 전략적 협업 관계 구축…글로벌 유저 확대 기대\n",
            "클로버게임즈, 구글과 전략적 협업 관계 구축 … 글로벌 유저 확대 기대\n",
            "클로버게임즈, 구글과 전략적 협업 관계 구축…글로벌 유저 확대 기대\n",
            "\n",
            "\n",
            "===2th topic===\n",
            "구글플레이, 국내 중소 개발사 성장과 해외 진출 지원...'창구 프로그램 4기' 개발사 모집\n",
            "구글플레이, 국내 중소 개발사 성장과 해외 진출 지원하는 ‘창구 프로그램 4기’ 개발사 모집\n",
            "구글플레이, 국내 중소 개발사 성장과 해외 진출 지원하는 ‘창구 프로그램 4기’ 개발사 모집\n",
            "\n",
            "\n",
            "===3th topic===\n",
            "XiaoMa, 모바일 MMORPG ‘뉴 삼국세계:신마 대결’ 구글 플레이 정식 출시\n",
            "쇼우마, 모바일 MMORPG ‘뉴 삼국세계:신마 대결’ 구글 플레이 정식 출시\n",
            "신작 모바일 MMORPG ‘뉴 삼국세계:신마 대결’ 구글 플레이 정식 출시\n",
            "\n",
            "\n",
            "===4th topic===\n",
            "네이버웹툰, 구글플레이 및 한국콘텐츠진흥원과 '글로벌 웹툰 게임스' 업무협약 체결\n",
            "콘진원-구글플레이-네이버웹툰, 웹툰 IP 기반 게임 제작 위한 업무협약 체결\n",
            "콘진원·구글플레이·네이버웹툰, 웹툰 IP게임 제작 및 해외진출 업무협약 체결\n",
            "\n",
            "\n"
          ]
        }
      ]
    },
    {
      "cell_type": "markdown",
      "metadata": {
        "id": "yLOplJlO5tFi"
      },
      "source": [
        "```\n",
        "❓ 2번째 토픽에 대해 가장 높은 가중치를 갖는 제목 5개를 출력해볼까요?\n",
        "```"
      ]
    },
    {
      "cell_type": "code",
      "metadata": {
        "ExecuteTime": {
          "end_time": "2019-05-29T08:48:58.574010Z",
          "start_time": "2019-05-29T08:48:58.567122Z"
        },
        "id": "Jfm4fK4jaCL9",
        "outputId": "0d9f78d1-b0f7-4a8e-bae4-35050b7cdbd9",
        "colab": {
          "base_uri": "https://localhost:8080/"
        }
      },
      "source": [
        "#TODO\n",
        "index_list = W[:, 2].argsort()[::-1][:5]\n",
        "for index in index_list:\n",
        "    print(words_list[index][1])"
      ],
      "execution_count": 16,
      "outputs": [
        {
          "output_type": "stream",
          "name": "stdout",
          "text": [
            "구글플레이, 국내 중소 개발사 성장과 해외 진출 지원...'창구 프로그램 4기' 개발사 모집\n",
            "구글플레이, 국내 중소 개발사 성장과 해외 진출 지원하는 ‘창구 프로그램 4기’ 개발사 모집\n",
            "구글플레이, 국내 중소 개발사 성장과 해외 진출 지원하는 ‘창구 프로그램 4기’ 개발사 모집\n",
            "구글플레이, 국내 중소 개발사 성장과 해외 진출 지원하는 ‘창구 프로그램 4기’ 개발사 모집\n",
            "과기부, '국내 트래픽 1% 이상' 5개사 지정…구글·메타 '국내 대리인' 의무화\n"
          ]
        }
      ]
    },
    {
      "cell_type": "markdown",
      "metadata": {
        "id": "b7AZ3SyS6Y5L"
      },
      "source": [
        "```\n",
        "🔥 이번에는 t-SNE를 이용해 Topic별 시각화를 진행해보겠습니다.\n",
        "\n",
        "💡 t-SNE는 무엇인가요?\n",
        "\n",
        "t-Stochastic Neighbor Embedding(t-SNE)은 고차원의 벡터를 \n",
        "저차원(2~3차원) 벡터로 데이터간 구조적 특징을 유지하며 축소를 하는 방법 중 하나입니다.\n",
        "\n",
        "주로 고차원 데이터의 시각화를 위해 사용됩니다.\n",
        "```\n",
        "\n",
        "참고: [lovit: t-SNE](https://lovit.github.io/nlp/representation/2018/09/28/tsne/#:~:text=t%2DSNE%20%EB%8A%94%20%EA%B3%A0%EC%B0%A8%EC%9B%90%EC%9D%98,%EC%9D%98%20%EC%A7%80%EB%8F%84%EB%A1%9C%20%ED%91%9C%ED%98%84%ED%95%A9%EB%8B%88%EB%8B%A4.)\n",
        "\n",
        "참고: [ratsgo: t-SNE](https://ratsgo.github.io/machine%20learning/2017/04/28/tSNE/)"
      ]
    },
    {
      "cell_type": "markdown",
      "metadata": {
        "id": "H1HlyoakaCMA"
      },
      "source": [
        "## Visualization"
      ]
    },
    {
      "cell_type": "code",
      "metadata": {
        "ExecuteTime": {
          "end_time": "2019-05-29T08:49:22.529080Z",
          "start_time": "2019-05-29T08:48:58.612549Z"
        },
        "id": "rqajA3lDaCMB",
        "outputId": "091e4379-4c15-49cf-c60d-9fe9ca8f0411",
        "colab": {
          "base_uri": "https://localhost:8080/"
        }
      },
      "source": [
        "from sklearn.manifold import TSNE\n",
        "\n",
        "# n_components = 차원 수\n",
        "tsne = TSNE(n_components=2, init='pca', verbose=1)\n",
        "\n",
        "# W matrix에 대해 t-sne를 수행합니다.\n",
        "W2d = tsne.fit_transform(W)\n",
        "\n",
        "# 각 뉴스 기사 제목마다 가중치가 가장 높은 topic을 저장합니다.\n",
        "topicIndex = [v.argmax() for v in W]"
      ],
      "execution_count": 17,
      "outputs": [
        {
          "output_type": "stream",
          "name": "stderr",
          "text": [
            "/usr/local/lib/python3.7/dist-packages/sklearn/manifold/_t_sne.py:793: FutureWarning: The default learning rate in TSNE will change from 200.0 to 'auto' in 1.2.\n",
            "  FutureWarning,\n",
            "/usr/local/lib/python3.7/dist-packages/sklearn/manifold/_t_sne.py:986: FutureWarning: The PCA initialization in TSNE will change to have the standard deviation of PC1 equal to 1e-4 in 1.2. This will ensure better convergence.\n",
            "  FutureWarning,\n"
          ]
        },
        {
          "output_type": "stream",
          "name": "stdout",
          "text": [
            "[t-SNE] Computing 62 nearest neighbors...\n",
            "[t-SNE] Indexed 63 samples in 0.000s...\n",
            "[t-SNE] Computed neighbors for 63 samples in 0.001s...\n",
            "[t-SNE] Computed conditional probabilities for sample 63 / 63\n",
            "[t-SNE] Mean sigma: 0.097801\n",
            "[t-SNE] KL divergence after 250 iterations with early exaggeration: 49.678047\n",
            "[t-SNE] KL divergence after 1000 iterations: -0.468481\n"
          ]
        }
      ]
    },
    {
      "cell_type": "code",
      "metadata": {
        "ExecuteTime": {
          "end_time": "2019-05-16T08:24:10.840813Z",
          "start_time": "2019-05-16T08:24:10.695706Z"
        },
        "scrolled": true,
        "id": "pc76X-jSaCME",
        "outputId": "6489acce-0e79-4027-a30a-3588fe42e852",
        "colab": {
          "base_uri": "https://localhost:8080/",
          "height": 634
        }
      },
      "source": [
        "from bokeh.models import HoverTool\n",
        "from bokeh.palettes import Category20\n",
        "from bokeh.io import show, output_notebook\n",
        "from bokeh.plotting import figure, ColumnDataSource\n",
        "output_notebook()\n",
        "\n",
        "# 사용할 툴들\n",
        "tools_to_show = 'hover,box_zoom,pan,save,reset,wheel_zoom'\n",
        "p = figure(plot_width=720, plot_height=580, tools=tools_to_show)\n",
        "\n",
        "source = ColumnDataSource(data={\n",
        "    'x': W2d[:, 0],\n",
        "    'y': W2d[:, 1],\n",
        "    'id': [i for i in range(W.shape[0])],\n",
        "    'document': [article for words, article in words_list],\n",
        "    'topic': [str(i) for i in topicIndex],  # 토픽 번호\n",
        "    'color': [Category20[K][i] for i in topicIndex]\n",
        "})\n",
        "p.circle(\n",
        "    'x', 'y',\n",
        "    source=source,\n",
        "    legend='topic',\n",
        "    color='color'\n",
        ")\n",
        "\n",
        "# interaction\n",
        "p.legend.location = \"top_left\"\n",
        "hover = p.select({'type': HoverTool})\n",
        "hover.tooltips = [(\"Topic\", \"@topic\"), ('id', '@id'), (\"Article\", \"@document\")]\n",
        "hover.mode = 'mouse'\n",
        "\n",
        "show(p)"
      ],
      "execution_count": 18,
      "outputs": [
        {
          "output_type": "stream",
          "name": "stderr",
          "text": [
            "BokehDeprecationWarning: 'legend' keyword is deprecated, use explicit 'legend_label', 'legend_field', or 'legend_group' keywords instead\n"
          ]
        },
        {
          "output_type": "display_data",
          "data": {
            "application/javascript": [
              "\n",
              "(function(root) {\n",
              "  function now() {\n",
              "    return new Date();\n",
              "  }\n",
              "\n",
              "  var force = true;\n",
              "\n",
              "  if (typeof root._bokeh_onload_callbacks === \"undefined\" || force === true) {\n",
              "    root._bokeh_onload_callbacks = [];\n",
              "    root._bokeh_is_loading = undefined;\n",
              "  }\n",
              "\n",
              "  var JS_MIME_TYPE = 'application/javascript';\n",
              "  var HTML_MIME_TYPE = 'text/html';\n",
              "  var EXEC_MIME_TYPE = 'application/vnd.bokehjs_exec.v0+json';\n",
              "  var CLASS_NAME = 'output_bokeh rendered_html';\n",
              "\n",
              "  /**\n",
              "   * Render data to the DOM node\n",
              "   */\n",
              "  function render(props, node) {\n",
              "    var script = document.createElement(\"script\");\n",
              "    node.appendChild(script);\n",
              "  }\n",
              "\n",
              "  /**\n",
              "   * Handle when an output is cleared or removed\n",
              "   */\n",
              "  function handleClearOutput(event, handle) {\n",
              "    var cell = handle.cell;\n",
              "\n",
              "    var id = cell.output_area._bokeh_element_id;\n",
              "    var server_id = cell.output_area._bokeh_server_id;\n",
              "    // Clean up Bokeh references\n",
              "    if (id != null && id in Bokeh.index) {\n",
              "      Bokeh.index[id].model.document.clear();\n",
              "      delete Bokeh.index[id];\n",
              "    }\n",
              "\n",
              "    if (server_id !== undefined) {\n",
              "      // Clean up Bokeh references\n",
              "      var cmd = \"from bokeh.io.state import curstate; print(curstate().uuid_to_server['\" + server_id + \"'].get_sessions()[0].document.roots[0]._id)\";\n",
              "      cell.notebook.kernel.execute(cmd, {\n",
              "        iopub: {\n",
              "          output: function(msg) {\n",
              "            var id = msg.content.text.trim();\n",
              "            if (id in Bokeh.index) {\n",
              "              Bokeh.index[id].model.document.clear();\n",
              "              delete Bokeh.index[id];\n",
              "            }\n",
              "          }\n",
              "        }\n",
              "      });\n",
              "      // Destroy server and session\n",
              "      var cmd = \"import bokeh.io.notebook as ion; ion.destroy_server('\" + server_id + \"')\";\n",
              "      cell.notebook.kernel.execute(cmd);\n",
              "    }\n",
              "  }\n",
              "\n",
              "  /**\n",
              "   * Handle when a new output is added\n",
              "   */\n",
              "  function handleAddOutput(event, handle) {\n",
              "    var output_area = handle.output_area;\n",
              "    var output = handle.output;\n",
              "\n",
              "    // limit handleAddOutput to display_data with EXEC_MIME_TYPE content only\n",
              "    if ((output.output_type != \"display_data\") || (!Object.prototype.hasOwnProperty.call(output.data, EXEC_MIME_TYPE))) {\n",
              "      return\n",
              "    }\n",
              "\n",
              "    var toinsert = output_area.element.find(\".\" + CLASS_NAME.split(' ')[0]);\n",
              "\n",
              "    if (output.metadata[EXEC_MIME_TYPE][\"id\"] !== undefined) {\n",
              "      toinsert[toinsert.length - 1].firstChild.textContent = output.data[JS_MIME_TYPE];\n",
              "      // store reference to embed id on output_area\n",
              "      output_area._bokeh_element_id = output.metadata[EXEC_MIME_TYPE][\"id\"];\n",
              "    }\n",
              "    if (output.metadata[EXEC_MIME_TYPE][\"server_id\"] !== undefined) {\n",
              "      var bk_div = document.createElement(\"div\");\n",
              "      bk_div.innerHTML = output.data[HTML_MIME_TYPE];\n",
              "      var script_attrs = bk_div.children[0].attributes;\n",
              "      for (var i = 0; i < script_attrs.length; i++) {\n",
              "        toinsert[toinsert.length - 1].firstChild.setAttribute(script_attrs[i].name, script_attrs[i].value);\n",
              "        toinsert[toinsert.length - 1].firstChild.textContent = bk_div.children[0].textContent\n",
              "      }\n",
              "      // store reference to server id on output_area\n",
              "      output_area._bokeh_server_id = output.metadata[EXEC_MIME_TYPE][\"server_id\"];\n",
              "    }\n",
              "  }\n",
              "\n",
              "  function register_renderer(events, OutputArea) {\n",
              "\n",
              "    function append_mime(data, metadata, element) {\n",
              "      // create a DOM node to render to\n",
              "      var toinsert = this.create_output_subarea(\n",
              "        metadata,\n",
              "        CLASS_NAME,\n",
              "        EXEC_MIME_TYPE\n",
              "      );\n",
              "      this.keyboard_manager.register_events(toinsert);\n",
              "      // Render to node\n",
              "      var props = {data: data, metadata: metadata[EXEC_MIME_TYPE]};\n",
              "      render(props, toinsert[toinsert.length - 1]);\n",
              "      element.append(toinsert);\n",
              "      return toinsert\n",
              "    }\n",
              "\n",
              "    /* Handle when an output is cleared or removed */\n",
              "    events.on('clear_output.CodeCell', handleClearOutput);\n",
              "    events.on('delete.Cell', handleClearOutput);\n",
              "\n",
              "    /* Handle when a new output is added */\n",
              "    events.on('output_added.OutputArea', handleAddOutput);\n",
              "\n",
              "    /**\n",
              "     * Register the mime type and append_mime function with output_area\n",
              "     */\n",
              "    OutputArea.prototype.register_mime_type(EXEC_MIME_TYPE, append_mime, {\n",
              "      /* Is output safe? */\n",
              "      safe: true,\n",
              "      /* Index of renderer in `output_area.display_order` */\n",
              "      index: 0\n",
              "    });\n",
              "  }\n",
              "\n",
              "  // register the mime type if in Jupyter Notebook environment and previously unregistered\n",
              "  if (root.Jupyter !== undefined) {\n",
              "    var events = require('base/js/events');\n",
              "    var OutputArea = require('notebook/js/outputarea').OutputArea;\n",
              "\n",
              "    if (OutputArea.prototype.mime_types().indexOf(EXEC_MIME_TYPE) == -1) {\n",
              "      register_renderer(events, OutputArea);\n",
              "    }\n",
              "  }\n",
              "\n",
              "  \n",
              "  if (typeof (root._bokeh_timeout) === \"undefined\" || force === true) {\n",
              "    root._bokeh_timeout = Date.now() + 5000;\n",
              "    root._bokeh_failed_load = false;\n",
              "  }\n",
              "\n",
              "  var NB_LOAD_WARNING = {'data': {'text/html':\n",
              "     \"<div style='background-color: #fdd'>\\n\"+\n",
              "     \"<p>\\n\"+\n",
              "     \"BokehJS does not appear to have successfully loaded. If loading BokehJS from CDN, this \\n\"+\n",
              "     \"may be due to a slow or bad network connection. Possible fixes:\\n\"+\n",
              "     \"</p>\\n\"+\n",
              "     \"<ul>\\n\"+\n",
              "     \"<li>re-rerun `output_notebook()` to attempt to load from CDN again, or</li>\\n\"+\n",
              "     \"<li>use INLINE resources instead, as so:</li>\\n\"+\n",
              "     \"</ul>\\n\"+\n",
              "     \"<code>\\n\"+\n",
              "     \"from bokeh.resources import INLINE\\n\"+\n",
              "     \"output_notebook(resources=INLINE)\\n\"+\n",
              "     \"</code>\\n\"+\n",
              "     \"</div>\"}};\n",
              "\n",
              "  function display_loaded() {\n",
              "    var el = document.getElementById(null);\n",
              "    if (el != null) {\n",
              "      el.textContent = \"BokehJS is loading...\";\n",
              "    }\n",
              "    if (root.Bokeh !== undefined) {\n",
              "      if (el != null) {\n",
              "        el.textContent = \"BokehJS \" + root.Bokeh.version + \" successfully loaded.\";\n",
              "      }\n",
              "    } else if (Date.now() < root._bokeh_timeout) {\n",
              "      setTimeout(display_loaded, 100)\n",
              "    }\n",
              "  }\n",
              "\n",
              "\n",
              "  function run_callbacks() {\n",
              "    try {\n",
              "      root._bokeh_onload_callbacks.forEach(function(callback) {\n",
              "        if (callback != null)\n",
              "          callback();\n",
              "      });\n",
              "    } finally {\n",
              "      delete root._bokeh_onload_callbacks\n",
              "    }\n",
              "    console.debug(\"Bokeh: all callbacks have finished\");\n",
              "  }\n",
              "\n",
              "  function load_libs(css_urls, js_urls, callback) {\n",
              "    if (css_urls == null) css_urls = [];\n",
              "    if (js_urls == null) js_urls = [];\n",
              "\n",
              "    root._bokeh_onload_callbacks.push(callback);\n",
              "    if (root._bokeh_is_loading > 0) {\n",
              "      console.debug(\"Bokeh: BokehJS is being loaded, scheduling callback at\", now());\n",
              "      return null;\n",
              "    }\n",
              "    if (js_urls == null || js_urls.length === 0) {\n",
              "      run_callbacks();\n",
              "      return null;\n",
              "    }\n",
              "    console.debug(\"Bokeh: BokehJS not loaded, scheduling load and callback at\", now());\n",
              "    root._bokeh_is_loading = css_urls.length + js_urls.length;\n",
              "\n",
              "    function on_load() {\n",
              "      root._bokeh_is_loading--;\n",
              "      if (root._bokeh_is_loading === 0) {\n",
              "        console.debug(\"Bokeh: all BokehJS libraries/stylesheets loaded\");\n",
              "        run_callbacks()\n",
              "      }\n",
              "    }\n",
              "\n",
              "    function on_error(url) {\n",
              "      console.error(\"failed to load \" + url);\n",
              "    }\n",
              "\n",
              "    for (let i = 0; i < css_urls.length; i++) {\n",
              "      const url = css_urls[i];\n",
              "      const element = document.createElement(\"link\");\n",
              "      element.onload = on_load;\n",
              "      element.onerror = on_error.bind(null, url);\n",
              "      element.rel = \"stylesheet\";\n",
              "      element.type = \"text/css\";\n",
              "      element.href = url;\n",
              "      console.debug(\"Bokeh: injecting link tag for BokehJS stylesheet: \", url);\n",
              "      document.body.appendChild(element);\n",
              "    }\n",
              "\n",
              "    const hashes = {\"https://cdn.bokeh.org/bokeh/release/bokeh-2.3.3.min.js\": \"dM3QQsP+wXdHg42wTqW85BjZQdLNNIXqlPw/BgKoExPmTG7ZLML4EGqLMfqHT6ON\", \"https://cdn.bokeh.org/bokeh/release/bokeh-tables-2.3.3.min.js\": \"8x57I4YuIfu8XyZfFo0XVr2WAT8EK4rh/uDe3wF7YuW2FNUSNEpJbsPaB1nJ2fz2\", \"https://cdn.bokeh.org/bokeh/release/bokeh-widgets-2.3.3.min.js\": \"3QTqdz9LyAm2i0sG5XTePsHec3UHWwVsrOL68SYRoAXsafvfAyqtQ+h440+qIBhS\"};\n",
              "\n",
              "    for (let i = 0; i < js_urls.length; i++) {\n",
              "      const url = js_urls[i];\n",
              "      const element = document.createElement('script');\n",
              "      element.onload = on_load;\n",
              "      element.onerror = on_error.bind(null, url);\n",
              "      element.async = false;\n",
              "      element.src = url;\n",
              "      if (url in hashes) {\n",
              "        element.crossOrigin = \"anonymous\";\n",
              "        element.integrity = \"sha384-\" + hashes[url];\n",
              "      }\n",
              "      console.debug(\"Bokeh: injecting script tag for BokehJS library: \", url);\n",
              "      document.head.appendChild(element);\n",
              "    }\n",
              "  };\n",
              "\n",
              "  function inject_raw_css(css) {\n",
              "    const element = document.createElement(\"style\");\n",
              "    element.appendChild(document.createTextNode(css));\n",
              "    document.body.appendChild(element);\n",
              "  }\n",
              "\n",
              "  \n",
              "  var js_urls = [\"https://cdn.bokeh.org/bokeh/release/bokeh-2.3.3.min.js\", \"https://cdn.bokeh.org/bokeh/release/bokeh-widgets-2.3.3.min.js\", \"https://cdn.bokeh.org/bokeh/release/bokeh-tables-2.3.3.min.js\"];\n",
              "  var css_urls = [];\n",
              "  \n",
              "\n",
              "  var inline_js = [\n",
              "    function(Bokeh) {\n",
              "      Bokeh.set_log_level(\"info\");\n",
              "    },\n",
              "    function(Bokeh) {\n",
              "    \n",
              "    \n",
              "    }\n",
              "  ];\n",
              "\n",
              "  function run_inline_js() {\n",
              "    \n",
              "    if (root.Bokeh !== undefined || force === true) {\n",
              "      \n",
              "    for (var i = 0; i < inline_js.length; i++) {\n",
              "      inline_js[i].call(root, root.Bokeh);\n",
              "    }\n",
              "    } else if (Date.now() < root._bokeh_timeout) {\n",
              "      setTimeout(run_inline_js, 100);\n",
              "    } else if (!root._bokeh_failed_load) {\n",
              "      console.log(\"Bokeh: BokehJS failed to load within specified timeout.\");\n",
              "      root._bokeh_failed_load = true;\n",
              "    } else if (force !== true) {\n",
              "      var cell = $(document.getElementById(null)).parents('.cell').data().cell;\n",
              "      cell.output_area.append_execute_result(NB_LOAD_WARNING)\n",
              "    }\n",
              "\n",
              "  }\n",
              "\n",
              "  if (root._bokeh_is_loading === 0) {\n",
              "    console.debug(\"Bokeh: BokehJS loaded, going straight to plotting\");\n",
              "    run_inline_js();\n",
              "  } else {\n",
              "    load_libs(css_urls, js_urls, function() {\n",
              "      console.debug(\"Bokeh: BokehJS plotting callback run at\", now());\n",
              "      run_inline_js();\n",
              "    });\n",
              "  }\n",
              "}(window));"
            ],
            "application/vnd.bokehjs_load.v0+json": "\n(function(root) {\n  function now() {\n    return new Date();\n  }\n\n  var force = true;\n\n  if (typeof root._bokeh_onload_callbacks === \"undefined\" || force === true) {\n    root._bokeh_onload_callbacks = [];\n    root._bokeh_is_loading = undefined;\n  }\n\n  \n\n  \n  if (typeof (root._bokeh_timeout) === \"undefined\" || force === true) {\n    root._bokeh_timeout = Date.now() + 5000;\n    root._bokeh_failed_load = false;\n  }\n\n  var NB_LOAD_WARNING = {'data': {'text/html':\n     \"<div style='background-color: #fdd'>\\n\"+\n     \"<p>\\n\"+\n     \"BokehJS does not appear to have successfully loaded. If loading BokehJS from CDN, this \\n\"+\n     \"may be due to a slow or bad network connection. Possible fixes:\\n\"+\n     \"</p>\\n\"+\n     \"<ul>\\n\"+\n     \"<li>re-rerun `output_notebook()` to attempt to load from CDN again, or</li>\\n\"+\n     \"<li>use INLINE resources instead, as so:</li>\\n\"+\n     \"</ul>\\n\"+\n     \"<code>\\n\"+\n     \"from bokeh.resources import INLINE\\n\"+\n     \"output_notebook(resources=INLINE)\\n\"+\n     \"</code>\\n\"+\n     \"</div>\"}};\n\n  function display_loaded() {\n    var el = document.getElementById(null);\n    if (el != null) {\n      el.textContent = \"BokehJS is loading...\";\n    }\n    if (root.Bokeh !== undefined) {\n      if (el != null) {\n        el.textContent = \"BokehJS \" + root.Bokeh.version + \" successfully loaded.\";\n      }\n    } else if (Date.now() < root._bokeh_timeout) {\n      setTimeout(display_loaded, 100)\n    }\n  }\n\n\n  function run_callbacks() {\n    try {\n      root._bokeh_onload_callbacks.forEach(function(callback) {\n        if (callback != null)\n          callback();\n      });\n    } finally {\n      delete root._bokeh_onload_callbacks\n    }\n    console.debug(\"Bokeh: all callbacks have finished\");\n  }\n\n  function load_libs(css_urls, js_urls, callback) {\n    if (css_urls == null) css_urls = [];\n    if (js_urls == null) js_urls = [];\n\n    root._bokeh_onload_callbacks.push(callback);\n    if (root._bokeh_is_loading > 0) {\n      console.debug(\"Bokeh: BokehJS is being loaded, scheduling callback at\", now());\n      return null;\n    }\n    if (js_urls == null || js_urls.length === 0) {\n      run_callbacks();\n      return null;\n    }\n    console.debug(\"Bokeh: BokehJS not loaded, scheduling load and callback at\", now());\n    root._bokeh_is_loading = css_urls.length + js_urls.length;\n\n    function on_load() {\n      root._bokeh_is_loading--;\n      if (root._bokeh_is_loading === 0) {\n        console.debug(\"Bokeh: all BokehJS libraries/stylesheets loaded\");\n        run_callbacks()\n      }\n    }\n\n    function on_error(url) {\n      console.error(\"failed to load \" + url);\n    }\n\n    for (let i = 0; i < css_urls.length; i++) {\n      const url = css_urls[i];\n      const element = document.createElement(\"link\");\n      element.onload = on_load;\n      element.onerror = on_error.bind(null, url);\n      element.rel = \"stylesheet\";\n      element.type = \"text/css\";\n      element.href = url;\n      console.debug(\"Bokeh: injecting link tag for BokehJS stylesheet: \", url);\n      document.body.appendChild(element);\n    }\n\n    const hashes = {\"https://cdn.bokeh.org/bokeh/release/bokeh-2.3.3.min.js\": \"dM3QQsP+wXdHg42wTqW85BjZQdLNNIXqlPw/BgKoExPmTG7ZLML4EGqLMfqHT6ON\", \"https://cdn.bokeh.org/bokeh/release/bokeh-tables-2.3.3.min.js\": \"8x57I4YuIfu8XyZfFo0XVr2WAT8EK4rh/uDe3wF7YuW2FNUSNEpJbsPaB1nJ2fz2\", \"https://cdn.bokeh.org/bokeh/release/bokeh-widgets-2.3.3.min.js\": \"3QTqdz9LyAm2i0sG5XTePsHec3UHWwVsrOL68SYRoAXsafvfAyqtQ+h440+qIBhS\"};\n\n    for (let i = 0; i < js_urls.length; i++) {\n      const url = js_urls[i];\n      const element = document.createElement('script');\n      element.onload = on_load;\n      element.onerror = on_error.bind(null, url);\n      element.async = false;\n      element.src = url;\n      if (url in hashes) {\n        element.crossOrigin = \"anonymous\";\n        element.integrity = \"sha384-\" + hashes[url];\n      }\n      console.debug(\"Bokeh: injecting script tag for BokehJS library: \", url);\n      document.head.appendChild(element);\n    }\n  };\n\n  function inject_raw_css(css) {\n    const element = document.createElement(\"style\");\n    element.appendChild(document.createTextNode(css));\n    document.body.appendChild(element);\n  }\n\n  \n  var js_urls = [\"https://cdn.bokeh.org/bokeh/release/bokeh-2.3.3.min.js\", \"https://cdn.bokeh.org/bokeh/release/bokeh-widgets-2.3.3.min.js\", \"https://cdn.bokeh.org/bokeh/release/bokeh-tables-2.3.3.min.js\"];\n  var css_urls = [];\n  \n\n  var inline_js = [\n    function(Bokeh) {\n      Bokeh.set_log_level(\"info\");\n    },\n    function(Bokeh) {\n    \n    \n    }\n  ];\n\n  function run_inline_js() {\n    \n    if (root.Bokeh !== undefined || force === true) {\n      \n    for (var i = 0; i < inline_js.length; i++) {\n      inline_js[i].call(root, root.Bokeh);\n    }\n    } else if (Date.now() < root._bokeh_timeout) {\n      setTimeout(run_inline_js, 100);\n    } else if (!root._bokeh_failed_load) {\n      console.log(\"Bokeh: BokehJS failed to load within specified timeout.\");\n      root._bokeh_failed_load = true;\n    } else if (force !== true) {\n      var cell = $(document.getElementById(null)).parents('.cell').data().cell;\n      cell.output_area.append_execute_result(NB_LOAD_WARNING)\n    }\n\n  }\n\n  if (root._bokeh_is_loading === 0) {\n    console.debug(\"Bokeh: BokehJS loaded, going straight to plotting\");\n    run_inline_js();\n  } else {\n    load_libs(css_urls, js_urls, function() {\n      console.debug(\"Bokeh: BokehJS plotting callback run at\", now());\n      run_inline_js();\n    });\n  }\n}(window));"
          },
          "metadata": {}
        },
        {
          "output_type": "display_data",
          "data": {
            "text/html": [
              "\n",
              "\n",
              "\n",
              "\n",
              "\n",
              "\n",
              "  <div class=\"bk-root\" id=\"b96281dc-5285-4c6b-a535-5111c12df43a\" data-root-id=\"1002\"></div>\n"
            ]
          },
          "metadata": {}
        },
        {
          "output_type": "display_data",
          "data": {
            "application/javascript": [
              "(function(root) {\n",
              "  function embed_document(root) {\n",
              "    \n",
              "  var docs_json = {\"3dfc6c47-eca8-4997-a803-da66270a1e1a\":{\"defs\":[],\"roots\":{\"references\":[{\"attributes\":{\"below\":[{\"id\":\"1011\"}],\"center\":[{\"id\":\"1014\"},{\"id\":\"1018\"},{\"id\":\"1050\"}],\"height\":580,\"left\":[{\"id\":\"1015\"}],\"renderers\":[{\"id\":\"1037\"}],\"title\":{\"id\":\"1039\"},\"toolbar\":{\"id\":\"1026\"},\"width\":720,\"x_range\":{\"id\":\"1003\"},\"x_scale\":{\"id\":\"1007\"},\"y_range\":{\"id\":\"1005\"},\"y_scale\":{\"id\":\"1009\"}},\"id\":\"1002\",\"subtype\":\"Figure\",\"type\":\"Plot\"},{\"attributes\":{\"fill_alpha\":{\"value\":0.1},\"fill_color\":{\"field\":\"color\"},\"line_alpha\":{\"value\":0.1},\"line_color\":{\"field\":\"color\"},\"x\":{\"field\":\"x\"},\"y\":{\"field\":\"y\"}},\"id\":\"1036\",\"type\":\"Circle\"},{\"attributes\":{},\"id\":\"1003\",\"type\":\"DataRange1d\"},{\"attributes\":{},\"id\":\"1041\",\"type\":\"AllLabels\"},{\"attributes\":{},\"id\":\"1024\",\"type\":\"WheelZoomTool\"},{\"attributes\":{},\"id\":\"1009\",\"type\":\"LinearScale\"},{\"attributes\":{},\"id\":\"1046\",\"type\":\"BasicTickFormatter\"},{\"attributes\":{\"formatter\":{\"id\":\"1046\"},\"major_label_policy\":{\"id\":\"1044\"},\"ticker\":{\"id\":\"1012\"}},\"id\":\"1011\",\"type\":\"LinearAxis\"},{\"attributes\":{},\"id\":\"1016\",\"type\":\"BasicTicker\"},{\"attributes\":{},\"id\":\"1012\",\"type\":\"BasicTicker\"},{\"attributes\":{},\"id\":\"1047\",\"type\":\"UnionRenderers\"},{\"attributes\":{\"axis\":{\"id\":\"1011\"},\"ticker\":null},\"id\":\"1014\",\"type\":\"Grid\"},{\"attributes\":{},\"id\":\"1048\",\"type\":\"Selection\"},{\"attributes\":{\"label\":{\"field\":\"topic\"},\"renderers\":[{\"id\":\"1037\"}]},\"id\":\"1051\",\"type\":\"LegendItem\"},{\"attributes\":{\"axis\":{\"id\":\"1015\"},\"dimension\":1,\"ticker\":null},\"id\":\"1018\",\"type\":\"Grid\"},{\"attributes\":{\"formatter\":{\"id\":\"1043\"},\"major_label_policy\":{\"id\":\"1041\"},\"ticker\":{\"id\":\"1016\"}},\"id\":\"1015\",\"type\":\"LinearAxis\"},{\"attributes\":{},\"id\":\"1043\",\"type\":\"BasicTickFormatter\"},{\"attributes\":{\"bottom_units\":\"screen\",\"fill_alpha\":0.5,\"fill_color\":\"lightgrey\",\"left_units\":\"screen\",\"level\":\"overlay\",\"line_alpha\":1.0,\"line_color\":\"black\",\"line_dash\":[4,4],\"line_width\":2,\"right_units\":\"screen\",\"syncable\":false,\"top_units\":\"screen\"},\"id\":\"1025\",\"type\":\"BoxAnnotation\"},{\"attributes\":{\"source\":{\"id\":\"1033\"}},\"id\":\"1038\",\"type\":\"CDSView\"},{\"attributes\":{\"callback\":null,\"tooltips\":[[\"Topic\",\"@topic\"],[\"id\",\"@id\"],[\"Article\",\"@document\"]]},\"id\":\"1019\",\"type\":\"HoverTool\"},{\"attributes\":{\"active_multi\":null,\"tools\":[{\"id\":\"1019\"},{\"id\":\"1020\"},{\"id\":\"1021\"},{\"id\":\"1022\"},{\"id\":\"1023\"},{\"id\":\"1024\"}]},\"id\":\"1026\",\"type\":\"Toolbar\"},{\"attributes\":{\"items\":[{\"id\":\"1051\"}],\"location\":\"top_left\"},\"id\":\"1050\",\"type\":\"Legend\"},{\"attributes\":{},\"id\":\"1023\",\"type\":\"ResetTool\"},{\"attributes\":{\"overlay\":{\"id\":\"1025\"}},\"id\":\"1020\",\"type\":\"BoxZoomTool\"},{\"attributes\":{\"data_source\":{\"id\":\"1033\"},\"glyph\":{\"id\":\"1035\"},\"hover_glyph\":null,\"muted_glyph\":null,\"nonselection_glyph\":{\"id\":\"1036\"},\"view\":{\"id\":\"1038\"}},\"id\":\"1037\",\"type\":\"GlyphRenderer\"},{\"attributes\":{},\"id\":\"1007\",\"type\":\"LinearScale\"},{\"attributes\":{},\"id\":\"1021\",\"type\":\"PanTool\"},{\"attributes\":{\"data\":{\"color\":[\"#ffbb78\",\"#ff7f0e\",\"#ffbb78\",\"#ff7f0e\",\"#aec7e8\",\"#ffbb78\",\"#ff7f0e\",\"#ff7f0e\",\"#ffbb78\",\"#2ca02c\",\"#2ca02c\",\"#aec7e8\",\"#ffbb78\",\"#ffbb78\",\"#aec7e8\",\"#2ca02c\",\"#aec7e8\",\"#ff7f0e\",\"#2ca02c\",\"#ffbb78\",\"#1f77b4\",\"#2ca02c\",\"#ffbb78\",\"#ffbb78\",\"#ffbb78\",\"#aec7e8\",\"#ff7f0e\",\"#ff7f0e\",\"#aec7e8\",\"#aec7e8\",\"#ffbb78\",\"#1f77b4\",\"#aec7e8\",\"#ffbb78\",\"#2ca02c\",\"#ffbb78\",\"#ff7f0e\",\"#1f77b4\",\"#aec7e8\",\"#1f77b4\",\"#1f77b4\",\"#1f77b4\",\"#aec7e8\",\"#ffbb78\",\"#1f77b4\",\"#aec7e8\",\"#1f77b4\",\"#aec7e8\",\"#aec7e8\",\"#ffbb78\",\"#1f77b4\",\"#aec7e8\",\"#2ca02c\",\"#aec7e8\",\"#aec7e8\",\"#ffbb78\",\"#ff7f0e\",\"#ffbb78\",\"#ffbb78\",\"#ffbb78\",\"#ffbb78\",\"#2ca02c\",\"#ffbb78\"],\"document\":[\"\\ubbf8\\ub798\\ucc28\\ub294 \\uc790\\uc728\\uc8fc\\ud589 \\uc544\\ub2cc \\ub85c\\ubd07, \\ud604\\ub300\\ucc28 \\uc560\\ud50c \\uad6c\\uae00 \\ud14c\\uc2ac\\ub77c '\\ub85c\\ubd07\\ub300\\uc804' \\uc784\\ubc15\",\"\\uad6c\\uae00\\ud50c\\ub808\\uc774, \\uad6d\\ub0b4 \\uc911\\uc18c \\uac1c\\ubc1c\\uc0ac \\uc131\\uc7a5\\uacfc \\ud574\\uc678 \\uc9c4\\ucd9c \\uc9c0\\uc6d0\\ud558\\ub294 \\u2018\\ucc3d\\uad6c \\ud504\\ub85c\\uadf8\\ub7a8 4\\uae30\\u2019 \\uac1c\\ubc1c\\uc0ac \\ubaa8\\uc9d1\",\"\\uc560\\ud50c \\\"\\uac1c\\uc778\\uc815\\ubcf4 \\uc6d0\\ucc9c \\uc81c\\ud55c\\\" vs \\uad6c\\uae00 \\\"\\ubcf4\\ud638\\u00b7\\uad11\\uace0 \\uc77c\\uac70\\uc591\\ub4dd\\\"\\u2026\\ube44\\uc2b7\\ud55c\\ub4ef \\ub2e4\\ub978 \\ud589\\ubcf4\",\"\\uad6c\\uae00\\ud50c\\ub808\\uc774, \\uad6d\\ub0b4 \\uc911\\uc18c \\uac1c\\ubc1c\\uc0ac \\uc131\\uc7a5\\uacfc \\ud574\\uc678 \\uc9c4\\ucd9c \\uc9c0\\uc6d0...'\\ucc3d\\uad6c \\ud504\\ub85c\\uadf8\\ub7a8 4\\uae30' \\uac1c\\ubc1c\\uc0ac \\ubaa8\\uc9d1\",\"LG, \\uad6c\\uae00\\u00b7\\uc6b0\\ub9ac\\u9280 \\ub4f1\\uacfc AI \\ub3d9\\ub9f9 \\uacb0\\uc131\\u2026'\\uae00\\ub85c\\ubc8c \\ucd08\\uac70\\ub300 AI \\uc0dd\\ud0dc\\uacc4' \\uad6c\\ucd95\",\"\\ubbf8\\ub798\\ucc28\\ub294 \\uc790\\uc728\\uc8fc\\ud589 \\uc544\\ub2cc \\ub85c\\ubd07, \\ud604\\ub300\\ucc28 \\uc560\\ud50c \\uad6c\\uae00 \\ud14c\\uc2ac\\ub77c '\\ub85c\\ubd07\\ub300\\uc804' \\uc784\\ubc15\",\"\\uad6c\\uae00\\ud50c\\ub808\\uc774, \\uad6d\\ub0b4 \\uc911\\uc18c \\uac1c\\ubc1c\\uc0ac \\uc131\\uc7a5\\uacfc \\ud574\\uc678 \\uc9c4\\ucd9c \\uc9c0\\uc6d0\\ud558\\ub294 \\u2018\\ucc3d\\uad6c \\ud504\\ub85c\\uadf8\\ub7a8 4\\uae30\\u2019 \\uac1c\\ubc1c\\uc0ac \\ubaa8\\uc9d1\",\"\\uad6c\\uae00\\ud50c\\ub808\\uc774, \\uad6d\\ub0b4 \\uc911\\uc18c \\uac1c\\ubc1c\\uc0ac \\uc131\\uc7a5\\uacfc \\ud574\\uc678 \\uc9c4\\ucd9c \\uc9c0\\uc6d0\\ud558\\ub294 \\u2018\\ucc3d\\uad6c \\ud504\\ub85c\\uadf8\\ub7a8 4\\uae30\\u2019 \\uac1c\\ubc1c\\uc0ac \\ubaa8\\uc9d1\",\"\\uc560\\ud50c \\\"\\uac1c\\uc778\\uc815\\ubcf4 \\uc6d0\\ucc9c \\uc81c\\ud55c\\\" vs \\uad6c\\uae00 \\\"\\ubcf4\\ud638\\u00b7\\uad11\\uace0 \\uc77c\\uac70\\uc591\\ub4dd\\\"\\u2026\\ube44\\uc2b7\\ud55c\\ub4ef \\ub2e4\\ub978 \\ud589\\ubcf4\",\"\\ub124\\uc774\\ubc84\\uc6f9\\ud230, \\uad6c\\uae00 \\ud50c\\ub808\\uc774\\uc640 \\ud55c\\uad6d\\ucf58\\ud150\\uce20\\uc9c4\\ud765\\uc6d0\\uacfc '\\uae00\\ub85c\\ubc8c \\uc6f9\\ud230 \\uac8c\\uc784\\uc2a4' MOU \\uccb4\\uacb0\",\"\\ucf58\\uc9c4\\uc6d0-\\uad6c\\uae00\\ud50c\\ub808\\uc774-\\ub124\\uc774\\ubc84\\uc6f9\\ud230, \\uc6f9\\ud230 IP \\uae30\\ubc18 \\uac8c\\uc784 \\uc81c\\uc791 \\uc704\\ud55c \\uc5c5\\ubb34\\ud611\\uc57d \\uccb4\\uacb0\",\"LG\\u00b7\\uad6c\\uae00\\u00b7\\uc6b0\\ub9ac\\uc740\\ud589 \\ub4f1 13\\uac1c \\uae30\\uc5c5 '\\ucd08\\uac70\\ub300 AI' \\ud611\\ub825\\u2026'\\uc5d1\\uc2a4\\ud37c\\ud2b8 AI \\uc5bc\\ub77c\\uc774\\uc5b8\\uc2a4' \\ubc1c\\uc871\",\"[\\ud2b9\\uc9d5\\uc8fc] NHN\\ubc85\\uc2a4, \\uc2f8\\uc774\\uc6d4\\ub4dc \\uc560\\ud50c\\u00b7\\uad6c\\uae00 \\uc571\\uc2a4\\ud1a0\\uc5b4 \\uc774\\ub2ec \\ub9d0 \\ucd9c\\uc2dc \\uac00\\ub2a5 \\uc18c\\uc2dd\\uc5d0 \\uac15\\uc138\",\"[\\ud2b9\\uc9d5\\uc8fc] NHN\\ubc85\\uc2a4, \\uc2f8\\uc774\\uc6d4\\ub4dc \\uc560\\ud50c\\u00b7\\uad6c\\uae00 \\uc571\\uc2a4\\ud1a0\\uc5b4 \\uc774\\ub2ec \\ub9d0 \\ucd9c\\uc2dc \\uac00\\ub2a5 \\uc18c\\uc2dd\\uc5d0 \\uac15\\uc138\",\"'\\ubc29\\ud0c4\\uc18c\\ub144\\ub2e8 \\uc9c0\\ubbfc \\ub9c8\\uc168\\ub2e4' \\uc720\\uc790\\ucc28 \\uad6c\\uae00 \\uac80\\uc0c9 \\uaed1\\ucda9..\\u97d3\\uc804\\ud1b5\\ucc28\\u00b7\\ud55c\\uae00 \\uc704\\uc0c1 \\ub4dc\\ub192\\uc778 'K\\uceec\\ucc98 \\ud504\\ub860\\ud2b8\\ub9e8'\",\"\\ub124\\uc774\\ubc84\\uc6f9\\ud230, \\uad6c\\uae00\\ud50c\\ub808\\uc774 \\ubc0f \\ud55c\\uad6d\\ucf58\\ud150\\uce20\\uc9c4\\ud765\\uc6d0\\uacfc '\\uae00\\ub85c\\ubc8c \\uc6f9\\ud230 \\uac8c\\uc784\\uc2a4' \\uc5c5\\ubb34\\ud611\\uc57d \\uccb4\\uacb0\",\"LG AI\\uc5f0\\uad6c\\uc6d0, \\u2018\\uc5d1\\uc2a4\\ud37c\\ud2b8 AI \\uc5bc\\ub77c\\uc774\\uc5b8\\uc2a4\\u2019 \\ubc1c\\uc871\\u2026\\uad6c\\uae00\\u2219\\uc6b0\\ub9ac\\uc740\\ud589 \\ub4f1 13\\uac1c\\uc0ac \\ucc38\\uc5ec\",\"\\uc62c\\ud574 \\uc544\\ud0dc\\uc9c0\\uc5ed \\uc2a4\\ud0c0\\ud2b8\\uc5c5 \\ud2b8\\ub80c\\ub4dc\\ub294 'AI-\\ubd84\\uc0b0\\uae08\\uc735'...\\uad6c\\uae00, \\uc2a4\\ud0c0\\ud2b8\\uc5c5 \\uc9c0\\uc6d0 '\\ubc15\\ucc28'\",\"\\ucf58\\uc9c4\\uc6d0\\u00b7\\uad6c\\uae00\\ud50c\\ub808\\uc774\\u00b7\\ub124\\uc774\\ubc84\\uc6f9\\ud230, \\uc6f9\\ud230 IP\\uac8c\\uc784 \\uc81c\\uc791 \\ubc0f \\ud574\\uc678\\uc9c4\\ucd9c \\uc5c5\\ubb34\\ud611\\uc57d \\uccb4\\uacb0\",\"\\u2018\\ud14c\\uc77c\\ub4dc \\ub370\\ubaac \\uc2ac\\ub808\\uc774\\uc5b4\\u2019, \\uad6c\\uae00 \\ud50c\\ub808\\uc774 \\uc778\\uae30 \\uc21c\\uc704 1\\uc704\\u2026\\ubc29\\uce58\\ud615 RPG \\uace0\\uc720 \\uc131\\uc7a5 \\uc7ac\\ubbf8\\u2191\",\"\\uad6c\\uae00 \\ud074\\ub77c\\uc6b0\\ub4dc, \\uc554\\ud638\\ud654\\ud3d0 \\ucc44\\uad74 \\uc704\\ud611 \\ud0d0\\uc9c0\\uae30\\ub2a5 'VMTD' \\ud37c\\ube14\\ub9ad \\ud504\\ub9ac\\ubdf0 \\ubc84\\uc804 \\ubc1c\\ud45c\",\"\\ubaa8\\uc544\\uc774\\uac8c\\uc784\\uc988 '\\ud2b8\\ub77c\\ud558 \\uc778\\ud53c\\ub2c8\\ud2f0', \\uad6c\\uae00 \\ub9e4\\ucd9c TOP5 \\uc9c4\\uc785 \\ubaa9\\uc804! \\uc0c1\\uc2b9\\uc138 \\uc9c0\\uc18d\",\"\\ucfe1\\uc571\\uc2a4, \\u2018\\uc0bc\\uad6d\\uc9c0 \\ud0a4\\uc6b0\\uae30\\u2019\\uc640 \\u2018\\ud14c\\uc77c\\ub4dc \\ub370\\ubaac \\uc2ac\\ub808\\uc774\\uc5b4\\u2019 \\uad6c\\uae00 \\ud50c\\ub808\\uc774\\uc2a4\\ud1a0\\uc5b4 \\uc778\\uae30 \\uc21c\\uc704 1, 2\\uc704 \\ucc28\\uc9c0\\ud558\\uba70 \\u2018\\uc30d\\ub04c\\uc774\\u2019 \\ud765\\ud589\",\"\\u2018\\ub274 \\uc0bc\\uad6d\\uc138\\uacc4:\\uc2e0\\ub9c8 \\ub300\\uacb0\\u2019, \\uad6c\\uae00 \\ud50c\\ub808\\uc774 \\uc815\\uc2dd \\ucd9c\\uc2dc\\u20265\\uac00\\uc9c0 \\ubb34\\uc7a5 \\uc721\\uc131 \\uc7ac\\ubbf8\\u2191\",\"\\uc2e0\\uc791 \\ubaa8\\ubc14\\uc77c MMORPG \\u2018\\ub274 \\uc0bc\\uad6d\\uc138\\uacc4:\\uc2e0\\ub9c8 \\ub300\\uacb0\\u2019 \\uad6c\\uae00 \\ud50c\\ub808\\uc774 \\uc815\\uc2dd \\ucd9c\\uc2dc\",\"LG\\uc804\\uc790, 'LG \\uc719\\u00b7\\ubca8\\ubcb3' \\uc2e0\\uaddc \\uc18c\\ud504\\ud2b8\\uc6e8\\uc5b4 \\uc5c5\\ub370\\uc774\\ud2b8.. \\uad6c\\uae00 \\ubcf4\\uc548 \\ud328\\uce58 \\uc801\\uc6a9\",\"\\ud1a0\\uc885 \\uc778\\uacf5\\uc9c0\\ub2a5 \\uc2a4\\ud0c0\\ud2b8\\uc5c5 \\ub9c8\\ud06c\\ube44\\uc804, \\uad6c\\uae00 \\uc800\\uc791\\uad8c \\ubcf4\\ud638 \\uc9c0\\uc6d0 \\ud504\\ub85c\\uadf8\\ub7a8... 'TCRP' \\uacf5\\uc2dd \\ud30c\\ud2b8\\ub108\\uc0ac \\uc120\\uc815\",\"\\uacfc\\uae30\\ubd80, '\\uad6d\\ub0b4 \\ud2b8\\ub798\\ud53d 1% \\uc774\\uc0c1' 5\\uac1c\\uc0ac \\uc9c0\\uc815\\u2026\\uad6c\\uae00\\u00b7\\uba54\\ud0c0 '\\uad6d\\ub0b4 \\ub300\\ub9ac\\uc778' \\uc758\\ubb34\\ud654\",\"\\ud074\\ub85c\\ubc84\\uac8c\\uc784\\uc988, \\uad6c\\uae00\\uacfc \\uc804\\ub7b5\\uc801 \\ud611\\uc5c5 \\uad00\\uacc4 \\uad6c\\ucd95\\u2026\\uae00\\ub85c\\ubc8c \\uc720\\uc800 \\ud655\\ub300 \\uae30\\ub300\",\"\\ud074\\ub85c\\ubc84\\uac8c\\uc784\\uc988, \\uad6c\\uae00\\uacfc \\uc804\\ub7b5\\uc801 \\ud611\\uc5c5 \\uad00\\uacc4 \\uad6c\\ucd95\\u2026\\uae00\\ub85c\\ubc8c \\uc720\\uc800 \\ud655\\ub300 \\uae30\\ub300\",\"OTT \\uc11c\\ube44\\uc2a4 \\uad6c\\uae00 \\uc778\\uc571\\uacb0\\uc81c\\uc2dc \\ubd80\\ubd84\\ud658\\ubd88 \\uac70\\ubd80 \\uc8fc\\uc758\\u2026\\u201cOTT\\uc0ac\\uc5c5\\uc790 \\uc9c1\\uc811 \\uacb0\\uc81c \\uad8c\\uc7a5\\u201d\",\"\\uad6c\\uae00 \\ud074\\ub77c\\uc6b0\\ub4dc, \\uc554\\ud638\\ud654\\ud3d0 \\ucc44\\uad74 \\uba40\\uc6e8\\uc5b4 \\ud0d0\\uc9c0\\ud558\\ub294 'VMTD' \\ud37c\\ube14\\ub9ad \\ud504\\ub9ac\\ubdf0 \\uacf5\\uac1c\",\"\\uad6c\\uae00 AI\\uc790\\ud68c\\uc0ac \\ub525\\ub9c8\\uc778\\ub4dc \\\"\\uc54c\\ud30c\\ucf54\\ub4dc \\ucf54\\ub529\\ub2a5\\ub825, \\uc778\\uac04 \\ud3c9\\uade0 \\uc218\\uc900\\\"\",\"\\uc1fc\\uc6b0\\ub9c8, \\ubaa8\\ubc14\\uc77c MMORPG \\u2018\\ub274 \\uc0bc\\uad6d\\uc138\\uacc4:\\uc2e0\\ub9c8 \\ub300\\uacb0\\u2019 \\uad6c\\uae00 \\ud50c\\ub808\\uc774 \\uc815\\uc2dd \\ucd9c\\uc2dc\",\"\\ud55c\\uad6d\\uc564\\ucef4\\ud37c\\ub2c8, \\uad6c\\uae00 \\ucd9c\\uc2e0 IT \\uc804\\ubb38\\uac00 \\u2018\\uae40\\uc131\\uc9c4 \\uc804\\ubb34\\u2019 \\uc601\\uc785\\u2026 \\u201c\\uadf8\\ub8f9 \\ub514\\uc9c0\\ud138 \\ud601\\uc2e0 \\uac00\\uc18d\\u201d\",\"XiaoMa, \\ubaa8\\ubc14\\uc77c MMORPG '\\ub274 \\uc0bc\\uad6d\\uc138\\uacc4:\\uc2e0\\ub9c8 \\ub300\\uacb0' \\uad6d\\ub0b4 \\uad6c\\uae00\\ud50c\\ub808\\uc774 \\uc815\\uc2dd \\ucd9c\\uc2dc\",\"\\uc720\\ud29c\\ube0c \\ubba4\\uc9c1 \\uc2a4\\ud2b8\\ub9ac\\ubc0d \\uc9c0\\uc6d0 '\\uac24\\ub7ed\\uc2dc \\uc6cc\\uce584' \\uc5c5\\ub370\\uc774\\ud2b8 \\uacf5\\uac1c.. \\uad6c\\uae00 \\uc5b4\\uc2dc\\uc2a4\\ud134\\ud2b8 \\uc9c0\\uc6d0 \\uc608\\uc815\",\"\\uad6c\\uae00 \\ud074\\ub77c\\uc6b0\\ub4dc, \\uc554\\ud638\\ud654\\ud3d0 \\ucc44\\uad74 \\uc704\\ud611 \\ud0d0\\uc9c0 VMTD \\ud37c\\ube14\\ub9ad \\ud504\\ub9ac\\ubdf0 \\ubc1c\\ud45c\",\"\\uad6c\\uae00 \\uc790\\ud68c\\uc0ac \\ub525\\ub9c8\\uc778\\ub4dc \\\"AI \\uc54c\\ud30c\\ucf54\\ub4dc \\ucf54\\ub529 \\ub2a5\\ub825, \\uc778\\uac04 \\ud3c9\\uade0 \\uc218\\uc900\\\"\",\"\\\"\\uc560\\ud50c \\uc571 \\ucd94\\uc801 \\ud22c\\uba85\\uc131 \\uae30\\ub2a5 \\ubbf8\\ud761\\\" \\uad6c\\uae00, \\uc548\\ub4dc\\ub85c\\uc774\\ub4dc \\uac1c\\uc778\\uc815\\ubcf4 \\ubcf4\\ud638 \\uae30\\ub2a5 \\uac15\\ud654 \\uc608\\uace0\",\"\\\"\\uc554\\ud638\\ud654\\ud3d0 \\ucc44\\uad74 \\uc704\\ud611 \\ud0d0\\uc9c0\\\"\\u2026 \\uad6c\\uae00 \\ud074\\ub77c\\uc6b0\\ub4dc, 'VMTD' \\ud37c\\ube14\\ub9ad \\ud504\\ub9ac\\ubdf0 \\ubc84\\uc804 \\ubc1c\\ud45c\",\"\\uad6c\\uae00 \\ud074\\ub77c\\uc6b0\\ub4dc, \\uc554\\ud638\\ud654\\ud3d0 \\ucc44\\uad74 \\uc704\\ud611 \\ud0d0\\uc9c0\\ud558\\ub294 'VMTD' \\ud37c\\ube14\\ub9ad \\ud504\\ub9ac\\ubdf0 \\ubc84\\uc804 \\ubc1c\\ud45c\",\"\\ud074\\ub85c\\ubc84\\uac8c\\uc784\\uc988, \\uad6c\\uae00\\uacfc \\uc804\\ub7b5\\uc801 \\ud611\\uc5c5 \\uad00\\uacc4 \\uad6c\\ucd95\\u2026\\uae00\\ub85c\\ubc8c \\uc720\\uc800 \\ud655\\ub300 \\uae30\\ub300\",\"XiaoMa, \\ubaa8\\ubc14\\uc77c MMORPG \\u2018\\ub274 \\uc0bc\\uad6d\\uc138\\uacc4:\\uc2e0\\ub9c8 \\ub300\\uacb0\\u2019 \\uad6c\\uae00 \\ud50c\\ub808\\uc774 \\uc815\\uc2dd \\ucd9c\\uc2dc\",\"\\uc554\\ud638\\ud654\\ud3d0 \\ucc44\\uad74 \\uba40\\uc6e8\\uc5b4 \\ub4f1 \\uc704\\ud611 \\ud0d0\\uc9c0...\\uad6c\\uae00 \\ud074\\ub77c\\uc6b0\\ub4dc, '\\uac00\\uc0c1\\uba38\\uc2e0 \\uc704\\ud611\\ud0d0\\uc9c0' \\ud37c\\ube14\\ub9ad \\ud504\\ub9ac\\ubdf0 \\ubc84\\uc804 \\uacf5\\uac1c\",\"\\ud074\\ub85c\\ubc84\\uac8c\\uc784\\uc988, \\uad6c\\uae00\\uacfc \\uc804\\ub7b5\\uc801 \\ud611\\uc5c5 \\uad00\\uacc4 \\uad6c\\ucd95 \\u2026 \\uae00\\ub85c\\ubc8c \\uc720\\uc800 \\ud655\\ub300 \\uae30\\ub300\",\"\\uad6c\\uae00 \\ud074\\ub77c\\uc6b0\\ub4dc, \\uc554\\ud638\\ud654\\ud3d0 \\ucc44\\uad74 \\uc704\\ud611 \\ud0d0\\uc9c0\\ud558\\ub294 VMTD \\ud37c\\ube14\\ub9ad \\ud504\\ub9ac\\ubdf0 \\ubc84\\uc804 \\ubc1c\\ud45c\",\"[\\uc778\\ub354\\uba38\\ub2c8] \\ub274\\uc695\\uc99d\\uc2dc, \\uad6c\\uae00 \\uae09\\ub4f1 \\ud6a8\\uacfc\\uc5d0 \\ub098\\ud758\\uc9f8 \\uc0c1\\uc2b9\\u2026\\uc720\\ub7fd\\uc99d\\uc2dc \\uc18c\\ud3ed \\uc0c1\\uc2b9\\u00b7\\uc720\\uac00 7\\ub144\\ub9cc \\ucd5c\\uace0\",\"\\uad6c\\uae00\\u00b7GM\\u00b7AMD \\ub4f1 \\uc2e4\\uc801, \\uc99d\\uc2dc \\uacac\\uc778\\ud560\\uae4c\\u2026\\ud1b5\\ud070 \\ubc30\\ub2f9\\uc5d0 UPS \\uae09\\ub4f1 [\\ub274\\uc695\\uc99d\\uc2dc \\ub098\\uc6b0]\",\"\\uad6c\\uae00\\u00b7\\uba54\\ud0c0\\u00b7\\ub137\\ud50c\\ub9ad\\uc2a4\\u00b7\\ub124\\uc774\\ubc84\\u00b7\\uce74\\uce74\\uc624, \\uc548\\uc815\\uc131 \\ud655\\ubcf4 \\uc758\\ubb34 \\ub300\\uc0c1\\uc0ac\\uc5c5\\uc790 \\uc9c0\\uc815\",\"\\uad6c\\uae00 \\ud074\\ub77c\\uc6b0\\ub4dc, \\uc554\\ud638\\ud654\\ud3d0 \\ucc44\\uad74 \\uc704\\ud611 \\ud0d0\\uc9c0\\ud558\\ub294 'VMTD' \\ud37c\\ube14\\ub9ad \\ud504\\ub9ac\\ubdf0 \\ubc84\\uc804 \\ubc1c\\ud45c\",\"\\uad6c\\uae00 \\uacf5\\uc778\\uad50\\uc721\\uc804\\ubb38\\uac00 \\uae40\\ub3d9\\uc6d0 \\uac15\\uc0ac\\uc758 '\\uba54\\ud0c0\\ubc84\\uc2a4\\ub97c \\uc900\\ube44\\ud558\\ub294 \\uad6c\\uae00 \\ud65c\\uc6a9\\ubc95 - \\uad6c\\uae00 Keep' \\ud2b9\\uac15 \\uc624\\ud508\",\"\\ud55c\\uad6d\\uc564\\ucef4\\ud37c\\ub2c8, \\uc0bc\\uc131\\u00b7\\uad6c\\uae00 \\ucd9c\\uc2e0 \\uae40\\uc131\\uc9c4 \\uc804\\ubb34 \\uc601\\uc785\\u2026\\\"\\uadf8\\ub8f9 \\ub514\\uc9c0\\ud138 \\uc804\\ud658 \\uc9c4\\ub450\\uc9c0\\ud718\\\"\",\"[\\ucee4\\ubc84\\uc2a4\\ud1a0\\ub9ac] MS\\u00b7\\uad6c\\uae00\\u00b7\\uba54\\ud0c0, \\uae30\\uc5c5 \\uc0ac\\ub4e4\\uc774\\ub294 \\ube14\\ub799\\ud640\\u2026\\uc2dc\\ub108\\uc9c0\\u00b7\\uae30\\uc5c5 \\uac00\\uce58 \\uc0c1\\uc2b9 '\\ub450 \\ud1a0\\ub07c' \\uc7a1\\uc558\\uc8e0\",\"\\\"iOS \\uae30\\uae30\\uc5d0\\uc11c\\ub3c4 \\uc774\\uc6a9 \\uac00\\ub2a5\\\"\\u00b7\\u00b7\\u00b7 \\uad6c\\uae00, '\\uad6c\\uae00 \\uc6d0 VPN' \\uc9c0\\uc6d0 \\ud50c\\ub7ab\\ud3fc\\u00b7\\uc9c0\\uc5ed \\ud655\\ub300\",\"[KT 3\\uc81c] \\ud50c\\ub808\\uc774\\ub514 '\\uad6c\\uae00 \\ud504\\ub9ac\\ubbf8\\uc5b4 \\ud30c\\ud2b8\\ub108'\\u00b7\\uae30\\uac00\\uc9c0\\ub2c8\\uc5d0\\uc11c \\uc544\\ub9c8\\uc874 \\uc54c\\ub809\\uc0ac \\uc11c\\ube44\\uc2a4 \\uc0ac\\uc6a9\\u00b7\\ubbf8\\uc6a9\\uc2e4\\uc5d0 'AI\\u00a0\\ud1b5\\ud654\\ube44\\uc11c'\\u00a0\\uacf5\\uae09\",\"[AI \\uc8fc\\uac04\\ube0c\\ub9ac\\ud551] \\uad6c\\uae00 \\uac80\\uc0c9\\uc5d4\\uc9c4 \\uc9c0\\uc801\\ud55c \\ud574\\uc678 \\uc5f0\\uad6c\\uc790, \\uad6d\\ub0b4 AI \\uac1c\\ubc1c\\uc790\\uc5d0 \\uc758\\ubbf8\\uc2ec\\uc7a5\\ud55c \\uc9c8\\ubb38 \\ub358\\uc84c\\ub2e4\",\"\\uacfc\\uae30\\uc815\\ud1b5\\ubd80, \\uad6c\\uae00 \\ub4f1 5\\uac1c\\uc0ac \\ubd80\\uac00\\ud1b5\\uc2e0\\uc11c\\ube44\\uc2a4 \\uc548\\uc815\\uc131 \\ud655\\ubcf4 \\uc758\\ubb34 \\ub300\\uc0c1\\uc0ac\\uc5c5\\uc790\\ub85c \\uc120\\uc815\",\"\\uce74\\uce74\\uc624\\uac8c\\uc784\\uc988 '\\uc624\\ub518', \\uc57d 3\\uac1c\\uc6d4\\ub9cc\\uc5d0 \\uad6c\\uae00 \\ud50c\\ub808\\uc774 \\ub9e4\\ucd9c 1\\uc704 \\ud0c8\\ud658... \\ub300\\ub9cc \\ucd9c\\uc2dc\\ub3c4 \\uce74\\uc6b4\\ud2b8\\ub2e4\\uc6b4\",\"[\\ub2e8\\ub3c5] \\uad6c\\uae00\\u00b7\\uc560\\ud50c \\ubc31\\uae30?\\u2026'\\ubc30\\uadf8 \\ubaa8\\ubc14\\uc77c \\uc800\\uc791\\uad8c \\uce68\\ud574 \\ud610\\uc758' \\uac00\\ub808\\ub098 \\ud504\\ub9ac \\ud30c\\uc774\\uc5b4 \\uc778\\ub3c4\\uc11c \\uc0ad\\uc81c\",\"[\\ub274\\ud22c\\ubd84\\uc11d] \\uc560\\ud50c-\\uad6c\\uae00 \\ud76c\\ub300\\uc758 \\ud569\\uc791 \\u2018\\uc138\\uae08\\uba39\\ud280\\u2019\\u2026\\ub514\\uc9c0\\ud138\\uc138 \\ub3c4\\uc785\\uc73c\\ub85c \\ub9c9 \\ub0b4\\ub9ac\\ub098\",\"\\ubaa8\\ubc14\\uc77c RPG \\uac8c\\uc784 '\\ud30c\\uc774\\ub110\\uae38\\ub4dc', 2022\\ub144 \\uad6c\\uae00 \\ud50c\\ub808\\uc774\\uc2a4\\ud1a0\\uc5b4 \\uc2e0\\uaddc\\ucd94\\ucc9c\\uac8c\\uc784 \\uc120\\uc815\",\"[\\uc99d\\uad8c\\uc18c\\uc2dd] \\uace0\\uc2b9\\ubc94 \\\"\\uae08\\uc735\\uc2dc\\uc7a5 \\ub3d9\\ud5a5 \\ubc00\\ucc29 \\ubaa8\\ub2c8\\ud130\\ub9c1\\\"/\\uae08\\uac10\\uc6d0, \\uc704\\ubc95\\ud589\\uc704 \\ud558\\uc774\\ud22c\\uc790\\uc99d\\uad8c\\uc5d0 \\uacfc\\ud0dc\\ub8cc 1\\uc5b5\\uc6d0/\\uad6c\\uae00, 20\\ub3001\\ub85c \\uc8fc\\uc2dd \\ubd84\\ud560 \\ub4f1\"],\"id\":[0,1,2,3,4,5,6,7,8,9,10,11,12,13,14,15,16,17,18,19,20,21,22,23,24,25,26,27,28,29,30,31,32,33,34,35,36,37,38,39,40,41,42,43,44,45,46,47,48,49,50,51,52,53,54,55,56,57,58,59,60,61,62],\"topic\":[\"3\",\"2\",\"3\",\"2\",\"1\",\"3\",\"2\",\"2\",\"3\",\"4\",\"4\",\"1\",\"3\",\"3\",\"1\",\"4\",\"1\",\"2\",\"4\",\"3\",\"0\",\"4\",\"3\",\"3\",\"3\",\"1\",\"2\",\"2\",\"1\",\"1\",\"3\",\"0\",\"1\",\"3\",\"4\",\"3\",\"2\",\"0\",\"1\",\"0\",\"0\",\"0\",\"1\",\"3\",\"0\",\"1\",\"0\",\"1\",\"1\",\"3\",\"0\",\"1\",\"4\",\"1\",\"1\",\"3\",\"2\",\"3\",\"3\",\"3\",\"3\",\"4\",\"3\"],\"x\":{\"__ndarray__\":\"HnojQwVmpMMcyuFCBWakw48p2UMeeiNDBWakwwVmpMMcyuFC9Ov/w0s6GcSfx+5C/zwXw/88F8MadDfDSMmyQ5UeIUKoTp7DSzoZxAuhacPujiNEcIeSwy90YsMKHy5D8X95wdojcEMvEerDoqn2w/+O2EP/jthDAzlew47iD0SVEbTC8X95wftbvcOLIxDCcEm8w9rLGESVEbTCjxwwwvTJ+UP0yflD/47YQ0dpv0KWBdtD/47YQ/TJ+UOMQdRB83sqQY6gwcL0yflDXtwdw+akLEEkNxZD5l8ZxOtsykJCoszDj4yzwtq5UsO3lJpB+aFMwux91MJrpn5D\",\"dtype\":\"float32\",\"order\":\"little\",\"shape\":[63]},\"y\":{\"__ndarray__\":\"c0MfQ6AqF8RcLWFBoCoXxBO8nUJzQx9DoCoXxKAqF8RcLWFBZAKVw/TUWcM7UeLCT53NQ0+dzUMhEhfDo+12Q8eiTkMxdAVC9NRZw4NQh0MOt5jDAjBgw7H9Q8Lry+PDMOYSRJ4OucJ+tw9CeqUzQ+yk90PspPdDIggIQwo80cN+dBpDMOYSRJtTokNDQjNExJ8MQwjTKcN+dBpDnIWPQ686iMOvOojD7KT3Q1w0I0Qkm8/D7KT3Q686iMOPEMBC8AGDwpwDm8KvOojDtq4VQh0aq8Ns5mXDgD2dQntvoUNI8IrChrFXw841s8ObRzrDyEvHQTuV28PZrCNC\",\"dtype\":\"float32\",\"order\":\"little\",\"shape\":[63]}},\"selected\":{\"id\":\"1048\"},\"selection_policy\":{\"id\":\"1047\"}},\"id\":\"1033\",\"type\":\"ColumnDataSource\"},{\"attributes\":{},\"id\":\"1005\",\"type\":\"DataRange1d\"},{\"attributes\":{},\"id\":\"1022\",\"type\":\"SaveTool\"},{\"attributes\":{},\"id\":\"1044\",\"type\":\"AllLabels\"},{\"attributes\":{},\"id\":\"1039\",\"type\":\"Title\"},{\"attributes\":{\"fill_color\":{\"field\":\"color\"},\"line_color\":{\"field\":\"color\"},\"x\":{\"field\":\"x\"},\"y\":{\"field\":\"y\"}},\"id\":\"1035\",\"type\":\"Circle\"}],\"root_ids\":[\"1002\"]},\"title\":\"Bokeh Application\",\"version\":\"2.3.3\"}};\n",
              "  var render_items = [{\"docid\":\"3dfc6c47-eca8-4997-a803-da66270a1e1a\",\"root_ids\":[\"1002\"],\"roots\":{\"1002\":\"b96281dc-5285-4c6b-a535-5111c12df43a\"}}];\n",
              "  root.Bokeh.embed.embed_items_notebook(docs_json, render_items);\n",
              "\n",
              "  }\n",
              "  if (root.Bokeh !== undefined) {\n",
              "    embed_document(root);\n",
              "  } else {\n",
              "    var attempts = 0;\n",
              "    var timer = setInterval(function(root) {\n",
              "      if (root.Bokeh !== undefined) {\n",
              "        clearInterval(timer);\n",
              "        embed_document(root);\n",
              "      } else {\n",
              "        attempts++;\n",
              "        if (attempts > 100) {\n",
              "          clearInterval(timer);\n",
              "          console.log(\"Bokeh: ERROR: Unable to run BokehJS code because BokehJS library is missing\");\n",
              "        }\n",
              "      }\n",
              "    }, 10, root)\n",
              "  }\n",
              "})(window);"
            ],
            "application/vnd.bokehjs_exec.v0+json": ""
          },
          "metadata": {
            "application/vnd.bokehjs_exec.v0+json": {
              "id": "1002"
            }
          }
        }
      ]
    }
  ]
}
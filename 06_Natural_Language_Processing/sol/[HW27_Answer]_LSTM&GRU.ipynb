{
  "nbformat": 4,
  "nbformat_minor": 0,
  "metadata": {
    "colab": {
      "name": "[HW27_Answer] LSTM&GRU.ipynb",
      "provenance": [],
      "collapsed_sections": []
    },
    "kernelspec": {
      "name": "python3",
      "display_name": "Python 3"
    },
    "language_info": {
      "name": "python"
    },
    "accelerator": "GPU"
  },
  "cells": [
    {
      "cell_type": "markdown",
      "metadata": {
        "id": "at2eJc0b2aYe"
      },
      "source": [
        "# [HW27] LSTM&GRU\n",
        "\n",
        "\n",
        "\n",
        "*   본 실습에서는 Pytorch 를 활용한 LSTM 사용법을 학습합니다.\n",
        "\n",
        "> Reference: https://pytorch.org/tutorials/beginner/nlp/sequence_models_tutorial.html\n"
      ]
    },
    {
      "cell_type": "markdown",
      "metadata": {
        "id": "Q8hIO2oa47uf"
      },
      "source": [
        "### Part 1. LSTM with toy example"
      ]
    },
    {
      "cell_type": "code",
      "metadata": {
        "colab": {
          "base_uri": "https://localhost:8080/"
        },
        "id": "1p15gyg43gmb",
        "outputId": "00924a97-9fa0-4e30-b306-cc19c5e134f9"
      },
      "source": [
        "import torch\n",
        "import torch.nn as nn\n",
        "import torch.nn.functional as F\n",
        "import torch.optim as optim\n",
        "\n",
        "torch.manual_seed(1)"
      ],
      "execution_count": 1,
      "outputs": [
        {
          "output_type": "execute_result",
          "data": {
            "text/plain": [
              "<torch._C.Generator at 0x7fe95d93c610>"
            ]
          },
          "metadata": {},
          "execution_count": 1
        }
      ]
    },
    {
      "cell_type": "markdown",
      "metadata": {
        "id": "EoQFlgQj7AQg"
      },
      "source": [
        "`torch.nn` 을 활용하여 LSTM cell 을 생성하는 방법은 다음과 같습니다.\n",
        "\n",
        "* `input_size` : The number of expected features in the input x\n",
        "\n",
        "* `hidden_size` : The number of features in the hidden state h\n",
        "```\n",
        "lstm = nn.LSTM(input_size, hidden_size)\n",
        "```\n",
        "\n"
      ]
    },
    {
      "cell_type": "code",
      "metadata": {
        "id": "DUTmmlwXAszA"
      },
      "source": [
        "# input_size: 3, hidden_size: 3 으로 설정하여 LSTM cell 을 생성합니다.\n",
        "lstm = nn.LSTM(3, 3)  "
      ],
      "execution_count": 2,
      "outputs": []
    },
    {
      "cell_type": "markdown",
      "metadata": {
        "id": "Jgi7c7XqAwIG"
      },
      "source": [
        "LSTM cell 을 생성한 후에는, 입력으로 들어갈 input x, hidden state h, cell state c 를 생성해야 합니다.\n",
        "\n",
        "위에서 정한 input_size 와 hidden_size 를 고려하여 inputs 와 hidden (h 와 c) 을 생성해 봅시다."
      ]
    },
    {
      "cell_type": "code",
      "metadata": {
        "id": "ksoSxC3TAuk3"
      },
      "source": [
        "# sequence length 가 5 인 input을 생성합니다. \n",
        "# 이때, input_size 를 3 으로 설정했으므로, 3 차원 벡터 5개를 생성해야 합니다.\n",
        "inputs = [torch.randn(1, 3) for _ in range(5)] \n",
        "\n",
        "# lstm 은 input x 와 hidden state h 를 입력으로 받기 때문에, hidden state 도 생성해 줍니다.\n",
        "# 이때, hidden_size 를 3 으로 설정했으므로, 3 차원 벡터를 생성합니다.\n",
        "# lstm 의 입력으로 들어가는 h 는 RNN 에서의 hidden state 와, lstm 에서 등장한 개념인 cell state 로 구성되어 있기 때문에\n",
        "# hidden 은 3 차원 벡터 2개로 구성되어야 합니다.\n",
        "hidden = (torch.randn(1, 1, 3),\n",
        "          torch.randn(1, 1, 3))"
      ],
      "execution_count": 3,
      "outputs": []
    },
    {
      "cell_type": "code",
      "source": [
        "inputs"
      ],
      "metadata": {
        "id": "Ot3hCf6i6Ib2",
        "outputId": "68bccb6b-ccb2-45fb-a49a-e32fa984bb6e",
        "colab": {
          "base_uri": "https://localhost:8080/"
        }
      },
      "execution_count": 6,
      "outputs": [
        {
          "output_type": "execute_result",
          "data": {
            "text/plain": [
              "[tensor([[-0.5525,  0.6355, -0.3968]]),\n",
              " tensor([[-0.6571, -1.6428,  0.9803]]),\n",
              " tensor([[-0.0421, -0.8206,  0.3133]]),\n",
              " tensor([[-1.1352,  0.3773, -0.2824]]),\n",
              " tensor([[-2.5667, -1.4303,  0.5009]])]"
            ]
          },
          "metadata": {},
          "execution_count": 6
        }
      ]
    },
    {
      "cell_type": "code",
      "source": [
        "hidden"
      ],
      "metadata": {
        "id": "rhYLjux46PHL",
        "outputId": "c5c89174-5301-4a6d-896b-877be01be20b",
        "colab": {
          "base_uri": "https://localhost:8080/"
        }
      },
      "execution_count": 8,
      "outputs": [
        {
          "output_type": "execute_result",
          "data": {
            "text/plain": [
              "(tensor([[[ 0.5438, -0.4057,  1.1341]]]),\n",
              " tensor([[[-1.1115,  0.3501, -0.7703]]]))"
            ]
          },
          "metadata": {},
          "execution_count": 8
        }
      ]
    },
    {
      "cell_type": "markdown",
      "metadata": {
        "id": "ga6sPZfBCw0c"
      },
      "source": [
        "**방법 1**: Sequence length 가 5 인 input 에 대하여 한 번에 하나의 element 를 lstm cell 에 통과시킵니다."
      ]
    },
    {
      "cell_type": "code",
      "metadata": {
        "id": "Ws_Wc9cID3_Z"
      },
      "source": [
        "for i in inputs:\n",
        "    # Step through the sequence one element at a time.\n",
        "    # after each step, hidden contains the hidden state.\n",
        "    out, hidden = lstm(i.view(1, 1, -1), hidden)"
      ],
      "execution_count": null,
      "outputs": []
    },
    {
      "cell_type": "markdown",
      "metadata": {
        "id": "3jvjYxKEEADU"
      },
      "source": [
        "**방법 2**: 전체 시퀀스를 한번에 통과시키는 방법도 있습니다.\n",
        "\n",
        "LSTM 이 반환하는 출력의 첫 번째 값은 전체 시퀀스에 대한 통과한 hidden state 이고, 두 번째 값은 마지막 step 의 hidden state 입니다. \n",
        "\n",
        "`out` 과 `hidden` 의 size 를 비교해보세요."
      ]
    },
    {
      "cell_type": "code",
      "metadata": {
        "colab": {
          "base_uri": "https://localhost:8080/"
        },
        "id": "xJpZ1EB33jZ_",
        "outputId": "c3497f20-ad13-4fd2-8fcf-acf9f2e58552"
      },
      "source": [
        "inputs = torch.cat(inputs).view(len(inputs), 1, -1) # 방법 2 를 적용하기 위해 input 을 list 가 아닌 하나의 tensor 로 concat 해줍니다.\n",
        "hidden = (torch.randn(1, 1, 3), torch.randn(1, 1, 3))  # 방법 2 를 적용하기 위해 hidden 을 다시 초기화합니다.\n",
        "out, hidden = lstm(inputs, hidden)\n",
        "print(out)\n",
        "print(hidden)"
      ],
      "execution_count": null,
      "outputs": [
        {
          "output_type": "stream",
          "name": "stdout",
          "text": [
            "tensor([[[-0.0187,  0.1713, -0.2944]],\n",
            "\n",
            "        [[-0.3521,  0.1026, -0.2971]],\n",
            "\n",
            "        [[-0.3191,  0.0781, -0.1957]],\n",
            "\n",
            "        [[-0.1634,  0.0941, -0.1637]],\n",
            "\n",
            "        [[-0.3368,  0.0959, -0.0538]]], grad_fn=<StackBackward>)\n",
            "(tensor([[[-0.3368,  0.0959, -0.0538]]], grad_fn=<StackBackward>), tensor([[[-0.9825,  0.4715, -0.0633]]], grad_fn=<StackBackward>))\n"
          ]
        }
      ]
    },
    {
      "cell_type": "markdown",
      "metadata": {
        "id": "81bVJPN5Fbw_"
      },
      "source": [
        "### Part 2. LSTM for Part-of-Speech Tagging"
      ]
    },
    {
      "cell_type": "markdown",
      "metadata": {
        "id": "msRT9ho3GSlx"
      },
      "source": [
        "LSTM 을 이용해 Part-of-Speech (PoS) Tagging 을 하기 위해 학습 데이터를 준비합니다.\n",
        "\n",
        "* `training_data` 에는 단어 시퀀스와 각 단어의 품사 태그를 준비해야 합니다.\n",
        "\n",
        "* `word_to_ix`: 모델의 입력으로 사용하기 위해 각 단어를 id 로 mapping 합니다.\n",
        "\n",
        "* `tag_to_ix`: 품사 태그 또한 id 로 mapping 합니다."
      ]
    },
    {
      "cell_type": "code",
      "metadata": {
        "colab": {
          "base_uri": "https://localhost:8080/"
        },
        "id": "kH5QpEo2Efjg",
        "outputId": "d9261fb4-0193-480f-e23b-3c2f87d97bfc"
      },
      "source": [
        "def prepare_sequence(seq, to_ix):\n",
        "    idxs = [to_ix[w] for w in seq]\n",
        "    return torch.tensor(idxs, dtype=torch.long)\n",
        "\n",
        "\n",
        "training_data = [\n",
        "    # Tags are: DET - determiner; NN - noun; V - verb\n",
        "    # For example, the word \"The\" is a determiner\n",
        "    (\"The dog ate the apple\".split(), [\"DET\", \"NN\", \"V\", \"DET\", \"NN\"]),\n",
        "    (\"Everybody read that book\".split(), [\"NN\", \"V\", \"DET\", \"NN\"])\n",
        "]\n",
        "word_to_ix = {}\n",
        "# For each words-list (sentence) and tags-list in each tuple of training_data\n",
        "for sent, tags in training_data:\n",
        "    for word in sent:\n",
        "        if word not in word_to_ix:  # word has not been assigned an index yet\n",
        "            word_to_ix[word] = len(word_to_ix)  # Assign each word with a unique index\n",
        "print(word_to_ix)\n",
        "tag_to_ix = {\"DET\": 0, \"NN\": 1, \"V\": 2}  # Assign each tag with a unique index\n",
        "\n",
        "# These will usually be more like 32 or 64 dimensional.\n",
        "# We will keep them small, so we can see how the weights change as we train.\n",
        "EMBEDDING_DIM = 6\n",
        "HIDDEN_DIM = 6"
      ],
      "execution_count": null,
      "outputs": [
        {
          "output_type": "stream",
          "name": "stdout",
          "text": [
            "{'The': 0, 'dog': 1, 'ate': 2, 'the': 3, 'apple': 4, 'Everybody': 5, 'read': 6, 'that': 7, 'book': 8}\n"
          ]
        }
      ]
    },
    {
      "cell_type": "markdown",
      "metadata": {
        "id": "kVxMJcikHbiO"
      },
      "source": [
        "Embedding layer, output layer, lstm cell 을 포함한 LSTMTagger 모듈을 정의합니다.\n",
        "\n",
        "`embeds`: input id 를 embedding layer 로 encode 하여 input 에 해당하는 embedding 생성합니다.\n",
        "\n",
        "`lstm_out`: embedding 을 lstm 에 통과하여 전체 시퀀스에 대한 hidden state 를 저장합니다. \n",
        "\n",
        "`tag_space`: lstm 의 output 인 hidden 을 이용해 존재하는 tag (DET, NN, V) 공간으로 linear transform 합니다.\n",
        "\n",
        "`tag_scores`: 이후 softmax 를 적용하여 각 tag 가 될 score 를 측정합니다."
      ]
    },
    {
      "cell_type": "code",
      "metadata": {
        "id": "zTBekD-UFt0d"
      },
      "source": [
        "class LSTMTagger(nn.Module):\n",
        "\n",
        "    def __init__(self, embedding_dim, hidden_dim, vocab_size, tagset_size):\n",
        "        super(LSTMTagger, self).__init__()\n",
        "        self.hidden_dim = hidden_dim\n",
        "\n",
        "        self.word_embeddings = nn.Embedding(vocab_size, embedding_dim)\n",
        "\n",
        "        # The LSTM takes word embeddings as inputs, and outputs hidden states\n",
        "        # with dimensionality hidden_dim.\n",
        "        self.lstm = nn.LSTM(embedding_dim, hidden_dim)\n",
        "\n",
        "        # The linear layer that maps from hidden state space to tag space\n",
        "        self.hidden2tag = nn.Linear(hidden_dim, tagset_size)\n",
        "\n",
        "    def forward(self, sentence):\n",
        "        embeds = self.word_embeddings(sentence)\n",
        "        lstm_out, _ = self.lstm(embeds.view(len(sentence), 1, -1))\n",
        "        tag_space = self.hidden2tag(lstm_out.view(len(sentence), -1))\n",
        "        tag_scores = F.log_softmax(tag_space, dim=1)\n",
        "        return tag_scores"
      ],
      "execution_count": null,
      "outputs": []
    },
    {
      "cell_type": "markdown",
      "metadata": {
        "id": "Y1Gf1GV_ZUqc"
      },
      "source": [
        "정의한 LSTMTagger 클래스를 이용해 model 을 build 하고, 학습에 필요한 loss 함수와 optimizer 를 선언합니다."
      ]
    },
    {
      "cell_type": "code",
      "metadata": {
        "id": "pqVV6IaQZfk2"
      },
      "source": [
        "model = LSTMTagger(EMBEDDING_DIM, HIDDEN_DIM, len(word_to_ix), len(tag_to_ix))\n",
        "loss_function = nn.NLLLoss()\n",
        "optimizer = optim.SGD(model.parameters(), lr=0.1)"
      ],
      "execution_count": null,
      "outputs": []
    },
    {
      "cell_type": "markdown",
      "metadata": {
        "id": "rJCE6roXZtyF"
      },
      "source": [
        "모델을 학습하기 전 tag score 를 확인해봅시다. "
      ]
    },
    {
      "cell_type": "code",
      "metadata": {
        "colab": {
          "base_uri": "https://localhost:8080/"
        },
        "id": "AO_zCnPPFw2H",
        "outputId": "c1521bc8-df35-4d8c-c058-fda23a26e6fa"
      },
      "source": [
        "# See what the scores are before training\n",
        "# Note that element i,j of the output is the score for tag j for word i.\n",
        "# Here we don't need to train, so the code is wrapped in torch.no_grad()\n",
        "with torch.no_grad():\n",
        "    inputs = prepare_sequence(training_data[0][0], word_to_ix)\n",
        "    tag_scores = model(inputs)\n",
        "    print(tag_scores)\n"
      ],
      "execution_count": null,
      "outputs": [
        {
          "output_type": "stream",
          "name": "stdout",
          "text": [
            "tensor([[-1.1389, -1.2024, -0.9693],\n",
            "        [-1.1065, -1.2200, -0.9834],\n",
            "        [-1.1286, -1.2093, -0.9726],\n",
            "        [-1.1190, -1.1960, -0.9916],\n",
            "        [-1.0137, -1.2642, -1.0366]])\n"
          ]
        }
      ]
    },
    {
      "cell_type": "markdown",
      "metadata": {
        "id": "co4XVoPUZ4jy"
      },
      "source": [
        "이제, training data 를 이용해 모델을 학습합니다. 즉, input 을 LSTMTagger 에 통과시켜 각 단어의 PoS tag 를 예측하고, 정답 tag 와 비교하여 loss 를 계산한 후 loss 를 backpropagate 하여 모델 파라미터를 업데이트 합니다."
      ]
    },
    {
      "cell_type": "code",
      "metadata": {
        "id": "Zbr-ZE9NFyXS"
      },
      "source": [
        "\n",
        "for epoch in range(300):  # again, normally you would NOT do 300 epochs, it is toy data\n",
        "    for sentence, tags in training_data:\n",
        "        # Step 1. Remember that Pytorch accumulates gradients.\n",
        "        # We need to clear them out before each instance\n",
        "        model.zero_grad()\n",
        "\n",
        "        # Step 2. Get our inputs ready for the network, that is, turn them into\n",
        "        # Tensors of word indices.\n",
        "        sentence_in = prepare_sequence(sentence, word_to_ix)\n",
        "        targets = prepare_sequence(tags, tag_to_ix)\n",
        "\n",
        "        # Step 3. Run our forward pass.\n",
        "        tag_scores = model(sentence_in)\n",
        "\n",
        "        # Step 4. Compute the loss, gradients, and update the parameters by\n",
        "        #  calling optimizer.step()\n",
        "        loss = loss_function(tag_scores, targets)\n",
        "        loss.backward()\n",
        "        optimizer.step()"
      ],
      "execution_count": null,
      "outputs": []
    },
    {
      "cell_type": "markdown",
      "metadata": {
        "id": "7uJgTXQ0aUAI"
      },
      "source": [
        "학습 데이터를 이용해 모델이 잘 학습되었는지 확인해봅시다. 학습하기 전 tag score 와 비교해봅니다."
      ]
    },
    {
      "cell_type": "code",
      "metadata": {
        "id": "tEm3Jn4CaRdJ",
        "colab": {
          "base_uri": "https://localhost:8080/"
        },
        "outputId": "a8ad1ad0-e9e7-4eb5-9fba-85d6f1fca7a7"
      },
      "source": [
        "# See what the scores are after training\n",
        "with torch.no_grad():\n",
        "    inputs = prepare_sequence(training_data[0][0], word_to_ix)\n",
        "    tag_scores = model(inputs)\n",
        "\n",
        "    # The sentence is \"the dog ate the apple\".  i,j corresponds to score for tag j\n",
        "    # for word i. The predicted tag is the maximum scoring tag.\n",
        "    # Here, we can see the predicted sequence below is 0 1 2 0 1\n",
        "    # since 0 is index of the maximum value of row 1,\n",
        "    # 1 is the index of maximum value of row 2, etc.\n",
        "    # Which is DET NOUN VERB DET NOUN, the correct sequence!\n",
        "    print(tag_scores)"
      ],
      "execution_count": null,
      "outputs": [
        {
          "output_type": "stream",
          "name": "stdout",
          "text": [
            "tensor([[-0.0462, -4.0106, -3.6096],\n",
            "        [-4.8205, -0.0286, -3.9045],\n",
            "        [-3.7876, -4.1355, -0.0394],\n",
            "        [-0.0185, -4.7874, -4.6013],\n",
            "        [-5.7881, -0.0186, -4.1778]])\n"
          ]
        }
      ]
    },
    {
      "cell_type": "markdown",
      "metadata": {
        "id": "LuQgfsMyawFj"
      },
      "source": [
        "### Questions.\n",
        "1. LSTM 이 아닌 GRU 를 사용하려면 본 실습 코드의 부분을 바꿔야 할까요? Part 2 부분을 GRU 로 대체하여 PoS Tagger 를 학습하고, LSTM 과의 차이를 비교해 봅시다.\n",
        "2. 본 실습에서는 학습 데이터만을 이용해 모델을 학습하고, 평가합니다. 이때 발생할 수 있는 문제점은 어떤 것이 있을까요? 그 문제점을 해결하려면 어떻게 해야 할까요?"
      ]
    },
    {
      "cell_type": "markdown",
      "metadata": {
        "id": "O7c9vB4BloGd"
      },
      "source": [
        "### Answers.\n",
        "1. [`nn.GRU`](https://pytorch.org/docs/stable/generated/torch.nn.GRU.html?highlight=gru#torch.nn.GRU) 를 활용할 수 있습니다.\n",
        "2. 학습 데이터만 활용해 모델을 평가할 경우 모델의 generalization 성능이 어떻게 되는지 평가하기 어렵습니다. 학습시 보지 못한 새로운 데이터를 이용해 모델을 평가해야 합니다. 주어진 데이터를 train, test 로 split 하거나 cross-validation 방법을 활용해야 합니다."
      ]
    },
    {
      "cell_type": "code",
      "metadata": {
        "id": "s9NyvtkXbnsI"
      },
      "source": [
        ""
      ],
      "execution_count": null,
      "outputs": []
    }
  ]
}
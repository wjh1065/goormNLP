{
  "nbformat": 4,
  "nbformat_minor": 0,
  "metadata": {
    "colab": {
      "name": "[HW28_Problem] Seq2seq with Attention.ipynb",
      "provenance": [],
      "collapsed_sections": []
    },
    "kernelspec": {
      "name": "python3",
      "display_name": "Python 3"
    },
    "language_info": {
      "name": "python"
    },
    "accelerator": "GPU"
  },
  "cells": [
    {
      "cell_type": "markdown",
      "metadata": {
        "id": "dSdtL22ojIdY"
      },
      "source": [
        "# HW 5: Seq2seq with Attention\n",
        "\n",
        "\n",
        "*   본 실습에서는 sequence to sequence 모델을 구현하고 attention 모듈을 추가합니다.\n"
      ]
    },
    {
      "cell_type": "markdown",
      "metadata": {
        "id": "Qc9i7X5Dj_q6"
      },
      "source": [
        "### Part 1. Seq2seq with toy example"
      ]
    },
    {
      "cell_type": "markdown",
      "metadata": {
        "id": "61LrEibDmBnH"
      },
      "source": [
        "**Part 1.1 데이터 전처리**"
      ]
    },
    {
      "cell_type": "code",
      "metadata": {
        "id": "GOoDGkaFkrd2"
      },
      "source": [
        "from tqdm import tqdm\n",
        "from torch import nn\n",
        "from torch.nn.utils.rnn import pack_padded_sequence, pad_packed_sequence\n",
        "from torch.nn import functional as F\n",
        "\n",
        "import torch\n",
        "import random"
      ],
      "execution_count": 1,
      "outputs": []
    },
    {
      "cell_type": "markdown",
      "metadata": {
        "id": "j-addqoKkX_J"
      },
      "source": [
        "`src_data`를 `trg_data`로 바꾸는 번역 task를 수행하기 위한 sample data를 준비합니다.\n",
        "\n",
        "전체 단어 수는 100 개이고 다음과 같이 `pad token`, `start token`, `end token`의 id도 정의합니다."
      ]
    },
    {
      "cell_type": "code",
      "metadata": {
        "id": "1neCRvux8k6Z"
      },
      "source": [
        "vocab_size = 100\n",
        "pad_id = 0\n",
        "sos_id = 1 # <sos> : start of sentence\n",
        "eos_id = 2 # <eos> : end of sentnece\n",
        "\n",
        "src_data = [\n",
        "  [3, 77, 56, 26, 3, 55, 12, 36, 31],\n",
        "  [58, 20, 65, 46, 26, 10, 76, 44],\n",
        "  [58, 17, 8],\n",
        "  [59],\n",
        "  [29, 3, 52, 74, 73, 51, 39, 75, 19],\n",
        "  [41, 55, 77, 21, 52, 92, 97, 69, 54, 14, 93],\n",
        "  [39, 47, 96, 68, 55, 16, 90, 45, 89, 84, 19, 22, 32, 99, 5],\n",
        "  [75, 34, 17, 3, 86, 88],\n",
        "  [63, 39, 5, 35, 67, 56, 68, 89, 55, 66],\n",
        "  [12, 40, 69, 39, 49]\n",
        "]\n",
        "\n",
        "trg_data = [\n",
        "  [75, 13, 22, 77, 89, 21, 13, 86, 95],\n",
        "  [79, 14, 91, 41, 32, 79, 88, 34, 8, 68, 32, 77, 58, 7, 9, 87],\n",
        "  [85, 8, 50, 30],\n",
        "  [47, 30],\n",
        "  [8, 85, 87, 77, 47, 21, 23, 98, 83, 4, 47, 97, 40, 43, 70, 8, 65, 71, 69, 88],\n",
        "  [32, 37, 31, 77, 38, 93, 45, 74, 47, 54, 31, 18],\n",
        "  [37, 14, 49, 24, 93, 37, 54, 51, 39, 84],\n",
        "  [16, 98, 68, 57, 55, 46, 66, 85, 18],\n",
        "  [20, 70, 14, 6, 58, 90, 30, 17, 91, 18, 90],\n",
        "  [37, 93, 98, 13, 45, 28, 89, 72, 70]\n",
        "]"
      ],
      "execution_count": 2,
      "outputs": []
    },
    {
      "cell_type": "code",
      "metadata": {
        "id": "xwq5SNGUdCT9",
        "outputId": "2d3e909f-4697-4370-acb5-4f825fcf65e4",
        "colab": {
          "base_uri": "https://localhost:8080/"
        }
      },
      "source": [
        "# target data 의 각 문장의 시작과 끝에 <sos> token id 와 <eos> token id 를 추가합니다.\n",
        "trg_data = [[sos_id]+seq+[eos_id] for seq in tqdm(trg_data)]"
      ],
      "execution_count": 8,
      "outputs": [
        {
          "output_type": "stream",
          "name": "stderr",
          "text": [
            "100%|██████████| 10/10 [00:00<00:00, 72691.58it/s]\n"
          ]
        }
      ]
    },
    {
      "cell_type": "code",
      "metadata": {
        "id": "RSeExSrRAYg8"
      },
      "source": [
        "# 각 문장의 길이를 동일하게 맞춰주기 위해 <pad> token id 를 추가하는 padding 함수를 정의합니다.\n",
        "def padding(data):\n",
        "  max_len = len(max(data, key=len))\n",
        "  print(f\"Maximum sequence length: {max_len}\")\n",
        "\n",
        "  valid_lens = []\n",
        "  for i, seq in enumerate(tqdm(data)):\n",
        "    valid_lens.append(len(seq))\n",
        "    if len(seq) < max_len:\n",
        "      data[i] = seq + [pad_id] * (max_len - len(seq))\n",
        "\n",
        "  return data, valid_lens, max_len"
      ],
      "execution_count": 15,
      "outputs": []
    },
    {
      "cell_type": "code",
      "metadata": {
        "id": "yCXaXdk-ApJu",
        "outputId": "d51ae4ff-3a70-44f2-a607-0dc8988fe007",
        "colab": {
          "base_uri": "https://localhost:8080/"
        }
      },
      "source": [
        "src_data, src_lens, src_max_len = padding(src_data)\n",
        "trg_data, trg_lens, trg_max_len = padding(trg_data)"
      ],
      "execution_count": 16,
      "outputs": [
        {
          "output_type": "stream",
          "name": "stdout",
          "text": [
            "Maximum sequence length: 15\n"
          ]
        },
        {
          "output_type": "stream",
          "name": "stderr",
          "text": [
            "100%|██████████| 10/10 [00:00<00:00, 53025.34it/s]\n"
          ]
        },
        {
          "output_type": "stream",
          "name": "stdout",
          "text": [
            "Maximum sequence length: 22\n"
          ]
        },
        {
          "output_type": "stream",
          "name": "stderr",
          "text": [
            "100%|██████████| 10/10 [00:00<00:00, 71453.22it/s]\n"
          ]
        }
      ]
    },
    {
      "cell_type": "code",
      "metadata": {
        "id": "6F3Mx8pbAvqt",
        "outputId": "cd33e489-44fb-4628-da40-8e4477dc4674",
        "colab": {
          "base_uri": "https://localhost:8080/"
        }
      },
      "source": [
        "# B: batch size, \n",
        "# S_L: source maximum sequence length, \n",
        "# T_L: target maximum sequence length\n",
        "\n",
        "src_batch = torch.LongTensor(src_data)  # (B, S_L)\n",
        "src_batch_lens = torch.LongTensor(src_lens)  # (B)\n",
        "trg_batch = torch.LongTensor(trg_data)  # (B, T_L)\n",
        "trg_batch_lens = torch.LongTensor(trg_lens)  # (B)\n",
        "\n",
        "print(src_batch.shape)\n",
        "print(src_batch_lens.shape)\n",
        "print(trg_batch.shape)\n",
        "print(trg_batch_lens.shape)"
      ],
      "execution_count": 19,
      "outputs": [
        {
          "output_type": "stream",
          "name": "stdout",
          "text": [
            "torch.Size([10, 15])\n",
            "torch.Size([10])\n",
            "torch.Size([10, 22])\n",
            "torch.Size([10])\n"
          ]
        }
      ]
    },
    {
      "cell_type": "code",
      "metadata": {
        "id": "jxmvrpQABWn8",
        "outputId": "85ab9535-d1a3-44ca-b2a7-c8fefb369ea2",
        "colab": {
          "base_uri": "https://localhost:8080/"
        }
      },
      "source": [
        "src_batch_lens, sorted_idx = src_batch_lens.sort(descending=True)\n",
        "src_batch = src_batch[sorted_idx]\n",
        "trg_batch = trg_batch[sorted_idx]\n",
        "trg_batch_lens = trg_batch_lens[sorted_idx]\n",
        "\n",
        "print(src_batch)\n",
        "print(src_batch_lens)\n",
        "print(trg_batch)\n",
        "print(trg_batch_lens)"
      ],
      "execution_count": 21,
      "outputs": [
        {
          "output_type": "stream",
          "name": "stdout",
          "text": [
            "tensor([[ 3, 77, 56, 26,  3, 55, 12, 36, 31,  0,  0,  0,  0,  0,  0],\n",
            "        [58, 20, 65, 46, 26, 10, 76, 44,  0,  0,  0,  0,  0,  0,  0],\n",
            "        [58, 17,  8,  0,  0,  0,  0,  0,  0,  0,  0,  0,  0,  0,  0],\n",
            "        [59,  0,  0,  0,  0,  0,  0,  0,  0,  0,  0,  0,  0,  0,  0],\n",
            "        [29,  3, 52, 74, 73, 51, 39, 75, 19,  0,  0,  0,  0,  0,  0],\n",
            "        [41, 55, 77, 21, 52, 92, 97, 69, 54, 14, 93,  0,  0,  0,  0],\n",
            "        [39, 47, 96, 68, 55, 16, 90, 45, 89, 84, 19, 22, 32, 99,  5],\n",
            "        [75, 34, 17,  3, 86, 88,  0,  0,  0,  0,  0,  0,  0,  0,  0],\n",
            "        [63, 39,  5, 35, 67, 56, 68, 89, 55, 66,  0,  0,  0,  0,  0],\n",
            "        [12, 40, 69, 39, 49,  0,  0,  0,  0,  0,  0,  0,  0,  0,  0]])\n",
            "tensor([15, 15, 15, 15, 15, 15, 15, 15, 15, 15])\n",
            "tensor([[ 1, 75, 13, 22, 77, 89, 21, 13, 86, 95,  2,  0,  0,  0,  0,  0,  0,  0,\n",
            "          0,  0,  0,  0],\n",
            "        [ 1, 79, 14, 91, 41, 32, 79, 88, 34,  8, 68, 32, 77, 58,  7,  9, 87,  2,\n",
            "          0,  0,  0,  0],\n",
            "        [ 1, 85,  8, 50, 30,  2,  0,  0,  0,  0,  0,  0,  0,  0,  0,  0,  0,  0,\n",
            "          0,  0,  0,  0],\n",
            "        [ 1, 47, 30,  2,  0,  0,  0,  0,  0,  0,  0,  0,  0,  0,  0,  0,  0,  0,\n",
            "          0,  0,  0,  0],\n",
            "        [ 1,  8, 85, 87, 77, 47, 21, 23, 98, 83,  4, 47, 97, 40, 43, 70,  8, 65,\n",
            "         71, 69, 88,  2],\n",
            "        [ 1, 32, 37, 31, 77, 38, 93, 45, 74, 47, 54, 31, 18,  2,  0,  0,  0,  0,\n",
            "          0,  0,  0,  0],\n",
            "        [ 1, 37, 14, 49, 24, 93, 37, 54, 51, 39, 84,  2,  0,  0,  0,  0,  0,  0,\n",
            "          0,  0,  0,  0],\n",
            "        [ 1, 16, 98, 68, 57, 55, 46, 66, 85, 18,  2,  0,  0,  0,  0,  0,  0,  0,\n",
            "          0,  0,  0,  0],\n",
            "        [ 1, 20, 70, 14,  6, 58, 90, 30, 17, 91, 18, 90,  2,  0,  0,  0,  0,  0,\n",
            "          0,  0,  0,  0],\n",
            "        [ 1, 37, 93, 98, 13, 45, 28, 89, 72, 70,  2,  0,  0,  0,  0,  0,  0,  0,\n",
            "          0,  0,  0,  0]])\n",
            "tensor([22, 22, 22, 22, 22, 22, 22, 22, 22, 22])\n"
          ]
        }
      ]
    },
    {
      "cell_type": "code",
      "source": [
        "sorted_idx"
      ],
      "metadata": {
        "id": "NLm_BHJSjrRH",
        "outputId": "53e43c00-37df-4f20-afc7-999748749bd2",
        "colab": {
          "base_uri": "https://localhost:8080/"
        }
      },
      "execution_count": 22,
      "outputs": [
        {
          "output_type": "execute_result",
          "data": {
            "text/plain": [
              "tensor([0, 1, 2, 3, 4, 5, 6, 7, 8, 9])"
            ]
          },
          "metadata": {},
          "execution_count": 22
        }
      ]
    },
    {
      "cell_type": "markdown",
      "metadata": {
        "id": "3tR9V4nDnXqJ"
      },
      "source": [
        "**Part 1.2 Encoder 구현**\n",
        "\n",
        "\n",
        "*   Embedding layer, output layer, GRU cell 을 포함한 encoder 모듈을 구현합니다.\n",
        "\n"
      ]
    },
    {
      "cell_type": "code",
      "metadata": {
        "id": "MmhCME-PDUJ8"
      },
      "source": [
        "embedding_size = 256\n",
        "hidden_size = 512\n",
        "num_layers = 2\n",
        "num_dirs = 2 # 2 if bidirectional=True otherwise 1\n",
        "dropout = 0.1"
      ],
      "execution_count": 23,
      "outputs": []
    },
    {
      "cell_type": "code",
      "metadata": {
        "id": "epZDaDO-FMPu"
      },
      "source": [
        "class Encoder(nn.Module):\n",
        "  def __init__(self):\n",
        "    super(Encoder, self).__init__()\n",
        "\n",
        "    self.embedding = nn.Embedding(vocab_size, embedding_size)\n",
        "    self.gru = nn.GRU(\n",
        "        input_size=embedding_size, \n",
        "        hidden_size=hidden_size,\n",
        "        num_layers=num_layers,\n",
        "        bidirectional=True if num_dirs > 1 else False,\n",
        "        dropout=dropout\n",
        "    )\n",
        "    self.linear = nn.Linear(num_dirs * hidden_size, hidden_size)\n",
        "\n",
        "  def forward(self, batch, batch_lens):  # batch: (B, S_L), batch_lens: (B)\n",
        "    # d_w: word embedding size\n",
        "    batch_emb = self.embedding(batch)  # (B, S_L, d_w)\n",
        "    batch_emb = batch_emb.transpose(0, 1)  # (S_L, B, d_w)\n",
        "\n",
        "    packed_input = pack_padded_sequence(batch_emb, batch_lens)\n",
        "\n",
        "    h_0 = torch.zeros((num_layers * num_dirs, batch.shape[0], hidden_size))  # (num_dirs*num_layers, B, d_h) = (4, B, d_h)\n",
        "    packed_outputs, h_n = self.gru(packed_input, h_0)  # h_n: (4, B, d_h)\n",
        "    outputs = pad_packed_sequence(packed_outputs)[0]  # outputs: (S_L, B, 2d_h)\n",
        "    outputs = torch.tanh(self.linear(outputs))  # (S_L, B, d_h)\n",
        "\n",
        "    forward_hidden = h_n[-2, :, :]\n",
        "    backward_hidden = h_n[-1, :, :]\n",
        "    hidden = torch.tanh(self.linear(torch.cat((forward_hidden, backward_hidden), dim=-1))).unsqueeze(0)  # (1, B, d_h)\n",
        "\n",
        "    return outputs, hidden"
      ],
      "execution_count": 24,
      "outputs": []
    },
    {
      "cell_type": "code",
      "metadata": {
        "id": "ZEdSnKZkIedk"
      },
      "source": [
        "encoder = Encoder()"
      ],
      "execution_count": 25,
      "outputs": []
    },
    {
      "cell_type": "markdown",
      "metadata": {
        "id": "4w5G0uy4TiFA"
      },
      "source": [
        "### **Dot-product Attention 구현**\n",
        "![image.png](data:image/png;base64,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)"
      ]
    },
    {
      "cell_type": "markdown",
      "metadata": {
        "id": "ucB4kpk2u4g6"
      },
      "source": [
        "[Dot-product Attention 계산 메커니즘 복습하기](https://wikidocs.net/22893)"
      ]
    },
    {
      "cell_type": "markdown",
      "metadata": {
        "id": "8-sPMEBEcRqP"
      },
      "source": [
        "우선 대표적인 attention 형태 중 하나인 Dot-product Attention은 다음과 같이 구현할 수 있습니다.\n",
        "\n"
      ]
    },
    {
      "cell_type": "code",
      "metadata": {
        "id": "sEB-og7IcYN6"
      },
      "source": [
        "class DotAttention(nn.Module):\n",
        "  def __init__(self):\n",
        "    super().__init__()\n",
        "\n",
        "  def forward(self, decoder_hidden, encoder_outputs):  # (1, B, d_h), (S_L, B, d_h)\n",
        "    query = decoder_hidden.squeeze(0)  # (B, d_h)\n",
        "    key = encoder_outputs.transpose(0, 1)  # (B, S_L, d_h)\n",
        "\n",
        "    energy = torch.sum(torch.mul(key, query.unsqueeze(1)), dim=-1)  # (B, S_L)\n",
        "\n",
        "    attn_scores = F.softmax(energy, dim=-1)  # (B, S_L)\n",
        "    attn_values = torch.sum(torch.mul(encoder_outputs.transpose(0, 1), attn_scores.unsqueeze(2)), dim=1)  # (B, d_h)\n",
        "\n",
        "    return attn_values, attn_scores"
      ],
      "execution_count": 26,
      "outputs": []
    },
    {
      "cell_type": "code",
      "metadata": {
        "id": "cIARwx4IjuuG"
      },
      "source": [
        "dot_attn = DotAttention()"
      ],
      "execution_count": 27,
      "outputs": []
    },
    {
      "cell_type": "markdown",
      "metadata": {
        "id": "r94WCkbCjMnz"
      },
      "source": [
        "이제 이 attention 모듈을 가지는 Decoder 클래스를 구현하겠습니다."
      ]
    },
    {
      "cell_type": "code",
      "metadata": {
        "id": "9JycRs0ojLyg"
      },
      "source": [
        "class Decoder(nn.Module):\n",
        "  def __init__(self, attention):\n",
        "    super().__init__()\n",
        "\n",
        "    self.embedding = nn.Embedding(vocab_size, embedding_size)\n",
        "    self.attention = attention\n",
        "    self.rnn = nn.GRU(\n",
        "        embedding_size,\n",
        "        hidden_size\n",
        "    )\n",
        "    self.output_linear = nn.Linear(2*hidden_size, vocab_size)\n",
        "\n",
        "  def forward(self, batch, encoder_outputs, hidden):  # batch: (B), encoder_outputs: (L, B, d_h), hidden: (1, B, d_h)  \n",
        "    batch_emb = self.embedding(batch)  # (B, d_w)\n",
        "    batch_emb = batch_emb.unsqueeze(0)  # (1, B, d_w)\n",
        "\n",
        "    outputs, hidden = self.rnn(batch_emb, hidden)  # (1, B, d_h), (1, B, d_h)\n",
        "\n",
        "    attn_values, attn_scores = self.attention(hidden, encoder_outputs)  # (B, d_h), (B, S_L)\n",
        "    concat_outputs = torch.cat((outputs, attn_values.unsqueeze(0)), dim=-1)  # (1, B, 2d_h)\n",
        "\n",
        "    return self.output_linear(concat_outputs).squeeze(0), hidden  # (B, V), (1, B, d_h)"
      ],
      "execution_count": 28,
      "outputs": []
    },
    {
      "cell_type": "code",
      "metadata": {
        "id": "45GG2CvOjwzE"
      },
      "source": [
        "decoder = Decoder(dot_attn)"
      ],
      "execution_count": 29,
      "outputs": []
    },
    {
      "cell_type": "markdown",
      "metadata": {
        "id": "BZ1NzYZROrOu"
      },
      "source": [
        "### **Seq2seq 모델 구축**"
      ]
    },
    {
      "cell_type": "markdown",
      "metadata": {
        "id": "XEYvsQS0Ovp6"
      },
      "source": [
        "최종적으로 seq2seq 모델을 다음과 같이 구성할 수 있습니다."
      ]
    },
    {
      "cell_type": "code",
      "metadata": {
        "id": "M52xKNVeF37N"
      },
      "source": [
        "class Seq2seq(nn.Module):\n",
        "  def __init__(self, encoder, decoder):\n",
        "    super(Seq2seq, self).__init__()\n",
        "\n",
        "    self.encoder = encoder\n",
        "    self.decoder = decoder\n",
        "\n",
        "  def forward(self, src_batch, src_batch_lens, trg_batch, teacher_forcing_prob=0.5):\n",
        "    # src_batch: (B, S_L), src_batch_lens: (B), trg_batch: (B, T_L)\n",
        "\n",
        "    encoder_outputs, hidden = self.encoder(src_batch, src_batch_lens)  # encoder_outputs: (S_L, B, d_h), hidden: (1, B, d_h)\n",
        "\n",
        "    input_ids = trg_batch[:, 0]  # (B)\n",
        "    batch_size = src_batch.shape[0]\n",
        "    outputs = torch.zeros(trg_max_len, batch_size, vocab_size)  # (T_L, B, V)\n",
        "\n",
        "    for t in range(1, trg_max_len):\n",
        "      decoder_outputs, hidden = self.decoder(input_ids, encoder_outputs, hidden)  # decoder_outputs: (B, V), hidden: (1, B, d_h)\n",
        "\n",
        "      outputs[t] = decoder_outputs\n",
        "      _, top_ids = torch.max(decoder_outputs, dim=-1)  # top_ids: (B)\n",
        "\n",
        "      input_ids = trg_batch[:, t] if random.random() > teacher_forcing_prob else top_ids\n",
        "\n",
        "    return outputs"
      ],
      "execution_count": 30,
      "outputs": []
    },
    {
      "cell_type": "code",
      "metadata": {
        "id": "wNv7wlRgPIYS"
      },
      "source": [
        "seq2seq = Seq2seq(encoder, decoder)"
      ],
      "execution_count": 31,
      "outputs": []
    },
    {
      "cell_type": "markdown",
      "metadata": {
        "id": "kFwbnxd7PVNf"
      },
      "source": [
        "### **모델 사용해보기**"
      ]
    },
    {
      "cell_type": "markdown",
      "metadata": {
        "id": "ZIprc5N2jaV2"
      },
      "source": [
        "만든 모델로 결과를 확인해보겠습니다."
      ]
    },
    {
      "cell_type": "code",
      "metadata": {
        "id": "aKdTDHqsiLbs",
        "outputId": "ce7660a9-c1a2-4e93-fd68-4a1131e42092",
        "colab": {
          "base_uri": "https://localhost:8080/"
        }
      },
      "source": [
        "# V: vocab size\n",
        "outputs = seq2seq(src_batch, src_batch_lens, trg_batch)  # (T_L, B, V)\n",
        "\n",
        "print(outputs)\n",
        "print(outputs.shape)"
      ],
      "execution_count": 32,
      "outputs": [
        {
          "output_type": "stream",
          "name": "stdout",
          "text": [
            "tensor([[[ 0.0000,  0.0000,  0.0000,  ...,  0.0000,  0.0000,  0.0000],\n",
            "         [ 0.0000,  0.0000,  0.0000,  ...,  0.0000,  0.0000,  0.0000],\n",
            "         [ 0.0000,  0.0000,  0.0000,  ...,  0.0000,  0.0000,  0.0000],\n",
            "         ...,\n",
            "         [ 0.0000,  0.0000,  0.0000,  ...,  0.0000,  0.0000,  0.0000],\n",
            "         [ 0.0000,  0.0000,  0.0000,  ...,  0.0000,  0.0000,  0.0000],\n",
            "         [ 0.0000,  0.0000,  0.0000,  ...,  0.0000,  0.0000,  0.0000]],\n",
            "\n",
            "        [[ 0.0239, -0.0514, -0.0691,  ...,  0.0661, -0.2162,  0.0218],\n",
            "         [ 0.0551, -0.0690, -0.0949,  ...,  0.0495, -0.2155,  0.0042],\n",
            "         [ 0.0351, -0.0674, -0.1248,  ...,  0.0690, -0.1953,  0.0205],\n",
            "         ...,\n",
            "         [ 0.0586, -0.0362, -0.1084,  ...,  0.0779, -0.1948,  0.0173],\n",
            "         [ 0.0505, -0.0295, -0.1277,  ...,  0.0436, -0.2339,  0.0068],\n",
            "         [ 0.0346, -0.0811, -0.1252,  ...,  0.0837, -0.2036,  0.0442]],\n",
            "\n",
            "        [[ 0.0136, -0.0342, -0.1185,  ..., -0.0040, -0.1362,  0.1779],\n",
            "         [-0.0165,  0.0576, -0.0034,  ...,  0.0912, -0.2598,  0.0575],\n",
            "         [ 0.1108, -0.0216, -0.0586,  ...,  0.1017, -0.1912, -0.0578],\n",
            "         ...,\n",
            "         [-0.0021, -0.0851,  0.0310,  ...,  0.0648, -0.1520,  0.0244],\n",
            "         [ 0.1055,  0.0086, -0.1169,  ...,  0.0610, -0.3055,  0.0225],\n",
            "         [ 0.0421, -0.0547, -0.0681,  ..., -0.0426, -0.0472, -0.0602]],\n",
            "\n",
            "        ...,\n",
            "\n",
            "        [[-0.0852,  0.0044, -0.1082,  ..., -0.0848, -0.1274,  0.2383],\n",
            "         [-0.1245, -0.0289, -0.1377,  ..., -0.0145, -0.0333,  0.1637],\n",
            "         [ 0.0440, -0.0609, -0.2213,  ...,  0.0296, -0.1026,  0.2425],\n",
            "         ...,\n",
            "         [-0.0074,  0.0079, -0.0592,  ..., -0.0520, -0.1622,  0.1472],\n",
            "         [ 0.0052,  0.0062, -0.0866,  ..., -0.0806, -0.1610,  0.1662],\n",
            "         [-0.1211, -0.0085, -0.1691,  ..., -0.0652, -0.1113,  0.2318]],\n",
            "\n",
            "        [[-0.0123, -0.0180, -0.1403,  ..., -0.0795, -0.1330,  0.2453],\n",
            "         [-0.0338, -0.0542, -0.1684,  ..., -0.0403, -0.0588,  0.2073],\n",
            "         [ 0.0575, -0.0663, -0.2429,  ..., -0.0194, -0.1122,  0.2678],\n",
            "         ...,\n",
            "         [ 0.0272, -0.0249, -0.1100,  ..., -0.0461, -0.1270,  0.2100],\n",
            "         [ 0.0645, -0.0211, -0.1457,  ..., -0.0946, -0.1454,  0.1780],\n",
            "         [-0.0423, -0.0378, -0.1961,  ..., -0.0662, -0.1175,  0.2519]],\n",
            "\n",
            "        [[ 0.0788, -0.0416, -0.2471,  ...,  0.0663, -0.1450, -0.0077],\n",
            "         [-0.0651,  0.0180, -0.0883,  ..., -0.0648, -0.1063,  0.2053],\n",
            "         [-0.0239, -0.1078, -0.1542,  ...,  0.0576, -0.1645,  0.2036],\n",
            "         ...,\n",
            "         [-0.0423,  0.0313, -0.0622,  ..., -0.0387, -0.1407,  0.2314],\n",
            "         [ 0.0003,  0.0313, -0.0961,  ..., -0.0909, -0.1676,  0.1765],\n",
            "         [ 0.0625, -0.0627, -0.3035,  ...,  0.0725, -0.1285,  0.0130]]],\n",
            "       grad_fn=<CopySlices>)\n",
            "torch.Size([22, 10, 100])\n"
          ]
        }
      ]
    },
    {
      "cell_type": "code",
      "metadata": {
        "id": "R-wAEwi9dy0Q"
      },
      "source": [
        "sample_sent = [4, 10, 88, 46, 72, 34, 14, 51]\n",
        "sample_len = len(sample_sent)\n",
        "\n",
        "sample_batch = torch.LongTensor(sample_sent).unsqueeze(0)  # (1, L)\n",
        "sample_batch_len = torch.LongTensor([sample_len])  # (1)\n",
        "\n",
        "encoder_output, hidden = seq2seq.encoder(sample_batch, sample_batch_len)  # hidden: (4, 1, d_h)"
      ],
      "execution_count": 33,
      "outputs": []
    },
    {
      "cell_type": "code",
      "metadata": {
        "id": "-ywRSK1iTn1U"
      },
      "source": [
        "input_id = torch.LongTensor([sos_id]) # (1)\n",
        "output = []\n",
        "\n",
        "for t in range(1, trg_max_len):\n",
        "  decoder_output, hidden = seq2seq.decoder(input_id, encoder_output, hidden)  # decoder_output: (1, V), hidden: (4, 1, d_h)\n",
        "\n",
        "  _, top_id = torch.max(decoder_output, dim=-1)  # top_ids: (1)\n",
        "\n",
        "  if top_id == eos_id:\n",
        "    break\n",
        "  else:\n",
        "    output += top_id.tolist()\n",
        "    input_id = top_id"
      ],
      "execution_count": 34,
      "outputs": []
    },
    {
      "cell_type": "code",
      "metadata": {
        "id": "pP_A4ZrhTXik",
        "colab": {
          "base_uri": "https://localhost:8080/"
        },
        "outputId": "c0fad21b-a11d-4eab-8a48-6161aa4947ab"
      },
      "source": [
        "output"
      ],
      "execution_count": 35,
      "outputs": [
        {
          "output_type": "execute_result",
          "data": {
            "text/plain": [
              "[64,\n",
              " 79,\n",
              " 79,\n",
              " 92,\n",
              " 92,\n",
              " 79,\n",
              " 92,\n",
              " 92,\n",
              " 79,\n",
              " 92,\n",
              " 92,\n",
              " 79,\n",
              " 49,\n",
              " 79,\n",
              " 92,\n",
              " 92,\n",
              " 79,\n",
              " 92,\n",
              " 92,\n",
              " 79,\n",
              " 92]"
            ]
          },
          "metadata": {},
          "execution_count": 35
        }
      ]
    },
    {
      "cell_type": "markdown",
      "metadata": {
        "id": "x4TZfceq3Nbs"
      },
      "source": [
        "### **Concat Attention 구현**"
      ]
    },
    {
      "cell_type": "markdown",
      "metadata": {
        "id": "FYxpAQjm3Y9U"
      },
      "source": [
        "Bahdanau Attention이라고도 불리는 Concat Attention을 구현해보도록 하겠습니다.  \n",
        "\n",
        "\n",
        "*   `self.w`: Concat한 query와 key 벡터를 1차적으로 linear transformation.\n",
        "*   `self.v`: Attention logit 값을 계산.\n",
        "\n"
      ]
    },
    {
      "cell_type": "code",
      "metadata": {
        "id": "MHRfFeIzJJU7"
      },
      "source": [
        "class ConcatAttention(nn.Module):\n",
        "  def __init__(self):\n",
        "    super().__init__()\n",
        "\n",
        "    self.w = nn.Linear(2*hidden_size, hidden_size, bias=False)\n",
        "    self.v = nn.Linear(hidden_size, 1, bias=False)\n",
        "\n",
        "  def forward(self, decoder_hidden, encoder_outputs):  # (1, B, d_h), (S_L, B, d_h)\n",
        "    src_max_len = encoder_outputs.shape[0]\n",
        "\n",
        "    decoder_hidden = decoder_hidden.transpose(0, 1).repeat(1, src_max_len, 1)  # (B, S_L, d_h)\n",
        "    encoder_outputs = encoder_outputs.transpose(0, 1)  # (B, S_L, d_h)\n",
        "\n",
        "    concat_hiddens = torch.cat((decoder_hidden, encoder_outputs), dim=2)  # (B, S_L, 2d_h)\n",
        "    energy = torch.tanh(self.w(concat_hiddens))  # (B, S_L, d_h)\n",
        "\n",
        "    attn_scores = F.softmax(self.v(energy), dim=1)  # (B, S_L, 1)\n",
        "    attn_values = torch.sum(torch.mul(encoder_outputs, attn_scores), dim=1)  # (B, d_h)\n",
        "\n",
        "    return attn_values, attn_scores"
      ],
      "execution_count": 36,
      "outputs": []
    },
    {
      "cell_type": "code",
      "metadata": {
        "id": "utm4b5uzNS40"
      },
      "source": [
        "concat_attn = ConcatAttention()"
      ],
      "execution_count": 37,
      "outputs": []
    },
    {
      "cell_type": "markdown",
      "metadata": {
        "id": "CBBCV9G-M1cw"
      },
      "source": [
        "마찬가지로 decoder를 마저 구현하겠습니다."
      ]
    },
    {
      "cell_type": "code",
      "metadata": {
        "id": "FnppmsXNSaGP"
      },
      "source": [
        "class Decoder(nn.Module):\n",
        "  def __init__(self, attention):\n",
        "    super().__init__()\n",
        "\n",
        "    self.embedding = nn.Embedding(vocab_size, embedding_size)\n",
        "    self.attention = attention\n",
        "    self.rnn = nn.GRU(\n",
        "        embedding_size + hidden_size,\n",
        "        hidden_size\n",
        "    )\n",
        "    self.output_linear = nn.Linear(hidden_size, vocab_size)\n",
        "\n",
        "  def forward(self, batch, encoder_outputs, hidden):  # batch: (B), encoder_outputs: (S_L, B, d_h), hidden: (1, B, d_h)  \n",
        "    batch_emb = self.embedding(batch)  # (B, d_w)\n",
        "    batch_emb = batch_emb.unsqueeze(0)  # (1, B, d_w)\n",
        "\n",
        "    attn_values, attn_scores = self.attention(hidden, encoder_outputs)  # (B, d_h), (B, S_L)\n",
        "\n",
        "    concat_emb = torch.cat((batch_emb, attn_values.unsqueeze(0)), dim=-1)  # (1, B, d_w+d_h)\n",
        "\n",
        "    outputs, hidden = self.rnn(concat_emb, hidden)  # (1, B, d_h), (1, B, d_h)\n",
        "\n",
        "    return self.output_linear(outputs).squeeze(0), hidden  # (B, V), (1, B, d_h)"
      ],
      "execution_count": 39,
      "outputs": []
    },
    {
      "cell_type": "code",
      "metadata": {
        "id": "4gA4GJqgOoMT"
      },
      "source": [
        "decoder = Decoder(concat_attn)"
      ],
      "execution_count": 40,
      "outputs": []
    },
    {
      "cell_type": "code",
      "metadata": {
        "id": "AQI9J0VGj4cc"
      },
      "source": [
        "seq2seq = Seq2seq(encoder, decoder)"
      ],
      "execution_count": 41,
      "outputs": []
    },
    {
      "cell_type": "code",
      "metadata": {
        "id": "D6suDtTxj4ce",
        "outputId": "9dc375d4-27ef-4433-8c1c-cd139a4ee63f",
        "colab": {
          "base_uri": "https://localhost:8080/"
        }
      },
      "source": [
        "outputs = seq2seq(src_batch, src_batch_lens, trg_batch)\n",
        "\n",
        "print(outputs)\n",
        "print(outputs.shape)"
      ],
      "execution_count": 42,
      "outputs": [
        {
          "output_type": "stream",
          "name": "stdout",
          "text": [
            "tensor([[[ 0.0000,  0.0000,  0.0000,  ...,  0.0000,  0.0000,  0.0000],\n",
            "         [ 0.0000,  0.0000,  0.0000,  ...,  0.0000,  0.0000,  0.0000],\n",
            "         [ 0.0000,  0.0000,  0.0000,  ...,  0.0000,  0.0000,  0.0000],\n",
            "         ...,\n",
            "         [ 0.0000,  0.0000,  0.0000,  ...,  0.0000,  0.0000,  0.0000],\n",
            "         [ 0.0000,  0.0000,  0.0000,  ...,  0.0000,  0.0000,  0.0000],\n",
            "         [ 0.0000,  0.0000,  0.0000,  ...,  0.0000,  0.0000,  0.0000]],\n",
            "\n",
            "        [[ 0.0913, -0.0484,  0.0784,  ..., -0.2377,  0.0674, -0.0338],\n",
            "         [ 0.0726, -0.0645,  0.0766,  ..., -0.2495,  0.0252, -0.0103],\n",
            "         [ 0.1109, -0.0693,  0.1253,  ..., -0.2850,  0.0191, -0.0183],\n",
            "         ...,\n",
            "         [ 0.0983, -0.0660,  0.1198,  ..., -0.2693, -0.0060, -0.0271],\n",
            "         [ 0.0930, -0.0466,  0.0676,  ..., -0.2798,  0.0032, -0.0331],\n",
            "         [ 0.0891, -0.0938,  0.0832,  ..., -0.2571,  0.0366, -0.0496]],\n",
            "\n",
            "        [[ 0.3017,  0.0130,  0.0746,  ..., -0.1872,  0.1010,  0.2698],\n",
            "         [-0.0279, -0.1289,  0.1903,  ..., -0.1163, -0.0575,  0.1533],\n",
            "         [ 0.2914, -0.0121,  0.1030,  ..., -0.2111,  0.0742,  0.2778],\n",
            "         ...,\n",
            "         [ 0.2867, -0.0036,  0.0967,  ..., -0.1997,  0.0677,  0.2673],\n",
            "         [ 0.2923, -0.0044,  0.0749,  ..., -0.2119,  0.0696,  0.2612],\n",
            "         [ 0.2823, -0.0147,  0.0779,  ..., -0.1990,  0.0856,  0.2609]],\n",
            "\n",
            "        ...,\n",
            "\n",
            "        [[ 0.1615, -0.0598, -0.0210,  ...,  0.1892,  0.1205, -0.0835],\n",
            "         [-0.0426,  0.1847, -0.0101,  ...,  0.1037, -0.1457, -0.0176],\n",
            "         [ 0.1977,  0.2378,  0.2869,  ..., -0.3041, -0.0087, -0.0528],\n",
            "         ...,\n",
            "         [ 0.1304, -0.0650, -0.0048,  ...,  0.1838,  0.1390, -0.0896],\n",
            "         [ 0.1649,  0.1965,  0.2478,  ..., -0.2677,  0.0145, -0.0787],\n",
            "         [-0.0863, -0.0702, -0.1026,  ...,  0.2377,  0.0690, -0.1643]],\n",
            "\n",
            "        [[ 0.1465,  0.0073,  0.1234,  ...,  0.0546,  0.1598, -0.1570],\n",
            "         [ 0.0707,  0.1423,  0.1471,  ...,  0.0166,  0.0422, -0.1330],\n",
            "         [ 0.1752,  0.1853,  0.2817,  ..., -0.1641,  0.1002, -0.1467],\n",
            "         ...,\n",
            "         [ 0.1089,  0.0074,  0.1354,  ...,  0.0516,  0.1748, -0.1561],\n",
            "         [ 0.1642,  0.1633,  0.2562,  ..., -0.1479,  0.1042, -0.1767],\n",
            "         [ 0.0488, -0.0031,  0.0989,  ...,  0.1081,  0.1583, -0.2160]],\n",
            "\n",
            "        [[ 0.0095,  0.0971,  0.1676,  ...,  0.0011,  0.0838, -0.1588],\n",
            "         [ 0.1226,  0.1769,  0.2127,  ..., -0.1482, -0.0056, -0.0774],\n",
            "         [ 0.1904,  0.2074,  0.2801,  ..., -0.2572,  0.0225, -0.0717],\n",
            "         ...,\n",
            "         [-0.0219,  0.0956,  0.1804,  ..., -0.0077,  0.1031, -0.1570],\n",
            "         [ 0.1757,  0.1838,  0.2657,  ..., -0.2513,  0.0119, -0.1120],\n",
            "         [ 0.1290,  0.1111,  0.0929,  ...,  0.0706,  0.2053, -0.0532]]],\n",
            "       grad_fn=<CopySlices>)\n",
            "torch.Size([22, 10, 100])\n"
          ]
        }
      ]
    },
    {
      "cell_type": "code",
      "metadata": {
        "id": "t-bIEODKvnpg"
      },
      "source": [
        ""
      ],
      "execution_count": null,
      "outputs": []
    }
  ]
}